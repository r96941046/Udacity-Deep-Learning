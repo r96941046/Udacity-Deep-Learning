{
 "cells": [
  {
   "cell_type": "markdown",
   "metadata": {},
   "source": [
    "# Lesson 1"
   ]
  },
  {
   "cell_type": "markdown",
   "metadata": {},
   "source": [
    "## softmax"
   ]
  },
  {
   "cell_type": "code",
   "execution_count": 1,
   "metadata": {
    "collapsed": true
   },
   "outputs": [],
   "source": [
    "import numpy as np\n",
    "import seaborn as sns\n",
    "import matplotlib.pyplot as plt\n",
    "%matplotlib inline"
   ]
  },
  {
   "cell_type": "code",
   "execution_count": 2,
   "metadata": {},
   "outputs": [
    {
     "data": {
      "text/plain": [
       "array([ 0.09003057,  0.24472847,  0.66524096])"
      ]
     },
     "execution_count": 2,
     "metadata": {},
     "output_type": "execute_result"
    }
   ],
   "source": [
    "scores = np.array([1., 2., 3.])\n",
    "\n",
    "def softmax(x):\n",
    "    exps = np.exp(x)\n",
    "    expsum = np.sum(exps, axis=0)\n",
    "    return exps / expsum\n",
    "\n",
    "softmax(scores)"
   ]
  },
  {
   "cell_type": "code",
   "execution_count": 3,
   "metadata": {},
   "outputs": [
    {
     "data": {
      "text/plain": [
       "array([  1.,   2.,   3.,   4.,   5.,   6.,   7.,   8.,   9.,  10.])"
      ]
     },
     "execution_count": 3,
     "metadata": {},
     "output_type": "execute_result"
    }
   ],
   "source": [
    "mul = np.linspace(1., 10., 10)\n",
    "mul"
   ]
  },
  {
   "cell_type": "code",
   "execution_count": 4,
   "metadata": {},
   "outputs": [
    {
     "data": {
      "text/plain": [
       "array([[ 1.],\n",
       "       [ 2.],\n",
       "       [ 3.]])"
      ]
     },
     "execution_count": 4,
     "metadata": {},
     "output_type": "execute_result"
    }
   ],
   "source": [
    "scores[:, np.newaxis]"
   ]
  },
  {
   "cell_type": "code",
   "execution_count": 5,
   "metadata": {},
   "outputs": [
    {
     "data": {
      "text/plain": [
       "array([[  1.,   2.,   3.,   4.,   5.,   6.,   7.,   8.,   9.,  10.]])"
      ]
     },
     "execution_count": 5,
     "metadata": {},
     "output_type": "execute_result"
    }
   ],
   "source": [
    "mul[np.newaxis, :]"
   ]
  },
  {
   "cell_type": "code",
   "execution_count": 6,
   "metadata": {},
   "outputs": [
    {
     "ename": "NameError",
     "evalue": "name 'mul_scores' is not defined",
     "output_type": "error",
     "traceback": [
      "\u001b[0;31m---------------------------------------------------------------------------\u001b[0m",
      "\u001b[0;31mNameError\u001b[0m                                 Traceback (most recent call last)",
      "\u001b[0;32m<ipython-input-6-0825a6ba1056>\u001b[0m in \u001b[0;36m<module>\u001b[0;34m()\u001b[0m\n\u001b[0;32m----> 1\u001b[0;31m \u001b[0msoftmax\u001b[0m\u001b[0;34m(\u001b[0m\u001b[0mmul_scores\u001b[0m\u001b[0;34m)\u001b[0m\u001b[0;34m\u001b[0m\u001b[0m\n\u001b[0m",
      "\u001b[0;31mNameError\u001b[0m: name 'mul_scores' is not defined"
     ]
    }
   ],
   "source": [
    "softmax(mul_scores)"
   ]
  },
  {
   "cell_type": "code",
   "execution_count": null,
   "metadata": {
    "collapsed": true
   },
   "outputs": [],
   "source": [
    "mul_scores = scores[:, np.newaxis] * mul[np.newaxis, :]\n",
    "mul_scores"
   ]
  },
  {
   "cell_type": "code",
   "execution_count": null,
   "metadata": {
    "collapsed": true
   },
   "outputs": [],
   "source": [
    "plt.plot(mul_scores[0], softmax(mul_scores).T)\n",
    "plt.show()\n",
    "\n",
    "# probabilities approaches 0 and 1"
   ]
  },
  {
   "cell_type": "code",
   "execution_count": null,
   "metadata": {
    "collapsed": true
   },
   "outputs": [],
   "source": [
    "div = np.linspace(1., 10., 10)\n",
    "div"
   ]
  },
  {
   "cell_type": "code",
   "execution_count": null,
   "metadata": {
    "collapsed": true
   },
   "outputs": [],
   "source": [
    "div_scores = scores[:, np.newaxis] / div[np.newaxis, :]\n",
    "div_scores"
   ]
  },
  {
   "cell_type": "code",
   "execution_count": null,
   "metadata": {
    "collapsed": true
   },
   "outputs": [],
   "source": [
    "plt.plot(div_scores[0], softmax(div_scores).T)\n",
    "plt.show()\n",
    "\n",
    "# approaches uniform distribution"
   ]
  },
  {
   "cell_type": "markdown",
   "metadata": {},
   "source": [
    "### Numerical stability"
   ]
  },
  {
   "cell_type": "code",
   "execution_count": null,
   "metadata": {
    "collapsed": true
   },
   "outputs": [],
   "source": [
    "a = 1000000000\n",
    "for i in range(1, 1000001):\n",
    "    a = a + 0.000001\n",
    "    \n",
    "a = a - 1000000000\n",
    "print(a)"
   ]
  },
  {
   "cell_type": "code",
   "execution_count": 7,
   "metadata": {},
   "outputs": [
    {
     "data": {
      "text/plain": [
       "array([ 0.33333333,  0.33333333,  0.33333333])"
      ]
     },
     "execution_count": 7,
     "metadata": {},
     "output_type": "execute_result"
    }
   ],
   "source": [
    "softmax([0, 0, 0])"
   ]
  },
  {
   "cell_type": "markdown",
   "metadata": {
    "collapsed": true
   },
   "source": [
    "### Import tensorflow graph"
   ]
  },
  {
   "cell_type": "code",
   "execution_count": 1,
   "metadata": {
    "collapsed": true
   },
   "outputs": [],
   "source": [
    "import tensorflow as tf\n",
    "from six.moves import cPickle as pickle"
   ]
  },
  {
   "cell_type": "code",
   "execution_count": 2,
   "metadata": {},
   "outputs": [
    {
     "name": "stdout",
     "output_type": "stream",
     "text": [
      "INFO:tensorflow:Restoring parameters from ./svhn\n",
      "[[  4.48429666e-04   7.44634569e-01   7.95392618e-02   3.67643777e-03\n",
      "    1.35538727e-01   1.79281051e-05   7.03091151e-04   1.85851578e-03\n",
      "    2.99448632e-02   3.63584165e-03   2.25045483e-06]\n",
      " [  3.18712108e-02   4.31372505e-03   4.62858260e-01   2.88116396e-03\n",
      "    2.20801741e-01   1.99659402e-03   4.79037687e-03   2.52970727e-04\n",
      "    2.99525820e-02   2.40254939e-01   2.64849004e-05]\n",
      " [  2.10791118e-02   6.10287301e-03   1.06635848e-02   1.01347920e-02\n",
      "    1.30682811e-01   9.85813560e-04   1.69320416e-03   3.82522051e-03\n",
      "    8.23673792e-03   1.84603520e-02   7.88135529e-01]\n",
      " [  8.86473063e-05   2.40588888e-05   2.82053894e-04   9.37953766e-04\n",
      "    5.93061995e-05   7.94850988e-04   1.28658095e-04   9.16504869e-05\n",
      "    1.09198620e-04   1.27588835e-04   9.97356057e-01]\n",
      " [  1.23707027e-08   2.59154334e-08   3.66853385e-07   2.20430502e-06\n",
      "    2.68238682e-06   4.33506898e-07   1.22027586e-06   1.03348867e-08\n",
      "    1.91046240e-07   1.97015697e-06   9.99990940e-01]]\n"
     ]
    }
   ],
   "source": [
    "with open('train.pickle', \"rb\") as f_train:\n",
    "    train_dataset, train_labels = pickle.load(f_train)\n",
    "    \n",
    "    graph = tf.get_default_graph()\n",
    "    \n",
    "    with tf.Session(graph=graph) as session:\n",
    "        \n",
    "        loader = tf.train.import_meta_graph('svhn.meta')\n",
    "        loader.restore(session, tf.train.latest_checkpoint('./'))\n",
    "        \n",
    "        tf_data = graph.get_tensor_by_name('data:0')\n",
    "        keep_prob = graph.get_tensor_by_name('keep_prob:0')\n",
    "        prediction = graph.get_tensor_by_name('prediction:0')\n",
    "        \n",
    "        feed_dict = {\n",
    "            tf_data: train_dataset[0:1, :, :, :],\n",
    "            keep_prob: 1.0\n",
    "        }\n",
    "        \n",
    "        p = prediction.eval(feed_dict)\n",
    "        print(p)"
   ]
  },
  {
   "cell_type": "code",
   "execution_count": 2,
   "metadata": {},
   "outputs": [
    {
     "ename": "AttributeError",
     "evalue": "'str' object has no attribute 'append'",
     "output_type": "error",
     "traceback": [
      "\u001b[0;31m---------------------------------------------------------------------------\u001b[0m",
      "\u001b[0;31mAttributeError\u001b[0m                            Traceback (most recent call last)",
      "\u001b[0;32m<ipython-input-2-aed76f62724b>\u001b[0m in \u001b[0;36m<module>\u001b[0;34m()\u001b[0m\n\u001b[0;32m----> 1\u001b[0;31m \u001b[0;34m''\u001b[0m\u001b[0;34m.\u001b[0m\u001b[0mappend\u001b[0m\u001b[0;34m(\u001b[0m\u001b[0;34m'0'\u001b[0m\u001b[0;34m)\u001b[0m\u001b[0;34m\u001b[0m\u001b[0m\n\u001b[0m",
      "\u001b[0;31mAttributeError\u001b[0m: 'str' object has no attribute 'append'"
     ]
    }
   ],
   "source": [
    "''.append('0')"
   ]
  },
  {
   "cell_type": "code",
   "execution_count": null,
   "metadata": {
    "collapsed": true
   },
   "outputs": [],
   "source": []
  }
 ],
 "metadata": {
  "kernelspec": {
   "display_name": "Python 3",
   "language": "python",
   "name": "python3"
  },
  "language_info": {
   "codemirror_mode": {
    "name": "ipython",
    "version": 3
   },
   "file_extension": ".py",
   "mimetype": "text/x-python",
   "name": "python",
   "nbconvert_exporter": "python",
   "pygments_lexer": "ipython3",
   "version": "3.5.3"
  }
 },
 "nbformat": 4,
 "nbformat_minor": 2
}
