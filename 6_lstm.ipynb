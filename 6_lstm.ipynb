{
 "cells": [
  {
   "cell_type": "markdown",
   "metadata": {
    "colab_type": "text",
    "id": "8tQJd2YSCfWR"
   },
   "source": []
  },
  {
   "cell_type": "markdown",
   "metadata": {
    "colab_type": "text",
    "id": "D7tqLMoKF6uq"
   },
   "source": [
    "Deep Learning\n",
    "=============\n",
    "\n",
    "Assignment 6\n",
    "------------\n",
    "\n",
    "After training a skip-gram model in `5_word2vec.ipynb`, the goal of this notebook is to train a LSTM character model over [Text8](http://mattmahoney.net/dc/textdata) data."
   ]
  },
  {
   "cell_type": "code",
   "execution_count": 118,
   "metadata": {
    "cellView": "both",
    "colab": {
     "autoexec": {
      "startup": false,
      "wait_interval": 0
     }
    },
    "colab_type": "code",
    "collapsed": true,
    "id": "MvEblsgEXxrd"
   },
   "outputs": [],
   "source": [
    "# These are all the modules we'll be using later. Make sure you can import them\n",
    "# before proceeding further.\n",
    "from __future__ import print_function\n",
    "import os\n",
    "import numpy as np\n",
    "import random\n",
    "import string\n",
    "import tensorflow as tf\n",
    "import zipfile\n",
    "import time\n",
    "from six.moves import range\n",
    "from six.moves.urllib.request import urlretrieve"
   ]
  },
  {
   "cell_type": "code",
   "execution_count": 119,
   "metadata": {
    "cellView": "both",
    "colab": {
     "autoexec": {
      "startup": false,
      "wait_interval": 0
     },
     "output_extras": [
      {
       "item_id": 1
      }
     ]
    },
    "colab_type": "code",
    "executionInfo": {
     "elapsed": 5993,
     "status": "ok",
     "timestamp": 1445965582896,
     "user": {
      "color": "#1FA15D",
      "displayName": "Vincent Vanhoucke",
      "isAnonymous": false,
      "isMe": true,
      "permissionId": "05076109866853157986",
      "photoUrl": "//lh6.googleusercontent.com/-cCJa7dTDcgQ/AAAAAAAAAAI/AAAAAAAACgw/r2EZ_8oYer4/s50-c-k-no/photo.jpg",
      "sessionId": "6f6f07b359200c46",
      "userId": "102167687554210253930"
     },
     "user_tz": 420
    },
    "id": "RJ-o3UBUFtCw",
    "outputId": "d530534e-0791-4a94-ca6d-1c8f1b908a9e"
   },
   "outputs": [
    {
     "name": "stdout",
     "output_type": "stream",
     "text": [
      "Found and verified text8.zip\n"
     ]
    }
   ],
   "source": [
    "url = 'http://mattmahoney.net/dc/'\n",
    "\n",
    "def maybe_download(filename, expected_bytes):\n",
    "  \"\"\"Download a file if not present, and make sure it's the right size.\"\"\"\n",
    "  if not os.path.exists(filename):\n",
    "    filename, _ = urlretrieve(url + filename, filename)\n",
    "  statinfo = os.stat(filename)\n",
    "  if statinfo.st_size == expected_bytes:\n",
    "    print('Found and verified %s' % filename)\n",
    "  else:\n",
    "    print(statinfo.st_size)\n",
    "    raise Exception(\n",
    "      'Failed to verify ' + filename + '. Can you get to it with a browser?')\n",
    "  return filename\n",
    "\n",
    "filename = maybe_download('text8.zip', 31344016)"
   ]
  },
  {
   "cell_type": "code",
   "execution_count": 120,
   "metadata": {
    "cellView": "both",
    "colab": {
     "autoexec": {
      "startup": false,
      "wait_interval": 0
     },
     "output_extras": [
      {
       "item_id": 1
      }
     ]
    },
    "colab_type": "code",
    "executionInfo": {
     "elapsed": 5982,
     "status": "ok",
     "timestamp": 1445965582916,
     "user": {
      "color": "#1FA15D",
      "displayName": "Vincent Vanhoucke",
      "isAnonymous": false,
      "isMe": true,
      "permissionId": "05076109866853157986",
      "photoUrl": "//lh6.googleusercontent.com/-cCJa7dTDcgQ/AAAAAAAAAAI/AAAAAAAACgw/r2EZ_8oYer4/s50-c-k-no/photo.jpg",
      "sessionId": "6f6f07b359200c46",
      "userId": "102167687554210253930"
     },
     "user_tz": 420
    },
    "id": "Mvf09fjugFU_",
    "outputId": "8f75db58-3862-404b-a0c3-799380597390"
   },
   "outputs": [
    {
     "name": "stdout",
     "output_type": "stream",
     "text": [
      "Data size 100000000\n"
     ]
    }
   ],
   "source": [
    "def read_data(filename):\n",
    "  with zipfile.ZipFile(filename) as f:\n",
    "    name = f.namelist()[0]\n",
    "    data = tf.compat.as_str(f.read(name))\n",
    "  return data\n",
    "  \n",
    "text = read_data(filename)\n",
    "print('Data size %d' % len(text))"
   ]
  },
  {
   "cell_type": "code",
   "execution_count": 121,
   "metadata": {},
   "outputs": [
    {
     "data": {
      "text/plain": [
       "' anarchism originated as a term of abuse first used against early working class radicals including t'"
      ]
     },
     "execution_count": 121,
     "metadata": {},
     "output_type": "execute_result"
    }
   ],
   "source": [
    "text[:100]"
   ]
  },
  {
   "cell_type": "markdown",
   "metadata": {
    "colab_type": "text",
    "id": "ga2CYACE-ghb"
   },
   "source": [
    "Create a small validation set."
   ]
  },
  {
   "cell_type": "code",
   "execution_count": 122,
   "metadata": {
    "collapsed": true
   },
   "outputs": [],
   "source": [
    "gg = ['', '']\n",
    "hh = ['a', 'b']\n",
    "ff = [pp for pp in zip(gg, hh)]"
   ]
  },
  {
   "cell_type": "code",
   "execution_count": 123,
   "metadata": {},
   "outputs": [
    {
     "data": {
      "text/plain": [
       "['a', 'b']"
      ]
     },
     "execution_count": 123,
     "metadata": {},
     "output_type": "execute_result"
    }
   ],
   "source": [
    "[''.join(fff) for fff in ff]"
   ]
  },
  {
   "cell_type": "code",
   "execution_count": 124,
   "metadata": {
    "cellView": "both",
    "colab": {
     "autoexec": {
      "startup": false,
      "wait_interval": 0
     },
     "output_extras": [
      {
       "item_id": 1
      }
     ]
    },
    "colab_type": "code",
    "executionInfo": {
     "elapsed": 6184,
     "status": "ok",
     "timestamp": 1445965583138,
     "user": {
      "color": "#1FA15D",
      "displayName": "Vincent Vanhoucke",
      "isAnonymous": false,
      "isMe": true,
      "permissionId": "05076109866853157986",
      "photoUrl": "//lh6.googleusercontent.com/-cCJa7dTDcgQ/AAAAAAAAAAI/AAAAAAAACgw/r2EZ_8oYer4/s50-c-k-no/photo.jpg",
      "sessionId": "6f6f07b359200c46",
      "userId": "102167687554210253930"
     },
     "user_tz": 420
    },
    "id": "w-oBpfFG-j43",
    "outputId": "bdb96002-d021-4379-f6de-a977924f0d02"
   },
   "outputs": [
    {
     "name": "stdout",
     "output_type": "stream",
     "text": [
      "99999000 ons anarchists advocate social relations based upon voluntary as\n",
      "1000  anarchism originated as a term of abuse first used against earl\n"
     ]
    }
   ],
   "source": [
    "valid_size = 1000\n",
    "valid_text = text[:valid_size]\n",
    "train_text = text[valid_size:]\n",
    "train_size = len(train_text)\n",
    "print(train_size, train_text[:64])\n",
    "print(valid_size, valid_text[:64])"
   ]
  },
  {
   "cell_type": "markdown",
   "metadata": {
    "colab_type": "text",
    "id": "Zdw6i4F8glpp"
   },
   "source": [
    "Utility functions to map characters to vocabulary IDs and back."
   ]
  },
  {
   "cell_type": "code",
   "execution_count": 125,
   "metadata": {
    "cellView": "both",
    "colab": {
     "autoexec": {
      "startup": false,
      "wait_interval": 0
     },
     "output_extras": [
      {
       "item_id": 1
      }
     ]
    },
    "colab_type": "code",
    "executionInfo": {
     "elapsed": 6276,
     "status": "ok",
     "timestamp": 1445965583249,
     "user": {
      "color": "#1FA15D",
      "displayName": "Vincent Vanhoucke",
      "isAnonymous": false,
      "isMe": true,
      "permissionId": "05076109866853157986",
      "photoUrl": "//lh6.googleusercontent.com/-cCJa7dTDcgQ/AAAAAAAAAAI/AAAAAAAACgw/r2EZ_8oYer4/s50-c-k-no/photo.jpg",
      "sessionId": "6f6f07b359200c46",
      "userId": "102167687554210253930"
     },
     "user_tz": 420
    },
    "id": "gAL1EECXeZsD",
    "outputId": "88fc9032-feb9-45ff-a9a0-a26759cc1f2e"
   },
   "outputs": [
    {
     "name": "stdout",
     "output_type": "stream",
     "text": [
      "Unexpected character: ï\n",
      "1 26 0 0\n",
      "a z  \n"
     ]
    }
   ],
   "source": [
    "vocabulary_size = len(string.ascii_lowercase) + 1 # [a-z] + ' '\n",
    "first_letter = ord(string.ascii_lowercase[0])\n",
    "\n",
    "def char2id(char):\n",
    "  if char in string.ascii_lowercase:\n",
    "    return ord(char) - first_letter + 1\n",
    "  elif char == ' ':\n",
    "    return 0\n",
    "  else:\n",
    "    print('Unexpected character: %s' % char)\n",
    "    return 0\n",
    "  \n",
    "def id2char(dictid):\n",
    "  if dictid > 0:\n",
    "    return chr(dictid + first_letter - 1)\n",
    "  else:\n",
    "    return ' '\n",
    "\n",
    "print(char2id('a'), char2id('z'), char2id(' '), char2id('ï'))\n",
    "print(id2char(1), id2char(26), id2char(0))"
   ]
  },
  {
   "cell_type": "code",
   "execution_count": 126,
   "metadata": {},
   "outputs": [
    {
     "data": {
      "text/plain": [
       "97"
      ]
     },
     "execution_count": 126,
     "metadata": {},
     "output_type": "execute_result"
    }
   ],
   "source": [
    "first_letter"
   ]
  },
  {
   "cell_type": "markdown",
   "metadata": {
    "colab_type": "text",
    "id": "lFwoyygOmWsL"
   },
   "source": [
    "Function to generate a training batch for the LSTM model."
   ]
  },
  {
   "cell_type": "code",
   "execution_count": 127,
   "metadata": {
    "cellView": "both",
    "colab": {
     "autoexec": {
      "startup": false,
      "wait_interval": 0
     },
     "output_extras": [
      {
       "item_id": 1
      }
     ]
    },
    "colab_type": "code",
    "executionInfo": {
     "elapsed": 6473,
     "status": "ok",
     "timestamp": 1445965583467,
     "user": {
      "color": "#1FA15D",
      "displayName": "Vincent Vanhoucke",
      "isAnonymous": false,
      "isMe": true,
      "permissionId": "05076109866853157986",
      "photoUrl": "//lh6.googleusercontent.com/-cCJa7dTDcgQ/AAAAAAAAAAI/AAAAAAAACgw/r2EZ_8oYer4/s50-c-k-no/photo.jpg",
      "sessionId": "6f6f07b359200c46",
      "userId": "102167687554210253930"
     },
     "user_tz": 420
    },
    "id": "d9wMtjy5hCj9",
    "outputId": "3dd79c80-454a-4be0-8b71-4a4a357b3367"
   },
   "outputs": [
    {
     "name": "stdout",
     "output_type": "stream",
     "text": [
      "['ons anarchi', 'when milita', 'lleria arch', ' abbeys and', 'married urr', 'hel and ric', 'y and litur', 'ay opened f', 'tion from t', 'migration t', 'new york ot', 'he boeing s', 'e listed wi', 'eber has pr', 'o be made t', 'yer who rec', 'ore signifi', 'a fierce cr', ' two six ei', 'aristotle s', 'ity can be ', ' and intrac', 'tion of the', 'dy to pass ', 'f certain d', 'at it will ', 'e convince ', 'ent told hi', 'ampaign and', 'rver side s', 'ious texts ', 'o capitaliz', 'a duplicate', 'gh ann es d', 'ine january', 'ross zero t', 'cal theorie', 'ast instanc', ' dimensiona', 'most holy m', 't s support', 'u is still ', 'e oscillati', 'o eight sub', 'of italy la', 's the tower', 'klahoma pre', 'erprise lin', 'ws becomes ', 'et in a naz', 'the fabian ', 'etchy to re', ' sharman ne', 'ised empero', 'ting in pol', 'd neo latin', 'th risky ri', 'encyclopedi', 'fense the a', 'duating fro', 'treet grid ', 'ations more', 'appeal of d', 'si have mad']\n",
      "['ists advoca', 'ary governm', 'hes nationa', 'd monasteri', 'raca prince', 'chard baer ', 'rgical lang', 'for passeng', 'the nationa', 'took place ', 'ther well k', 'seven six s', 'ith a gloss', 'robably bee', 'to recogniz', 'ceived the ', 'icant than ', 'ritic of th', 'ight in sig', 's uncaused ', ' lost as in', 'cellular ic', 'e size of t', ' him a stic', 'drugs confu', ' take to co', ' the priest', 'im to name ', 'd barred at', 'standard fo', ' such as es', 'ze on the g', 'e of the or', 'd hiver one', 'y eight mar', 'the lead ch', 'es classica', 'ce the non ', 'al analysis', 'mormons bel', 't or at lea', ' disagreed ', 'ing system ', 'btypes base', 'anguages th', 'r commissio', 'ess one nin', 'nux suse li', ' the first ', 'zi concentr', ' society ne', 'elatively s', 'etworks sha', 'or hirohito', 'litical ini', 'n most of t', 'iskerdoo ri', 'ic overview', 'air compone', 'om acnm acc', ' centerline', 'e than any ', 'devotional ', 'de such dev']\n",
      "[' a']\n",
      "['an']\n"
     ]
    }
   ],
   "source": [
    "batch_size=64\n",
    "num_unrollings=10\n",
    "\n",
    "class BatchGenerator(object):\n",
    "  def __init__(self, text, batch_size, num_unrollings):\n",
    "    self._text = text\n",
    "    self._text_size = len(text)\n",
    "    self._batch_size = batch_size\n",
    "    self._num_unrollings = num_unrollings\n",
    "    segment = self._text_size // batch_size\n",
    "    self._cursor = [ offset * segment for offset in range(batch_size)]\n",
    "    self._last_batch = self._next_batch()\n",
    "  \n",
    "  def _next_batch(self):\n",
    "    \"\"\"Generate a single batch from the current cursor position in the data.\"\"\"\n",
    "    batch = np.zeros(shape=(self._batch_size, vocabulary_size), dtype=np.float)\n",
    "    for b in range(self._batch_size):\n",
    "      batch[b, char2id(self._text[self._cursor[b]])] = 1.0\n",
    "      self._cursor[b] = (self._cursor[b] + 1) % self._text_size\n",
    "    return batch\n",
    "  \n",
    "  def next(self):\n",
    "    \"\"\"Generate the next array of batches from the data. The array consists of\n",
    "    the last batch of the previous array, followed by num_unrollings new ones.\n",
    "    \"\"\"\n",
    "    batches = [self._last_batch]\n",
    "    for step in range(self._num_unrollings):\n",
    "      batches.append(self._next_batch())\n",
    "    self._last_batch = batches[-1]\n",
    "    return batches\n",
    "\n",
    "def characters(probabilities):\n",
    "  \"\"\"Turn a 1-hot encoding or a probability distribution over the possible\n",
    "  characters back into its (most likely) character representation.\"\"\"\n",
    "  return [id2char(c) for c in np.argmax(probabilities, 1)]\n",
    "\n",
    "def batches2string(batches):\n",
    "  \"\"\"Convert a sequence of batches back into their (most likely) string\n",
    "  representation.\"\"\"\n",
    "  s = [''] * batches[0].shape[0]\n",
    "  for b in batches:\n",
    "    s = [''.join(x) for x in zip(s, characters(b))]\n",
    "  return s\n",
    "\n",
    "train_batches = BatchGenerator(train_text, batch_size, num_unrollings)\n",
    "valid_batches = BatchGenerator(valid_text, 1, 1)\n",
    "\n",
    "print(batches2string(train_batches.next()))\n",
    "print(batches2string(train_batches.next()))\n",
    "print(batches2string(valid_batches.next()))\n",
    "print(batches2string(valid_batches.next()))"
   ]
  },
  {
   "cell_type": "code",
   "execution_count": 128,
   "metadata": {},
   "outputs": [
    {
     "data": {
      "text/plain": [
       "64"
      ]
     },
     "execution_count": 128,
     "metadata": {},
     "output_type": "execute_result"
    }
   ],
   "source": [
    "len(batches2string([train_batches._last_batch]))"
   ]
  },
  {
   "cell_type": "code",
   "execution_count": 129,
   "metadata": {
    "cellView": "both",
    "colab": {
     "autoexec": {
      "startup": false,
      "wait_interval": 0
     }
    },
    "colab_type": "code",
    "collapsed": true,
    "id": "KyVd8FxT5QBc"
   },
   "outputs": [],
   "source": [
    "def logprob(predictions, labels):\n",
    "  \"\"\"Log-probability of the true labels in a predicted batch.\"\"\"\n",
    "  predictions[predictions < 1e-10] = 1e-10\n",
    "  return np.sum(np.multiply(labels, -np.log(predictions))) / labels.shape[0]\n",
    "\n",
    "def sample_distribution(distribution):\n",
    "  \"\"\"Sample one element from a distribution assumed to be an array of normalized\n",
    "  probabilities.\n",
    "  \"\"\"\n",
    "  r = random.uniform(0, 1)\n",
    "  s = 0\n",
    "  for i in range(len(distribution)):\n",
    "    s += distribution[i]\n",
    "    if s >= r:\n",
    "      return i\n",
    "  return len(distribution) - 1\n",
    "\n",
    "def sample(prediction):\n",
    "  \"\"\"Turn a (column) prediction into 1-hot encoded samples.\"\"\"\n",
    "  p = np.zeros(shape=[1, vocabulary_size], dtype=np.float)\n",
    "  p[0, sample_distribution(prediction[0])] = 1.0\n",
    "  return p\n",
    "\n",
    "def random_distribution():\n",
    "  \"\"\"Generate a random column of probabilities.\"\"\"\n",
    "  b = np.random.uniform(0.0, 1.0, size=[1, vocabulary_size])\n",
    "  return b/np.sum(b, 1)[:,None]"
   ]
  },
  {
   "cell_type": "code",
   "execution_count": 130,
   "metadata": {},
   "outputs": [
    {
     "data": {
      "text/plain": [
       "array([[ 0.0661837 ,  0.0475739 ,  0.0540917 ,  0.00676769,  0.03421855,\n",
       "         0.05467934,  0.06173142,  0.05129745,  0.04791489,  0.05760559,\n",
       "         0.05356365,  0.00867265,  0.03802682,  0.01483223,  0.01175861,\n",
       "         0.01940822,  0.01240371,  0.02609507,  0.0393762 ,  0.06564697,\n",
       "         0.02527978,  0.0568716 ,  0.06339263,  0.01262851,  0.02988232,\n",
       "         0.03771725,  0.00237955]])"
      ]
     },
     "execution_count": 130,
     "metadata": {},
     "output_type": "execute_result"
    }
   ],
   "source": [
    "rr = random_distribution()\n",
    "rr"
   ]
  },
  {
   "cell_type": "code",
   "execution_count": 131,
   "metadata": {},
   "outputs": [
    {
     "data": {
      "text/plain": [
       "0.99999999999999978"
      ]
     },
     "execution_count": 131,
     "metadata": {},
     "output_type": "execute_result"
    }
   ],
   "source": [
    "np.sum(rr)"
   ]
  },
  {
   "cell_type": "code",
   "execution_count": 132,
   "metadata": {},
   "outputs": [
    {
     "data": {
      "text/plain": [
       "array([[ 0.,  0.,  0.,  0.,  0.,  0.,  0.,  0.,  0.,  0.,  0.,  0.,  0.,\n",
       "         0.,  0.,  0.,  0.,  0.,  0.,  1.,  0.,  0.,  0.,  0.,  0.,  0.,\n",
       "         0.]])"
      ]
     },
     "execution_count": 132,
     "metadata": {},
     "output_type": "execute_result"
    }
   ],
   "source": [
    "sample(rr)"
   ]
  },
  {
   "cell_type": "code",
   "execution_count": 133,
   "metadata": {},
   "outputs": [
    {
     "data": {
      "text/plain": [
       "'a'"
      ]
     },
     "execution_count": 133,
     "metadata": {},
     "output_type": "execute_result"
    }
   ],
   "source": [
    "characters(sample(rr))[0]"
   ]
  },
  {
   "cell_type": "code",
   "execution_count": 134,
   "metadata": {},
   "outputs": [
    {
     "data": {
      "text/plain": [
       "0.9340813267961147"
      ]
     },
     "execution_count": 134,
     "metadata": {},
     "output_type": "execute_result"
    }
   ],
   "source": [
    "random.uniform(0, 1)"
   ]
  },
  {
   "cell_type": "markdown",
   "metadata": {
    "colab_type": "text",
    "id": "K8f67YXaDr4C"
   },
   "source": [
    "Simple LSTM Model."
   ]
  },
  {
   "cell_type": "code",
   "execution_count": 135,
   "metadata": {},
   "outputs": [
    {
     "data": {
      "image/png": "[encoded data removed]",
      "text/plain": [
       "<matplotlib.figure.Figure at 0x13233ea58>"
      ]
     },
     "metadata": {},
     "output_type": "display_data"
    }
   ],
   "source": [
    "import seaborn as sns\n",
    "import matplotlib.pyplot as plt\n",
    "%matplotlib inline\n",
    "\n",
    "sns.set_style(\"darkgrid\")\n",
    "\n",
    "import math\n",
    "\n",
    "def sigmoid(x):\n",
    "  return 1 / (1 + np.exp(-x))\n",
    "\n",
    "xx = np.arange(-10, 10, 0.1)\n",
    "ysigmoid = sigmoid(xx)\n",
    "ytanh = np.tanh(xx)\n",
    "\n",
    "plt.plot(\n",
    "    xx,\n",
    "    ysigmoid,\n",
    "    label='sigmoid'\n",
    ")\n",
    "\n",
    "plt.plot(\n",
    "    xx,\n",
    "    ytanh,\n",
    "    label='tanh'\n",
    ")\n",
    "\n",
    "plt.legend(loc='lower right')\n",
    "plt.show()"
   ]
  },
  {
   "cell_type": "code",
   "execution_count": 136,
   "metadata": {
    "cellView": "both",
    "colab": {
     "autoexec": {
      "startup": false,
      "wait_interval": 0
     }
    },
    "colab_type": "code",
    "id": "Q5rxZK6RDuGe"
   },
   "outputs": [
    {
     "name": "stdout",
     "output_type": "stream",
     "text": [
      "Initialized\n",
      "Average loss at step 0: 3.294078 learning rate: 10.000000\n",
      "Minibatch perplexity: 26.95\n",
      "================================================================================\n",
      "ocoakielia mpb iluyathoe aarpk bjajanoc rqtwamtbpbesg fcwodie snhy aogzpyhn mkn \n",
      "tile pzoilv  bnaerd ufrgroayhcyp arxezeb imyacedbdmiyxs fenarrap yieeaibmefidroz\n",
      "tsmgmxakiowx exynrvfstragwuig vzpzgeo snenh bijnksrafdhdn  kajzjyidftdp e ml hkr\n",
      "bbwoy kjsqejxsrveecrdaygxsebejeqa gv db u  medhtpv ecyqnafrcecwxpqoeaiaf q  u fa\n",
      "xp ueoje  kz dmk p zfnyx  tfrex ndoensbqos uve vtrahmnpexstx gqaw w s  bn   b g \n",
      "================================================================================\n",
      "Validation set perplexity: 20.21\n",
      "Average loss at step 100: 2.599541 learning rate: 10.000000\n",
      "Minibatch perplexity: 10.96\n",
      "Validation set perplexity: 10.42\n",
      "Average loss at step 200: 2.249368 learning rate: 10.000000\n",
      "Minibatch perplexity: 8.60\n",
      "Validation set perplexity: 8.41\n",
      "Average loss at step 300: 2.090972 learning rate: 10.000000\n",
      "Minibatch perplexity: 7.38\n",
      "Validation set perplexity: 7.90\n",
      "Average loss at step 400: 1.992792 learning rate: 10.000000\n",
      "Minibatch perplexity: 7.48\n",
      "Validation set perplexity: 7.60\n",
      "Average loss at step 500: 1.928718 learning rate: 10.000000\n",
      "Minibatch perplexity: 6.60\n",
      "Validation set perplexity: 7.01\n",
      "Average loss at step 600: 1.901916 learning rate: 10.000000\n",
      "Minibatch perplexity: 6.06\n",
      "Validation set perplexity: 6.85\n",
      "Average loss at step 700: 1.851135 learning rate: 10.000000\n",
      "Minibatch perplexity: 6.39\n",
      "Validation set perplexity: 6.47\n",
      "Average loss at step 800: 1.810996 learning rate: 10.000000\n",
      "Minibatch perplexity: 5.88\n",
      "Validation set perplexity: 6.25\n",
      "Average loss at step 900: 1.816138 learning rate: 10.000000\n",
      "Minibatch perplexity: 6.93\n",
      "Validation set perplexity: 6.18\n",
      "Average loss at step 1000: 1.816104 learning rate: 10.000000\n",
      "Minibatch perplexity: 5.54\n",
      "================================================================================\n",
      "x from a the spchesila the chccued for ghrad octerce evelly collection of beerv \n",
      "ving is becown beat dus prinish in from ne for mode of decors pringle of clalten\n",
      "d of five th sever as leck one alsixms leave a it busly be the coldech sitcle co\n",
      "ns acheds nitar chillt in a were sporttes was is the computain surbiling inchevi\n",
      "d effin six five eignt infievical puine veading tener was the ervice of itequia \n",
      "================================================================================\n",
      "Validation set perplexity: 5.97\n",
      "Average loss at step 1100: 1.766313 learning rate: 10.000000\n",
      "Minibatch perplexity: 5.70\n",
      "Validation set perplexity: 5.80\n",
      "Average loss at step 1200: 1.743880 learning rate: 10.000000\n",
      "Minibatch perplexity: 4.98\n",
      "Validation set perplexity: 5.58\n",
      "Average loss at step 1300: 1.725740 learning rate: 10.000000\n",
      "Minibatch perplexity: 5.70\n",
      "Validation set perplexity: 5.59\n",
      "Average loss at step 1400: 1.737506 learning rate: 10.000000\n",
      "Minibatch perplexity: 5.97\n",
      "Validation set perplexity: 5.40\n",
      "Average loss at step 1500: 1.733152 learning rate: 10.000000\n",
      "Minibatch perplexity: 4.84\n",
      "Validation set perplexity: 5.32\n",
      "Average loss at step 1600: 1.740699 learning rate: 10.000000\n",
      "Minibatch perplexity: 5.45\n",
      "Validation set perplexity: 5.29\n",
      "Average loss at step 1700: 1.707007 learning rate: 10.000000\n",
      "Minibatch perplexity: 5.74\n",
      "Validation set perplexity: 5.24\n",
      "Average loss at step 1800: 1.665292 learning rate: 10.000000\n",
      "Minibatch perplexity: 5.64\n",
      "Validation set perplexity: 5.26\n",
      "Average loss at step 1900: 1.640861 learning rate: 10.000000\n",
      "Minibatch perplexity: 5.13\n",
      "Validation set perplexity: 5.17\n",
      "Average loss at step 2000: 1.691066 learning rate: 10.000000\n",
      "Minibatch perplexity: 5.72\n",
      "================================================================================\n",
      "ranquaramay deainome and of it  forre ppircting reperts the noutlinity world mis\n",
      "urce or govellances bott six m the properated betheotody hisming aling of the un\n",
      "king hample longest the wourduey of eir phring world in sokes in moble wincallou\n",
      "s hiddress a fourdony for they asporthore nown hight land in s two was tradition\n",
      "haphicmsig providbliage howethero buling the basriamd speciably other not france\n",
      "================================================================================\n",
      "Validation set perplexity: 5.12\n",
      "Average loss at step 2100: 1.681828 learning rate: 10.000000\n",
      "Minibatch perplexity: 5.22\n",
      "Validation set perplexity: 4.86\n",
      "Average loss at step 2200: 1.677336 learning rate: 10.000000\n",
      "Minibatch perplexity: 6.41\n",
      "Validation set perplexity: 5.00\n",
      "Average loss at step 2300: 1.633611 learning rate: 10.000000\n",
      "Minibatch perplexity: 5.00\n",
      "Validation set perplexity: 4.74\n",
      "Average loss at step 2400: 1.655829 learning rate: 10.000000\n",
      "Minibatch perplexity: 5.16\n",
      "Validation set perplexity: 4.68\n",
      "Average loss at step 2500: 1.675525 learning rate: 10.000000\n",
      "Minibatch perplexity: 5.35\n",
      "Validation set perplexity: 4.61\n",
      "Average loss at step 2600: 1.650522 learning rate: 10.000000\n",
      "Minibatch perplexity: 5.71\n",
      "Validation set perplexity: 4.62\n",
      "Average loss at step 2700: 1.657514 learning rate: 10.000000\n",
      "Minibatch perplexity: 4.53\n",
      "Validation set perplexity: 4.61\n",
      "Average loss at step 2800: 1.642747 learning rate: 10.000000\n",
      "Minibatch perplexity: 5.56\n",
      "Validation set perplexity: 4.54\n",
      "Average loss at step 2900: 1.645614 learning rate: 10.000000\n",
      "Minibatch perplexity: 5.55\n",
      "Validation set perplexity: 4.60\n",
      "Average loss at step 3000: 1.650905 learning rate: 10.000000\n",
      "Minibatch perplexity: 5.01\n",
      "================================================================================\n",
      "ally one all visitement southolf but mardingle furc of trassitism remarking he r\n",
      "quidrayetim knowreak in archil south of freeds aurciesed form school a complatic\n",
      "tics all of with heydeo readed for alisinz of an also much momes prohedomany eac\n",
      "veased p nitamanco can discull gowed the enequal coneition carch uf this bug dis\n",
      "y real is one nine eight zero scaun the stritting shooted sewitastics haqooprand\n",
      "================================================================================\n",
      "Validation set perplexity: 4.55\n",
      "Average loss at step 3100: 1.627469 learning rate: 10.000000\n",
      "Minibatch perplexity: 5.76\n",
      "Validation set perplexity: 4.53\n",
      "Average loss at step 3200: 1.644550 learning rate: 10.000000\n",
      "Minibatch perplexity: 5.46\n",
      "Validation set perplexity: 4.50\n",
      "Average loss at step 3300: 1.632682 learning rate: 10.000000\n",
      "Minibatch perplexity: 5.09\n",
      "Validation set perplexity: 4.42\n",
      "Average loss at step 3400: 1.662257 learning rate: 10.000000\n",
      "Minibatch perplexity: 5.29\n",
      "Validation set perplexity: 4.47\n",
      "Average loss at step 3500: 1.655826 learning rate: 10.000000\n",
      "Minibatch perplexity: 5.43\n",
      "Validation set perplexity: 4.41\n",
      "Average loss at step 3600: 1.662226 learning rate: 10.000000\n",
      "Minibatch perplexity: 4.47\n",
      "Validation set perplexity: 4.37\n",
      "Average loss at step 3700: 1.643098 learning rate: 10.000000\n",
      "Minibatch perplexity: 4.88\n",
      "Validation set perplexity: 4.37\n",
      "Average loss at step 3800: 1.635793 learning rate: 10.000000\n",
      "Minibatch perplexity: 5.54\n",
      "Validation set perplexity: 4.49\n",
      "Average loss at step 3900: 1.631210 learning rate: 10.000000\n",
      "Minibatch perplexity: 5.11\n",
      "Validation set perplexity: 4.46\n",
      "Average loss at step 4000: 1.648530 learning rate: 10.000000\n",
      "Minibatch perplexity: 4.87\n",
      "================================================================================\n",
      "here featuments that penidencanization most of dotix the late state of the citie\n",
      "wal meri wings of the ceviture simon of n chailence somer deeths anq cagiys high\n",
      "ques of catteristic uhitions plose rocan of compunize hocus count contresse d cl\n",
      "aining the was over sokes the shero their ca renews ungurn from the inginors mos\n",
      "ilidy dampting ant geopse reparted feed becauses and two three seven ond six of \n",
      "================================================================================\n",
      "Validation set perplexity: 4.40\n",
      "Average loss at step 4100: 1.629140 learning rate: 10.000000\n",
      "Minibatch perplexity: 5.29\n",
      "Validation set perplexity: 4.59\n",
      "Average loss at step 4200: 1.631160 learning rate: 10.000000\n",
      "Minibatch perplexity: 5.29\n",
      "Validation set perplexity: 4.37\n",
      "Average loss at step 4300: 1.612506 learning rate: 10.000000\n",
      "Minibatch perplexity: 5.07\n",
      "Validation set perplexity: 4.35\n",
      "Average loss at step 4400: 1.611090 learning rate: 10.000000\n",
      "Minibatch perplexity: 4.84\n"
     ]
    },
    {
     "name": "stdout",
     "output_type": "stream",
     "text": [
      "Validation set perplexity: 4.27\n",
      "Average loss at step 4500: 1.614567 learning rate: 10.000000\n",
      "Minibatch perplexity: 5.02\n",
      "Validation set perplexity: 4.48\n",
      "Average loss at step 4600: 1.613301 learning rate: 10.000000\n",
      "Minibatch perplexity: 4.99\n",
      "Validation set perplexity: 4.45\n",
      "Average loss at step 4700: 1.624829 learning rate: 10.000000\n",
      "Minibatch perplexity: 5.18\n",
      "Validation set perplexity: 4.26\n",
      "Average loss at step 4800: 1.624806 learning rate: 10.000000\n",
      "Minibatch perplexity: 4.34\n",
      "Validation set perplexity: 4.32\n",
      "Average loss at step 4900: 1.632690 learning rate: 10.000000\n",
      "Minibatch perplexity: 5.23\n",
      "Validation set perplexity: 4.49\n",
      "Average loss at step 5000: 1.607607 learning rate: 1.000000\n",
      "Minibatch perplexity: 4.48\n",
      "================================================================================\n",
      "a ire and gonriew a an dinvice can been capedi nori not present is work tobou al\n",
      "ble since to hay maborch this was that would promontion list ruld under what dim\n",
      "c one six one nine four fover inveske brtho world see general he has bastbajed j\n",
      "ain of deugis canasy that between in classiczes camptieft of the not two five ze\n",
      "ble actepis confeare the soch nation three of they variese majyhas suppeenft yea\n",
      "================================================================================\n",
      "Validation set perplexity: 4.61\n",
      "Average loss at step 5100: 1.604676 learning rate: 1.000000\n",
      "Minibatch perplexity: 5.10\n",
      "Validation set perplexity: 4.34\n",
      "Average loss at step 5200: 1.589750 learning rate: 1.000000\n",
      "Minibatch perplexity: 4.65\n",
      "Validation set perplexity: 4.26\n",
      "Average loss at step 5300: 1.574422 learning rate: 1.000000\n",
      "Minibatch perplexity: 4.54\n",
      "Validation set perplexity: 4.26\n",
      "Average loss at step 5400: 1.575500 learning rate: 1.000000\n",
      "Minibatch perplexity: 4.97\n",
      "Validation set perplexity: 4.23\n",
      "Average loss at step 5500: 1.566935 learning rate: 1.000000\n",
      "Minibatch perplexity: 5.01\n",
      "Validation set perplexity: 4.18\n",
      "Average loss at step 5600: 1.577058 learning rate: 1.000000\n",
      "Minibatch perplexity: 4.79\n",
      "Validation set perplexity: 4.18\n",
      "Average loss at step 5700: 1.564968 learning rate: 1.000000\n",
      "Minibatch perplexity: 4.48\n",
      "Validation set perplexity: 4.17\n",
      "Average loss at step 5800: 1.579254 learning rate: 1.000000\n",
      "Minibatch perplexity: 4.97\n",
      "Validation set perplexity: 4.19\n",
      "Average loss at step 5900: 1.571635 learning rate: 1.000000\n",
      "Minibatch perplexity: 5.09\n",
      "Validation set perplexity: 4.18\n",
      "Average loss at step 6000: 1.545376 learning rate: 1.000000\n",
      "Minibatch perplexity: 5.10\n",
      "================================================================================\n",
      "k in carmanam other this have ciptle petal mushembtri in named in trament a seas\n",
      "nemecy freke of sufficitiance prinal witterk beforty substerenthy untiling fecol\n",
      "x mainbaths of fands com pschins the citis of the dispeats that but the peraltio\n",
      "va in also could a beader that withway ling the serus instianting apolizated int\n",
      "y i constated became two seven one for eight counition and baracup namet musical\n",
      "================================================================================\n",
      "Validation set perplexity: 4.16\n",
      "Average loss at step 6100: 1.563538 learning rate: 1.000000\n",
      "Minibatch perplexity: 5.04\n",
      "Validation set perplexity: 4.14\n",
      "Average loss at step 6200: 1.532700 learning rate: 1.000000\n",
      "Minibatch perplexity: 4.91\n",
      "Validation set perplexity: 4.16\n",
      "Average loss at step 6300: 1.540744 learning rate: 1.000000\n",
      "Minibatch perplexity: 4.95\n",
      "Validation set perplexity: 4.11\n",
      "Average loss at step 6400: 1.537145 learning rate: 1.000000\n",
      "Minibatch perplexity: 4.51\n",
      "Validation set perplexity: 4.13\n",
      "Average loss at step 6500: 1.555439 learning rate: 1.000000\n",
      "Minibatch perplexity: 4.69\n",
      "Validation set perplexity: 4.12\n",
      "Average loss at step 6600: 1.594529 learning rate: 1.000000\n",
      "Minibatch perplexity: 4.78\n",
      "Validation set perplexity: 4.13\n",
      "Average loss at step 6700: 1.577660 learning rate: 1.000000\n",
      "Minibatch perplexity: 5.08\n",
      "Validation set perplexity: 4.16\n",
      "Average loss at step 6800: 1.601401 learning rate: 1.000000\n",
      "Minibatch perplexity: 4.75\n",
      "Validation set perplexity: 4.13\n",
      "Average loss at step 6900: 1.581602 learning rate: 1.000000\n",
      "Minibatch perplexity: 4.74\n",
      "Validation set perplexity: 4.15\n",
      "Average loss at step 7000: 1.576914 learning rate: 1.000000\n",
      "Minibatch perplexity: 5.14\n",
      "================================================================================\n",
      "ck in now termy the relation with all only was nine one nine during that the man\n",
      "vicala were nom armerciations about this hay colomonured are suppised or number \n",
      "r aanons some percanomons appoarsion tunimation the searms in aitist supremorion\n",
      "al eaches cubsus gotive of nearts add provibartes the one twehn but new musiciot\n",
      "querne s crocces haph wielei agrichishians hips and goder to produces is bryonsh\n",
      "================================================================================\n",
      "Validation set perplexity: 4.15\n",
      "Time elapsed: 117.54626893997192\n"
     ]
    }
   ],
   "source": [
    "num_nodes = 64\n",
    "\n",
    "start = time.time()\n",
    "\n",
    "graph = tf.Graph()\n",
    "with graph.as_default():\n",
    "  \n",
    "  # Parameters:\n",
    "  # Input gate: input, previous output, and bias.\n",
    "  ix = tf.Variable(tf.truncated_normal([vocabulary_size, num_nodes], -0.1, 0.1))\n",
    "  im = tf.Variable(tf.truncated_normal([num_nodes, num_nodes], -0.1, 0.1))\n",
    "  ib = tf.Variable(tf.zeros([1, num_nodes]))\n",
    "  # Forget gate: input, previous output, and bias.\n",
    "  fx = tf.Variable(tf.truncated_normal([vocabulary_size, num_nodes], -0.1, 0.1))\n",
    "  fm = tf.Variable(tf.truncated_normal([num_nodes, num_nodes], -0.1, 0.1))\n",
    "  fb = tf.Variable(tf.zeros([1, num_nodes]))\n",
    "  # Memory cell: input, state and bias.                             \n",
    "  cx = tf.Variable(tf.truncated_normal([vocabulary_size, num_nodes], -0.1, 0.1))\n",
    "  cm = tf.Variable(tf.truncated_normal([num_nodes, num_nodes], -0.1, 0.1))\n",
    "  cb = tf.Variable(tf.zeros([1, num_nodes]))\n",
    "  # Output gate: input, previous output, and bias.\n",
    "  ox = tf.Variable(tf.truncated_normal([vocabulary_size, num_nodes], -0.1, 0.1))\n",
    "  om = tf.Variable(tf.truncated_normal([num_nodes, num_nodes], -0.1, 0.1))\n",
    "  ob = tf.Variable(tf.zeros([1, num_nodes]))\n",
    "  # Variables saving state across unrollings.\n",
    "  saved_output = tf.Variable(tf.zeros([batch_size, num_nodes]), trainable=False)\n",
    "  saved_state = tf.Variable(tf.zeros([batch_size, num_nodes]), trainable=False)\n",
    "  # Classifier weights and biases.\n",
    "  w = tf.Variable(tf.truncated_normal([num_nodes, vocabulary_size], -0.1, 0.1))\n",
    "  b = tf.Variable(tf.zeros([vocabulary_size]))\n",
    "  \n",
    "  # Definition of the cell computation.\n",
    "  def lstm_cell(i, o, state):\n",
    "    \"\"\"Create a LSTM cell. See e.g.: http://arxiv.org/pdf/1402.1128v1.pdf\n",
    "    Note that in this formulation, we omit the various connections between the\n",
    "    previous state and the gates.\"\"\"\n",
    "    input_gate = tf.sigmoid(tf.matmul(i, ix) + tf.matmul(o, im) + ib)\n",
    "    forget_gate = tf.sigmoid(tf.matmul(i, fx) + tf.matmul(o, fm) + fb)\n",
    "    update = tf.matmul(i, cx) + tf.matmul(o, cm) + cb\n",
    "    state = forget_gate * state + input_gate * tf.tanh(update)\n",
    "    output_gate = tf.sigmoid(tf.matmul(i, ox) + tf.matmul(o, om) + ob)\n",
    "    return output_gate * tf.tanh(state), state\n",
    "\n",
    "  # Input data.\n",
    "  train_data = list()\n",
    "  for _ in range(num_unrollings + 1):\n",
    "    train_data.append(\n",
    "      tf.placeholder(tf.float32, shape=[batch_size,vocabulary_size]))\n",
    "  train_inputs = train_data[:num_unrollings]\n",
    "  train_labels = train_data[1:]  # labels are inputs shifted by one time step.\n",
    "\n",
    "  # Unrolled LSTM loop.\n",
    "  outputs = list()\n",
    "  output = saved_output\n",
    "  state = saved_state\n",
    "  for i in train_inputs:\n",
    "    output, state = lstm_cell(i, output, state)\n",
    "    outputs.append(output)\n",
    "\n",
    "  # State saving across unrollings.\n",
    "  with tf.control_dependencies([saved_output.assign(output),\n",
    "                                saved_state.assign(state)]):\n",
    "    # Classifier.\n",
    "    logits = tf.nn.xw_plus_b(tf.concat(outputs, axis=0), w, b)\n",
    "    loss = tf.reduce_mean(\n",
    "      tf.nn.softmax_cross_entropy_with_logits(\n",
    "        labels=tf.concat(train_labels, axis=0), logits=logits))\n",
    "\n",
    "  # Optimizer.\n",
    "  global_step = tf.Variable(0)\n",
    "  learning_rate = tf.train.exponential_decay(\n",
    "    10.0, global_step, 5000, 0.1, staircase=True)\n",
    "  optimizer = tf.train.GradientDescentOptimizer(learning_rate)\n",
    "  gradients, v = zip(*optimizer.compute_gradients(loss))\n",
    "  # gradient clipping: solve gradient exploding\n",
    "  gradients, _ = tf.clip_by_global_norm(gradients, 1.25)\n",
    "  optimizer = optimizer.apply_gradients(\n",
    "    zip(gradients, v), global_step=global_step)\n",
    "\n",
    "  # Predictions.\n",
    "  train_prediction = tf.nn.softmax(logits)\n",
    "  \n",
    "  # Sampling and validation eval: batch 1, no unrolling.\n",
    "  sample_input = tf.placeholder(tf.float32, shape=[1, vocabulary_size])\n",
    "  saved_sample_output = tf.Variable(tf.zeros([1, num_nodes]))\n",
    "  saved_sample_state = tf.Variable(tf.zeros([1, num_nodes]))\n",
    "  reset_sample_state = tf.group(\n",
    "    saved_sample_output.assign(tf.zeros([1, num_nodes])),\n",
    "    saved_sample_state.assign(tf.zeros([1, num_nodes])))\n",
    "  sample_output, sample_state = lstm_cell(\n",
    "    sample_input, saved_sample_output, saved_sample_state)\n",
    "  with tf.control_dependencies([saved_sample_output.assign(sample_output),\n",
    "                                saved_sample_state.assign(sample_state)]):\n",
    "    sample_prediction = tf.nn.softmax(tf.nn.xw_plus_b(sample_output, w, b))\n",
    "    \n",
    "num_steps = 7001\n",
    "summary_frequency = 100\n",
    "\n",
    "with tf.Session(graph=graph) as session:\n",
    "  tf.global_variables_initializer().run()\n",
    "  print('Initialized')\n",
    "  mean_loss = 0\n",
    "  for step in range(num_steps):\n",
    "    batches = train_batches.next()\n",
    "    feed_dict = dict()\n",
    "    for i in range(num_unrollings + 1):\n",
    "      feed_dict[train_data[i]] = batches[i]\n",
    "    _, l, predictions, lr = session.run(\n",
    "      [optimizer, loss, train_prediction, learning_rate], feed_dict=feed_dict)\n",
    "    mean_loss += l\n",
    "    if step % summary_frequency == 0:\n",
    "      if step > 0:\n",
    "        mean_loss = mean_loss / summary_frequency\n",
    "      # The mean loss is an estimate of the loss over the last few batches.\n",
    "      print(\n",
    "        'Average loss at step %d: %f learning rate: %f' % (step, mean_loss, lr))\n",
    "      mean_loss = 0\n",
    "      labels = np.concatenate(list(batches)[1:])\n",
    "      print('Minibatch perplexity: %.2f' % float(\n",
    "        np.exp(logprob(predictions, labels))))\n",
    "      if step % (summary_frequency * 10) == 0:\n",
    "        # Generate some samples.\n",
    "        print('=' * 80)\n",
    "        for _ in range(5):\n",
    "          feed = sample(random_distribution())\n",
    "          # randomly sample one character, say, sentence = 'j'\n",
    "          sentence = characters(feed)[0]\n",
    "          reset_sample_state.run()\n",
    "          for _ in range(79):\n",
    "            prediction = sample_prediction.eval({sample_input: feed})\n",
    "            # feed = np.zeros((1, 27))\n",
    "            # feed[0, np.argmax(prediction, axis=1)] = 1\n",
    "            feed = sample(prediction)\n",
    "            sentence += characters(feed)[0]\n",
    "          print(sentence)\n",
    "        print('=' * 80)\n",
    "      # Measure validation set perplexity.\n",
    "      reset_sample_state.run()\n",
    "      valid_logprob = 0\n",
    "      bb = ''\n",
    "      ss = ''\n",
    "      for _ in range(valid_size):\n",
    "        b = valid_batches.next()\n",
    "        bb += characters(b[0])[0]\n",
    "        predictions = sample_prediction.eval({sample_input: b[0]})\n",
    "        ss += characters(predictions)[0]\n",
    "        valid_logprob = valid_logprob + logprob(predictions, b[1])\n",
    "      # print('bb: %s' % bb)\n",
    "      # print('ss: %s' % ss)\n",
    "      print('Validation set perplexity: %.2f' % float(np.exp(\n",
    "        valid_logprob / valid_size)))\n",
    "    \n",
    "end = time.time()\n",
    "print('Time elapsed: %s' % str(end - start))"
   ]
  },
  {
   "cell_type": "code",
   "execution_count": 137,
   "metadata": {},
   "outputs": [
    {
     "data": {
      "text/plain": [
       "array([[  5.02533019e-01,   2.73057949e-02,   6.79405581e-04,\n",
       "          2.21753633e-03,   3.54795804e-04,   5.07620722e-02,\n",
       "          2.63456895e-04,   2.81084329e-04,   2.58585513e-01,\n",
       "          3.33001763e-02,   5.51691883e-05,   2.01390428e-03,\n",
       "          8.39690026e-03,   4.82842000e-03,   4.60389740e-04,\n",
       "          1.84957515e-02,   5.31268353e-03,   1.98875758e-04,\n",
       "          1.64176265e-04,   4.61695204e-03,   6.53905347e-02,\n",
       "          6.56637503e-03,   2.22137587e-05,   3.78337177e-03,\n",
       "          1.33107442e-05,   3.26998206e-03,   1.28061001e-04]], dtype=float32)"
      ]
     },
     "execution_count": 137,
     "metadata": {},
     "output_type": "execute_result"
    }
   ],
   "source": [
    "prediction"
   ]
  },
  {
   "cell_type": "code",
   "execution_count": 138,
   "metadata": {},
   "outputs": [
    {
     "data": {
      "text/plain": [
       "array([[ 1.,  0.,  0.,  0.,  0.,  0.,  0.,  0.,  0.,  0.,  0.,  0.,  0.,\n",
       "         0.,  0.,  0.,  0.,  0.,  0.,  0.,  0.,  0.,  0.,  0.,  0.,  0.,\n",
       "         0.]])"
      ]
     },
     "execution_count": 138,
     "metadata": {},
     "output_type": "execute_result"
    }
   ],
   "source": [
    "np.argmax(prediction, axis=1)\n",
    "\n",
    "ff = np.zeros((1, 27))\n",
    "ff[0, np.argmax(prediction, axis=1)] = 1\n",
    "ff"
   ]
  },
  {
   "cell_type": "markdown",
   "metadata": {
    "colab_type": "text",
    "id": "pl4vtmFfa5nn"
   },
   "source": [
    "---\n",
    "Problem 1\n",
    "---------\n",
    "\n",
    "You might have noticed that the definition of the LSTM cell involves 4 matrix multiplications with the input, and 4 matrix multiplications with the output. Simplify the expression by using a single matrix multiply for each, and variables that are 4 times larger.\n",
    "\n",
    "---"
   ]
  },
  {
   "cell_type": "code",
   "execution_count": 139,
   "metadata": {},
   "outputs": [
    {
     "name": "stdout",
     "output_type": "stream",
     "text": [
      "Initialized\n",
      "Average loss at step 0: 3.342610 learning rate: 10.000000\n",
      "Minibatch perplexity: 28.29\n",
      "================================================================================\n",
      "cr mm e  i     ke ee  em    x  uhohf sr i  xe ic dh br zc ze bs gr dr lreu  db a\n",
      "d ra  yisrehi eg  bn e   p rb r  ls s  py dj x  x  m i   rc ht d   o ge ea a  s \n",
      "pee   xo ai ir   ebaeu  qt re r rq    st ewe cr l  d  yu a  z  e k   tj  x  b  e\n",
      "na x   o o   f i  lw x  pu jmryt   es eye ne   f    o hbe   t eja foer  ix g  o \n",
      "q  ge b  a  dt u  j    y  rd r    x o  faeus ys x g  e  agcxe ny nser  wr ve rs \n",
      "================================================================================\n",
      "Validation set perplexity: 32.51\n",
      "Average loss at step 100: 2.658170 learning rate: 10.000000\n",
      "Minibatch perplexity: 11.25\n",
      "Validation set perplexity: 10.89\n",
      "Average loss at step 200: 2.331641 learning rate: 10.000000\n",
      "Minibatch perplexity: 9.49\n",
      "Validation set perplexity: 9.34\n",
      "Average loss at step 300: 2.174953 learning rate: 10.000000\n",
      "Minibatch perplexity: 7.06\n",
      "Validation set perplexity: 8.66\n",
      "Average loss at step 400: 2.112345 learning rate: 10.000000\n",
      "Minibatch perplexity: 8.46\n",
      "Validation set perplexity: 8.36\n",
      "Average loss at step 500: 2.056618 learning rate: 10.000000\n",
      "Minibatch perplexity: 7.16\n",
      "Validation set perplexity: 7.98\n",
      "Average loss at step 600: 1.980635 learning rate: 10.000000\n",
      "Minibatch perplexity: 7.11\n",
      "Validation set perplexity: 7.94\n",
      "Average loss at step 700: 1.960299 learning rate: 10.000000\n",
      "Minibatch perplexity: 7.62\n",
      "Validation set perplexity: 7.48\n",
      "Average loss at step 800: 1.957707 learning rate: 10.000000\n",
      "Minibatch perplexity: 7.44\n",
      "Validation set perplexity: 7.50\n",
      "Average loss at step 900: 1.942259 learning rate: 10.000000\n",
      "Minibatch perplexity: 6.84\n",
      "Validation set perplexity: 7.31\n",
      "Average loss at step 1000: 1.942910 learning rate: 10.000000\n",
      "Minibatch perplexity: 7.21\n",
      "================================================================================\n",
      "xb ofter ho regen usiy limin bed in contruins the recrooced b of the frop tes pl\n",
      "fed s hament usition pori and sist one a the is to its ouke in fellia eme x risi\n",
      "h vaming plilian ace with thrould adtend hbook the lion oufe yate of lauln cave \n",
      "wiry or babale e fornors shist clam untelisb waull contral bugter sylt one siven\n",
      "forgans tas muneswank ingacter the wimenting for frathawe weate lout the ked two\n",
      "================================================================================\n",
      "Validation set perplexity: 7.11\n",
      "Average loss at step 1100: 1.894467 learning rate: 10.000000\n",
      "Minibatch perplexity: 6.02\n",
      "Validation set perplexity: 6.96\n",
      "Average loss at step 1200: 1.871492 learning rate: 10.000000\n",
      "Minibatch perplexity: 7.15\n",
      "Validation set perplexity: 6.84\n",
      "Average loss at step 1300: 1.859684 learning rate: 10.000000\n",
      "Minibatch perplexity: 6.77\n",
      "Validation set perplexity: 6.61\n",
      "Average loss at step 1400: 1.862318 learning rate: 10.000000\n",
      "Minibatch perplexity: 6.65\n",
      "Validation set perplexity: 6.53\n",
      "Average loss at step 1500: 1.848515 learning rate: 10.000000\n",
      "Minibatch perplexity: 6.21\n",
      "Validation set perplexity: 6.38\n",
      "Average loss at step 1600: 1.827239 learning rate: 10.000000\n",
      "Minibatch perplexity: 5.91\n",
      "Validation set perplexity: 6.40\n",
      "Average loss at step 1700: 1.809944 learning rate: 10.000000\n",
      "Minibatch perplexity: 5.70\n",
      "Validation set perplexity: 6.24\n",
      "Average loss at step 1800: 1.780689 learning rate: 10.000000\n",
      "Minibatch perplexity: 5.74\n",
      "Validation set perplexity: 6.17\n",
      "Average loss at step 1900: 1.784565 learning rate: 10.000000\n",
      "Minibatch perplexity: 5.82\n",
      "Validation set perplexity: 6.02\n",
      "Average loss at step 2000: 1.764547 learning rate: 10.000000\n",
      "Minibatch perplexity: 5.51\n",
      "================================================================================\n",
      "ase its then eacimanes read bose the drate inscent informthelts beew to the gres\n",
      "fucts the kerch somed sayyn has hilluar is the of the sincel iticl sicke air par\n",
      "aid b x lote of terlramientisutbl tut anvorica in tulit a from bophaireral and f\n",
      "tored that the ith zero agreparted he denition deverps heory with afd decluding \n",
      "fually in the v leeffe sixclioaa and of the da of while all one eight one eirht \n",
      "================================================================================\n",
      "Validation set perplexity: 5.95\n",
      "Average loss at step 2100: 1.775561 learning rate: 10.000000\n",
      "Minibatch perplexity: 5.56\n",
      "Validation set perplexity: 5.94\n",
      "Average loss at step 2200: 1.796118 learning rate: 10.000000\n",
      "Minibatch perplexity: 5.69\n",
      "Validation set perplexity: 5.82\n",
      "Average loss at step 2300: 1.790758 learning rate: 10.000000\n",
      "Minibatch perplexity: 6.43\n",
      "Validation set perplexity: 5.78\n",
      "Average loss at step 2400: 1.773788 learning rate: 10.000000\n",
      "Minibatch perplexity: 6.40\n",
      "Validation set perplexity: 5.76\n",
      "Average loss at step 2500: 1.773033 learning rate: 10.000000\n",
      "Minibatch perplexity: 6.63\n",
      "Validation set perplexity: 5.89\n",
      "Average loss at step 2600: 1.755556 learning rate: 10.000000\n",
      "Minibatch perplexity: 5.67\n",
      "Validation set perplexity: 5.66\n",
      "Average loss at step 2700: 1.766602 learning rate: 10.000000\n",
      "Minibatch perplexity: 5.45\n",
      "Validation set perplexity: 5.73\n",
      "Average loss at step 2800: 1.762756 learning rate: 10.000000\n",
      "Minibatch perplexity: 5.78\n",
      "Validation set perplexity: 5.89\n",
      "Average loss at step 2900: 1.750689 learning rate: 10.000000\n",
      "Minibatch perplexity: 6.66\n",
      "Validation set perplexity: 5.68\n",
      "Average loss at step 3000: 1.757143 learning rate: 10.000000\n",
      "Minibatch perplexity: 5.07\n",
      "================================================================================\n",
      "ts lackop the betweizure a agobut a formiter mangiendftepivermatal partuman sett\n",
      "x agegation of mevite ver lepish empoly that vimia phenciner s perffe z borbfous\n",
      "mcica atrrea persly lized minitroguard truit nean well to and be an a pup now cr\n",
      "s composent sin mothery collose de to jeather roan mones them crimificing ol pla\n",
      "l tensalial comliter ot will when consibutes is didbur minss prompaturateg it an\n",
      "================================================================================\n",
      "Validation set perplexity: 5.56\n",
      "Average loss at step 3100: 1.726475 learning rate: 10.000000\n",
      "Minibatch perplexity: 5.54\n",
      "Validation set perplexity: 5.47\n",
      "Average loss at step 3200: 1.705388 learning rate: 10.000000\n",
      "Minibatch perplexity: 5.81\n",
      "Validation set perplexity: 5.43\n",
      "Average loss at step 3300: 1.716031 learning rate: 10.000000\n",
      "Minibatch perplexity: 5.65\n",
      "Validation set perplexity: 5.24\n",
      "Average loss at step 3400: 1.708042 learning rate: 10.000000\n",
      "Minibatch perplexity: 5.63\n",
      "Validation set perplexity: 5.39\n",
      "Average loss at step 3500: 1.747111 learning rate: 10.000000\n",
      "Minibatch perplexity: 6.64\n",
      "Validation set perplexity: 5.50\n",
      "Average loss at step 3600: 1.719940 learning rate: 10.000000\n",
      "Minibatch perplexity: 5.69\n",
      "Validation set perplexity: 5.30\n",
      "Average loss at step 3700: 1.724035 learning rate: 10.000000\n",
      "Minibatch perplexity: 5.45\n",
      "Validation set perplexity: 5.46\n",
      "Average loss at step 3800: 1.725916 learning rate: 10.000000\n",
      "Minibatch perplexity: 6.12\n",
      "Validation set perplexity: 5.33\n",
      "Average loss at step 3900: 1.720804 learning rate: 10.000000\n",
      "Minibatch perplexity: 4.48\n",
      "Validation set perplexity: 5.32\n",
      "Average loss at step 4000: 1.709276 learning rate: 10.000000\n",
      "Minibatch perplexity: 5.76\n",
      "================================================================================\n",
      "pand surnorcree in arable on the may asselbeal states in and and of the charept \n",
      "als branday on manom rakessardionator extection some ibsspers communder angeriou\n",
      "essing dying island states georges the many american as the secter sucitres irs \n",
      "kinam vetish in thereberate he cluosed eight two zero zero zero four new in alro\n",
      "jing numb the nis fruits commephicig the from and betere verents durentationg th\n",
      "================================================================================\n",
      "Validation set perplexity: 5.18\n",
      "Average loss at step 4100: 1.683437 learning rate: 10.000000\n",
      "Minibatch perplexity: 4.81\n",
      "Validation set perplexity: 5.12\n",
      "Average loss at step 4200: 1.673417 learning rate: 10.000000\n",
      "Minibatch perplexity: 5.29\n",
      "Validation set perplexity: 5.10\n",
      "Average loss at step 4300: 1.680326 learning rate: 10.000000\n",
      "Minibatch perplexity: 5.75\n",
      "Validation set perplexity: 5.19\n",
      "Average loss at step 4400: 1.662879 learning rate: 10.000000\n",
      "Minibatch perplexity: 5.86\n"
     ]
    },
    {
     "name": "stdout",
     "output_type": "stream",
     "text": [
      "Validation set perplexity: 5.06\n",
      "Average loss at step 4500: 1.696466 learning rate: 10.000000\n",
      "Minibatch perplexity: 5.68\n",
      "Validation set perplexity: 5.26\n",
      "Average loss at step 4600: 1.683150 learning rate: 10.000000\n",
      "Minibatch perplexity: 5.82\n",
      "Validation set perplexity: 5.22\n",
      "Average loss at step 4700: 1.683567 learning rate: 10.000000\n",
      "Minibatch perplexity: 4.94\n",
      "Validation set perplexity: 5.26\n",
      "Average loss at step 4800: 1.669380 learning rate: 10.000000\n",
      "Minibatch perplexity: 5.00\n",
      "Validation set perplexity: 5.14\n",
      "Average loss at step 4900: 1.674476 learning rate: 10.000000\n",
      "Minibatch perplexity: 5.27\n",
      "Validation set perplexity: 4.99\n",
      "Average loss at step 5000: 1.666260 learning rate: 1.000000\n",
      "Minibatch perplexity: 5.21\n",
      "================================================================================\n",
      "heral and comblor side bolling nore past decorportured to cotorg when logategits\n",
      "ndert th undernotries fundence and de attended of offeric are somes eiffel weppr\n",
      "k veland new tame of chingouss be belinel the century eight two which be dinuart\n",
      "umht somever there garbaor development of kurrcaman b elemes mavinion the from d\n",
      "y the unpookion provider meneuslew fighic alsour spatest bout eive posbry aciete\n",
      "================================================================================\n",
      "Validation set perplexity: 5.03\n",
      "Average loss at step 5100: 1.642176 learning rate: 1.000000\n",
      "Minibatch perplexity: 5.35\n",
      "Validation set perplexity: 4.89\n",
      "Average loss at step 5200: 1.647048 learning rate: 1.000000\n",
      "Minibatch perplexity: 5.52\n",
      "Validation set perplexity: 4.87\n",
      "Average loss at step 5300: 1.645542 learning rate: 1.000000\n",
      "Minibatch perplexity: 5.46\n",
      "Validation set perplexity: 4.86\n",
      "Average loss at step 5400: 1.647887 learning rate: 1.000000\n",
      "Minibatch perplexity: 4.98\n",
      "Validation set perplexity: 4.84\n",
      "Average loss at step 5500: 1.641952 learning rate: 1.000000\n",
      "Minibatch perplexity: 5.61\n",
      "Validation set perplexity: 4.81\n",
      "Average loss at step 5600: 1.615974 learning rate: 1.000000\n",
      "Minibatch perplexity: 4.53\n",
      "Validation set perplexity: 4.77\n",
      "Average loss at step 5700: 1.631351 learning rate: 1.000000\n",
      "Minibatch perplexity: 4.92\n",
      "Validation set perplexity: 4.74\n",
      "Average loss at step 5800: 1.648562 learning rate: 1.000000\n",
      "Minibatch perplexity: 4.78\n",
      "Validation set perplexity: 4.77\n",
      "Average loss at step 5900: 1.633143 learning rate: 1.000000\n",
      "Minibatch perplexity: 5.77\n",
      "Validation set perplexity: 4.77\n",
      "Average loss at step 6000: 1.639229 learning rate: 1.000000\n",
      "Minibatch perplexity: 5.03\n",
      "================================================================================\n",
      "y the ergouply refuran the counsective earl beliheod ancomeming such the sholome\n",
      "b induts be sexished a bast with autonicual meakure of courtlice refimagere in w\n",
      "ges decess may were the trovs it archang one nine nine nine two zero two one eig\n",
      "kes and services company a ken armein more the tow two zero zero five eight in t\n",
      "maber of the tumbers presis ot where is national in the atsovian resesfunge a ne\n",
      "================================================================================\n",
      "Validation set perplexity: 4.72\n",
      "Average loss at step 6100: 1.628783 learning rate: 1.000000\n",
      "Minibatch perplexity: 4.77\n",
      "Validation set perplexity: 4.77\n",
      "Average loss at step 6200: 1.641978 learning rate: 1.000000\n",
      "Minibatch perplexity: 4.86\n",
      "Validation set perplexity: 4.80\n",
      "Average loss at step 6300: 1.642746 learning rate: 1.000000\n",
      "Minibatch perplexity: 5.59\n",
      "Validation set perplexity: 4.79\n",
      "Average loss at step 6400: 1.628501 learning rate: 1.000000\n",
      "Minibatch perplexity: 4.30\n",
      "Validation set perplexity: 4.81\n",
      "Average loss at step 6500: 1.613979 learning rate: 1.000000\n",
      "Minibatch perplexity: 5.62\n",
      "Validation set perplexity: 4.82\n",
      "Average loss at step 6600: 1.654151 learning rate: 1.000000\n",
      "Minibatch perplexity: 6.10\n",
      "Validation set perplexity: 4.78\n",
      "Average loss at step 6700: 1.623788 learning rate: 1.000000\n",
      "Minibatch perplexity: 5.53\n",
      "Validation set perplexity: 4.76\n",
      "Average loss at step 6800: 1.631255 learning rate: 1.000000\n",
      "Minibatch perplexity: 5.04\n",
      "Validation set perplexity: 4.78\n",
      "Average loss at step 6900: 1.626678 learning rate: 1.000000\n",
      "Minibatch perplexity: 5.06\n",
      "Validation set perplexity: 4.76\n",
      "Average loss at step 7000: 1.644624 learning rate: 1.000000\n",
      "Minibatch perplexity: 5.23\n",
      "================================================================================\n",
      "l one three one simenting page iro in kluving duka cherorms iis prianmores counc\n",
      "hine relent feotal wirm hurclity carpna lies are rocel published fill they gown \n",
      "omitons cap me aroundk between in auguers he and and freedled soybe such playars\n",
      "nation and temples bretal whever four one nine seven zero evergest from a byili \n",
      "rapan gariles advervate from the deblad informor peab pristratical ungilier form\n",
      "================================================================================\n",
      "Validation set perplexity: 4.74\n",
      "Time elapsed: 76.99461603164673\n"
     ]
    }
   ],
   "source": [
    "num_nodes = 64\n",
    "\n",
    "start = time.time()\n",
    "\n",
    "graph = tf.Graph()\n",
    "with graph.as_default():\n",
    "  \n",
    "  # Parameters:\n",
    "  # Input gate: input, previous output, and bias.\n",
    "  # ix = tf.Variable(tf.truncated_normal([vocabulary_size, num_nodes], -0.1, 0.1))\n",
    "  # im = tf.Variable(tf.truncated_normal([num_nodes, num_nodes], -0.1, 0.1))\n",
    "  # ib = tf.Variable(tf.zeros([1, num_nodes]))\n",
    "  # Forget gate: input, previous output, and bias.\n",
    "  # fx = tf.Variable(tf.truncated_normal([vocabulary_size, num_nodes], -0.1, 0.1))\n",
    "  # fm = tf.Variable(tf.truncated_normal([num_nodes, num_nodes], -0.1, 0.1))\n",
    "  # fb = tf.Variable(tf.zeros([1, num_nodes]))\n",
    "  # Memory cell: input, state and bias.                             \n",
    "  # cx = tf.Variable(tf.truncated_normal([vocabulary_size, num_nodes], -0.1, 0.1))\n",
    "  # cm = tf.Variable(tf.truncated_normal([num_nodes, num_nodes], -0.1, 0.1))\n",
    "  # cb = tf.Variable(tf.zeros([1, num_nodes]))\n",
    "  # Output gate: input, previous output, and bias.\n",
    "  # ox = tf.Variable(tf.truncated_normal([vocabulary_size, num_nodes], -0.1, 0.1))\n",
    "  # om = tf.Variable(tf.truncated_normal([num_nodes, num_nodes], -0.1, 0.1))\n",
    "  # ob = tf.Variable(tf.zeros([1, num_nodes]))\n",
    "  # Shared weights: input weights, output weights\n",
    "  iw = tf.Variable(tf.truncated_normal([vocabulary_size, num_nodes * 4], -0.4, 0.4))\n",
    "  ow = tf.Variable(tf.truncated_normal([num_nodes, num_nodes * 4], -0.4, 0.4))\n",
    "  bb = tf.Variable(tf.truncated_normal([1, num_nodes * 4]))\n",
    "  # Variables saving state across unrollings.\n",
    "  saved_output = tf.Variable(tf.zeros([batch_size, num_nodes]), trainable=False)\n",
    "  saved_state = tf.Variable(tf.zeros([batch_size, num_nodes]), trainable=False)\n",
    "  # Classifier weights and biases.\n",
    "  w = tf.Variable(tf.truncated_normal([num_nodes, vocabulary_size], -0.1, 0.1))\n",
    "  b = tf.Variable(tf.zeros([vocabulary_size]))\n",
    "  \n",
    "  # Definition of the cell computation.\n",
    "  def lstm_cell(i, o, state):\n",
    "    \"\"\"Create a LSTM cell. See e.g.: http://arxiv.org/pdf/1402.1128v1.pdf\n",
    "    Note that in this formulation, we omit the various connections between the\n",
    "    previous state and the gates.\"\"\"\n",
    "    ww = tf.matmul(i, iw) + tf.matmul(o, ow) + bb\n",
    "    i, f, o, c = tf.split(ww, num_or_size_splits=4, axis=1)\n",
    "    input_gate = tf.sigmoid(i)\n",
    "    forget_gate = tf.sigmoid(f)\n",
    "    update = c\n",
    "    state = forget_gate * state + input_gate * tf.tanh(update)\n",
    "    output_gate = tf.sigmoid(o)\n",
    "    return output_gate * tf.tanh(state), state\n",
    "\n",
    "  # Input data.\n",
    "  train_data = list()\n",
    "  for _ in range(num_unrollings + 1):\n",
    "    train_data.append(\n",
    "      tf.placeholder(tf.float32, shape=[batch_size,vocabulary_size]))\n",
    "  train_inputs = train_data[:num_unrollings]\n",
    "  train_labels = train_data[1:]  # labels are inputs shifted by one time step.\n",
    "\n",
    "  # Unrolled LSTM loop.\n",
    "  outputs = list()\n",
    "  output = saved_output\n",
    "  state = saved_state\n",
    "  for i in train_inputs:\n",
    "    output, state = lstm_cell(i, output, state)\n",
    "    outputs.append(output)\n",
    "\n",
    "  # State saving across unrollings.\n",
    "  with tf.control_dependencies([saved_output.assign(output),\n",
    "                                saved_state.assign(state)]):\n",
    "    # Classifier.\n",
    "    logits = tf.nn.xw_plus_b(tf.concat(outputs, axis=0), w, b)\n",
    "    loss = tf.reduce_mean(\n",
    "      tf.nn.softmax_cross_entropy_with_logits(\n",
    "        labels=tf.concat(train_labels, axis=0), logits=logits))\n",
    "\n",
    "  # Optimizer.\n",
    "  global_step = tf.Variable(0)\n",
    "  learning_rate = tf.train.exponential_decay(\n",
    "    10.0, global_step, 5000, 0.1, staircase=True)\n",
    "  optimizer = tf.train.GradientDescentOptimizer(learning_rate)\n",
    "  gradients, v = zip(*optimizer.compute_gradients(loss))\n",
    "  # gradient clipping: solve gradient exploding\n",
    "  gradients, _ = tf.clip_by_global_norm(gradients, 1.25)\n",
    "  optimizer = optimizer.apply_gradients(\n",
    "    zip(gradients, v), global_step=global_step)\n",
    "\n",
    "  # Predictions.\n",
    "  train_prediction = tf.nn.softmax(logits)\n",
    "  \n",
    "  # Sampling and validation eval: batch 1, no unrolling.\n",
    "  sample_input = tf.placeholder(tf.float32, shape=[1, vocabulary_size])\n",
    "  saved_sample_output = tf.Variable(tf.zeros([1, num_nodes]))\n",
    "  saved_sample_state = tf.Variable(tf.zeros([1, num_nodes]))\n",
    "  reset_sample_state = tf.group(\n",
    "    saved_sample_output.assign(tf.zeros([1, num_nodes])),\n",
    "    saved_sample_state.assign(tf.zeros([1, num_nodes])))\n",
    "  sample_output, sample_state = lstm_cell(\n",
    "    sample_input, saved_sample_output, saved_sample_state)\n",
    "  with tf.control_dependencies([saved_sample_output.assign(sample_output),\n",
    "                                saved_sample_state.assign(sample_state)]):\n",
    "    sample_prediction = tf.nn.softmax(tf.nn.xw_plus_b(sample_output, w, b))\n",
    "    \n",
    "num_steps = 7001\n",
    "summary_frequency = 100\n",
    "\n",
    "with tf.Session(graph=graph) as session:\n",
    "  tf.global_variables_initializer().run()\n",
    "  print('Initialized')\n",
    "  mean_loss = 0\n",
    "  for step in range(num_steps):\n",
    "    batches = train_batches.next()\n",
    "    feed_dict = dict()\n",
    "    for i in range(num_unrollings + 1):\n",
    "      feed_dict[train_data[i]] = batches[i]\n",
    "    _, l, predictions, lr = session.run(\n",
    "      [optimizer, loss, train_prediction, learning_rate], feed_dict=feed_dict)\n",
    "    mean_loss += l\n",
    "    if step % summary_frequency == 0:\n",
    "      if step > 0:\n",
    "        mean_loss = mean_loss / summary_frequency\n",
    "      # The mean loss is an estimate of the loss over the last few batches.\n",
    "      print(\n",
    "        'Average loss at step %d: %f learning rate: %f' % (step, mean_loss, lr))\n",
    "      mean_loss = 0\n",
    "      labels = np.concatenate(list(batches)[1:])\n",
    "      print('Minibatch perplexity: %.2f' % float(\n",
    "        np.exp(logprob(predictions, labels))))\n",
    "      if step % (summary_frequency * 10) == 0:\n",
    "        # Generate some samples.\n",
    "        print('=' * 80)\n",
    "        for _ in range(5):\n",
    "          feed = sample(random_distribution())\n",
    "          # randomly sample one character, say, sentence = 'j'\n",
    "          sentence = characters(feed)[0]\n",
    "          reset_sample_state.run()\n",
    "          for _ in range(79):\n",
    "            prediction = sample_prediction.eval({sample_input: feed})\n",
    "            # feed = np.zeros((1, 27))\n",
    "            # feed[0, np.argmax(prediction, axis=1)] = 1\n",
    "            feed = sample(prediction)\n",
    "            sentence += characters(feed)[0]\n",
    "          print(sentence)\n",
    "        print('=' * 80)\n",
    "      # Measure validation set perplexity.\n",
    "      reset_sample_state.run()\n",
    "      valid_logprob = 0\n",
    "      bb = ''\n",
    "      ss = ''\n",
    "      for _ in range(valid_size):\n",
    "        b = valid_batches.next()\n",
    "        bb += characters(b[0])[0]\n",
    "        predictions = sample_prediction.eval({sample_input: b[0]})\n",
    "        ss += characters(predictions)[0]\n",
    "        valid_logprob = valid_logprob + logprob(predictions, b[1])\n",
    "      # print('bb: %s' % bb)\n",
    "      # print('ss: %s' % ss)\n",
    "      print('Validation set perplexity: %.2f' % float(np.exp(\n",
    "        valid_logprob / valid_size)))\n",
    "    \n",
    "end = time.time()\n",
    "print('Time elapsed: %s' % str(end - start))"
   ]
  },
  {
   "cell_type": "markdown",
   "metadata": {
    "colab_type": "text",
    "id": "4eErTCTybtph"
   },
   "source": [
    "---\n",
    "Problem 2\n",
    "---------\n",
    "\n",
    "We want to train a LSTM over bigrams, that is pairs of consecutive characters like 'ab' instead of single characters like 'a'. Since the number of possible bigrams is large, feeding them directly to the LSTM using 1-hot encodings will lead to a very sparse representation that is very wasteful computationally.\n",
    "\n",
    "a- Introduce an embedding lookup on the inputs, and feed the embeddings to the LSTM cell instead of the inputs themselves.\n",
    "\n",
    "b- Write a bigram-based LSTM, modeled on the character LSTM above.\n",
    "\n",
    "c- Introduce Dropout. For best practices on how to use Dropout in LSTMs, refer to this [article](http://arxiv.org/abs/1409.2329).\n",
    "\n",
    "---"
   ]
  },
  {
   "cell_type": "code",
   "execution_count": 198,
   "metadata": {},
   "outputs": [
    {
     "name": "stdout",
     "output_type": "stream",
     "text": [
      "Initialized\n",
      "Average loss at step 0: 6.678227 learning rate: 10.000000\n",
      "Minibatch perplexity: 794.91\n",
      "bb:  anarchism originated as a term of abuse first used against early working class radicals including the diggers of the english revolution and the sans culottes of the french revolution whilst the term is still used in a pejorative way to describe any act that used violent means to destroy the organization of society it has also been taken up as a positive label by self defined anarchists the word anarchism is derived from the greek without archons ruler chief king anarchism as a political philosophy is the belief that rulers are unnecessary and should be abolished although there are differing interpretations of what this means anarchism also refers to related social movements that advocate the elimination of authoritarian institutions particularly the state the word anarchy as most anarchists use it does not imply chaos nihilism or anomie but rather a harmonious anti authoritarian society in place of what are regarded as authoritarian political structures and coercive economic instituti anarchism originated as a term of abuse first used against early working class radicals including the diggers of the english revolution and the sans culottes of the french revolution whilst the term is still used in a pejorative way to describe any act that used violent means to destroy the organization of society it has also been taken up as a positive label by self defined anarchists the word anarchism is derived from the greek without archons ruler chief king anarchism as a political philosophy is the belief that rulers are unnecessary and should be abolished although there are differing interpretations of what this means anarchism also refers to related social movements that advocate the elimination of authoritarian institutions particularly the state the word anarchy as most anarchists use it does not imply chaos nihilism or anomie but rather a harmonious anti authoritarian society in place of what are regarded as authoritarian political structures and coercive economic instituti\n",
      "ss: ane ise ste d e s  zwoise heise e t e e e rae zrste e e  he ise ede ste iscdise tsd t e ere gztde armj tucuce wclxe gususuang e ede ly obbbxarylrfste e e d  o ssse guom hjeise d e siate e qbarnbced e e e jieze e e ste ede kwent nabbstste  iane guede ede e en hste eze e heisble nte  iane armj stsste eneovcnbzxstedede hed e tiste d e ccsts rmd e d e s fpd e atane ede t heeds int dvste n tfe guiee mye ise ste erice ede e g e usingjtlste ice ane ice ede ise nqeddzede ede qzise ise ise e ane ise toste ede armje stait e ene e ise ede ise ste ede ede bsstste guxkate t unt e raayonyllyd anheung e e ere ise ede sieder ie enart thisise ede qzise tiste ede e ntooate ine ede e d e e  oere enane ste gue guste ste siatprane e e cckzste  h irzoq luxs s rifdede armjsqste aryl rhjunste qzise ste heste qzise zrste hep jaede erwopvd e taede e e e kwbbczise e hethe ise d e ste rae ede ane ice cctlste ede ede vchxate e qware ede gjise int ervue kwe ede vc rise ede n  hedan ianznd e ise gus costererlb irzoqane ise ste d e s  zwoise heise e t e e e rae zrste e e  he ise ede ste iscdise tsd t e ere gztde armj tucuce wclxe gususuang e ede ly obbbxarylrfste e e d  o ssse guom hjeise d e siate e qbarnbced e e e jieze e e ste ede kwent nabbstste  iane guede ede e en hste eze e heisble nte  iane armj stsste eneovcnbzxstedede hed e tiste d e ccsts rmd e d e s fpd e atane ede t heeds int dvste n tfe guiee mye ise ste erice ede e g e usingjtlste ice ane ice ede ise nqeddzede ede qzise ise ise e ane ise toste ede armje stait e ene e ise ede ise ste ede ede bsstste guxkate t unt e raayonyllyd anheung e e ere ise ede sieder ie enart thisise ede qzise tiste ede e ntooate ine ede e d e e  oere enane ste gue guste ste siatprane e e cckzste  h irzoq luxs s rifdede armjsqste aryl rhjunste qzise ste heste qzise zrste hep jaede erwopvd e taede e e e kwbbczise e hethe ise d e ste rae ede ane ice cctlste ede ede vchxate e qware ede gjise int ervue kwe ede vc rise ede n  hedan ianznd e ise gus costererlb irzoq\n",
      "Validation set perplexity: 643.39\n",
      "Average loss at step 100: 5.524284 learning rate: 10.000000\n",
      "Minibatch perplexity: 165.11\n",
      "bb:  anarchism originated as a term of abuse first used against early working class radicals including the diggers of the english revolution and the sans culottes of the french revolution whilst the term is still used in a pejorative way to describe any act that used violent means to destroy the organization of society it has also been taken up as a positive label by self defined anarchists the word anarchism is derived from the greek without archons ruler chief king anarchism as a political philosophy is the belief that rulers are unnecessary and should be abolished although there are differing interpretations of what this means anarchism also refers to related social movements that advocate the elimination of authoritarian institutions particularly the state the word anarchy as most anarchists use it does not imply chaos nihilism or anomie but rather a harmonious anti authoritarian society in place of what are regarded as authoritarian political structures and coercive economic instituti anarchism originated as a term of abuse first used against early working class radicals including the diggers of the english revolution and the sans culottes of the french revolution whilst the term is still used in a pejorative way to describe any act that used violent means to destroy the organization of society it has also been taken up as a positive label by self defined anarchists the word anarchism is derived from the greek without archons ruler chief king anarchism as a political philosophy is the belief that rulers are unnecessary and should be abolished although there are differing interpretations of what this means anarchism also refers to related social movements that advocate the elimination of authoritarian institutions particularly the state the word anarchy as most anarchists use it does not imply chaos nihilism or anomie but rather a harmonious anti authoritarian society in place of what are regarded as authoritarian political structures and coercive economic instituti\n",
      "ss: nde e e s f s e e  te  andhe te  tnde ve onee e vee e e  te e e tht  tg e he aththd d e n e t e e hed e e the f e e e t e  te  ae t one nde hed e d e the ons f e e e e t e e het e e the e e hed he te  te one e vee g e t e e hee e s e  ae s e hee d e e the e e vee e d  te f d e  te s e e he tf  td e e e th te t e e n tht e e d e d e e s e e nde e e e onon te t e thvee e e g e nde e e e the e t e nde e e s e ths s s e e e hed e  ae e e e e nde e e e e e e s e  tg e d e e  ae  ande n e s e t e e d e the he ae s e e e e e e e e e e s e s e e e d e the  te e e e th ce e e e t e d e nde e e  ae e n s s e e e e  tf e e e he te f d thd e e  ae e d e e e e  te e e  te t e hevee n e the e nde t e e e e e e g e e th tnde e e e e  tn e one one ththheththe e hed e e  the te e e d e e th a te thd e e  a ae vee thththe e n e  t ts e  te e  tthe nde e e e s e e e ndt e d e e thd e nde e e e e  te t e  on the e e  thet e e e  a te  tnde the e e e e the t e t e e e t e s e  te e e e e e e e e n e one onnde e e s f s e e  te  andhe te  tnde ve onee e vee e e  te e e tht  tg e he aththd d e n e t e e hed e e the f e e e t e  te  ae t one nde hed e d e the ons f e e e e t e e het e e the e e hed he te  te one e vee g e t e e hee e s e  ae s e hee d e e the e e vee e d  te f d e  te s e e he tf  td e e e th te t e e n tht e e d e d e e s e e nde e e e onon te t e thvee e e g e nde e e e the e t e nde e e s e ths s s e e e hed e  ae e e e e nde e e e e e e s e  tg e d e e  ae  ande n e s e t e e d e the he ae s e e e e e e e e e e s e s e e e d e the  te e e e th ce e e e t e d e nde e e  ae e n s s e e e e  tf e e e he te f d thd e e  ae e d e e e e  te e e  te t e hevee n e the e nde t e e e e e e g e e th tnde e e e e  tn e one one ththheththe e hed e e  the te e e d e e th a te thd e e  a ae vee thththe e n e  t ts e  te e  tthe nde e e e s e e e ndt e d e e thd e nde e e e e  te t e  on the e e  thet e e e  a te  tnde the e e e e the t e t e e e t e s e  te e e e e e e e e n e one on\n",
      "Validation set perplexity: 152.62\n"
     ]
    },
    {
     "name": "stdout",
     "output_type": "stream",
     "text": [
      "Average loss at step 200: 5.126041 learning rate: 10.000000\n",
      "Minibatch perplexity: 157.20\n",
      "bb:  anarchism originated as a term of abuse first used against early working class radicals including the diggers of the english revolution and the sans culottes of the french revolution whilst the term is still used in a pejorative way to describe any act that used violent means to destroy the organization of society it has also been taken up as a positive label by self defined anarchists the word anarchism is derived from the greek without archons ruler chief king anarchism as a political philosophy is the belief that rulers are unnecessary and should be abolished although there are differing interpretations of what this means anarchism also refers to related social movements that advocate the elimination of authoritarian institutions particularly the state the word anarchy as most anarchists use it does not imply chaos nihilism or anomie but rather a harmonious anti authoritarian society in place of what are regarded as authoritarian political structures and coercive economic instituti anarchism originated as a term of abuse first used against early working class radicals including the diggers of the english revolution and the sans culottes of the french revolution whilst the term is still used in a pejorative way to describe any act that used violent means to destroy the organization of society it has also been taken up as a positive label by self defined anarchists the word anarchism is derived from the greek without archons ruler chief king anarchism as a political philosophy is the belief that rulers are unnecessary and should be abolished although there are differing interpretations of what this means anarchism also refers to related social movements that advocate the elimination of authoritarian institutions particularly the state the word anarchy as most anarchists use it does not imply chaos nihilism or anomie but rather a harmonious anti authoritarian society in place of what are regarded as authoritarian political structures and coercive economic instituti\n",
      "ss: nde e s s f e e e  ae s ndheo e  tnde veore the vee e e e e tie the  te e t t ththngvee t e inhee he te ththe f e e tht ve tthe t thone nde he te d e the ththf e e the t e e en te  te e e e he theo e  te one e vee g  troe e e e ths e  te  ts hethd e ththe e e vee tht e ths d th te  to e he tf e d e e n th te ene tht e t e  a te e ththane e nde the thon tine e ththvee e ong e nde e s e the the  ande e s s s th ae  te e  the s te the e  te nde  te e e  aths e  t te d e e  tths s er te h  troe e  te th the te e  te e e e e  athe th ae  te e e d e thghe e the e  t se  ae e  the se nde e th as e t th ae  te n e f e e e he te  td thd e e  tthe  tthon tth tthe e  te t e e en t te the e nde t e the the  tg e  te  tnde  tnee  te t e one one thonthh the e he te in the se e thd e e ths  ae thd e e  t te ves thththine t e  tont e ine e  tthe nde e the the e e nde e e neththd thnde  tnee  te e ene  tt the e th te t e e the  te  tndthnee e e e e the  tth te e e e e  tnde one e e the e  t tt e one onndthe s s f e e e  ae s ndheo e  tnde veore the vee e e e e tie the  te e t t ththngvee t e inhee he te ththe f e e tht ve tthe t thone nde he te d e the ththf e e the t e e en te  te e e e he theo e  te one e vee g  troe e e e ths e  te  ts hethd e ththe e e vee tht e ths d th te  to e he tf e d e e n th te ene tht e t e  a te e ththane e nde the thon tine e ththvee e ong e nde e s e the the  ande e s s s th ae  te e  the s te the e  te nde  te e e  aths e  t te d e e  tths s er te h  troe e  te th the te e  te e e e e  athe th ae  te e e d e thghe e the e  t se  ae e  the se nde e th as e t th ae  te n e f e e e he te  td thd e e  tthe  tthon tth tthe e  te t e e en t te the e nde t e the the  tg e  te  tnde  tnee  te t e one one thonthh the e he te in the se e thd e e ths  ae thd e e  t te ves thththine t e  tont e ine e  tthe nde e the the e e nde e e neththd thnde  tnee  te e ene  tt the e th te t e e the  te  tndthnee e e e e the  tth te e e e e  tnde one e e the e  t tt e one on\n",
      "Validation set perplexity: 125.63\n",
      "Average loss at step 300: 4.968098 learning rate: 10.000000\n",
      "Minibatch perplexity: 128.09\n",
      "bb:  anarchism originated as a term of abuse first used against early working class radicals including the diggers of the english revolution and the sans culottes of the french revolution whilst the term is still used in a pejorative way to describe any act that used violent means to destroy the organization of society it has also been taken up as a positive label by self defined anarchists the word anarchism is derived from the greek without archons ruler chief king anarchism as a political philosophy is the belief that rulers are unnecessary and should be abolished although there are differing interpretations of what this means anarchism also refers to related social movements that advocate the elimination of authoritarian institutions particularly the state the word anarchy as most anarchists use it does not imply chaos nihilism or anomie but rather a harmonious anti authoritarian society in place of what are regarded as authoritarian political structures and coercive economic instituti anarchism originated as a term of abuse first used against early working class radicals including the diggers of the english revolution and the sans culottes of the french revolution whilst the term is still used in a pejorative way to describe any act that used violent means to destroy the organization of society it has also been taken up as a positive label by self defined anarchists the word anarchism is derived from the greek without archons ruler chief king anarchism as a political philosophy is the belief that rulers are unnecessary and should be abolished although there are differing interpretations of what this means anarchism also refers to related social movements that advocate the elimination of authoritarian institutions particularly the state the word anarchy as most anarchists use it does not imply chaos nihilism or anomie but rather a harmonious anti authoritarian society in place of what are regarded as authoritarian political structures and coercive economic instituti\n",
      "ss: nde e s s f e e e d e  tndheo e  tnde veore e e vee e e e ththe th te e e er tththngd e n e inone he se thnee f e e niinine the d onone nde he se d thine the f e e nie e ine enere n the e e he sheo e  te one e vee g ndroe e e e nis e  te e ere nid e e the e e vee inine thn d th te e ere he sf e d e ion th te t e  tn tht th tn e d thneththe ndthe e onononine e e thvee e ong  tnde e s e the ni ternde e s e n thd can e e  the sone inere  te nde  te e e o omd on tg e d e  t tth tndroere e  tro te one th the se e d e e e e e o the thd e  se e e d e thd e e nie t  tr e  te e t he se nde e  tone e n e o e erion e f e e iohen thntd thd e  t tth tn e ono th te e io te t e e d s  oerthe e nde t e nie nie e g e n e  tnde  tt inngd n e one one thine ale e e he se ner he se e e d e  tth tare thd e  t t te ven th tinine n e e omt e ine e  tthe ndththnie the e e nde e e nenethd onnde  tt inngd e t e  tn the e ni te t e e ine rie  tndthnee e e e e the d thd e e s e e e nde ome e e nie e e e n e one onnde e s e f e e e d e  tndheo e  tnde veore e e vee e e e ththe th te e e er tththngd e n e inone he se thnee f e e niinine the d onone nde he se d thine the f e e nie e ine enere n the e e he sheo e  te one e vee g ndroe e e e nis e  te e ere nid e e the e e vee inine thn d th te e ere he sf e d e ion th te t e  tn tht th tn e d thneththe ndthe e onononine e e thvee e ong  tnde e s e the ni ternde e s e n thd can e e  the sone inere  te nde  te e e o omd on tg e d e  t tth tndroere e  tro te one th the se e d e e e e e o the thd e  se e e d e thd e e nie t  tr e  te e t he se nde e  tone e n e o e erion e f e e iohen thntd thd e  t tth tn e ono th te e io te t e e d s  oerthe e nde t e nie nie e g e n e  tnde  tt inngd n e one one thine ale e e he se ner he se e e d e  tth tare thd e  t t te ven th tinine n e e omt e ine e  tthe ndththnie the e e nde e e nenethd onnde  tt inngd e t e  tn the e ni te t e e ine rie  tndthnee e e e e the d thd e e s e e e nde ome e e nie e e e n e one on\n",
      "Validation set perplexity: 118.23\n"
     ]
    },
    {
     "name": "stdout",
     "output_type": "stream",
     "text": [
      "Average loss at step 400: 4.837997 learning rate: 10.000000\n",
      "Minibatch perplexity: 123.07\n",
      "bb:  anarchism originated as a term of abuse first used against early working class radicals including the diggers of the english revolution and the sans culottes of the french revolution whilst the term is still used in a pejorative way to describe any act that used violent means to destroy the organization of society it has also been taken up as a positive label by self defined anarchists the word anarchism is derived from the greek without archons ruler chief king anarchism as a political philosophy is the belief that rulers are unnecessary and should be abolished although there are differing interpretations of what this means anarchism also refers to related social movements that advocate the elimination of authoritarian institutions particularly the state the word anarchy as most anarchists use it does not imply chaos nihilism or anomie but rather a harmonious anti authoritarian society in place of what are regarded as authoritarian political structures and coercive economic instituti anarchism originated as a term of abuse first used against early working class radicals including the diggers of the english revolution and the sans culottes of the french revolution whilst the term is still used in a pejorative way to describe any act that used violent means to destroy the organization of society it has also been taken up as a positive label by self defined anarchists the word anarchism is derived from the greek without archons ruler chief king anarchism as a political philosophy is the belief that rulers are unnecessary and should be abolished although there are differing interpretations of what this means anarchism also refers to related social movements that advocate the elimination of authoritarian institutions particularly the state the word anarchy as most anarchists use it does not imply chaos nihilism or anomie but rather a harmonious anti authoritarian society in place of what are regarded as authoritarian political structures and coercive economic instituti\n",
      "ss: nde e s e f e e s d e  tndheo e  tnde veore e  tvee e e e ths e th ts g e on tththonn e n e  tone he pe thnee f e e tht er tthe t n one nde he pe d thine s e f e e ththt e erenere n the e e he pheo e  tevone  tvee g s roe e e e ths th te e s e thd e e the e e vee inin tthn d th te e ere he pf e d e e n th tevont thn tht th tn e  othblththe ndthththx ons e e e e thvee e eng  tnde e s e the th a onde e s e n thn s n e the he ps s s ere  te nde  te ere o oms th og e d  te  tth tndros e th tars e mee th the pe e s e e e ere o the ths e s e e thd e ths e e the t e r e  te s t he pe nde e  as e e n tho e e e n e f e e e hes thn d thd e e  tth tn erors th terthe  tevane e ven s e the e nde one the the  tg e n th tnde  ts teond n thone one thmee the e thhe pe enr he pe e thd  te th tane thd  te  t te ven th te ine n e  toms e in te  tthe nds e the the e e nde e n nes thd onnde n s teond e ons thn the e th tert the the s e  tndths e e e e e thths ons e e s e e e nd tome e e the e e e n e one ons e e s e f e e s d e  tndheo e  tnde veore e  tvee e e e ths e th ts g e on tththonn e n e  tone he pe thnee f e e tht er tthe t n one nde he pe d thine s e f e e ththt e erenere n the e e he pheo e  tevone  tvee g s roe e e e ths th te e s e thd e e the e e vee inin tthn d th te e ere he pf e d e e n th tevont thn tht th tn e  othblththe ndthththx ons e e e e thvee e eng  tnde e s e the th a onde e s e n thn s n e the he ps s s ere  te nde  te ere o oms th og e d  te  tth tndros e th tars e mee th the pe e s e e e ere o the ths e s e e thd e ths e e the t e r e  te s t he pe nde e  as e e n tho e e e n e f e e e hes thn d thd e e  tth tn erors th terthe  tevane e ven s e the e nde one the the  tg e n th tnde  ts teond n thone one thmee the e thhe pe enr he pe e thd  te th tane thd  te  t te ven th te ine n e  toms e in te  tthe nds e the the e e nde e n nes thd onnde n s teond e ons thn the e th tert the the s e  tndths e e e e e thths ons e e s e e e nd tome e e the e e e n e one on\n",
      "Validation set perplexity: 108.42\n",
      "Average loss at step 500: 4.812450 learning rate: 10.000000\n",
      "Minibatch perplexity: 124.36\n",
      "bb:  anarchism originated as a term of abuse first used against early working class radicals including the diggers of the english revolution and the sans culottes of the french revolution whilst the term is still used in a pejorative way to describe any act that used violent means to destroy the organization of society it has also been taken up as a positive label by self defined anarchists the word anarchism is derived from the greek without archons ruler chief king anarchism as a political philosophy is the belief that rulers are unnecessary and should be abolished although there are differing interpretations of what this means anarchism also refers to related social movements that advocate the elimination of authoritarian institutions particularly the state the word anarchy as most anarchists use it does not imply chaos nihilism or anomie but rather a harmonious anti authoritarian society in place of what are regarded as authoritarian political structures and coercive economic instituti anarchism originated as a term of abuse first used against early working class radicals including the diggers of the english revolution and the sans culottes of the french revolution whilst the term is still used in a pejorative way to describe any act that used violent means to destroy the organization of society it has also been taken up as a positive label by self defined anarchists the word anarchism is derived from the greek without archons ruler chief king anarchism as a political philosophy is the belief that rulers are unnecessary and should be abolished although there are differing interpretations of what this means anarchism also refers to related social movements that advocate the elimination of authoritarian institutions particularly the state the word anarchy as most anarchists use it does not imply chaos nihilism or anomie but rather a harmonious anti authoritarian society in place of what are regarded as authoritarian political structures and coercive economic instituti\n",
      "ss: nde  as e f s e  td th tndheo e  tnde veive e e vethe e e thr e th s ag e er tthe reste n e  aone he se the e f e e tht er tthe n  aone nd the sind thste th af e e ththt e inenine n the e e he sheo e  tinone e vethg ndroe e ioe ths th ae  a thethd e e the ioe vethintie thn d th te  aice he sf e d e ion th tinond e n tht th tn e d thte tthe ndthe thx onn the e e thvee e rog  tnde  as e the thrkernde  as e n thd d n ththe he srae erhee nee nde nee ine  aonste ing e d e e  tth tndros e e  tar te nge th the se e d e e ioine  athe ththe  te e thd the vee e the d e  sth te r t he se nde e  ar e e n e  ae e ion e f e e iohes thn d thd e e  tth tn e anerth tine io tinone e d n n e the ionde one the the e g e n th tnde neteinngd n e one one thste e e e e he sinted he se e thd e e th tine thd e e  t te ven th s tine n e e oms e ine e  tthe nds e the the e e nde e d neghthd onnde neteinngd inond e n the e th te t the thd vee  tndthnee e e e e the stonnge e s e e  tnd tone e e the e e e n e one ons the s e f s e  td th tndheo e  tnde veive e e vethe e e thr e th s ag e er tthe reste n e  aone he se the e f e e tht er tthe n  aone nd the sind thste th af e e ththt e inenine n the e e he sheo e  tinone e vethg ndroe e ioe ths th ae  a thethd e e the ioe vethintie thn d th te  aice he sf e d e ion th tinond e n tht th tn e d thte tthe ndthe thx onn the e e thvee e rog  tnde  as e the thrkernde  as e n thd d n ththe he srae erhee nee nde nee ine  aonste ing e d e e  tth tndros e e  tar te nge th the se e d e e ioine  athe ththe  te e thd the vee e the d e  sth te r t he se nde e  ar e e n e  ae e ion e f e e iohes thn d thd e e  tth tn e anerth tine io tinone e d n n e the ionde one the the e g e n th tnde neteinngd n e one one thste e e e e he sinted he se e thd e e th tine thd e e  t te ven th s tine n e e oms e ine e  tthe nds e the the e e nde e d neghthd onnde neteinngd inond e n the e th te t the thd vee  tndthnee e e e e the stonnge e s e e  tnd tone e e the e e e n e one on\n",
      "Validation set perplexity: 97.42\n"
     ]
    },
    {
     "name": "stdout",
     "output_type": "stream",
     "text": [
      "Average loss at step 600: 4.681373 learning rate: 10.000000\n",
      "Minibatch perplexity: 107.66\n",
      "bb:  anarchism originated as a term of abuse first used against early working class radicals including the diggers of the english revolution and the sans culottes of the french revolution whilst the term is still used in a pejorative way to describe any act that used violent means to destroy the organization of society it has also been taken up as a positive label by self defined anarchists the word anarchism is derived from the greek without archons ruler chief king anarchism as a political philosophy is the belief that rulers are unnecessary and should be abolished although there are differing interpretations of what this means anarchism also refers to related social movements that advocate the elimination of authoritarian institutions particularly the state the word anarchy as most anarchists use it does not imply chaos nihilism or anomie but rather a harmonious anti authoritarian society in place of what are regarded as authoritarian political structures and coercive economic instituti anarchism originated as a term of abuse first used against early working class radicals including the diggers of the english revolution and the sans culottes of the french revolution whilst the term is still used in a pejorative way to describe any act that used violent means to destroy the organization of society it has also been taken up as a positive label by self defined anarchists the word anarchism is derived from the greek without archons ruler chief king anarchism as a political philosophy is the belief that rulers are unnecessary and should be abolished although there are differing interpretations of what this means anarchism also refers to related social movements that advocate the elimination of authoritarian institutions particularly the state the word anarchy as most anarchists use it does not imply chaos nihilism or anomie but rather a harmonious anti authoritarian society in place of what are regarded as authoritarian political structures and coercive economic instituti\n",
      "ss: nde e s e f ine s d th tndheo th tnde veou te  tvethe  t tththe th z tg thas tth tngn e n e  tone he te htne tf the tht  t tthe d n one nd the tind thste  t tf the thomt e erene e n the e e he theo th tevon t tvethg ndroe e ioe ths th te  t thethd the the ioe vethine  tthntd th te  ter the tf  td e ion th tevond e n tht th ts e  athte tth tndthe thx onn ine e e thvee e rog  tnde e s e the th s tnde e s e n thntngn thome he tar t tase nee nde ne tere  tonon ting thd  t t tth tndro te e  tro t ts e th the te e d the ioere  tthe the e  te e thd th tr e e ths e  tr th te r t he t tnd te  tr  te n e s e  tion e f the iohes thnt tthd  t t tth ts erer tth tele io tinon te nts nte the iond tone the the e g e n th tnde neveinngd n e one one thrte e  te  the tinter he tas tthd  t tth tare thd  t t t t tves th s tine n th tomt e in te  tthe nde e th tth te e ndise ntneghthd onnde neveinngd evond e n the e th tast the the ve t tndththe e e e  tththononone e e e e  tnd tom te e the e e e n e one onnde e s e f ine s d th tndheo th tnde veou te  tvethe  t tththe th z tg thas tth tngn e n e  tone he te htne tf the tht  t tthe d n one nd the tind thste  t tf the thomt e erene e n the e e he theo th tevon t tvethg ndroe e ioe ths th te  t thethd the the ioe vethine  tthntd th te  ter the tf  td e ion th tevond e n tht th ts e  athte tth tndthe thx onn ine e e thvee e rog  tnde e s e the th s tnde e s e n thntngn thome he tar t tase nee nde ne tere  tonon ting thd  t t tth tndro te e  tro t ts e th the te e d the ioere  tthe the e  te e thd th tr e e ths e  tr th te r t he t tnd te  tr  te n e s e  tion e f the iohes thnt tthd  t t tth ts erer tth tele io tinon te nts nte the iond tone the the e g e n th tnde neveinngd n e one one thrte e  te  the tinter he tas tthd  t tth tare thd  t t t t tves th s tine n th tomt e in te  tthe nde e th tth te e ndise ntneghthd onnde neveinngd evond e n the e th tast the the ve t tndththe e e e  tththononone e e e e  tnd tom te e the e e e n e one on\n",
      "Validation set perplexity: 88.25\n",
      "Average loss at step 700: 4.610272 learning rate: 10.000000\n",
      "Minibatch perplexity: 100.49\n",
      "bb:  anarchism originated as a term of abuse first used against early working class radicals including the diggers of the english revolution and the sans culottes of the french revolution whilst the term is still used in a pejorative way to describe any act that used violent means to destroy the organization of society it has also been taken up as a positive label by self defined anarchists the word anarchism is derived from the greek without archons ruler chief king anarchism as a political philosophy is the belief that rulers are unnecessary and should be abolished although there are differing interpretations of what this means anarchism also refers to related social movements that advocate the elimination of authoritarian institutions particularly the state the word anarchy as most anarchists use it does not imply chaos nihilism or anomie but rather a harmonious anti authoritarian society in place of what are regarded as authoritarian political structures and coercive economic instituti anarchism originated as a term of abuse first used against early working class radicals including the diggers of the english revolution and the sans culottes of the french revolution whilst the term is still used in a pejorative way to describe any act that used violent means to destroy the organization of society it has also been taken up as a positive label by self defined anarchists the word anarchism is derived from the greek without archons ruler chief king anarchism as a political philosophy is the belief that rulers are unnecessary and should be abolished although there are differing interpretations of what this means anarchism also refers to related social movements that advocate the elimination of authoritarian institutions particularly the state the word anarchy as most anarchists use it does not imply chaos nihilism or anomie but rather a harmonious anti authoritarian society in place of what are regarded as authoritarian political structures and coercive economic instituti\n",
      "ss: nde e s e f  te tir th tndheo th tnd tveiv te e vethe  te thr  tthrk tg ther tth tnglle n e intie he le ht te f the tht  t tthe t inone nd the lind thvee s  tf the thomt e eaene e n tho  te he lheo th tevon te vethg ndroe e e e ths th te  terhethd the the e e vethins t thntd th te  tere he lf e d e e n th tine s e n tht th tvee  tthtir th tndthe thx on tane e e thvee errog  tnde e s e the thrk tnde e s e n ths ven thome he lan tanite t e nde t e eae s oms  tang thd  t t tth tndro te  t tros  tmee th the le e s the e ele s the thy e  ae  tthd th tr e e ths s  t ath te t t he l tnd ter tr  te n e o e  te n  tf tho iohes thntd thd  t t tth t iorers th tele e  tine  tthve tnte the e nd te e the the  tg e n th tnde t vetived n e on tone thrte  te  t the lintir he lite thd  t tth tane thd  t t t t tven thth tine n th tomt e in te  tthe nde inthe th te e nde  tvevef thd onnde t vetived ine s e n the e th titt the the ve t tndthf e e e  t tththveonvee e e e e  tnd tom te e the e e  tn e on tonnd te s e f  te tir th tndheo th tnd tveiv te e vethe  te thr  tthrk tg ther tth tnglle n e intie he le ht te f the tht  t tthe t inone nd the lind thvee s  tf the thomt e eaene e n tho  te he lheo th tevon te vethg ndroe e e e ths th te  terhethd the the e e vethins t thntd th te  tere he lf e d e e n th tine s e n tht th tvee  tthtir th tndthe thx on tane e e thvee errog  tnde e s e the thrk tnde e s e n ths ven thome he lan tanite t e nde t e eae s oms  tang thd  t t tth tndro te  t tros  tmee th the le e s the e ele s the thy e  ae  tthd th tr e e ths s  t ath te t t he l tnd ter tr  te n e o e  te n  tf tho iohes thntd thd  t t tth t iorers th tele e  tine  tthve tnte the e nd te e the the  tg e n th tnde t vetived n e on tone thrte  te  t the lintir he lite thd  t tth tane thd  t t t t tven thth tine n th tomt e in te  tthe nde inthe th te e nde  tvevef thd onnde t vetived ine s e n the e th titt the the ve t tndthf e e e  t tththveonvee e e e e  tnd tom te e the e e  tn e on ton\n",
      "Validation set perplexity: 86.51\n"
     ]
    },
    {
     "name": "stdout",
     "output_type": "stream",
     "text": [
      "Average loss at step 800: 4.621061 learning rate: 10.000000\n",
      "Minibatch perplexity: 99.61\n",
      "bb:  anarchism originated as a term of abuse first used against early working class radicals including the diggers of the english revolution and the sans culottes of the french revolution whilst the term is still used in a pejorative way to describe any act that used violent means to destroy the organization of society it has also been taken up as a positive label by self defined anarchists the word anarchism is derived from the greek without archons ruler chief king anarchism as a political philosophy is the belief that rulers are unnecessary and should be abolished although there are differing interpretations of what this means anarchism also refers to related social movements that advocate the elimination of authoritarian institutions particularly the state the word anarchy as most anarchists use it does not imply chaos nihilism or anomie but rather a harmonious anti authoritarian society in place of what are regarded as authoritarian political structures and coercive economic instituti anarchism originated as a term of abuse first used against early working class radicals including the diggers of the english revolution and the sans culottes of the french revolution whilst the term is still used in a pejorative way to describe any act that used violent means to destroy the organization of society it has also been taken up as a positive label by self defined anarchists the word anarchism is derived from the greek without archons ruler chief king anarchism as a political philosophy is the belief that rulers are unnecessary and should be abolished although there are differing interpretations of what this means anarchism also refers to related social movements that advocate the elimination of authoritarian institutions particularly the state the word anarchy as most anarchists use it does not imply chaos nihilism or anomie but rather a harmonious anti authoritarian society in place of what are regarded as authoritarian political structures and coercive economic instituti\n",
      "ss: nde e s e f s e s d th tndheo th tnde veore e e d the  t tths  tthrke g ther tths ngs e n e innge he ce ht te f the tht er tthe t thone nd she ptad thvee  t tf the thomt e egele  tnstho e e he cheo th tixone e d th androe e ioe ths th aer te hethd the the ioe d the e t thntd th aer tere he pf  td e ionsth ttaons e n tht th ts e d thngs th tndthe thx on aone e e thvee ererg  ande e s e the thrkernde e s e n thntngn thome he croe s ite t e nde ug tege s ons  ting thd  te  tth tndroe e e  tros e n e th the ce e s the ioele s the the e d e e thd the t e e ths s  tr th te r t he p tnd ter ts s e n e s e e ions tf tho iohes thntd thd  te  tth ts orer tth aele io tevone thsts nte the ionde e iothe the e g ionsth tnde ugs s ngd n e one one thrte e e e  the ctangd he pite thd  te th tore thd  te  t te ven thth tine n er tont e ine e  tthe nds e tht ths e e ndore sts r thd onnde ugs s ngd tae s e n the e th titt the the vee  andththe e e e  tths shonl the e e e  tnd sone e e the e e e n e one onnds e s e f s e s d th tndheo th tnde veore e e d the  t tths  tthrke g ther tths ngs e n e innge he ce ht te f the tht er tthe t thone nd she ptad thvee  t tf the thomt e egele  tnstho e e he cheo th tixone e d th androe e ioe ths th aer te hethd the the ioe d the e t thntd th aer tere he pf  td e ionsth ttaons e n tht th ts e d thngs th tndthe thx on aone e e thvee ererg  ande e s e the thrkernde e s e n thntngn thome he croe s ite t e nde ug tege s ons  ting thd  te  tth tndroe e e  tros e n e th the ce e s the ioele s the the e d e e thd the t e e ths s  tr th te r t he p tnd ter ts s e n e s e e ions tf tho iohes thntd thd  te  tth ts orer tth aele io tevone thsts nte the ionde e iothe the e g ionsth tnde ugs s ngd n e one one thrte e e e  the ctangd he pite thd  te th tore thd  te  t te ven thth tine n er tont e ine e  tthe nds e tht ths e e ndore sts r thd onnde ugs s ngd tae s e n the e th titt the the vee  andththe e e e  tths shonl the e e e  tnd sone e e the e e e n e one on\n",
      "Validation set perplexity: 79.04\n",
      "Average loss at step 900: 4.525033 learning rate: 10.000000\n",
      "Minibatch perplexity: 80.24\n",
      "bb:  anarchism originated as a term of abuse first used against early working class radicals including the diggers of the english revolution and the sans culottes of the french revolution whilst the term is still used in a pejorative way to describe any act that used violent means to destroy the organization of society it has also been taken up as a positive label by self defined anarchists the word anarchism is derived from the greek without archons ruler chief king anarchism as a political philosophy is the belief that rulers are unnecessary and should be abolished although there are differing interpretations of what this means anarchism also refers to related social movements that advocate the elimination of authoritarian institutions particularly the state the word anarchy as most anarchists use it does not imply chaos nihilism or anomie but rather a harmonious anti authoritarian society in place of what are regarded as authoritarian political structures and coercive economic instituti anarchism originated as a term of abuse first used against early working class radicals including the diggers of the english revolution and the sans culottes of the french revolution whilst the term is still used in a pejorative way to describe any act that used violent means to destroy the organization of society it has also been taken up as a positive label by self defined anarchists the word anarchism is derived from the greek without archons ruler chief king anarchism as a political philosophy is the belief that rulers are unnecessary and should be abolished although there are differing interpretations of what this means anarchism also refers to related social movements that advocate the elimination of authoritarian institutions particularly the state the word anarchy as most anarchists use it does not imply chaos nihilism or anomie but rather a harmonious anti authoritarian society in place of what are regarded as authoritarian political structures and coercive economic instituti\n",
      "ss: nd t ts  tnes  ts d th tndheo th tnd tveor t tthvethe s e thve tthrke g ther tths ngnd tn  tinng the ferht te nethe tht  t tthe t e one nd the fixd thll t t tnethe thomt  tegen te n tho  t the fheo th tixon tthveth tndro t tioe ths th ter te hethd th tthe iothd thinint thntd th ter ter the fne td  tion th tixons  tn thveth tn e d thtes th tndththinx on tan t te thve terer t tnd t ts  tthe thrk tnd t ts  tn thd ven thome he fam ts ite nee nd tnee eg t tonte ting thd  t t tth tndro te h  troch tme tth the fe  ts the ioeg ts the the  t te e thd th tr  te the s  tr th te r t he f tnd ter tr s  tn ers e  tion  tnetho iohes thntd thd  t t tth tn eses tth tes tio tixon tthve tnterthe iond toniothe th t tg ion th tnde nevetived n e on tone thrt th  te  the fixter he for tthd  t tth tan tthd  t t t t tven th t tin tn er tomnd tin t t tth tnds e th tths e e ndere vengndthd onnde nevetived ixons  tn the  tth titt the the ve t tndththe  te e  tthintyonl th te e  t tnd ton t te the e e  tn e on tonnds  ts  tnes  ts d th tndheo th tnd tveor t tthvethe s e thve tthrke g ther tths ngnd tn  tinng the ferht te nethe tht  t tthe t e one nd the fixd thll t t tnethe thomt  tegen te n tho  t the fheo th tixon tthveth tndro t tioe ths th ter te hethd th tthe iothd thinint thntd th ter ter the fne td  tion th tixons  tn thveth tn e d thtes th tndththinx on tan t te thve terer t tnd t ts  tthe thrk tnd t ts  tn thd ven thome he fam ts ite nee nd tnee eg t tonte ting thd  t t tth tndro te h  troch tme tth the fe  ts the ioeg ts the the  t te e thd th tr  te the s  tr th te r t he f tnd ter tr s  tn ers e  tion  tnetho iohes thntd thd  t t tth tn eses tth tes tio tixon tthve tnterthe iond toniothe th t tg ion th tnde nevetived n e on tone thrt th  te  the fixter he for tthd  t tth tan tthd  t t t t tven th t tin tn er tomnd tin t t tth tnds e th tths e e ndere vengndthd onnde nevetived ixons  tn the  tth titt the the ve t tndththe  te e  tthintyonl th te e  t tnd ton t te the e e  tn e on ton\n",
      "Validation set perplexity: 78.92\n"
     ]
    },
    {
     "name": "stdout",
     "output_type": "stream",
     "text": [
      "Average loss at step 1000: 4.483238 learning rate: 10.000000\n",
      "Minibatch perplexity: 96.30\n",
      "bb:  anarchism originated as a term of abuse first used against early working class radicals including the diggers of the english revolution and the sans culottes of the french revolution whilst the term is still used in a pejorative way to describe any act that used violent means to destroy the organization of society it has also been taken up as a positive label by self defined anarchists the word anarchism is derived from the greek without archons ruler chief king anarchism as a political philosophy is the belief that rulers are unnecessary and should be abolished although there are differing interpretations of what this means anarchism also refers to related social movements that advocate the elimination of authoritarian institutions particularly the state the word anarchy as most anarchists use it does not imply chaos nihilism or anomie but rather a harmonious anti authoritarian society in place of what are regarded as authoritarian political structures and coercive economic instituti anarchism originated as a term of abuse first used against early working class radicals including the diggers of the english revolution and the sans culottes of the french revolution whilst the term is still used in a pejorative way to describe any act that used violent means to destroy the organization of society it has also been taken up as a positive label by self defined anarchists the word anarchism is derived from the greek without archons ruler chief king anarchism as a political philosophy is the belief that rulers are unnecessary and should be abolished although there are differing interpretations of what this means anarchism also refers to related social movements that advocate the elimination of authoritarian institutions particularly the state the word anarchy as most anarchists use it does not imply chaos nihilism or anomie but rather a harmonious anti authoritarian society in place of what are regarded as authoritarian political structures and coercive economic instituti\n",
      "ss: nds e s e f s e  ad th andheo th tnde d or te  td the s e ths  tthrke g thud aths ngnge n e e ng the te ht ae f the tht  a tthcot thone nd the tind thrr t t tf the thomt e ecenine n tho e e he theo th tixon te d thg ndroe e e e ths th te  te erthd the the e thd thinint thntd th te  tine he tf e d e e n th tixons  tn tht th tn e d thngs th andththinx on tin te e thd e e erg  tnds e s e the thrk tnds e s e n thd ngn thome he tous s ite nee nde nee ece s ons e ing thd e  t tth andro te h  tros s n e th the te e s the e ece s the the e  ae e thd the r e e the d  tr th te r t he t tnd ae  tres e n e s e e e n  tf tho e hes thntd thd e  t tth tn eae  tth tece e  tixe n thde tnterthe e nde e e the the e g e n th tnde nengs ngd n e on tone thrte e e e  the tinted he tase thd e  tth aare thd e  t t t td n ths  aine n er sonn e in te  tthe nds inth aths e e ndise dengr thd onnde nengs ngd ixons  tn the e th titt the thcors t tndththe e e e l thinveonl the e e e  tnd ton te e the e e e n e on tonnds e s e f s e  ad th andheo th tnde d or te  td the s e ths  tthrke g thud aths ngnge n e e ng the te ht ae f the tht  a tthcot thone nd the tind thrr t t tf the thomt e ecenine n tho e e he theo th tixon te d thg ndroe e e e ths th te  te erthd the the e thd thinint thntd th te  tine he tf e d e e n th tixons  tn tht th tn e d thngs th andththinx on tin te e thd e e erg  tnds e s e the thrk tnds e s e n thd ngn thome he tous s ite nee nde nee ece s ons e ing thd e  t tth andro te h  tros s n e th the te e s the e ece s the the e  ae e thd the r e e the d  tr th te r t he t tnd ae  tres e n e s e e e n  tf tho e hes thntd thd e  t tth tn eae  tth tece e  tixe n thde tnterthe e nde e e the the e g e n th tnde nengs ngd n e on tone thrte e e e  the tinted he tase thd e  tth aare thd e  t t t td n ths  aine n er sonn e in te  tthe nds inth aths e e ndise dengr thd onnde nengs ngd ixons  tn the e th titt the thcors t tndththe e e e l thinveonl the e e e  tnd ton te e the e e e n e on ton\n",
      "Validation set perplexity: 76.93\n",
      "Average loss at step 1100: 4.512683 learning rate: 10.000000\n",
      "Minibatch perplexity: 83.53\n",
      "bb:  anarchism originated as a term of abuse first used against early working class radicals including the diggers of the english revolution and the sans culottes of the french revolution whilst the term is still used in a pejorative way to describe any act that used violent means to destroy the organization of society it has also been taken up as a positive label by self defined anarchists the word anarchism is derived from the greek without archons ruler chief king anarchism as a political philosophy is the belief that rulers are unnecessary and should be abolished although there are differing interpretations of what this means anarchism also refers to related social movements that advocate the elimination of authoritarian institutions particularly the state the word anarchy as most anarchists use it does not imply chaos nihilism or anomie but rather a harmonious anti authoritarian society in place of what are regarded as authoritarian political structures and coercive economic instituti anarchism originated as a term of abuse first used against early working class radicals including the diggers of the english revolution and the sans culottes of the french revolution whilst the term is still used in a pejorative way to describe any act that used violent means to destroy the organization of society it has also been taken up as a positive label by self defined anarchists the word anarchism is derived from the greek without archons ruler chief king anarchism as a political philosophy is the belief that rulers are unnecessary and should be abolished although there are differing interpretations of what this means anarchism also refers to related social movements that advocate the elimination of authoritarian institutions particularly the state the word anarchy as most anarchists use it does not imply chaos nihilism or anomie but rather a harmonious anti authoritarian society in place of what are regarded as authoritarian political structures and coercive economic instituti\n",
      "ss: ndtie nde f ine tid th tndheo th tnde veive e thvethe n  tthst tthrke g thud tthn nglle n e  tng the se ht o tnethe tht er tthe r thone nd the sixd thst o t tf the thomt  aesene e n tho e e he sheo th tixon tthveth tndroe e e e ths th te  te hethd the the e thvethins t thntd th te  tere he snee d e e n th tixons  tn tht th a ae n thtid th tndthththx on tone e e thvee e erg  tndtie nde the thrk ondtie nde n thntngn thome he soue e ite nee nde ne tese  tonste ing thd e  a tth tndro ae h  aroch on e th the se e s the e ese  tthe the e  oe e thd the r e e the s  tr th ae r t he s tnd oe e rein tn e o e e e n  tnethe e hendthntd thd e  a tth a aesero th tese e  tixonn thst tnte the e nde one the the e g e n th tnde nengtived n  ton tone thrte h e e  ohe sixtid he site thd e  ath tone thd e  a t ts ven ths  tine n er oonnde in te  tthe ndt netht thn e o ndise sttir thd onnde nengtived ixons  tn the e th titt the thcome o tndththe e e e n ththshonl the e e e  tnd ton te e the e e e n  tone onndtie nde f ine tid th tndheo th tnde veive e thvethe n  tthst tthrke g thud tthn nglle n e  tng the se ht o tnethe tht er tthe r thone nd the sixd thst o t tf the thomt  aesene e n tho e e he sheo th tixon tthveth tndroe e e e ths th te  te hethd the the e thvethins t thntd th te  tere he snee d e e n th tixons  tn tht th a ae n thtid th tndthththx on tone e e thvee e erg  tndtie nde the thrk ondtie nde n thntngn thome he soue e ite nee nde ne tese  tonste ing thd e  a tth tndro ae h  aroch on e th the se e s the e ese  tthe the e  oe e thd the r e e the s  tr th ae r t he s tnd oe e rein tn e o e e e n  tnethe e hendthntd thd e  a tth a aesero th tese e  tixonn thst tnte the e nde one the the e g e n th tnde nengtived n  ton tone thrte h e e  ohe sixtid he site thd e  ath tone thd e  a t ts ven ths  tine n er oonnde in te  tthe ndt netht thn e o ndise sttir thd onnde nengtived ixons  tn the e th titt the thcome o tndththe e e e n ththshonl the e e e  tnd ton te e the e e e n  tone on\n",
      "Validation set perplexity: 73.65\n"
     ]
    },
    {
     "name": "stdout",
     "output_type": "stream",
     "text": [
      "Average loss at step 1200: 4.444152 learning rate: 10.000000\n",
      "Minibatch perplexity: 82.19\n",
      "bb:  anarchism originated as a term of abuse first used against early working class radicals including the diggers of the english revolution and the sans culottes of the french revolution whilst the term is still used in a pejorative way to describe any act that used violent means to destroy the organization of society it has also been taken up as a positive label by self defined anarchists the word anarchism is derived from the greek without archons ruler chief king anarchism as a political philosophy is the belief that rulers are unnecessary and should be abolished although there are differing interpretations of what this means anarchism also refers to related social movements that advocate the elimination of authoritarian institutions particularly the state the word anarchy as most anarchists use it does not imply chaos nihilism or anomie but rather a harmonious anti authoritarian society in place of what are regarded as authoritarian political structures and coercive economic instituti anarchism originated as a term of abuse first used against early working class radicals including the diggers of the english revolution and the sans culottes of the french revolution whilst the term is still used in a pejorative way to describe any act that used violent means to destroy the organization of society it has also been taken up as a positive label by self defined anarchists the word anarchism is derived from the greek without archons ruler chief king anarchism as a political philosophy is the belief that rulers are unnecessary and should be abolished although there are differing interpretations of what this means anarchism also refers to related social movements that advocate the elimination of authoritarian institutions particularly the state the word anarchy as most anarchists use it does not imply chaos nihilism or anomie but rather a harmonious anti authoritarian society in place of what are regarded as authoritarian political structures and coercive economic instituti\n",
      "ss: ndl e s e nenge l r th tndheo th tnde veore e thvethe s  tths e thrk tg thud tthl ngnge n e e ng the ce ht o tnethe tht e  othe reinon tnd the cixd thst o t anethe thomt  oeaen oe n tho e e he cheo th oixon tthvethg ndroe e ioe ths th te  ae hethd the the io ovethiny t thntd th te  ay e he cnee d e ion th tixe s  tn tht th o oe n thngs th ondthththx on tane e e thvee e erg  tndl e s e the thrk tndl e s e n thd ngn thome he core s ite nee nde ne teae s onste ing thd e  o oth tndros e h  orosts n e th ohe ce e s the ioeae s the the e s e e thd the r e e the s  o cth oe r t he c tnd te e r ng tn e s e e ion  tnetho iohes thntd thd e  o oth o oeae o th te e io tixe n thst tnte the ionde e iothe the e g ion th tnde nengtingd n  tons on tthrte h e e  ahe cixtir he cite thd e  oth tane thd e  o o tthven ths  aine n er tons e in te  othe nds n ths thl e e ndiss stngr thd onnde nengtingd ixe s  tn the e th titt the the ng t tndththe e e e n ththshonl the e e e  and tom te e the e e h n  tons onndl e s e nenge l r th tndheo th tnde veore e thvethe s  tths e thrk tg thud tthl ngnge n e e ng the ce ht o tnethe tht e  othe reinon tnd the cixd thst o t anethe thomt  oeaen oe n tho e e he cheo th oixon tthvethg ndroe e ioe ths th te  ae hethd the the io ovethiny t thntd th te  ay e he cnee d e ion th tixe s  tn tht th o oe n thngs th ondthththx on tane e e thvee e erg  tndl e s e the thrk tndl e s e n thd ngn thome he core s ite nee nde ne teae s onste ing thd e  o oth tndros e h  orosts n e th ohe ce e s the ioeae s the the e s e e thd the r e e the s  o cth oe r t he c tnd te e r ng tn e s e e ion  tnetho iohes thntd thd e  o oth o oeae o th te e io tixe n thst tnte the ionde e iothe the e g ion th tnde nengtingd n  tons on tthrte h e e  ahe cixtir he cite thd e  oth tane thd e  o o tthven ths  aine n er tons e in te  othe nds n ths thl e e ndiss stngr thd onnde nengtingd ixe s  tn the e th titt the the ng t tndththe e e e n ththshonl the e e e  and tom te e the e e h n  tons on\n",
      "Validation set perplexity: 67.86\n",
      "Average loss at step 1300: 4.438065 learning rate: 10.000000\n",
      "Minibatch perplexity: 89.79\n",
      "bb:  anarchism originated as a term of abuse first used against early working class radicals including the diggers of the english revolution and the sans culottes of the french revolution whilst the term is still used in a pejorative way to describe any act that used violent means to destroy the organization of society it has also been taken up as a positive label by self defined anarchists the word anarchism is derived from the greek without archons ruler chief king anarchism as a political philosophy is the belief that rulers are unnecessary and should be abolished although there are differing interpretations of what this means anarchism also refers to related social movements that advocate the elimination of authoritarian institutions particularly the state the word anarchy as most anarchists use it does not imply chaos nihilism or anomie but rather a harmonious anti authoritarian society in place of what are regarded as authoritarian political structures and coercive economic instituti anarchism originated as a term of abuse first used against early working class radicals including the diggers of the english revolution and the sans culottes of the french revolution whilst the term is still used in a pejorative way to describe any act that used violent means to destroy the organization of society it has also been taken up as a positive label by self defined anarchists the word anarchism is derived from the greek without archons ruler chief king anarchism as a political philosophy is the belief that rulers are unnecessary and should be abolished although there are differing interpretations of what this means anarchism also refers to related social movements that advocate the elimination of authoritarian institutions particularly the state the word anarchy as most anarchists use it does not imply chaos nihilism or anomie but rather a harmonious anti authoritarian society in place of what are regarded as authoritarian political structures and coercive economic instituti\n",
      "ss: ndtie s e f ngs tid th tndheo th tnd ad ore e d d the n  tths  tthn e g thud tthtingn  an e e ng the ferht a tf the tht e  tthcotethon tnd the fixd thsts  t tf the thomt  tecens e n tho e e he fheo th tixon td d th tndroe e ioe ths th ter terhethd the the iod d thins t ths d th ter ty e he ff e d e ion th tixy s  tn tht th tn e n thtes th tndthththx on tine e e thvee errog  tndtie s e the thn  tndtie s e n thd ngn thome he fro ts ith n e nde ne tece  aons e ing thd e er tth tndros h h  trochs n e th the fe e s the ioece  athe the e d e e thd the nd ae the s  tr th te ndt he f tnd oer areng tn er aese ion  tf tho iohes ths d thd e er tth tn ecors th tece io tixesn thst ts erthe ionds y iothe the e g ion th tnde n ngtengd s  ton ton tthrte h e e  the fixtid he fite thd e erth tare thd e er t tthd n ths  tine n th tont e in te  tthe ndn n tht thtie o ndiss stngr thd onnde n ngtengd ixy s  tn the e th titt the thcome t tndththe e h e n ththshonl the e e e  tnd tom te e the e e h n  ton tonndtie s e f ngs tid th tndheo th tnd ad ore e d d the n  tths  tthn e g thud tthtingn  an e e ng the ferht a tf the tht e  tthcotethon tnd the fixd thsts  t tf the thomt  tecens e n tho e e he fheo th tixon td d th tndroe e ioe ths th ter terhethd the the iod d thins t ths d th ter ty e he ff e d e ion th tixy s  tn tht th tn e n thtes th tndthththx on tine e e thvee errog  tndtie s e the thn  tndtie s e n thd ngn thome he fro ts ith n e nde ne tece  aons e ing thd e er tth tndros h h  trochs n e th the fe e s the ioece  athe the e d e e thd the nd ae the s  tr th te ndt he f tnd oer areng tn er aese ion  tf tho iohes ths d thd e er tth tn ecors th tece io tixesn thst ts erthe ionds y iothe the e g ion th tnde n ngtengd s  ton ton tthrte h e e  the fixtid he fite thd e erth tare thd e er t tthd n ths  tine n th tont e in te  tthe ndn n tht thtie o ndiss stngr thd onnde n ngtengd ixy s  tn the e th titt the thcome t tndththe e h e n ththshonl the e e e  tnd tom te e the e e h n  ton ton\n",
      "Validation set perplexity: 65.94\n"
     ]
    },
    {
     "name": "stdout",
     "output_type": "stream",
     "text": [
      "Average loss at step 1400: 4.424769 learning rate: 10.000000\n",
      "Minibatch perplexity: 76.31\n",
      "bb:  anarchism originated as a term of abuse first used against early working class radicals including the diggers of the english revolution and the sans culottes of the french revolution whilst the term is still used in a pejorative way to describe any act that used violent means to destroy the organization of society it has also been taken up as a positive label by self defined anarchists the word anarchism is derived from the greek without archons ruler chief king anarchism as a political philosophy is the belief that rulers are unnecessary and should be abolished although there are differing interpretations of what this means anarchism also refers to related social movements that advocate the elimination of authoritarian institutions particularly the state the word anarchy as most anarchists use it does not imply chaos nihilism or anomie but rather a harmonious anti authoritarian society in place of what are regarded as authoritarian political structures and coercive economic instituti anarchism originated as a term of abuse first used against early working class radicals including the diggers of the english revolution and the sans culottes of the french revolution whilst the term is still used in a pejorative way to describe any act that used violent means to destroy the organization of society it has also been taken up as a positive label by self defined anarchists the word anarchism is derived from the greek without archons ruler chief king anarchism as a political philosophy is the belief that rulers are unnecessary and should be abolished although there are differing interpretations of what this means anarchism also refers to related social movements that advocate the elimination of authoritarian institutions particularly the state the word anarchy as most anarchists use it does not imply chaos nihilism or anomie but rather a harmonious anti authoritarian society in place of what are regarded as authoritarian political structures and coercive economic instituti\n",
      "ss: ndti ts  tf tis l d th tndheo th tnd td or t tsed the n  tthr  tthrd tg thud tthl stl  tn e thng the serht t af the tht er athcomethon tnd the sixd thlts e  tf the thomt erecens  tn ther t the sheo th aixon tsed th tndro te ioe ths th ter te erthd th tthe iosed thris t thntd th ter tane he sf  td  tion th tixans  tn thvethso te n thted th tndthththx on tan t te thves ererg  tndti ts  tthe thnt tndti tch tn thd ng tthome he sro ts ity ne tnd tne tece s oncherang thd e er ath tndros y al trod s me tth ahe se  ts the ioece s the the  td e e thd th tgh te ths s  ar thsoe ght he s tnd tere reng tn ers es tion  tf theriohes thntd thd e er athso teaer tth tec tio tixy l thst td erthe iondere iothe th te g ion th tnd tnengtingd n  tons on tthrt tale e  ahe stated he site thd e erth tar tthd e er a tsed n ths  tin tn er aonnt tin t t athe ndt neoft thl e o ndiss rengr thd onnd tnengtingd ixans  tn the  tth titt the thcome t tndththe e y e n ththneonl th ts e e  tnd ton t te the e e aln  tons onndti tch tf tis l d th tndheo th tnd td or t tsed the n  tthr  tthrd tg thud tthl stl  tn e thng the serht t af the tht er athcomethon tnd the sixd thlts e  tf the thomt erecens  tn ther t the sheo th aixon tsed th tndro te ioe ths th ter te erthd th tthe iosed thris t thntd th ter tane he sf  td  tion th tixans  tn thvethso te n thted th tndthththx on tan t te thves ererg  tndti ts  tthe thnt tndti tch tn thd ng tthome he sro ts ity ne tnd tne tece s oncherang thd e er ath tndros y al trod s me tth ahe se  ts the ioece s the the  td e e thd th tgh te ths s  ar thsoe ght he s tnd tere reng tn ers es tion  tf theriohes thntd thd e er athso teaer tth tec tio tixy l thst td erthe iondere iothe th te g ion th tnd tnengtingd n  tons on tthrt tale e  ahe stated he site thd e erth tar tthd e er a tsed n ths  tin tn er aonnt tin t t athe ndt neoft thl e o ndiss rengr thd onnd tnengtingd ixans  tn the  tth titt the thcome t tndththe e y e n ththneonl th ts e e  tnd ton t te the e e aln  tons on\n",
      "Validation set perplexity: 61.34\n",
      "Average loss at step 1500: 4.398373 learning rate: 10.000000\n",
      "Minibatch perplexity: 88.52\n",
      "bb:  anarchism originated as a term of abuse first used against early working class radicals including the diggers of the english revolution and the sans culottes of the french revolution whilst the term is still used in a pejorative way to describe any act that used violent means to destroy the organization of society it has also been taken up as a positive label by self defined anarchists the word anarchism is derived from the greek without archons ruler chief king anarchism as a political philosophy is the belief that rulers are unnecessary and should be abolished although there are differing interpretations of what this means anarchism also refers to related social movements that advocate the elimination of authoritarian institutions particularly the state the word anarchy as most anarchists use it does not imply chaos nihilism or anomie but rather a harmonious anti authoritarian society in place of what are regarded as authoritarian political structures and coercive economic instituti anarchism originated as a term of abuse first used against early working class radicals including the diggers of the english revolution and the sans culottes of the french revolution whilst the term is still used in a pejorative way to describe any act that used violent means to destroy the organization of society it has also been taken up as a positive label by self defined anarchists the word anarchism is derived from the greek without archons ruler chief king anarchism as a political philosophy is the belief that rulers are unnecessary and should be abolished although there are differing interpretations of what this means anarchism also refers to related social movements that advocate the elimination of authoritarian institutions particularly the state the word anarchy as most anarchists use it does not imply chaos nihilism or anomie but rather a harmonious anti authoritarian society in place of what are regarded as authoritarian political structures and coercive economic instituti\n",
      "ss: ndl e s e f ths n r th tndheo th tnds veore e sed the n  athr  athn e g thud tthn ngl  an e thng the perhts  tf the tht er tthcomes on ond the pixd thn tie  af the thomt erecen a tn thice e he pheo th tixony sed th tndroe e ioe ths th ter ae erthd the the ios d thres t thntd th ter ay erhe pf erd e ion th tixe s  tn thndthson e n thted th tndthththx on tane ere thvee ererg  tndl e s e the thme tndl e s e n thd ngn thome he pord erith s e nde te aece  tonste ing thd e er tth tndros h h  tros tin e th the pe ers the ioece  tthe the  ad e e thd the nd te the d  tr thsoe r t he p tndd er areng tn er te e ion  af thiciohes thntd thd e er tthson ecero th tecerio tixe n thst tnterthe ionds e iothe thererg ion th tnde tengl ngd n  aons on othrte h e e  the pixter he pite thd e erth tose thd e er t tsed n ths  tine n er tonnde in te  tthe ndn s tht thl e o nde e stngr thd onnde tengtingd ixe s  tn the e th titt the thsime a tndththe e h e n ththshonl the s ere  and tons  ae the e e h n  aons onndl e s e f ths n r th tndheo th tnds veore e sed the n  athr  athn e g thud tthn ngl  an e thng the perhts  tf the tht er tthcomes on ond the pixd thn tie  af the thomt erecen a tn thice e he pheo th tixony sed th tndroe e ioe ths th ter ae erthd the the ios d thres t thntd th ter ay erhe pf erd e ion th tixe s  tn thndthson e n thted th tndthththx on tane ere thvee ererg  tndl e s e the thme tndl e s e n thd ngn thome he pord erith s e nde te aece  tonste ing thd e er tth tndros h h  tros tin e th the pe ers the ioece  tthe the  ad e e thd the nd te the d  tr thsoe r t he p tndd er areng tn er te e ion  af thiciohes thntd thd e er tthson ecero th tecerio tixe n thst tnterthe ionds e iothe thererg ion th tnde tengl ngd n  aons on othrte h e e  the pixter he pite thd e erth tose thd e er t tsed n ths  tine n er tonnde in te  tthe ndn s tht thl e o nde e stngr thd onnde tengtingd ixe s  tn the e th titt the thsime a tndththe e h e n ththshonl the s ere  and tons  ae the e e h n  aons on\n",
      "Validation set perplexity: 64.77\n"
     ]
    },
    {
     "name": "stdout",
     "output_type": "stream",
     "text": [
      "Average loss at step 1600: 4.349252 learning rate: 10.000000\n",
      "Minibatch perplexity: 76.36\n",
      "bb:  anarchism originated as a term of abuse first used against early working class radicals including the diggers of the english revolution and the sans culottes of the french revolution whilst the term is still used in a pejorative way to describe any act that used violent means to destroy the organization of society it has also been taken up as a positive label by self defined anarchists the word anarchism is derived from the greek without archons ruler chief king anarchism as a political philosophy is the belief that rulers are unnecessary and should be abolished although there are differing interpretations of what this means anarchism also refers to related social movements that advocate the elimination of authoritarian institutions particularly the state the word anarchy as most anarchists use it does not imply chaos nihilism or anomie but rather a harmonious anti authoritarian society in place of what are regarded as authoritarian political structures and coercive economic instituti anarchism originated as a term of abuse first used against early working class radicals including the diggers of the english revolution and the sans culottes of the french revolution whilst the term is still used in a pejorative way to describe any act that used violent means to destroy the organization of society it has also been taken up as a positive label by self defined anarchists the word anarchism is derived from the greek without archons ruler chief king anarchism as a political philosophy is the belief that rulers are unnecessary and should be abolished although there are differing interpretations of what this means anarchism also refers to related social movements that advocate the elimination of authoritarian institutions particularly the state the word anarchy as most anarchists use it does not imply chaos nihilism or anomie but rather a harmonious anti authoritarian society in place of what are regarded as authoritarian political structures and coercive economic instituti\n",
      "ss: ndl e s e f titil r th andheo th tnds d ore e sed the n  athr  tthrke g thud athl rel  ante thng the ferhtn  tf the tht er athcor inon tnd ahe fevd thr tie  af the thomt erecene  tn there e he fheo th aevon tsed th tndree  tioe ths th ter aererthd the the iosed than at thntd th ter ay e he ff  td e ion th tevins  antthvethso ae n thter the ndthththx on tine ere thve tererg  tndl e s e the thrk tndl e s e ntthd ti tthome he famd erash nee nde ne aece  aons e ing thd e er ath andre ay al tres ti ae th ahe fe ers the ioece  athe the  a ae e thd the r  ae the  a ar thsoe r t he f tnd tere reti anter aese ion  tf theriohes thntd thd e er athso aecero th tecinio tevonn thst tnterthe iond toniothe there g ion th tnd tnetitived nt tons on tthrte ale e  the fevter he fase thd e erth aose thd e er a tsed ntthr  aine nter tonvee in te  athe ndt n tht thl e o ndise rengr thd onnd tnetitived evons  antthe e th tast the thcome t tndththe e y e n ththveonl the t e e  and aon te e the e e aln  tons onndl e s e f titil r th andheo th tnds d ore e sed the n  athr  tthrke g thud athl rel  ante thng the ferhtn  tf the tht er athcor inon tnd ahe fevd thr tie  af the thomt erecene  tn there e he fheo th aevon tsed th tndree  tioe ths th ter aererthd the the iosed than at thntd th ter ay e he ff  td e ion th tevins  antthvethso ae n thter the ndthththx on tine ere thve tererg  tndl e s e the thrk tndl e s e ntthd ti tthome he famd erash nee nde ne aece  aons e ing thd e er ath andre ay al tres ti ae th ahe fe ers the ioece  athe the  a ae e thd the r  ae the  a ar thsoe r t he f tnd tere reti anter aese ion  tf theriohes thntd thd e er athso aecero th tecinio tevonn thst tnterthe iond toniothe there g ion th tnd tnetitived nt tons on tthrte ale e  the fevter he fase thd e erth aose thd e er a tsed ntthr  aine nter tonvee in te  athe ndt n tht thl e o ndise rengr thd onnd tnetitived evons  antthe e th tast the thcome t tndththe e y e n ththveonl the t e e  and aon te e the e e aln  tons on\n",
      "Validation set perplexity: 64.31\n",
      "Average loss at step 1700: 4.388027 learning rate: 10.000000\n",
      "Minibatch perplexity: 73.33\n",
      "bb:  anarchism originated as a term of abuse first used against early working class radicals including the diggers of the english revolution and the sans culottes of the french revolution whilst the term is still used in a pejorative way to describe any act that used violent means to destroy the organization of society it has also been taken up as a positive label by self defined anarchists the word anarchism is derived from the greek without archons ruler chief king anarchism as a political philosophy is the belief that rulers are unnecessary and should be abolished although there are differing interpretations of what this means anarchism also refers to related social movements that advocate the elimination of authoritarian institutions particularly the state the word anarchy as most anarchists use it does not imply chaos nihilism or anomie but rather a harmonious anti authoritarian society in place of what are regarded as authoritarian political structures and coercive economic instituti anarchism originated as a term of abuse first used against early working class radicals including the diggers of the english revolution and the sans culottes of the french revolution whilst the term is still used in a pejorative way to describe any act that used violent means to destroy the organization of society it has also been taken up as a positive label by self defined anarchists the word anarchism is derived from the greek without archons ruler chief king anarchism as a political philosophy is the belief that rulers are unnecessary and should be abolished although there are differing interpretations of what this means anarchism also refers to related social movements that advocate the elimination of authoritarian institutions particularly the state the word anarchy as most anarchists use it does not imply chaos nihilism or anomie but rather a harmonious anti authoritarian society in place of what are regarded as authoritarian political structures and coercive economic instituti\n",
      "ss: ndl e s e f ngs l r th tndheo th ts t d ore e s d the n  tths e thrke g thud tthl ngl e n e e ng the serht t tf the tht er tthcor  ton tnd the stad thlltie  tf the thomt ereaen te n thice e he sheo th ataon ts d th tndroe  aioe nis th ter te e nid the the ios d thre tt ths d th ter teae he sf  td e ion th ttae s  tn tht thsomee n thtes the ndthththngon tane e e thve terorg  ts l e s e the thrk tndl e s e n ths ngr thome he sam t tith nee nde ne teae s ons e ing thd e er tth tndros h h  tros s n e th ahe se e s the ioeae s the the  ts e e thd the r  te nie s  tr thsoe r t he s tnd tere reng tn ers ese ion  tf thiciohes ths d thd e er tthsomeeaors th teae io ttae n thst ts erthe iond te ionie the e g ion th ts e nengtingd n  tons on tthrte h e e  the stater he site thd e erth tane thd e er t ts d n ths  tine n er tonn e in te  tthe ndn venit thl e  tndise stngr thd ons e nengtingd taess  tn the e ni titt the thcome t ts ththe e h e n ththshonl the s e e  tnd ton te e nie e e h n  tons ons l e s e f ngs l r th tndheo th ts t d ore e s d the n  tths e thrke g thud tthl ngl e n e e ng the serht t tf the tht er tthcor  ton tnd the stad thlltie  tf the thomt ereaen te n thice e he sheo th ataon ts d th tndroe  aioe nis th ter te e nid the the ios d thre tt ths d th ter teae he sf  td e ion th ttae s  tn tht thsomee n thtes the ndthththngon tane e e thve terorg  ts l e s e the thrk tndl e s e n ths ngr thome he sam t tith nee nde ne teae s ons e ing thd e er tth tndros h h  tros s n e th ahe se e s the ioeae s the the  ts e e thd the r  te nie s  tr thsoe r t he s tnd tere reng tn ers ese ion  tf thiciohes ths d thd e er tthsomeeaors th teae io ttae n thst ts erthe iond te ionie the e g ion th ts e nengtingd n  tons on tthrte h e e  the stater he site thd e erth tane thd e er t ts d n ths  tine n er tonn e in te  tthe ndn venit thl e  tndise stngr thd ons e nengtingd taess  tn the e ni titt the thcome t ts ththe e h e n ththshonl the s e e  tnd ton te e nie e e h n  tons on\n",
      "Validation set perplexity: 64.36\n"
     ]
    },
    {
     "name": "stdout",
     "output_type": "stream",
     "text": [
      "Average loss at step 1800: 4.382850 learning rate: 10.000000\n",
      "Minibatch perplexity: 78.57\n",
      "bb:  anarchism originated as a term of abuse first used against early working class radicals including the diggers of the english revolution and the sans culottes of the french revolution whilst the term is still used in a pejorative way to describe any act that used violent means to destroy the organization of society it has also been taken up as a positive label by self defined anarchists the word anarchism is derived from the greek without archons ruler chief king anarchism as a political philosophy is the belief that rulers are unnecessary and should be abolished although there are differing interpretations of what this means anarchism also refers to related social movements that advocate the elimination of authoritarian institutions particularly the state the word anarchy as most anarchists use it does not imply chaos nihilism or anomie but rather a harmonious anti authoritarian society in place of what are regarded as authoritarian political structures and coercive economic instituti anarchism originated as a term of abuse first used against early working class radicals including the diggers of the english revolution and the sans culottes of the french revolution whilst the term is still used in a pejorative way to describe any act that used violent means to destroy the organization of society it has also been taken up as a positive label by self defined anarchists the word anarchism is derived from the greek without archons ruler chief king anarchism as a political philosophy is the belief that rulers are unnecessary and should be abolished although there are differing interpretations of what this means anarchism also refers to related social movements that advocate the elimination of authoritarian institutions particularly the state the word anarchy as most anarchists use it does not imply chaos nihilism or anomie but rather a harmonious anti authoritarian society in place of what are regarded as authoritarian political structures and coercive economic instituti\n",
      "ss: ndl e s e f ngn l r th tndheo th tnds d ore e n d the n  tthr  tthrk tg thud tthl ngl e n e e ng the serhtn  tf the tht e  tthcon e on and the stad thretie  af the thomt erepen a tn thice e he sheo th ataon tn d th tndroe  ae e ths th ter aere thd the the e n d thre at thntd th ter aeae he sf e d e e n th ttae s  tn tht thson e n thted th andththrtx onr ane e e thd  aererg  tndl e s e the thrk tndl e s e n thr ngr thome he sam a tash n e nde n  tepe s ons e ang thd e er ath tndros h h  tros s n e th ahe se e s the e epe s the the  ante e thd the r  te the s  tr thsoe r t he s tnd tere reng tn ers ese e n  tf thice hes thntd thd e er athson epers th tepe e  ttae n threr nterthe e nd ae e the the e g e n th tnde n ngtengd n  tons on athrte h e e  the stater he sase thd e erth tone thd e er a tn d n thn  aine n er tonr e in ae  athe ndn n tht thl e  tndave n ngr thd onnd tn ngtengd tae s  tn the e th tast the thcong t tndththe e y e n ththshonl the s e e  and ton ae e the e e h n  tons onndl e s e f ngn l r th tndheo th tnds d ore e n d the n  tthr  tthrk tg thud tthl ngl e n e e ng the serhtn  tf the tht e  tthcon e on and the stad thretie  af the thomt erepen a tn thice e he sheo th ataon tn d th tndroe  ae e ths th ter aere thd the the e n d thre at thntd th ter aeae he sf e d e e n th ttae s  tn tht thson e n thted th andththrtx onr ane e e thd  aererg  tndl e s e the thrk tndl e s e n thr ngr thome he sam a tash n e nde n  tepe s ons e ang thd e er ath tndros h h  tros s n e th ahe se e s the e epe s the the  ante e thd the r  te the s  tr thsoe r t he s tnd tere reng tn ers ese e n  tf thice hes thntd thd e er athson epers th tepe e  ttae n threr nterthe e nd ae e the the e g e n th tnde n ngtengd n  tons on athrte h e e  the stater he sase thd e erth tone thd e er a tn d n thn  aine n er tonr e in ae  athe ndn n tht thl e  tndave n ngr thd onnd tn ngtengd tae s  tn the e th tast the thcong t tndththe e y e n ththshonl the s e e  and ton ae e the e e h n  tons on\n",
      "Validation set perplexity: 62.78\n",
      "Average loss at step 1900: 4.327546 learning rate: 10.000000\n",
      "Minibatch perplexity: 72.64\n",
      "bb:  anarchism originated as a term of abuse first used against early working class radicals including the diggers of the english revolution and the sans culottes of the french revolution whilst the term is still used in a pejorative way to describe any act that used violent means to destroy the organization of society it has also been taken up as a positive label by self defined anarchists the word anarchism is derived from the greek without archons ruler chief king anarchism as a political philosophy is the belief that rulers are unnecessary and should be abolished although there are differing interpretations of what this means anarchism also refers to related social movements that advocate the elimination of authoritarian institutions particularly the state the word anarchy as most anarchists use it does not imply chaos nihilism or anomie but rather a harmonious anti authoritarian society in place of what are regarded as authoritarian political structures and coercive economic instituti anarchism originated as a term of abuse first used against early working class radicals including the diggers of the english revolution and the sans culottes of the french revolution whilst the term is still used in a pejorative way to describe any act that used violent means to destroy the organization of society it has also been taken up as a positive label by self defined anarchists the word anarchism is derived from the greek without archons ruler chief king anarchism as a political philosophy is the belief that rulers are unnecessary and should be abolished although there are differing interpretations of what this means anarchism also refers to related social movements that advocate the elimination of authoritarian institutions particularly the state the word anarchy as most anarchists use it does not imply chaos nihilism or anomie but rather a harmonious anti authoritarian society in place of what are regarded as authoritarian political structures and coercive economic instituti\n",
      "ss: ndtie s e f ngs l r th tndheo th ts t veoue e nid the s  tths  tthrk tg thud tthl stl  tn e e st the cerht t tf the int er tthcot s on tnd the cevd thlls e  tf the inomt  telens  tn thice e he cheo th tevon anid th ts roe  tioe nis th ter te e ind the the ionid thsts t thntd th ter ty e he cf  ad e ion th tevons  tn thvethsos e n thtis th tndththrtx on tins e e thves ererg  tndtie s e the inrk tndl e s e n ths ngr thome he cens s ith n e nde n  tele s oms e ing thd e  t tth tndros h h  tros s s e th the ce e s the ioe e s the ine  ts e e thd the r  te ins s  tr thsoe r t he c tnd tere reng tn e s ese ion  tf thiciohes thntd thd e  t tthsos ouers th tele io tevonn thst ts e the ionds onionie in ae g ion th ts e n ngtingd n  tons on tthrte h e e  the cevter he cite thd e  tth tans thd e  t t ts d n ths  tine n er tomt s in te  tthe nds netht thl e  tnde e stngr thd ons e n ngtingd evons  tn the e in titt the income t ts ththe e h e n thrtshonl the s e e  tnd toms e e nie e e h n  tons ons l e s e f ngs l r th tndheo th ts t veoue e nid the s  tths  tthrk tg thud tthl stl  tn e e st the cerht t tf the int er tthcot s on tnd the cevd thlls e  tf the inomt  telens  tn thice e he cheo th tevon anid th ts roe  tioe nis th ter te e ind the the ionid thsts t thntd th ter ty e he cf  ad e ion th tevons  tn thvethsos e n thtis th tndththrtx on tins e e thves ererg  tndtie s e the inrk tndl e s e n ths ngr thome he cens s ith n e nde n  tele s oms e ing thd e  t tth tndros h h  tros s s e th the ce e s the ioe e s the ine  ts e e thd the r  te ins s  tr thsoe r t he c tnd tere reng tn e s ese ion  tf thiciohes thntd thd e  t tthsos ouers th tele io tevonn thst ts e the ionds onionie in ae g ion th ts e n ngtingd n  tons on tthrte h e e  the cevter he cite thd e  tth tans thd e  t t ts d n ths  tine n er tomt s in te  tthe nds netht thl e  tnde e stngr thd ons e n ngtingd evons  tn the e in titt the income t ts ththe e h e n thrtshonl the s e e  tnd toms e e nie e e h n  tons on\n",
      "Validation set perplexity: 64.05\n"
     ]
    },
    {
     "name": "stdout",
     "output_type": "stream",
     "text": [
      "Average loss at step 2000: 4.337322 learning rate: 10.000000\n",
      "Minibatch perplexity: 67.98\n",
      "bb:  anarchism originated as a term of abuse first used against early working class radicals including the diggers of the english revolution and the sans culottes of the french revolution whilst the term is still used in a pejorative way to describe any act that used violent means to destroy the organization of society it has also been taken up as a positive label by self defined anarchists the word anarchism is derived from the greek without archons ruler chief king anarchism as a political philosophy is the belief that rulers are unnecessary and should be abolished although there are differing interpretations of what this means anarchism also refers to related social movements that advocate the elimination of authoritarian institutions particularly the state the word anarchy as most anarchists use it does not imply chaos nihilism or anomie but rather a harmonious anti authoritarian society in place of what are regarded as authoritarian political structures and coercive economic instituti anarchism originated as a term of abuse first used against early working class radicals including the diggers of the english revolution and the sans culottes of the french revolution whilst the term is still used in a pejorative way to describe any act that used violent means to destroy the organization of society it has also been taken up as a positive label by self defined anarchists the word anarchism is derived from the greek without archons ruler chief king anarchism as a political philosophy is the belief that rulers are unnecessary and should be abolished although there are differing interpretations of what this means anarchism also refers to related social movements that advocate the elimination of authoritarian institutions particularly the state the word anarchy as most anarchists use it does not imply chaos nihilism or anomie but rather a harmonious anti authoritarian society in place of what are regarded as authoritarian political structures and coercive economic instituti\n",
      "ss: ndtie s e f ngtel d th andheo th tndt d ore e nid the n  tthr  othrk tg thud athtingn  tn e e ng the merhtne tnethe tht er othcol s one nd the mixd threnge  af the thomt ereaens  tn thice e he mheo th oixony nid th tndroe e ioe nis th ter ae erthd the the ionid thres t thntd th ter aeae he mne td e ion th tixe s  on tht thsomee n thted ths ndththsix onr ans ere thves erere  tndtie s e the thrk ondtie s e n thd ngn thome he mamd erith nee nde ne teae s ons e ing thd e er oth andros h h  tros timee th ohe me ers the ioeae s the the  onte e thd the gh te ths s  or thsoe r t he m and oere reng on ers ese ion  tnethiciohes thntd thd e er othsomeerers th ters io tixe n thre tnterthe ionds oniothe there g ion th tnde nengtengd n  tons one thrte h e e  the mixted he mite thd e erth aans thd e er o td d n thr  aine n er tonves in oe  othe nds netht thtie o ndise rengr thd onnd tnengtengd ixe s  on the e th titt the thcome o tndththe e h e n thsingonl the s y e  and tond e e nie e e h n  tons onndl e s e f ngtel d th andheo th tndt d ore e nid the n  tthr  othrk tg thud athtingn  tn e e ng the merhtne tnethe tht er othcol s one nd the mixd threnge  af the thomt ereaens  tn thice e he mheo th oixony nid th tndroe e ioe nis th ter ae erthd the the ionid thres t thntd th ter aeae he mne td e ion th tixe s  on tht thsomee n thted ths ndththsix onr ans ere thves erere  tndtie s e the thrk ondtie s e n thd ngn thome he mamd erith nee nde ne teae s ons e ing thd e er oth andros h h  tros timee th ohe me ers the ioeae s the the  onte e thd the gh te ths s  or thsoe r t he m and oere reng on ers ese ion  tnethiciohes thntd thd e er othsomeerers th ters io tixe n thre tnterthe ionds oniothe there g ion th tnde nengtengd n  tons one thrte h e e  the mixted he mite thd e erth aans thd e er o td d n thr  aine n er tonves in oe  othe nds netht thtie o ndise rengr thd onnd tnengtengd ixe s  on the e th titt the thcome o tndththe e h e n thsingonl the s y e  and tond e e nie e e h n  tons on\n",
      "Validation set perplexity: 61.46\n",
      "Average loss at step 2100: 4.320807 learning rate: 10.000000\n",
      "Minibatch perplexity: 80.66\n",
      "bb:  anarchism originated as a term of abuse first used against early working class radicals including the diggers of the english revolution and the sans culottes of the french revolution whilst the term is still used in a pejorative way to describe any act that used violent means to destroy the organization of society it has also been taken up as a positive label by self defined anarchists the word anarchism is derived from the greek without archons ruler chief king anarchism as a political philosophy is the belief that rulers are unnecessary and should be abolished although there are differing interpretations of what this means anarchism also refers to related social movements that advocate the elimination of authoritarian institutions particularly the state the word anarchy as most anarchists use it does not imply chaos nihilism or anomie but rather a harmonious anti authoritarian society in place of what are regarded as authoritarian political structures and coercive economic instituti anarchism originated as a term of abuse first used against early working class radicals including the diggers of the english revolution and the sans culottes of the french revolution whilst the term is still used in a pejorative way to describe any act that used violent means to destroy the organization of society it has also been taken up as a positive label by self defined anarchists the word anarchism is derived from the greek without archons ruler chief king anarchism as a political philosophy is the belief that rulers are unnecessary and should be abolished although there are differing interpretations of what this means anarchism also refers to related social movements that advocate the elimination of authoritarian institutions particularly the state the word anarchy as most anarchists use it does not imply chaos nihilism or anomie but rather a harmonious anti authoritarian society in place of what are regarded as authoritarian political structures and coercive economic instituti\n",
      "ss: ndl e s e f ngs l d th tndheo th tnds d or ae nid the n  tthr  athrl ag thud tthn ngn  tn e e ng ahe cerht a tf the tht er tthcon s on tnd ahe cixd thngnge  af the thomt  aeaens  tn thice e he cheo th tixony nid th tndroe  aioe ths th ter ae e thd the the ionid thngs t thntd th ter ay e he cf  ad e ion th tixy s  tn tht thson y n thtid th andthththx onn iny s y thve terorg  tndl e s e the thrl andl e s e n ths can thome he cor t aith n  tnde n  teae s ons e ing thd s  a tth tndros h h  aros s n e th the cy s s the ioeae s the the  ts e e thd the r  ty the og tr thsoe r t he c tnd aere reng tn ers e e ion  tf thiciohes ths d thd s  a tthson eaors th teas io tixy n thstn s erthe ionde y iothe ths e g ion th tnd tn catingd n  aons on athrte h e e  the cixtid he cite thd s  ath tars thd s  a t tn d n ths  tine n er tonn s in ae  tth tndn n tht thn e o ndise n ngr thd onnd tn catingd ixy s  tn the e th titt the thcon  a tndththe  ay e n ththngonn the s y e  and aons e e the e e h n  aons onndl e s e f ngs l d th tndheo th tnds d or ae nid the n  tthr  athrl ag thud tthn ngn  tn e e ng ahe cerht a tf the tht er tthcon s on tnd ahe cixd thngnge  af the thomt  aeaens  tn thice e he cheo th tixony nid th tndroe  aioe ths th ter ae e thd the the ionid thngs t thntd th ter ay e he cf  ad e ion th tixy s  tn tht thson y n thtid th andthththx onn iny s y thve terorg  tndl e s e the thrl andl e s e n ths can thome he cor t aith n  tnde n  teae s ons e ing thd s  a tth tndros h h  aros s n e th the cy s s the ioeae s the the  ts e e thd the r  ty the og tr thsoe r t he c tnd aere reng tn ers e e ion  tf thiciohes ths d thd s  a tthson eaors th teas io tixy n thstn s erthe ionde y iothe ths e g ion th tnd tn catingd n  aons on athrte h e e  the cixtid he cite thd s  ath tars thd s  a t tn d n ths  tine n er tonn s in ae  tth tndn n tht thn e o ndise n ngr thd onnd tn catingd ixy s  tn the e th titt the thcon  a tndththe  ay e n ththngonn the s y e  and aons e e the e e h n  aons on\n",
      "Validation set perplexity: 59.07\n"
     ]
    },
    {
     "name": "stdout",
     "output_type": "stream",
     "text": [
      "Average loss at step 2200: 4.293439 learning rate: 10.000000\n",
      "Minibatch perplexity: 83.89\n",
      "bb:  anarchism originated as a term of abuse first used against early working class radicals including the diggers of the english revolution and the sans culottes of the french revolution whilst the term is still used in a pejorative way to describe any act that used violent means to destroy the organization of society it has also been taken up as a positive label by self defined anarchists the word anarchism is derived from the greek without archons ruler chief king anarchism as a political philosophy is the belief that rulers are unnecessary and should be abolished although there are differing interpretations of what this means anarchism also refers to related social movements that advocate the elimination of authoritarian institutions particularly the state the word anarchy as most anarchists use it does not imply chaos nihilism or anomie but rather a harmonious anti authoritarian society in place of what are regarded as authoritarian political structures and coercive economic instituti anarchism originated as a term of abuse first used against early working class radicals including the diggers of the english revolution and the sans culottes of the french revolution whilst the term is still used in a pejorative way to describe any act that used violent means to destroy the organization of society it has also been taken up as a positive label by self defined anarchists the word anarchism is derived from the greek without archons ruler chief king anarchism as a political philosophy is the belief that rulers are unnecessary and should be abolished although there are differing interpretations of what this means anarchism also refers to related social movements that advocate the elimination of authoritarian institutions particularly the state the word anarchy as most anarchists use it does not imply chaos nihilism or anomie but rather a harmonious anti authoritarian society in place of what are regarded as authoritarian political structures and coercive economic instituti\n",
      "ss: ndl e s e f can n d th tndheo th tndt d oue e nid the n  tthr  othrl ag thud tthtingn ern e e ng ahe cerhtn  af the ont er athcon s on ond the cevd thr tie  of the onomt eresens  an there e he cheo th aevon tnid th tndroe  te e nis th ter oere ond the the ionid thres t thntd th ter oene he cf erd e ion th tevons  tn tht thsomee n thtis ths ndththrtonon tone s e thves ererg  tndl e s e the onrl andn e s e n thcocar thome he cro os ith n e nde n  tate s ons erang thd e er ath tndros h al tros tin e th ahe ce s s the ioate s the one  as e e thd the r  te one og ar thsoe r t he c and aere reca an ers ese ion  tf there hes thntd thd e er athsomeece s th tecs e  tevonn thre ts erthe ionde e e one ons e g e n th tnde n caticad n  tons on othrte als e  ahe cevtir he cite thd e erth tan athd e er a tnid n thr  oine n er oonn s in ae  ath ts n n tht thtie o s ise n ngr thd ons e n caticad evons  tn the e on titt the oncome a ts ththe  ty e n ththngonn the s y e  ond tons e e nie e e aln  tons ons n e s e f can n d th tndheo th tndt d oue e nid the n  tthr  othrl ag thud tthtingn ern e e ng ahe cerhtn  af the ont er athcon s on ond the cevd thr tie  of the onomt eresens  an there e he cheo th aevon tnid th tndroe  te e nis th ter oere ond the the ionid thres t thntd th ter oene he cf erd e ion th tevons  tn tht thsomee n thtis ths ndththrtonon tone s e thves ererg  tndl e s e the onrl andn e s e n thcocar thome he cro os ith n e nde n  tate s ons erang thd e er ath tndros h al tros tin e th ahe ce s s the ioate s the one  as e e thd the r  te one og ar thsoe r t he c and aere reca an ers ese ion  tf there hes thntd thd e er athsomeece s th tecs e  tevonn thre ts erthe ionde e e one ons e g e n th tnde n caticad n  tons on othrte als e  ahe cevtir he cite thd e erth tan athd e er a tnid n thr  oine n er oonn s in ae  ath ts n n tht thtie o s ise n ngr thd ons e n caticad evons  tn the e on titt the oncome a ts ththe  ty e n ththngonn the s y e  ond tons e e nie e e aln  tons on\n",
      "Validation set perplexity: 60.76\n",
      "Average loss at step 2300: 4.283543 learning rate: 10.000000\n",
      "Minibatch perplexity: 76.87\n",
      "bb:  anarchism originated as a term of abuse first used against early working class radicals including the diggers of the english revolution and the sans culottes of the french revolution whilst the term is still used in a pejorative way to describe any act that used violent means to destroy the organization of society it has also been taken up as a positive label by self defined anarchists the word anarchism is derived from the greek without archons ruler chief king anarchism as a political philosophy is the belief that rulers are unnecessary and should be abolished although there are differing interpretations of what this means anarchism also refers to related social movements that advocate the elimination of authoritarian institutions particularly the state the word anarchy as most anarchists use it does not imply chaos nihilism or anomie but rather a harmonious anti authoritarian society in place of what are regarded as authoritarian political structures and coercive economic instituti anarchism originated as a term of abuse first used against early working class radicals including the diggers of the english revolution and the sans culottes of the french revolution whilst the term is still used in a pejorative way to describe any act that used violent means to destroy the organization of society it has also been taken up as a positive label by self defined anarchists the word anarchism is derived from the greek without archons ruler chief king anarchism as a political philosophy is the belief that rulers are unnecessary and should be abolished although there are differing interpretations of what this means anarchism also refers to related social movements that advocate the elimination of authoritarian institutions particularly the state the word anarchy as most anarchists use it does not imply chaos nihilism or anomie but rather a harmonious anti authoritarian society in place of what are regarded as authoritarian political structures and coercive economic instituti\n",
      "ss: ndl e s  tnengs l d th andheo th tndt d ive e nid the n  tthr  athrl tg thud athl ngl ern e e ng the serhts  snethe tht e  othcol s ng ond the sevd thrrs e  anethe thomt  oesens  tn thic te he sheo th oevon anid th tndroe  tioe nis th ter te e nid the the ionid thres t thntd th ter ty e he sf  td e ion th teve s  tn tht thsomey n thtes ths ndththrtteon sine s y thves erore  andl e s e the thrl tndl e s  tn thd ng sthome he srod s ash r  tnde ne tese s oms ering thd e  o oth andros h h  tros s s e th ohe sy s s the ioese s the the  ts e e thd the r  ay nie og or thsoe r t he s tnd tere reng tn ers ese ion  tnethiciohes thntd thd e  o othsomeesins th tesinio aeve n inni ss s the ionde e ionie ths e g ion th tnd tnengtengd n  tons on othrte h e e  she sevted he sase thd e  oth aan athd e  o o tnid n ths  tininn ar soms  ain a t oth tnds ngnit thl e  tndise ngngr thd ngnd tnengtengd eve s  tn the e ni tast the thcon  t tndththe  tioe n ththngonl ine s s e  and toms e e nie e e h n  tons onndl e s  tnengs l d th andheo th tndt d ive e nid the n  tthr  athrl tg thud athl ngl ern e e ng the serhts  snethe tht e  othcol s ng ond the sevd thrrs e  anethe thomt  oesens  tn thic te he sheo th oevon anid th tndroe  tioe nis th ter te e nid the the ionid thres t thntd th ter ty e he sf  td e ion th teve s  tn tht thsomey n thtes ths ndththrtteon sine s y thves erore  andl e s e the thrl tndl e s  tn thd ng sthome he srod s ash r  tnde ne tese s oms ering thd e  o oth andros h h  tros s s e th ohe sy s s the ioese s the the  ts e e thd the r  ay nie og or thsoe r t he s tnd tere reng tn ers ese ion  tnethiciohes thntd thd e  o othsomeesins th tesinio aeve n inni ss s the ionde e ionie ths e g ion th tnd tnengtengd n  tons on othrte h e e  she sevted he sase thd e  oth aan athd e  o o tnid n ths  tininn ar soms  ain a t oth tnds ngnit thl e  tndise ngngr thd ngnd tnengtengd eve s  tn the e ni tast the thcon  t tndththe  tioe n ththngonl ine s s e  and toms e e nie e e h n  tons on\n",
      "Validation set perplexity: 59.33\n"
     ]
    },
    {
     "name": "stdout",
     "output_type": "stream",
     "text": [
      "Average loss at step 2400: 4.309905 learning rate: 10.000000\n",
      "Minibatch perplexity: 71.22\n",
      "bb:  anarchism originated as a term of abuse first used against early working class radicals including the diggers of the english revolution and the sans culottes of the french revolution whilst the term is still used in a pejorative way to describe any act that used violent means to destroy the organization of society it has also been taken up as a positive label by self defined anarchists the word anarchism is derived from the greek without archons ruler chief king anarchism as a political philosophy is the belief that rulers are unnecessary and should be abolished although there are differing interpretations of what this means anarchism also refers to related social movements that advocate the elimination of authoritarian institutions particularly the state the word anarchy as most anarchists use it does not imply chaos nihilism or anomie but rather a harmonious anti authoritarian society in place of what are regarded as authoritarian political structures and coercive economic instituti anarchism originated as a term of abuse first used against early working class radicals including the diggers of the english revolution and the sans culottes of the french revolution whilst the term is still used in a pejorative way to describe any act that used violent means to destroy the organization of society it has also been taken up as a positive label by self defined anarchists the word anarchism is derived from the greek without archons ruler chief king anarchism as a political philosophy is the belief that rulers are unnecessary and should be abolished although there are differing interpretations of what this means anarchism also refers to related social movements that advocate the elimination of authoritarian institutions particularly the state the word anarchy as most anarchists use it does not imply chaos nihilism or anomie but rather a harmonious anti authoritarian society in place of what are regarded as authoritarian political structures and coercive economic instituti\n",
      "ss: ndl e s e f ngs l d th tndheo th tndt d ore e nid the n  tthr  tthrk ag thud tthl ngl ern e e ng the se hts  tf the tht e  athcol s on tnd the sevd thllnge  af the thomt eregens  tn thice e he sheo th aevony nid th tndroe e ioe nis th te  ae e thd the the ionid thres t thntd th te  ay e he sf  ad e ion th tevons  an thn thsomee n thtes th andththrtx on sine s e thve te erg  tndl e s e the thrk andl e s e n thd ngn thome he samd erorh nee nde n  tege s oms e ing thd e er ath tndros h h  tros timee th ahe se s s the ioe e s the the  as e e thd the r  te the s  ar thsoe r t he s ond oe e reng tn ers ese ion  tf thiciohes thntd thd e er athsomeelere th tels io tevonn thstn nterthe ionde esiothe ths e g ion th tnd tn ngl ngd n  tons on tthrte h e e  the sevted he sore thd e erth tore thd e er a tnid n ths  aine n er tomn e in ae  athe ndn l tht thl e  tndise n ngr thd onnd tn ngl ngd evons  an the e th tort the thcon  a tndththe e y e n thrtngonl the s e e  and toms e e nie e e h n  tons onndl e s e f ngs l d th tndheo th tndt d ore e nid the n  tthr  tthrk ag thud tthl ngl ern e e ng the se hts  tf the tht e  athcol s on tnd the sevd thllnge  af the thomt eregens  tn thice e he sheo th aevony nid th tndroe e ioe nis th te  ae e thd the the ionid thres t thntd th te  ay e he sf  ad e ion th tevons  an thn thsomee n thtes th andththrtx on sine s e thve te erg  tndl e s e the thrk andl e s e n thd ngn thome he samd erorh nee nde n  tege s oms e ing thd e er ath tndros h h  tros timee th ahe se s s the ioe e s the the  as e e thd the r  te the s  ar thsoe r t he s ond oe e reng tn ers ese ion  tf thiciohes thntd thd e er athsomeelere th tels io tevonn thstn nterthe ionde esiothe ths e g ion th tnd tn ngl ngd n  tons on tthrte h e e  the sevted he sore thd e erth tore thd e er a tnid n ths  aine n er tomn e in ae  athe ndn l tht thl e  tndise n ngr thd onnd tn ngl ngd evons  an the e th tort the thcon  a tndththe e y e n thrtngonl the s e e  and toms e e nie e e h n  tons on\n",
      "Validation set perplexity: 59.60\n",
      "Average loss at step 2500: 4.264243 learning rate: 10.000000\n",
      "Minibatch perplexity: 59.18\n",
      "bb:  anarchism originated as a term of abuse first used against early working class radicals including the diggers of the english revolution and the sans culottes of the french revolution whilst the term is still used in a pejorative way to describe any act that used violent means to destroy the organization of society it has also been taken up as a positive label by self defined anarchists the word anarchism is derived from the greek without archons ruler chief king anarchism as a political philosophy is the belief that rulers are unnecessary and should be abolished although there are differing interpretations of what this means anarchism also refers to related social movements that advocate the elimination of authoritarian institutions particularly the state the word anarchy as most anarchists use it does not imply chaos nihilism or anomie but rather a harmonious anti authoritarian society in place of what are regarded as authoritarian political structures and coercive economic instituti anarchism originated as a term of abuse first used against early working class radicals including the diggers of the english revolution and the sans culottes of the french revolution whilst the term is still used in a pejorative way to describe any act that used violent means to destroy the organization of society it has also been taken up as a positive label by self defined anarchists the word anarchism is derived from the greek without archons ruler chief king anarchism as a political philosophy is the belief that rulers are unnecessary and should be abolished although there are differing interpretations of what this means anarchism also refers to related social movements that advocate the elimination of authoritarian institutions particularly the state the word anarchy as most anarchists use it does not imply chaos nihilism or anomie but rather a harmonious anti authoritarian society in place of what are regarded as authoritarian political structures and coercive economic instituti\n",
      "ss: ndtie s e necanetid th tndheo th tndt d or te nid the n  athd  tthrk tg thud tthtingl o n e e ng the te ht t tnethe tht er tthe ti ton tnd the tixd thsttie  tnethe thomt  teaen te n thice e he theo th tixon tnid th tndroe  te e nis th te  tere thd the the e nid thres t thntd th te  ty e he tne td e e n th tixens  tn tht thson e n thte tth tndththrtx on tane  te thve te ere  tndtie s e the thrl tndtie s e n ths can thome he tend  tith uge nde ug aeae  tons e ine thd e  t tth tndro th h  tros tin e th the te e s the e eae  tthe the  ts e e thd the nt te the s  tr thsoe r t he t and te e reca tn er tese e n  anethice hes thntd thd e  t tthsomeeaere th teae e  tixenn thstn nterthe e nde e e the th te g e n th tnde ugcatecad n  tonreon tthrte h e e  the tixted he tite thd e  tth tan tthd e  t t tnid n ths  tine n er tonve tin te  tthe ndt titht thtie  tnde e stter thd onnde ugcatecad ixens  tn the e th titt the thqume t tndththe e y e n thrtshonl the n e e  tnd ton te e the e e h n  tonreonndtie s e necanetid th tndheo th tndt d or te nid the n  athd  tthrk tg thud tthtingl o n e e ng the te ht t tnethe tht er tthe ti ton tnd the tixd thsttie  tnethe thomt  teaen te n thice e he theo th tixon tnid th tndroe  te e nis th te  tere thd the the e nid thres t thntd th te  ty e he tne td e e n th tixens  tn tht thson e n thte tth tndththrtx on tane  te thve te ere  tndtie s e the thrl tndtie s e n ths can thome he tend  tith uge nde ug aeae  tons e ine thd e  t tth tndro th h  tros tin e th the te e s the e eae  tthe the  ts e e thd the nt te the s  tr thsoe r t he t and te e reca tn er tese e n  anethice hes thntd thd e  t tthsomeeaere th teae e  tixenn thstn nterthe e nde e e the th te g e n th tnde ugcatecad n  tonreon tthrte h e e  the tixted he tite thd e  tth tan tthd e  t t tnid n ths  tine n er tonve tin te  tthe ndt titht thtie  tnde e stter thd onnde ugcatecad ixens  tn the e th titt the thqume t tndththe e y e n thrtshonl the n e e  tnd ton te e the e e h n  tonreon\n",
      "Validation set perplexity: 59.21\n"
     ]
    },
    {
     "name": "stdout",
     "output_type": "stream",
     "text": [
      "Average loss at step 2600: 4.285763 learning rate: 10.000000\n",
      "Minibatch perplexity: 74.72\n",
      "bb:  anarchism originated as a term of abuse first used against early working class radicals including the diggers of the english revolution and the sans culottes of the french revolution whilst the term is still used in a pejorative way to describe any act that used violent means to destroy the organization of society it has also been taken up as a positive label by self defined anarchists the word anarchism is derived from the greek without archons ruler chief king anarchism as a political philosophy is the belief that rulers are unnecessary and should be abolished although there are differing interpretations of what this means anarchism also refers to related social movements that advocate the elimination of authoritarian institutions particularly the state the word anarchy as most anarchists use it does not imply chaos nihilism or anomie but rather a harmonious anti authoritarian society in place of what are regarded as authoritarian political structures and coercive economic instituti anarchism originated as a term of abuse first used against early working class radicals including the diggers of the english revolution and the sans culottes of the french revolution whilst the term is still used in a pejorative way to describe any act that used violent means to destroy the organization of society it has also been taken up as a positive label by self defined anarchists the word anarchism is derived from the greek without archons ruler chief king anarchism as a political philosophy is the belief that rulers are unnecessary and should be abolished although there are differing interpretations of what this means anarchism also refers to related social movements that advocate the elimination of authoritarian institutions particularly the state the word anarchy as most anarchists use it does not imply chaos nihilism or anomie but rather a harmonious anti authoritarian society in place of what are regarded as authoritarian political structures and coercive economic instituti\n",
      "ss: ndl e che f titil d th tndhee th tndt d ore e nid the n  athr  tthrk tg thud tthl ngl o n e e ng the fe htr  tf the tht e  tthe n  ton ond the fixd thrrtie  tf the thomt  aelene  tnsthice e he fhee th tixon tnid th tndro te ioe nis th te  te e thd the the ionid thris t thntd th te  ty e he ff  td e ionsth tixe s  tn tht thson e n thtid the ndththrtonon oeae e e thve te ere  tndl e che the thrk tndl e che n thd ngr thome he frad  tith ug tnde ug aeae  toms e ing thd e  a tth tndros h h  tros tinse th the fe e s the ioele  tthe the  td e e thd the r  ae the s  tr thsoe r t he f and ae e reng tn er aese ions af thiciohes thntd thd e  a tthson ece e th tece io tixe n thstr d erthe ionde oniothe th te g ionsth tnd tugtil ngd n  aonreon othrte h e e  ahe fixtid he fite thd e  ath tos tthd e  a t tnid n ths  tinh n er tomve tin ae  tthe ndn n tht thl e  andise n ngr thd onnd tugtil ngd ixe s  tn the e th titt the thcon  t tndththe e y e n thrtngonl the n e e  tnd tom te e nie e e h n  aonreonndl e che f titil d th tndhee th tndt d ore e nid the n  athr  tthrk tg thud tthl ngl o n e e ng the fe htr  tf the tht e  tthe n  ton ond the fixd thrrtie  tf the thomt  aelene  tnsthice e he fhee th tixon tnid th tndro te ioe nis th te  te e thd the the ionid thris t thntd th te  ty e he ff  td e ionsth tixe s  tn tht thson e n thtid the ndththrtonon oeae e e thve te ere  tndl e che the thrk tndl e che n thd ngr thome he frad  tith ug tnde ug aeae  toms e ing thd e  a tth tndros h h  tros tinse th the fe e s the ioele  tthe the  td e e thd the r  ae the s  tr thsoe r t he f and ae e reng tn er aese ions af thiciohes thntd thd e  a tthson ece e th tece io tixe n thstr d erthe ionde oniothe th te g ionsth tnd tugtil ngd n  aonreon othrte h e e  ahe fixtid he fite thd e  ath tos tthd e  a t tnid n ths  tinh n er tomve tin ae  tthe ndn n tht thl e  andise n ngr thd onnd tugtil ngd ixe s  tn the e th titt the thcon  t tndththe e y e n thrtngonl the n e e  tnd tom te e nie e e h n  aonreon\n",
      "Validation set perplexity: 55.79\n",
      "Average loss at step 2700: 4.235640 learning rate: 10.000000\n",
      "Minibatch perplexity: 73.94\n",
      "bb:  anarchism originated as a term of abuse first used against early working class radicals including the diggers of the english revolution and the sans culottes of the french revolution whilst the term is still used in a pejorative way to describe any act that used violent means to destroy the organization of society it has also been taken up as a positive label by self defined anarchists the word anarchism is derived from the greek without archons ruler chief king anarchism as a political philosophy is the belief that rulers are unnecessary and should be abolished although there are differing interpretations of what this means anarchism also refers to related social movements that advocate the elimination of authoritarian institutions particularly the state the word anarchy as most anarchists use it does not imply chaos nihilism or anomie but rather a harmonious anti authoritarian society in place of what are regarded as authoritarian political structures and coercive economic instituti anarchism originated as a term of abuse first used against early working class radicals including the diggers of the english revolution and the sans culottes of the french revolution whilst the term is still used in a pejorative way to describe any act that used violent means to destroy the organization of society it has also been taken up as a positive label by self defined anarchists the word anarchism is derived from the greek without archons ruler chief king anarchism as a political philosophy is the belief that rulers are unnecessary and should be abolished although there are differing interpretations of what this means anarchism also refers to related social movements that advocate the elimination of authoritarian institutions particularly the state the word anarchy as most anarchists use it does not imply chaos nihilism or anomie but rather a harmonious anti authoritarian society in place of what are regarded as authoritarian political structures and coercive economic instituti\n",
      "ss: ndl e s e f ngs l r th andheo th tndt d ou te sed the n  tthr  athrk og thud athl ngl o s e e ng the perhts  af the tht e  tthstt s on tnd the pixd thllnge  af the thomt erecens e n thice e he pheo th tixony sed th tndro as ioe nis th ter ae e thd the the iosed thres t thntd th ter ay e he pf  td e ion th tixals  on tht thsomey n thl d th tndththrtx on oeae s y thves ererg  andl e s e the thrk tndl e s e s ththngn thome he prod s ith n e nde n  tece  aons e ing thd e er tth andros h al tros tin e th the py s s the ioece  athe the  ad e e thd the t  ty the s  tr thsoe r t he p and aere reng ts ere ese ion  tf theriohes thntd thd e er tthsomeecere th tecs io aixaln thstn nterthe ionde aliothe ths e g ion th tnd tn ngl ngd n  tonreon tthrte ale e  ohe pixl r he pite thd e erth aars thd e er t tsed n ths  ainh s er oonves ine e  tthe ndt vetht thl e e nde e stngr thd onnd tn ngl ngd ixals  on the e th titt the thcol s  andththe e y e n thrtngonl the s ioe  and tons e e nie e e als  aonreonndl e s e f ngs l r th andheo th tndt d ou te sed the n  tthr  athrk og thud athl ngl o s e e ng the perhts  af the tht e  tthstt s on tnd the pixd thllnge  af the thomt erecens e n thice e he pheo th tixony sed th tndro as ioe nis th ter ae e thd the the iosed thres t thntd th ter ay e he pf  td e ion th tixals  on tht thsomey n thl d th tndththrtx on oeae s y thves ererg  andl e s e the thrk tndl e s e s ththngn thome he prod s ith n e nde n  tece  aons e ing thd e er tth andros h al tros tin e th the py s s the ioece  athe the  ad e e thd the t  ty the s  tr thsoe r t he p and aere reng ts ere ese ion  tf theriohes thntd thd e er tthsomeecere th tecs io aixaln thstn nterthe ionde aliothe ths e g ion th tnd tn ngl ngd n  tonreon tthrte ale e  ohe pixl r he pite thd e erth aars thd e er t tsed n ths  ainh s er oonves ine e  tthe ndt vetht thl e e nde e stngr thd onnd tn ngl ngd ixals  on the e th titt the thcol s  andththe e y e n thrtngonl the s ioe  and tons e e nie e e als  aonreon\n",
      "Validation set perplexity: 56.18\n"
     ]
    },
    {
     "name": "stdout",
     "output_type": "stream",
     "text": [
      "Average loss at step 2800: 4.238514 learning rate: 10.000000\n",
      "Minibatch perplexity: 77.44\n",
      "bb:  anarchism originated as a term of abuse first used against early working class radicals including the diggers of the english revolution and the sans culottes of the french revolution whilst the term is still used in a pejorative way to describe any act that used violent means to destroy the organization of society it has also been taken up as a positive label by self defined anarchists the word anarchism is derived from the greek without archons ruler chief king anarchism as a political philosophy is the belief that rulers are unnecessary and should be abolished although there are differing interpretations of what this means anarchism also refers to related social movements that advocate the elimination of authoritarian institutions particularly the state the word anarchy as most anarchists use it does not imply chaos nihilism or anomie but rather a harmonious anti authoritarian society in place of what are regarded as authoritarian political structures and coercive economic instituti anarchism originated as a term of abuse first used against early working class radicals including the diggers of the english revolution and the sans culottes of the french revolution whilst the term is still used in a pejorative way to describe any act that used violent means to destroy the organization of society it has also been taken up as a positive label by self defined anarchists the word anarchism is derived from the greek without archons ruler chief king anarchism as a political philosophy is the belief that rulers are unnecessary and should be abolished although there are differing interpretations of what this means anarchism also refers to related social movements that advocate the elimination of authoritarian institutions particularly the state the word anarchy as most anarchists use it does not imply chaos nihilism or anomie but rather a harmonious anti authoritarian society in place of what are regarded as authoritarian political structures and coercive economic instituti\n",
      "ss: ndl e s e f cas l r th andheo th tndt  oors e se othe n  athr  athrk ag thud athl ngl o n e e ng the serhtr  tf the tht e  athstr s on ond ahe sevd thsts e  af the thomt erelens  an thice e he sheo th aevony se oth tndro a aioe nis th aer ae e thd the the iose othsts t thntd th aer ay e he sf  ad e ion th tevons  an thvethsomey n thti ath andththrtonon teae s y thves ererg  andl e s e the thrk andl e s e n thsecan thome he send erith n  ande n  aele  aons e ing thd e er ath andros h al tros s s e th ahe sy s s the ioele  athe the  as e e thd the r  ay the s  ar thsoe r t he s and aere reca tn er aine ion  af thiciohes thntd thd e er athsomeelere th aels io aevonn thstn s erthe ionderoniothe ths e g ion th tnd an cal cad n  aonreon othrte ale e  ohe sevtir he site thd e erth aors thd e er a ase on ths  ainh n er oons s in ae  athe ndt stnit thl e  andise stngr thd onnd an cal cad evons  an the e th aitt the thstme a andthste e h e n thrtstonl thers ioe  and aons e e nie e e aln  aonreonndl e s e f cas l r th andheo th tndt  oors e se othe n  athr  athrk ag thud athl ngl o n e e ng the serhtr  tf the tht e  athstr s on ond ahe sevd thsts e  af the thomt erelens  an thice e he sheo th aevony se oth tndro a aioe nis th aer ae e thd the the iose othsts t thntd th aer ay e he sf  ad e ion th tevons  an thvethsomey n thti ath andththrtonon teae s y thves ererg  andl e s e the thrk andl e s e n thsecan thome he send erith n  ande n  aele  aons e ing thd e er ath andros h al tros s s e th ahe sy s s the ioele  athe the  as e e thd the r  ay the s  ar thsoe r t he s and aere reca tn er aine ion  af thiciohes thntd thd e er athsomeelere th aels io aevonn thstn s erthe ionderoniothe ths e g ion th tnd an cal cad n  aonreon othrte ale e  ohe sevtir he site thd e erth aors thd e er a ase on ths  ainh n er oons s in ae  athe ndt stnit thl e  andise stngr thd onnd an cal cad evons  an the e th aitt the thstme a andthste e h e n thrtstonl thers ioe  and aons e e nie e e aln  aonreon\n",
      "Validation set perplexity: 55.31\n",
      "Average loss at step 2900: 4.236395 learning rate: 10.000000\n",
      "Minibatch perplexity: 74.34\n",
      "bb:  anarchism originated as a term of abuse first used against early working class radicals including the diggers of the english revolution and the sans culottes of the french revolution whilst the term is still used in a pejorative way to describe any act that used violent means to destroy the organization of society it has also been taken up as a positive label by self defined anarchists the word anarchism is derived from the greek without archons ruler chief king anarchism as a political philosophy is the belief that rulers are unnecessary and should be abolished although there are differing interpretations of what this means anarchism also refers to related social movements that advocate the elimination of authoritarian institutions particularly the state the word anarchy as most anarchists use it does not imply chaos nihilism or anomie but rather a harmonious anti authoritarian society in place of what are regarded as authoritarian political structures and coercive economic instituti anarchism originated as a term of abuse first used against early working class radicals including the diggers of the english revolution and the sans culottes of the french revolution whilst the term is still used in a pejorative way to describe any act that used violent means to destroy the organization of society it has also been taken up as a positive label by self defined anarchists the word anarchism is derived from the greek without archons ruler chief king anarchism as a political philosophy is the belief that rulers are unnecessary and should be abolished although there are differing interpretations of what this means anarchism also refers to related social movements that advocate the elimination of authoritarian institutions particularly the state the word anarchy as most anarchists use it does not imply chaos nihilism or anomie but rather a harmonious anti authoritarian society in place of what are regarded as authoritarian political structures and coercive economic instituti\n",
      "ss: ndl e s e f catil d th andheo th tndt d or aernid the n  athr  athrl ag thud athtengl o n e e ng ahe serht a tf the tht e  athsiti aon and ahe sixd thsttie  af the thomt  aepens  tn thicinerhe sheo th aixon anid th tndroe s ioe ths th ter ae e thd the the ionid thres t thntd th ter aine he sf erd e ion th tixons  an tht thsomey n thti aths ndththrtx on sanin ay thves ererg  andl e s erthe thrl andl e s e n thd car thome he sen aerith te ande te aeps s onste ing thd e  a ath andros h al aros tis e th ahe sy  as the ioeas s the the  as e e thd the nd ay thins  ar thsoe r t he s and aere reca an ers ine ion  af thiciohes thntd thd e  a athsomeelere th teps io aixonn thren nterthe ionderoniothe th ae g ion th tnd atecal cad n  aonreon athrterale e  ahe sixted he sits thd e  ath aoss thd e  a a tnid n ths  ainh n er aonve ain ain athe ndt sttht thtier andise stngndthd onnd atecal cad ixons  an the e th titt the thsiti a andthste s h e l thrtstonl thers ioe  and aon ae e the e e aln  aonreonndl e s e f catil d th andheo th tndt d or aernid the n  athr  athrl ag thud athtengl o n e e ng ahe serht a tf the tht e  athsiti aon and ahe sixd thsttie  af the thomt  aepens  tn thicinerhe sheo th aixon anid th tndroe s ioe ths th ter ae e thd the the ionid thres t thntd th ter aine he sf erd e ion th tixons  an tht thsomey n thti aths ndththrtx on sanin ay thves ererg  andl e s erthe thrl andl e s e n thd car thome he sen aerith te ande te aeps s onste ing thd e  a ath andros h al aros tis e th ahe sy  as the ioeas s the the  as e e thd the nd ay thins  ar thsoe r t he s and aere reca an ers ine ion  af thiciohes thntd thd e  a athsomeelere th teps io aixonn thren nterthe ionderoniothe th ae g ion th tnd atecal cad n  aonreon athrterale e  ahe sixted he sits thd e  ath aoss thd e  a a tnid n ths  ainh n er aonve ain ain athe ndt sttht thtier andise stngndthd onnd atecal cad ixons  an the e th titt the thsiti a andthste s h e l thrtstonl thers ioe  and aon ae e the e e aln  aonreon\n",
      "Validation set perplexity: 55.87\n"
     ]
    },
    {
     "name": "stdout",
     "output_type": "stream",
     "text": [
      "Average loss at step 3000: 4.213734 learning rate: 10.000000\n",
      "Minibatch perplexity: 52.22\n",
      "bb:  anarchism originated as a term of abuse first used against early working class radicals including the diggers of the english revolution and the sans culottes of the french revolution whilst the term is still used in a pejorative way to describe any act that used violent means to destroy the organization of society it has also been taken up as a positive label by self defined anarchists the word anarchism is derived from the greek without archons ruler chief king anarchism as a political philosophy is the belief that rulers are unnecessary and should be abolished although there are differing interpretations of what this means anarchism also refers to related social movements that advocate the elimination of authoritarian institutions particularly the state the word anarchy as most anarchists use it does not imply chaos nihilism or anomie but rather a harmonious anti authoritarian society in place of what are regarded as authoritarian political structures and coercive economic instituti anarchism originated as a term of abuse first used against early working class radicals including the diggers of the english revolution and the sans culottes of the french revolution whilst the term is still used in a pejorative way to describe any act that used violent means to destroy the organization of society it has also been taken up as a positive label by self defined anarchists the word anarchism is derived from the greek without archons ruler chief king anarchism as a political philosophy is the belief that rulers are unnecessary and should be abolished although there are differing interpretations of what this means anarchism also refers to related social movements that advocate the elimination of authoritarian institutions particularly the state the word anarchy as most anarchists use it does not imply chaos nihilism or anomie but rather a harmonious anti authoritarian society in place of what are regarded as authoritarian political structures and coercive economic instituti\n",
      "ss: ndl e s e nengtil d th tndheo th tndt  oor ternid the n  athr  athrk tg thud tthtingl o n e e ng the cerhtn  tnethe tht e  tthcor  ton ond the cixd thllnge  tnethe thomt  teaens  tn thic terhe cheo th tixon tnid th tndroe e ioe ths th ter tere thd the the ionid threint thntd th ter tade he cne td e ion th tixons  on tht thl mey n thte oth tndththrtx on teae  ty thve terere  tndl e s  tthe thrk tndl e s e n thvengn thome he cen a thih n  tnde ne aeae s ons e ing thd e  t tth tndros y al tros tin e th the cy  ts the ioeae s the the  tnte e thd the t  ty the og tr thl rer t he c tnd tere reng tn ers ine ion  anethiciohes thntd thd e  t tthl meeaere th tea tio tixonn thren nterthe ionderoniothe th te g ion th tnd tnengting an  aonreon othrte ale e  ihe cixtid he chie thd e  tth tor athd e  t t tnid n thn  tin an er ionve ain a t tthe ndt sttht thtier tndise n ngndthd onnd tnengting aixons  tn the e th thit the thcome t tndththe e y e n thrtstonl thern ioe  tnd tons e e the e e aln  tonreonndl e s e nengtil d th tndheo th tndt  oor ternid the n  athr  athrk tg thud tthtingl o n e e ng the cerhtn  tnethe tht e  tthcor  ton ond the cixd thllnge  tnethe thomt  teaens  tn thic terhe cheo th tixon tnid th tndroe e ioe ths th ter tere thd the the ionid threint thntd th ter tade he cne td e ion th tixons  on tht thl mey n thte oth tndththrtx on teae  ty thve terere  tndl e s  tthe thrk tndl e s e n thvengn thome he cen a thih n  tnde ne aeae s ons e ing thd e  t tth tndros y al tros tin e th the cy  ts the ioeae s the the  tnte e thd the t  ty the og tr thl rer t he c tnd tere reng tn ers ine ion  anethiciohes thntd thd e  t tthl meeaere th tea tio tixonn thren nterthe ionderoniothe th te g ion th tnd tnengting an  aonreon othrte ale e  ihe cixtid he chie thd e  tth tor athd e  t t tnid n thn  tin an er ionve ain a t tthe ndt sttht thtier tndise n ngndthd onnd tnengting aixons  tn the e th thit the thcome t tndththe e y e n thrtstonl thern ioe  tnd tons e e the e e aln  tonreon\n",
      "Validation set perplexity: 56.59\n",
      "Average loss at step 3100: 4.180635 learning rate: 10.000000\n",
      "Minibatch perplexity: 56.42\n",
      "bb:  anarchism originated as a term of abuse first used against early working class radicals including the diggers of the english revolution and the sans culottes of the french revolution whilst the term is still used in a pejorative way to describe any act that used violent means to destroy the organization of society it has also been taken up as a positive label by self defined anarchists the word anarchism is derived from the greek without archons ruler chief king anarchism as a political philosophy is the belief that rulers are unnecessary and should be abolished although there are differing interpretations of what this means anarchism also refers to related social movements that advocate the elimination of authoritarian institutions particularly the state the word anarchy as most anarchists use it does not imply chaos nihilism or anomie but rather a harmonious anti authoritarian society in place of what are regarded as authoritarian political structures and coercive economic instituti anarchism originated as a term of abuse first used against early working class radicals including the diggers of the english revolution and the sans culottes of the french revolution whilst the term is still used in a pejorative way to describe any act that used violent means to destroy the organization of society it has also been taken up as a positive label by self defined anarchists the word anarchism is derived from the greek without archons ruler chief king anarchism as a political philosophy is the belief that rulers are unnecessary and should be abolished although there are differing interpretations of what this means anarchism also refers to related social movements that advocate the elimination of authoritarian institutions particularly the state the word anarchy as most anarchists use it does not imply chaos nihilism or anomie but rather a harmonious anti authoritarian society in place of what are regarded as authoritarian political structures and coercive economic instituti\n",
      "ss: ndl e s  tnengtil d th tndheo th tndt d iv t tsed the n  tthr  athrk tg thud tthl ngl o n e ding the se htr  tnethe tht e  athcor  ton tnd the sevd thrrtie  tnethe thomt  telens  tn thic te he sheo th aevony sed th tndroe  tioe ths th te  ae e thd the the ionid thins t thntd th te  aene he sneerd inion th tevens  tn tht thsomee n thte ath tndththrtx on tans s e thve te erg  tndl e s e the thrk tndl e s  tn thd ngr thome he sen ts ith ug tnde ug tels s oms e ing thd  t t ath tndros h al tros tin e th ahe se y s the ioels s the ths  td e e thd the r  te thins  ar thsoe r t he s tnd ae e reca tn ers ese ion  tnethiciohes thntd thd  t t athsomeelere th tels io tevenl threr nterthe ionde eniothe ths e g ion th tnd tugngl ngd n  tonreon tthrte als e  the sevted he sit tthd  t tth tans thd  t t a tsed n thn  tinh n er tomn  ain t t ath tndn sttht thl e  tndise stngr thd onnd tugngl ngd evens  tn the e th titt the thcol  t tndththe  th e l thrttionl the s ioe  tnd toms e e the e e aln  tonreonndl e s  tnengtil d th tndheo th tndt d iv t tsed the n  tthr  athrk tg thud tthl ngl o n e ding the se htr  tnethe tht e  athcor  ton tnd the sevd thrrtie  tnethe thomt  telens  tn thic te he sheo th aevony sed th tndroe  tioe ths th te  ae e thd the the ionid thins t thntd th te  aene he sneerd inion th tevens  tn tht thsomee n thte ath tndththrtx on tans s e thve te erg  tndl e s e the thrk tndl e s  tn thd ngr thome he sen ts ith ug tnde ug tels s oms e ing thd  t t ath tndros h al tros tin e th ahe se y s the ioels s the ths  td e e thd the r  te thins  ar thsoe r t he s tnd ae e reca tn ers ese ion  tnethiciohes thntd thd  t t athsomeelere th tels io tevenl threr nterthe ionde eniothe ths e g ion th tnd tugngl ngd n  tonreon tthrte als e  the sevted he sit tthd  t tth tans thd  t t a tsed n thn  tinh n er tomn  ain t t ath tndn sttht thl e  tndise stngr thd onnd tugngl ngd evens  tn the e th titt the thcol  t tndththe  th e l thrttionl the s ioe  tnd toms e e the e e aln  tonreon\n",
      "Validation set perplexity: 55.16\n"
     ]
    },
    {
     "name": "stdout",
     "output_type": "stream",
     "text": [
      "Average loss at step 3200: 4.154888 learning rate: 10.000000\n",
      "Minibatch perplexity: 67.29\n",
      "bb:  anarchism originated as a term of abuse first used against early working class radicals including the diggers of the english revolution and the sans culottes of the french revolution whilst the term is still used in a pejorative way to describe any act that used violent means to destroy the organization of society it has also been taken up as a positive label by self defined anarchists the word anarchism is derived from the greek without archons ruler chief king anarchism as a political philosophy is the belief that rulers are unnecessary and should be abolished although there are differing interpretations of what this means anarchism also refers to related social movements that advocate the elimination of authoritarian institutions particularly the state the word anarchy as most anarchists use it does not imply chaos nihilism or anomie but rather a harmonious anti authoritarian society in place of what are regarded as authoritarian political structures and coercive economic instituti anarchism originated as a term of abuse first used against early working class radicals including the diggers of the english revolution and the sans culottes of the french revolution whilst the term is still used in a pejorative way to describe any act that used violent means to destroy the organization of society it has also been taken up as a positive label by self defined anarchists the word anarchism is derived from the greek without archons ruler chief king anarchism as a political philosophy is the belief that rulers are unnecessary and should be abolished although there are differing interpretations of what this means anarchism also refers to related social movements that advocate the elimination of authoritarian institutions particularly the state the word anarchy as most anarchists use it does not imply chaos nihilism or anomie but rather a harmonious anti authoritarian society in place of what are regarded as authoritarian political structures and coercive economic instituti\n",
      "ss: ndl e s e f ngtil d th tndheo th tndt d or tersed the n  tthse athrk tg thas athl ngl o n e e ng the ce hts  tf the tht e  athcode ton ond the cevd thrrnge  tf the thomt  aelens  tn thice erhe cheo th aevony sed th tndroe  aioe ths th te  te e thd the the ionid thres t thntd th te  ty e he cneerd e ion th tevess  tn tht thsomey n thte tth tndththrtngon teas s y thve te org  tndl e s e the thrk tndl e s e n thd ng tthome he crod s orh n  tnde n  tel as oms e ing thd e  a ath tndros y al tros tin e th ahe cy s s the ioel as the the  ts e e thd the t  ty the s  ar thsoreght he c tnd te e reng tn ers ine ion  tf thiciohes thntd thd e  a athsomeele e th tels io tevesn thre tnterthe ionde esiothe ths e g ion th tnd tn ngl ng an  tonreon athrte ale e  the cevted he core thd e  ath tus tthd e  a a tsed n thn  tin an er toms  ain a t athe ndtesttht thl e  tndise n ngr thd onnd tn ngl ng aevess  tn the e th tort the thcode t tndththe e y e n thrtngonl thers ioe  tnd toms e e the e e aln  tonreonndl e s e f ngtil d th tndheo th tndt d or tersed the n  tthse athrk tg thas athl ngl o n e e ng the ce hts  tf the tht e  athcode ton ond the cevd thrrnge  tf the thomt  aelens  tn thice erhe cheo th aevony sed th tndroe  aioe ths th te  te e thd the the ionid thres t thntd th te  ty e he cneerd e ion th tevess  tn tht thsomey n thte tth tndththrtngon teas s y thve te org  tndl e s e the thrk tndl e s e n thd ng tthome he crod s orh n  tnde n  tel as oms e ing thd e  a ath tndros y al tros tin e th ahe cy s s the ioel as the the  ts e e thd the t  ty the s  ar thsoreght he c tnd te e reng tn ers ine ion  tf thiciohes thntd thd e  a athsomeele e th tels io tevesn thre tnterthe ionde esiothe ths e g ion th tnd tn ngl ng an  tonreon athrte ale e  the cevted he core thd e  ath tus tthd e  a a tsed n thn  tin an er toms  ain a t athe ndtesttht thl e  tndise n ngr thd onnd tn ngl ng aevess  tn the e th tort the thcode t tndththe e y e n thrtngonl thers ioe  tnd toms e e the e e aln  tonreon\n",
      "Validation set perplexity: 53.97\n",
      "Average loss at step 3300: 4.205811 learning rate: 10.000000\n",
      "Minibatch perplexity: 66.15\n",
      "bb:  anarchism originated as a term of abuse first used against early working class radicals including the diggers of the english revolution and the sans culottes of the french revolution whilst the term is still used in a pejorative way to describe any act that used violent means to destroy the organization of society it has also been taken up as a positive label by self defined anarchists the word anarchism is derived from the greek without archons ruler chief king anarchism as a political philosophy is the belief that rulers are unnecessary and should be abolished although there are differing interpretations of what this means anarchism also refers to related social movements that advocate the elimination of authoritarian institutions particularly the state the word anarchy as most anarchists use it does not imply chaos nihilism or anomie but rather a harmonious anti authoritarian society in place of what are regarded as authoritarian political structures and coercive economic instituti anarchism originated as a term of abuse first used against early working class radicals including the diggers of the english revolution and the sans culottes of the french revolution whilst the term is still used in a pejorative way to describe any act that used violent means to destroy the organization of society it has also been taken up as a positive label by self defined anarchists the word anarchism is derived from the greek without archons ruler chief king anarchism as a political philosophy is the belief that rulers are unnecessary and should be abolished although there are differing interpretations of what this means anarchism also refers to related social movements that advocate the elimination of authoritarian institutions particularly the state the word anarchy as most anarchists use it does not imply chaos nihilism or anomie but rather a harmonious anti authoritarian society in place of what are regarded as authoritarian political structures and coercive economic instituti\n",
      "ss: ndl e s  tnengtitid th tndhes th tndt d iv tersed the n  tthd  tthrk tg thas tthtingl o n e e ng the ty ht t tf the tht e  tthfer  ton tnd the tevd thrrnge  tnethe thomt  telens  tn thic terhe the tth tevony sed th tndroe  tioe ths th ty  te e thd the the ionid thins t thntd th ty  ty e he tneerd e ion th tevons  tn thvethso ty n thti tth tndththrtx on tans  ty thve ty e g  tndl e s  tthe thrl tndl e s  tn ths ng tthome he tro t tith ug tnde ug tel t tons e ing thd e  t tth tndros ioh  trostng te th the ty  ts the ioel t tthe the  t te e thd the gh ty the d  tr thsoe ght he t tnd te e reng tn er tine ion  tf thiciohes thntd thd e  t tthso tele e th tel tio tevonn thst t terthe ionde oniothe ths e g ion th tnd tugngtingd n  tonreon tthrte h  te  the tevtid he tite thd e  tth ton tthd e  t t tsed n th t tinh n er tonve tin t t tth tndt sttht thtie  tndave stngr thd onnd tugngtingd evons  tn the e th titt the thfeti t tndththe e ioe n thrtngonl thers ioe  tnd tons e e the e e h n  tonreonndl e s  tnengtitid th tndhes th tndt d iv tersed the n  tthd  tthrk tg thas tthtingl o n e e ng the ty ht t tf the tht e  tthfer  ton tnd the tevd thrrnge  tnethe thomt  telens  tn thic terhe the tth tevony sed th tndroe  tioe ths th ty  te e thd the the ionid thins t thntd th ty  ty e he tneerd e ion th tevons  tn thvethso ty n thti tth tndththrtx on tans  ty thve ty e g  tndl e s  tthe thrl tndl e s  tn ths ng tthome he tro t tith ug tnde ug tel t tons e ing thd e  t tth tndros ioh  trostng te th the ty  ts the ioel t tthe the  t te e thd the gh ty the d  tr thsoe ght he t tnd te e reng tn er tine ion  tf thiciohes thntd thd e  t tthso tele e th tel tio tevonn thst t terthe ionde oniothe ths e g ion th tnd tugngtingd n  tonreon tthrte h  te  the tevtid he tite thd e  tth ton tthd e  t t tsed n th t tinh n er tonve tin t t tth tndt sttht thtie  tndave stngr thd onnd tugngtingd evons  tn the e th titt the thfeti t tndththe e ioe n thrtngonl thers ioe  tnd tons e e the e e h n  tonreon\n",
      "Validation set perplexity: 53.04\n"
     ]
    },
    {
     "name": "stdout",
     "output_type": "stream",
     "text": [
      "Average loss at step 3400: 4.224217 learning rate: 10.000000\n",
      "Minibatch perplexity: 56.32\n",
      "bb:  anarchism originated as a term of abuse first used against early working class radicals including the diggers of the english revolution and the sans culottes of the french revolution whilst the term is still used in a pejorative way to describe any act that used violent means to destroy the organization of society it has also been taken up as a positive label by self defined anarchists the word anarchism is derived from the greek without archons ruler chief king anarchism as a political philosophy is the belief that rulers are unnecessary and should be abolished although there are differing interpretations of what this means anarchism also refers to related social movements that advocate the elimination of authoritarian institutions particularly the state the word anarchy as most anarchists use it does not imply chaos nihilism or anomie but rather a harmonious anti authoritarian society in place of what are regarded as authoritarian political structures and coercive economic instituti anarchism originated as a term of abuse first used against early working class radicals including the diggers of the english revolution and the sans culottes of the french revolution whilst the term is still used in a pejorative way to describe any act that used violent means to destroy the organization of society it has also been taken up as a positive label by self defined anarchists the word anarchism is derived from the greek without archons ruler chief king anarchism as a political philosophy is the belief that rulers are unnecessary and should be abolished although there are differing interpretations of what this means anarchism also refers to related social movements that advocate the elimination of authoritarian institutions particularly the state the word anarchy as most anarchists use it does not imply chaos nihilism or anomie but rather a harmonious anti authoritarian society in place of what are regarded as authoritarian political structures and coercive economic instituti\n",
      "ss: ndl e s e nengtil d th tndhee th tndt d or aersed the n  tths d thrk tg thud athl ngl o n e e ng ahe cy htr  anethe tht is athcon tion and the cevd thrrnge  anethe thomt erelens  an thice erhe chee th aevony sed th tndroe e ioe ths th ty  ae e thd the the iosed thres t thntd th ty  ay e he cneerd e ion th tevess  tn tht thsomey n thti tth tndththrtx on fans s y thves ererg  andl e s erthe thrls ndl e s e n thd ngr thome he cend s ith ug ande ug tels  toms e ing thd e er ath tndros h al arongs n e th ahe cy s s the ioels  tthe the  ante e thd the gh ay thess  ar thl e ght he c tnd tere reng an ers ese ion  anethiciohes thntd thd e er athl meelers th tels io aevesn threr nterthe ionderesiothe ths e g ion th tnd augngtingd n  aonreon athrte als e  ahe cevtid he cite thd e erth tars thd e er a ased n thn  ainh n er aomn s in a a aths ndn sttht thl er andise n ngr thd onnd augngtingd evess  tn the e th titt the thcol s  andththere h e n thrtngonl thers ioe  and toms e e the e e aln  aonreonndl e s e nengtil d th tndhee th tndt d or aersed the n  tths d thrk tg thud athl ngl o n e e ng ahe cy htr  anethe tht is athcon tion and the cevd thrrnge  anethe thomt erelens  an thice erhe chee th aevony sed th tndroe e ioe ths th ty  ae e thd the the iosed thres t thntd th ty  ay e he cneerd e ion th tevess  tn tht thsomey n thti tth tndththrtx on fans s y thves ererg  andl e s erthe thrls ndl e s e n thd ngr thome he cend s ith ug ande ug tels  toms e ing thd e er ath tndros h al arongs n e th ahe cy s s the ioels  tthe the  ante e thd the gh ay thess  ar thl e ght he c tnd tere reng an ers ese ion  anethiciohes thntd thd e er athl meelers th tels io aevesn threr nterthe ionderesiothe ths e g ion th tnd augngtingd n  aonreon athrte als e  ahe cevtid he cite thd e erth tars thd e er a ased n thn  ainh n er aomn s in a a aths ndn sttht thl er andise n ngr thd onnd augngtingd evess  tn the e th titt the thcol s  andththere h e n thrtngonl thers ioe  and toms e e the e e aln  aonreon\n",
      "Validation set perplexity: 52.52\n",
      "Average loss at step 3500: 4.202036 learning rate: 10.000000\n",
      "Minibatch perplexity: 58.97\n",
      "bb:  anarchism originated as a term of abuse first used against early working class radicals including the diggers of the english revolution and the sans culottes of the french revolution whilst the term is still used in a pejorative way to describe any act that used violent means to destroy the organization of society it has also been taken up as a positive label by self defined anarchists the word anarchism is derived from the greek without archons ruler chief king anarchism as a political philosophy is the belief that rulers are unnecessary and should be abolished although there are differing interpretations of what this means anarchism also refers to related social movements that advocate the elimination of authoritarian institutions particularly the state the word anarchy as most anarchists use it does not imply chaos nihilism or anomie but rather a harmonious anti authoritarian society in place of what are regarded as authoritarian political structures and coercive economic instituti anarchism originated as a term of abuse first used against early working class radicals including the diggers of the english revolution and the sans culottes of the french revolution whilst the term is still used in a pejorative way to describe any act that used violent means to destroy the organization of society it has also been taken up as a positive label by self defined anarchists the word anarchism is derived from the greek without archons ruler chief king anarchism as a political philosophy is the belief that rulers are unnecessary and should be abolished although there are differing interpretations of what this means anarchism also refers to related social movements that advocate the elimination of authoritarian institutions particularly the state the word anarchy as most anarchists use it does not imply chaos nihilism or anomie but rather a harmonious anti authoritarian society in place of what are regarded as authoritarian political structures and coercive economic instituti\n",
      "ss: ndl e s e f ngtitir th andhee th tndt d ou oersed the n  athr d thrk ag thas athtingn o n e e ng the pe hts  af the tht e  othsun tion ond the pixd thlls e  of the thomt erecens  tn thice erhe phee th oixony sed thg ndroe e ioe ths th te  ae e thd the the iosed thins t thntd th te  aane he pf erd e ion th tixess  tn ths thsomey n thti oths ndththrtx on tans s y thves e erg  tndtie s erthe thrks ndl e s e n thvengr thome he pend  oith n e nde n  aecs s oms e ing thd e er ath androleh al trosttis e th ohe py s s the ioecs s the the s s e e thd the r  ty thles  or thsoe r t he p and ae e reng tn ers ese ion  af thiciohes thntd thd e er athsomeece s th tecs io tixesn thst tnterthe ionderesiothe ths e g ion th tnde n ngtingd n  aonreon othrte als e  the pixtir he pite thd e erth aans thd e er a tsed n thn  ainh n er toms s in oe  athe ndn sttht thtie s nde e stngr thd ons e n ngtingd ixess  tn the e th titt the thsun s  tndththe e h e n thrttyonl thers ioe  and toms e e the e e aln  aonreons l e s e f ngtitir th andhee th tndt d ou oersed the n  athr d thrk ag thas athtingn o n e e ng the pe hts  af the tht e  othsun tion ond the pixd thlls e  of the thomt erecens  tn thice erhe phee th oixony sed thg ndroe e ioe ths th te  ae e thd the the iosed thins t thntd th te  aane he pf erd e ion th tixess  tn ths thsomey n thti oths ndththrtx on tans s y thves e erg  tndtie s erthe thrks ndl e s e n thvengr thome he pend  oith n e nde n  aecs s oms e ing thd e er ath androleh al trosttis e th ohe py s s the ioecs s the the s s e e thd the r  ty thles  or thsoe r t he p and ae e reng tn ers ese ion  af thiciohes thntd thd e er athsomeece s th tecs io tixesn thst tnterthe ionderesiothe ths e g ion th tnde n ngtingd n  aonreon othrte als e  the pixtir he pite thd e erth aans thd e er a tsed n thn  ainh n er toms s in oe  athe ndn sttht thtie s nde e stngr thd ons e n ngtingd ixess  tn the e th titt the thsun s  tndththe e h e n thrttyonl thers ioe  and toms e e the e e aln  aonreon\n",
      "Validation set perplexity: 54.53\n"
     ]
    },
    {
     "name": "stdout",
     "output_type": "stream",
     "text": [
      "Average loss at step 3600: 4.175850 learning rate: 10.000000\n",
      "Minibatch perplexity: 56.72\n",
      "bb:  anarchism originated as a term of abuse first used against early working class radicals including the diggers of the english revolution and the sans culottes of the french revolution whilst the term is still used in a pejorative way to describe any act that used violent means to destroy the organization of society it has also been taken up as a positive label by self defined anarchists the word anarchism is derived from the greek without archons ruler chief king anarchism as a political philosophy is the belief that rulers are unnecessary and should be abolished although there are differing interpretations of what this means anarchism also refers to related social movements that advocate the elimination of authoritarian institutions particularly the state the word anarchy as most anarchists use it does not imply chaos nihilism or anomie but rather a harmonious anti authoritarian society in place of what are regarded as authoritarian political structures and coercive economic instituti anarchism originated as a term of abuse first used against early working class radicals including the diggers of the english revolution and the sans culottes of the french revolution whilst the term is still used in a pejorative way to describe any act that used violent means to destroy the organization of society it has also been taken up as a positive label by self defined anarchists the word anarchism is derived from the greek without archons ruler chief king anarchism as a political philosophy is the belief that rulers are unnecessary and should be abolished although there are differing interpretations of what this means anarchism also refers to related social movements that advocate the elimination of authoritarian institutions particularly the state the word anarchy as most anarchists use it does not imply chaos nihilism or anomie but rather a harmonious anti authoritarian society in place of what are regarded as authoritarian political structures and coercive economic instituti\n",
      "ss: ndl e s e f ngngtid th tndhee th tndt d or t tsed the n  tthr d thrk tg thud tthtingn o n e e ng the se htr  tf the tht e  tthcen teon ond the sevd thrrnge  tf the thomt erelens  tn tho  terhe shee th tevony sed th tndroe e ioe ths th te  te e thd the the iosed thngs t thntd th te  tane he sf erd e ion th tevons  on thvethsomee n thtid th tndththrtx on sans y e thves e ere  tndl e s erthe thrk tndl e s e n thd ngn thome he send  tith n e nde n  tele  tons e ing thd e er tth tndros y al trongngmee th the se y s the ioele  tthe the  td e y thd the t  te thles  tr thsoe r t he s tnd te e reng tn er tese ion  tf tho iohes thntd thd e er tthsomeate  tth taty io tevonn thnin s erthe ionderoniothe thy e g ion th tnd tn ngtingd n  tonreon othrte ale s  the sevtid he site thd e erth tans thd e er t tsed n thn  tin tn er tonnds ins  t tthe ndt ngtht thtie  tnde e ningr thd onnd tn ngtingd evons  on the e th titt the thsiti t tndthther ty y n thrtngonl thers ioe  tnd tons e e the e e aln  tonreonndl e s e f ngngtid th tndhee th tndt d or t tsed the n  tthr d thrk tg thud tthtingn o n e e ng the se htr  tf the tht e  tthcen teon ond the sevd thrrnge  tf the thomt erelens  tn tho  terhe shee th tevony sed th tndroe e ioe ths th te  te e thd the the iosed thngs t thntd th te  tane he sf erd e ion th tevons  on thvethsomee n thtid th tndththrtx on sans y e thves e ere  tndl e s erthe thrk tndl e s e n thd ngn thome he send  tith n e nde n  tele  tons e ing thd e er tth tndros y al trongngmee th the se y s the ioele  tthe the  td e y thd the t  te thles  tr thsoe r t he s tnd te e reng tn er tese ion  tf tho iohes thntd thd e er tthsomeate  tth taty io tevonn thnin s erthe ionderoniothe thy e g ion th tnd tn ngtingd n  tonreon othrte ale s  the sevtid he site thd e erth tans thd e er t tsed n thn  tin tn er tonnds ins  t tthe ndt ngtht thtie  tnde e ningr thd onnd tn ngtingd evons  on the e th titt the thsiti t tndthther ty y n thrtngonl thers ioe  tnd tons e e the e e aln  tonreon\n",
      "Validation set perplexity: 53.71\n",
      "Average loss at step 3700: 4.193897 learning rate: 10.000000\n",
      "Minibatch perplexity: 71.61\n",
      "bb:  anarchism originated as a term of abuse first used against early working class radicals including the diggers of the english revolution and the sans culottes of the french revolution whilst the term is still used in a pejorative way to describe any act that used violent means to destroy the organization of society it has also been taken up as a positive label by self defined anarchists the word anarchism is derived from the greek without archons ruler chief king anarchism as a political philosophy is the belief that rulers are unnecessary and should be abolished although there are differing interpretations of what this means anarchism also refers to related social movements that advocate the elimination of authoritarian institutions particularly the state the word anarchy as most anarchists use it does not imply chaos nihilism or anomie but rather a harmonious anti authoritarian society in place of what are regarded as authoritarian political structures and coercive economic instituti anarchism originated as a term of abuse first used against early working class radicals including the diggers of the english revolution and the sans culottes of the french revolution whilst the term is still used in a pejorative way to describe any act that used violent means to destroy the organization of society it has also been taken up as a positive label by self defined anarchists the word anarchism is derived from the greek without archons ruler chief king anarchism as a political philosophy is the belief that rulers are unnecessary and should be abolished although there are differing interpretations of what this means anarchism also refers to related social movements that advocate the elimination of authoritarian institutions particularly the state the word anarchy as most anarchists use it does not imply chaos nihilism or anomie but rather a harmonious anti authoritarian society in place of what are regarded as authoritarian political structures and coercive economic instituti\n",
      "ss: ndl e s e nengngl r th tndhee th tndt d or t tsed the n  tthr  athrk tg thud tthtingn o n e e ng the me htr  tnethe tht is tthspr tion tnd the mevd thrrnge  tnethe thomt  aeaens e n thic terhe mhee th tevony sed th tndroe e ioe ths th te  te e thd the the iosed thngogt thntd th te  tane he mneerd e ion th tevess  tn tht thsomey n thte tth tndththrtx onr ans s y thves e erg  tndl e s erthe thrl tndl e s e n thvengr thome he mene  tith r e nde r  teae s ons e ing thd e  a tth tndros h al trongngn e th the my s s the ioeae s the ths s s e e thd the r  ty thy og tr thsoe r t he m tnd te e reng tn ers ese ion  tnethiciohes thntd thd e  a tthsomeane e th teas io tevesn thnir nterthe ionderiaiothe ths e g ion th tnde r ngting tn  tonreon tthrte ale e  the mevtir he mite thd e  ath tan tthd e  a t tsed n thn  tinh n er tonnts in a t tthe ndn ngtht thtie  tndise ningr thd ngnde r ngting tevess  tn the e th titt the thspti t tndththers h e n thrtngonn thers ioe  tnd tons e e the e e aln  tonreonndl e s e nengngl r th tndhee th tndt d or t tsed the n  tthr  athrk tg thud tthtingn o n e e ng the me htr  tnethe tht is tthspr tion tnd the mevd thrrnge  tnethe thomt  aeaens e n thic terhe mhee th tevony sed th tndroe e ioe ths th te  te e thd the the iosed thngogt thntd th te  tane he mneerd e ion th tevess  tn tht thsomey n thte tth tndththrtx onr ans s y thves e erg  tndl e s erthe thrl tndl e s e n thvengr thome he mene  tith r e nde r  teae s ons e ing thd e  a tth tndros h al trongngn e th the my s s the ioeae s the ths s s e e thd the r  ty thy og tr thsoe r t he m tnd te e reng tn ers ese ion  tnethiciohes thntd thd e  a tthsomeane e th teas io tevesn thnir nterthe ionderiaiothe ths e g ion th tnde r ngting tn  tonreon tthrte ale e  the mevtir he mite thd e  ath tan tthd e  a t tsed n thn  tinh n er tonnts in a t tthe ndn ngtht thtie  tndise ningr thd ngnde r ngting tevess  tn the e th titt the thspti t tndththers h e n thrtngonn thers ioe  tnd tons e e the e e aln  tonreon\n",
      "Validation set perplexity: 52.82\n"
     ]
    },
    {
     "name": "stdout",
     "output_type": "stream",
     "text": [
      "Average loss at step 3800: 4.197479 learning rate: 10.000000\n",
      "Minibatch perplexity: 61.01\n",
      "bb:  anarchism originated as a term of abuse first used against early working class radicals including the diggers of the english revolution and the sans culottes of the french revolution whilst the term is still used in a pejorative way to describe any act that used violent means to destroy the organization of society it has also been taken up as a positive label by self defined anarchists the word anarchism is derived from the greek without archons ruler chief king anarchism as a political philosophy is the belief that rulers are unnecessary and should be abolished although there are differing interpretations of what this means anarchism also refers to related social movements that advocate the elimination of authoritarian institutions particularly the state the word anarchy as most anarchists use it does not imply chaos nihilism or anomie but rather a harmonious anti authoritarian society in place of what are regarded as authoritarian political structures and coercive economic instituti anarchism originated as a term of abuse first used against early working class radicals including the diggers of the english revolution and the sans culottes of the french revolution whilst the term is still used in a pejorative way to describe any act that used violent means to destroy the organization of society it has also been taken up as a positive label by self defined anarchists the word anarchism is derived from the greek without archons ruler chief king anarchism as a political philosophy is the belief that rulers are unnecessary and should be abolished although there are differing interpretations of what this means anarchism also refers to related social movements that advocate the elimination of authoritarian institutions particularly the state the word anarchy as most anarchists use it does not imply chaos nihilism or anomie but rather a harmonious anti authoritarian society in place of what are regarded as authoritarian political structures and coercive economic instituti\n",
      "ss: ndl e s e f ngngl r th tndhee th tndt  tou tersed the n  tthr d thrk tg thud tthtetil o n e e ti the te hts  tf the tht is tthqun teon tnd the tevd thrrnge  tf the thomt erepens  tn thic terhe thee th tevony sed th tndare e ioe ths th te  teae thd the the iosed thres t thntd th te  tane he tf erd e ion th teve s  tn thvethsomee n thte tth tndththrtngon tans s y thve te ere  tndl e s erthe thrk tndl e s e n thd ngr thome he toue  torh n  tnde n  teps  tons e ing thd e er tth tndars h al tars ngn e th the te s s the ioeps  tthe the  ts e e thd the t  te thess  tr thsoe ght he t tnd oe e reng tn er tese ion  tf thiciohes thntd thd e er tthsomeecere th teps io teve l thstr s erthe iondere iothe ths e g ion th tnd tn ngl ng tn  tonreon tthrterale e  the tevter he tase thd e erth tane thd e er t tsed n thn  tinhen er tons  tin t t tthe ndn ngnit thl er tndase stngr thd onnd tn ngl ng teve s  tn the e th tast the thqume t tndththere h e l thrttionl thers ioe  tnd tons e e the e e aln  tonreonndl e s e f ngngl r th tndhee th tndt  tou tersed the n  tthr d thrk tg thud tthtetil o n e e ti the te hts  tf the tht is tthqun teon tnd the tevd thrrnge  tf the thomt erepens  tn thic terhe thee th tevony sed th tndare e ioe ths th te  teae thd the the iosed thres t thntd th te  tane he tf erd e ion th teve s  tn thvethsomee n thte tth tndththrtngon tans s y thve te ere  tndl e s erthe thrk tndl e s e n thd ngr thome he toue  torh n  tnde n  teps  tons e ing thd e er tth tndars h al tars ngn e th the te s s the ioeps  tthe the  ts e e thd the t  te thess  tr thsoe ght he t tnd oe e reng tn er tese ion  tf thiciohes thntd thd e er tthsomeecere th teps io teve l thstr s erthe iondere iothe ths e g ion th tnd tn ngl ng tn  tonreon tthrterale e  the tevter he tase thd e erth tane thd e er t tsed n thn  tinhen er tons  tin t t tthe ndn ngnit thl er tndase stngr thd onnd tn ngl ng teve s  tn the e th tast the thqume t tndththere h e l thrttionl thers ioe  tnd tons e e the e e aln  tonreon\n",
      "Validation set perplexity: 51.27\n",
      "Average loss at step 3900: 4.183964 learning rate: 10.000000\n",
      "Minibatch perplexity: 73.71\n",
      "bb:  anarchism originated as a term of abuse first used against early working class radicals including the diggers of the english revolution and the sans culottes of the french revolution whilst the term is still used in a pejorative way to describe any act that used violent means to destroy the organization of society it has also been taken up as a positive label by self defined anarchists the word anarchism is derived from the greek without archons ruler chief king anarchism as a political philosophy is the belief that rulers are unnecessary and should be abolished although there are differing interpretations of what this means anarchism also refers to related social movements that advocate the elimination of authoritarian institutions particularly the state the word anarchy as most anarchists use it does not imply chaos nihilism or anomie but rather a harmonious anti authoritarian society in place of what are regarded as authoritarian political structures and coercive economic instituti anarchism originated as a term of abuse first used against early working class radicals including the diggers of the english revolution and the sans culottes of the french revolution whilst the term is still used in a pejorative way to describe any act that used violent means to destroy the organization of society it has also been taken up as a positive label by self defined anarchists the word anarchism is derived from the greek without archons ruler chief king anarchism as a political philosophy is the belief that rulers are unnecessary and should be abolished although there are differing interpretations of what this means anarchism also refers to related social movements that advocate the elimination of authoritarian institutions particularly the state the word anarchy as most anarchists use it does not imply chaos nihilism or anomie but rather a harmonious anti authoritarian society in place of what are regarded as authoritarian political structures and coercive economic instituti\n",
      "ss: ndl e s e f ngtil d th tndhee th tndt d ou t onid the n  tthr d thrk tg thud othtingn o n e e ng ahe fanhts  tf the tht is tthcoritions nd she fevd thrrnge  tf the thomt erepers ion thice erhe fhee th tevony nid th tndroe e ioe ths th tan ae e thd the the ionid thsts t thntd th tan aane he ff erd e ion th teve s  tn tht thso by n thted th tndththrtx on faniny y thves anerg  tndl e s erthe thrk tndl e s e n thd ngr thome he foud  oith n ionde n  tepe  oons e ing thd e er tth tndroith al trongngn e th the fy y s the ioepe  othe the  ts e e thd the t  ty thleit tr thsoe ght he f tnd tane reng an ere ese ion  tf thiciohes thntd thd e er tthso bane e th tepy io teve n thstr nterthe iondere iothe thy e g ion th tndion ngting an  tonreons thrte ale e  ahe fevtid he fite thd e erth tant thd e er t tnid n thn  tinh n er tonnts in te  tthe ndt sttht thl e e ndise stngr thd onndion ngting aeve s  tn the e th titt the thcon  t tndthstere h e n thrtngonl thins ioe  tnd sons e e the e e aln  tonreonndl e s e f ngtil d th tndhee th tndt d ou t onid the n  tthr d thrk tg thud othtingn o n e e ng ahe fanhts  tf the tht is tthcoritions nd she fevd thrrnge  tf the thomt erepers ion thice erhe fhee th tevony nid th tndroe e ioe ths th tan ae e thd the the ionid thsts t thntd th tan aane he ff erd e ion th teve s  tn tht thso by n thted th tndththrtx on faniny y thves anerg  tndl e s erthe thrk tndl e s e n thd ngr thome he foud  oith n ionde n  tepe  oons e ing thd e er tth tndroith al trongngn e th the fy y s the ioepe  othe the  ts e e thd the t  ty thleit tr thsoe ght he f tnd tane reng an ere ese ion  tf thiciohes thntd thd e er tthso bane e th tepy io teve n thstr nterthe iondere iothe thy e g ion th tndion ngting an  tonreons thrte ale e  ahe fevtid he fite thd e erth tant thd e er t tnid n thn  tinh n er tonnts in te  tthe ndt sttht thl e e ndise stngr thd onndion ngting aeve s  tn the e th titt the thcon  t tndthstere h e n thrtngonl thins ioe  tnd sons e e the e e aln  tonreon\n",
      "Validation set perplexity: 52.49\n"
     ]
    },
    {
     "name": "stdout",
     "output_type": "stream",
     "text": [
      "Average loss at step 4000: 4.228332 learning rate: 10.000000\n",
      "Minibatch perplexity: 68.96\n",
      "bb:  anarchism originated as a term of abuse first used against early working class radicals including the diggers of the english revolution and the sans culottes of the french revolution whilst the term is still used in a pejorative way to describe any act that used violent means to destroy the organization of society it has also been taken up as a positive label by self defined anarchists the word anarchism is derived from the greek without archons ruler chief king anarchism as a political philosophy is the belief that rulers are unnecessary and should be abolished although there are differing interpretations of what this means anarchism also refers to related social movements that advocate the elimination of authoritarian institutions particularly the state the word anarchy as most anarchists use it does not imply chaos nihilism or anomie but rather a harmonious anti authoritarian society in place of what are regarded as authoritarian political structures and coercive economic instituti anarchism originated as a term of abuse first used against early working class radicals including the diggers of the english revolution and the sans culottes of the french revolution whilst the term is still used in a pejorative way to describe any act that used violent means to destroy the organization of society it has also been taken up as a positive label by self defined anarchists the word anarchism is derived from the greek without archons ruler chief king anarchism as a political philosophy is the belief that rulers are unnecessary and should be abolished although there are differing interpretations of what this means anarchism also refers to related social movements that advocate the elimination of authoritarian institutions particularly the state the word anarchy as most anarchists use it does not imply chaos nihilism or anomie but rather a harmonious anti authoritarian society in place of what are regarded as authoritarian political structures and coercive economic instituti\n",
      "ss: ndl e s e necangl d th tndhee th tndt d or tersed the n  tthr d thrk ag thud tthtetin o n e ting the se hts  tnethe tht is tthfen teon and she sevd thrrnge  tnethe thomt erefens e n thice erhe shee th tevony sed th tndroe e ioe ths th te  te erthd the the iosed thins t thntd th te  tane he sneerd e ion th teve s  tn thvethsomey n thted ths ndththrtonon sans s y thves e erg  tndl e s erthe thrk andl e s e n thvecar thome he send  tith uge nde ne tefs e ons ering thd e er tth tndros h h  arolengn e th the sy s s the ioefs  tthe the s s e y thd the t  ty thy og tr thsoe ght he s snd se e reca tn er tess ion  tnethiciohes thntd thd e er tthsomeanere th tefs io teve n thstr nterthe ionderiaiothe ths e g ion th tnde necatica an  tonreon athrte h e y  the sevted he site thd e erth tans thd e er t tsed n thn  tinh n le sonves in ae  tthe ndt stnit thtee  tnde e stcar thd onnde necatica aeve s  tn the e th titt the thvete a tndthseere h y n thrtteonl thers ioe  tnd sons e e the e e h n  tonreonndl e s e necangl d th tndhee th tndt d or tersed the n  tthr d thrk ag thud tthtetin o n e ting the se hts  tnethe tht is tthfen teon and she sevd thrrnge  tnethe thomt erefens e n thice erhe shee th tevony sed th tndroe e ioe ths th te  te erthd the the iosed thins t thntd th te  tane he sneerd e ion th teve s  tn thvethsomey n thted ths ndththrtonon sans s y thves e erg  tndl e s erthe thrk andl e s e n thvecar thome he send  tith uge nde ne tefs e ons ering thd e er tth tndros h h  arolengn e th the sy s s the ioefs  tthe the s s e y thd the t  ty thy og tr thsoe ght he s snd se e reca tn er tess ion  tnethiciohes thntd thd e er tthsomeanere th tefs io teve n thstr nterthe ionderiaiothe ths e g ion th tnde necatica an  tonreon athrte h e y  the sevted he site thd e erth tans thd e er t tsed n thn  tinh n le sonves in ae  tthe ndt stnit thtee  tnde e stcar thd onnde necatica aeve s  tn the e th titt the thvete a tndthseere h y n thrtteonl thers ioe  tnd sons e e the e e h n  tonreon\n",
      "Validation set perplexity: 52.24\n",
      "Average loss at step 4100: 4.164918 learning rate: 10.000000\n",
      "Minibatch perplexity: 64.04\n",
      "bb:  anarchism originated as a term of abuse first used against early working class radicals including the diggers of the english revolution and the sans culottes of the french revolution whilst the term is still used in a pejorative way to describe any act that used violent means to destroy the organization of society it has also been taken up as a positive label by self defined anarchists the word anarchism is derived from the greek without archons ruler chief king anarchism as a political philosophy is the belief that rulers are unnecessary and should be abolished although there are differing interpretations of what this means anarchism also refers to related social movements that advocate the elimination of authoritarian institutions particularly the state the word anarchy as most anarchists use it does not imply chaos nihilism or anomie but rather a harmonious anti authoritarian society in place of what are regarded as authoritarian political structures and coercive economic instituti anarchism originated as a term of abuse first used against early working class radicals including the diggers of the english revolution and the sans culottes of the french revolution whilst the term is still used in a pejorative way to describe any act that used violent means to destroy the organization of society it has also been taken up as a positive label by self defined anarchists the word anarchism is derived from the greek without archons ruler chief king anarchism as a political philosophy is the belief that rulers are unnecessary and should be abolished although there are differing interpretations of what this means anarchism also refers to related social movements that advocate the elimination of authoritarian institutions particularly the state the word anarchy as most anarchists use it does not imply chaos nihilism or anomie but rather a harmonious anti authoritarian society in place of what are regarded as authoritarian political structures and coercive economic instituti\n",
      "ss: ndl e s e nengtil d in tndheo in tndt d ou tersed ine n  tinr d inrk tg anud tantingl o n e e ng ahe se htne tnethe cot is tanfen tion tnd the sevd anrrnge  tnethe coomt eresens e n inic terhe sheo in tevony sed in tndroe e ioe ins in te  ae e ind ininine iosed inens t inntd an te  aane he sneerd e ion in tevess  tn inveansomey n inted in tndaninrtonon tons s y inve te erg  tndl e s erane cork tndl e s e n and ngr inome he send  tash uge nde ug tese  tonste ing and e er tin tndros ioal trostngn e in the sy s s the ioese  tane ane  td e e ind ine r  ty inles  tr insoe r t he s tnd se e reng tn er tes tion  tnethiciohes inntd and e er tinsomeesere an tess io tevesn instr nterane ionderesioine cos e g ion in tnde ugngtengd n  tonreon tanrte ale e  the sevted he sass ind e erin tant ind e er t tsed n inn  tinh n er tonnd tin t t tins ndt stint intie e ndise sttir and onnde ugngtengd evess  tn ine e in tast ine anfeti t tndanstere ioe n inrttionl inert ioe  tnd tons e e ine e e aln  tonreonndl e s e nengtil d in tndheo in tndt d ou tersed ine n  tinr d inrk tg anud tantingl o n e e ng ahe se htne tnethe cot is tanfen tion tnd the sevd anrrnge  tnethe coomt eresens e n inic terhe sheo in tevony sed in tndroe e ioe ins in te  ae e ind ininine iosed inens t inntd an te  aane he sneerd e ion in tevess  tn inveansomey n inted in tndaninrtonon tons s y inve te erg  tndl e s erane cork tndl e s e n and ngr inome he send  tash uge nde ug tese  tonste ing and e er tin tndros ioal trostngn e in the sy s s the ioese  tane ane  td e e ind ine r  ty inles  tr insoe r t he s tnd se e reng tn er tes tion  tnethiciohes inntd and e er tinsomeesere an tess io tevesn instr nterane ionderesioine cos e g ion in tnde ugngtengd n  tonreon tanrte ale e  the sevted he sass ind e erin tant ind e er t tsed n inn  tinh n er tonnd tin t t tins ndt stint intie e ndise sttir and onnde ugngtengd evess  tn ine e in tast ine anfeti t tndanstere ioe n inrttionl inert ioe  tnd tons e e ine e e aln  tonreon\n",
      "Validation set perplexity: 51.33\n"
     ]
    },
    {
     "name": "stdout",
     "output_type": "stream",
     "text": [
      "Average loss at step 4200: 4.183301 learning rate: 10.000000\n",
      "Minibatch perplexity: 73.30\n",
      "bb:  anarchism originated as a term of abuse first used against early working class radicals including the diggers of the english revolution and the sans culottes of the french revolution whilst the term is still used in a pejorative way to describe any act that used violent means to destroy the organization of society it has also been taken up as a positive label by self defined anarchists the word anarchism is derived from the greek without archons ruler chief king anarchism as a political philosophy is the belief that rulers are unnecessary and should be abolished although there are differing interpretations of what this means anarchism also refers to related social movements that advocate the elimination of authoritarian institutions particularly the state the word anarchy as most anarchists use it does not imply chaos nihilism or anomie but rather a harmonious anti authoritarian society in place of what are regarded as authoritarian political structures and coercive economic instituti anarchism originated as a term of abuse first used against early working class radicals including the diggers of the english revolution and the sans culottes of the french revolution whilst the term is still used in a pejorative way to describe any act that used violent means to destroy the organization of society it has also been taken up as a positive label by self defined anarchists the word anarchism is derived from the greek without archons ruler chief king anarchism as a political philosophy is the belief that rulers are unnecessary and should be abolished although there are differing interpretations of what this means anarchism also refers to related social movements that advocate the elimination of authoritarian institutions particularly the state the word anarchy as most anarchists use it does not imply chaos nihilism or anomie but rather a harmonious anti authoritarian society in place of what are regarded as authoritarian political structures and coercive economic instituti\n",
      "ss: ndl e s e f catil d th tndhee th tndt d or t osed the n  tthr d thrk tg thud athtitil o n e e ng ahe se htr  tf the tht e  athsutition ond the sevd thrrs e  tf the thom t aeaens e n thice e he shee th aevony sed th tndroe e ioe ths th te  teae thd thinthe iosed thtis t thntd th te  teae he sf e d e ion th teve s  tn thvethsomee n thte tth tndththrtx on tealey y thve te ere  tndl e s  othe thrk tndl e s e n thvecar thome he sene  tash uge nde ug teae  aonlee ing thd e  a ath tndros h al aroles mee th ahe se y s the ioeae  athe the s s e e thd the t  ay thits  ar thsoe r t he s tnd te e reca an er aess ion  tf thiciohes thntd thd e  a athsomeeae  tth teay io teve l thstr nterthe ionde iaiothe thy e g ion th tnde ugcaticad n  tonreon othrte ale e  the sevtid he sase thd e  ath tan tthd e  a a tsed n ths  tinhen er tonve tin ae  athe ndt sttht thtie  ande e stngr thd onnde ugcaticad eve s  tn the e th titt the thsutie  tndththere h e l thrttionl the s ioe  tnd tons e e the e e aln  tonreonndl e s e f catil d th tndhee th tndt d or t osed the n  tthr d thrk tg thud athtitil o n e e ng ahe se htr  tf the tht e  athsutition ond the sevd thrrs e  tf the thom t aeaens e n thice e he shee th aevony sed th tndroe e ioe ths th te  teae thd thinthe iosed thtis t thntd th te  teae he sf e d e ion th teve s  tn thvethsomee n thte tth tndththrtx on tealey y thve te ere  tndl e s  othe thrk tndl e s e n thvecar thome he sene  tash uge nde ug teae  aonlee ing thd e  a ath tndros h al aroles mee th ahe se y s the ioeae  athe the s s e e thd the t  ay thits  ar thsoe r t he s tnd te e reca an er aess ion  tf thiciohes thntd thd e  a athsomeeae  tth teay io teve l thstr nterthe ionde iaiothe thy e g ion th tnde ugcaticad n  tonreon othrte ale e  the sevtid he sase thd e  ath tan tthd e  a a tsed n ths  tinhen er tonve tin ae  athe ndt sttht thtie  ande e stngr thd onnde ugcaticad eve s  tn the e th titt the thsutie  tndththere h e l thrttionl the s ioe  tnd tons e e the e e aln  tonreon\n",
      "Validation set perplexity: 53.34\n",
      "Average loss at step 4300: 4.191200 learning rate: 10.000000\n",
      "Minibatch perplexity: 72.09\n",
      "bb:  anarchism originated as a term of abuse first used against early working class radicals including the diggers of the english revolution and the sans culottes of the french revolution whilst the term is still used in a pejorative way to describe any act that used violent means to destroy the organization of society it has also been taken up as a positive label by self defined anarchists the word anarchism is derived from the greek without archons ruler chief king anarchism as a political philosophy is the belief that rulers are unnecessary and should be abolished although there are differing interpretations of what this means anarchism also refers to related social movements that advocate the elimination of authoritarian institutions particularly the state the word anarchy as most anarchists use it does not imply chaos nihilism or anomie but rather a harmonious anti authoritarian society in place of what are regarded as authoritarian political structures and coercive economic instituti anarchism originated as a term of abuse first used against early working class radicals including the diggers of the english revolution and the sans culottes of the french revolution whilst the term is still used in a pejorative way to describe any act that used violent means to destroy the organization of society it has also been taken up as a positive label by self defined anarchists the word anarchism is derived from the greek without archons ruler chief king anarchism as a political philosophy is the belief that rulers are unnecessary and should be abolished although there are differing interpretations of what this means anarchism also refers to related social movements that advocate the elimination of authoritarian institutions particularly the state the word anarchy as most anarchists use it does not imply chaos nihilism or anomie but rather a harmonious anti authoritarian society in place of what are regarded as authoritarian political structures and coercive economic instituti\n",
      "ss: ndl e s  tf ngngl d th tndhee th tndt d or tersed the n  othr d thrk tg thud tthtengl o n e e ng the seshtre af the ant is othsun tions nd the sevd thrrnge  of the anom s aesens  tn thice erhe shee th oevony sed th tndroe e ioe ths th tes aeae thd thinthe iosed ths s t thntd th tes ay e he sn erd e ion th tevess  tn thvethsomey n thte ath tndththrtx on teaesy y thve tesere  tndl e s erthe anrk tndl e s  tn thd ngr thome he sene  tith ug tnde ug oess  tons e ing thd e  a oth tndros h h  tros ngmee th ohe sy y s the ioess  tthe ane  tnte d thd the ld ty thess  or thsoe r t he s snd sese reng tn er tess ion  of thiciohes thntd thd e  a othsomeeser tth tesy io tevesn thstr nterthe ionderesiothe any e g ion th tnd tugngl ngd n  tonreons thrte h e d  ahe sevted he site thd e  ath tors thd e  a o tsed n thn  tinh n er tonngs ins  t othe ndn ngtht thtie  tndise stngr thd onnd tugngl ngd evess  tn the e th titt the ansuti a tndththere h d n thrtngonl thers ioe  ond tons e e the e e h n  tonreonndl e s  tf ngngl d th tndhee th tndt d or tersed the n  othr d thrk tg thud tthtengl o n e e ng the seshtre af the ant is othsun tions nd the sevd thrrnge  of the anom s aesens  tn thice erhe shee th oevony sed th tndroe e ioe ths th tes aeae thd thinthe iosed ths s t thntd th tes ay e he sn erd e ion th tevess  tn thvethsomey n thte ath tndththrtx on teaesy y thve tesere  tndl e s erthe anrk tndl e s  tn thd ngr thome he sene  tith ug tnde ug oess  tons e ing thd e  a oth tndros h h  tros ngmee th ohe sy y s the ioess  tthe ane  tnte d thd the ld ty thess  or thsoe r t he s snd sese reng tn er tess ion  of thiciohes thntd thd e  a othsomeeser tth tesy io tevesn thstr nterthe ionderesiothe any e g ion th tnd tugngl ngd n  tonreons thrte h e d  ahe sevted he site thd e  ath tors thd e  a o tsed n thn  tinh n er tonngs ins  t othe ndn ngtht thtie  tndise stngr thd onnd tugngl ngd evess  tn the e th titt the ansuti a tndththere h d n thrtngonl thers ioe  ond tons e e the e e h n  tonreon\n",
      "Validation set perplexity: 52.67\n"
     ]
    },
    {
     "name": "stdout",
     "output_type": "stream",
     "text": [
      "Average loss at step 4400: 4.141920 learning rate: 10.000000\n",
      "Minibatch perplexity: 64.89\n",
      "bb:  anarchism originated as a term of abuse first used against early working class radicals including the diggers of the english revolution and the sans culottes of the french revolution whilst the term is still used in a pejorative way to describe any act that used violent means to destroy the organization of society it has also been taken up as a positive label by self defined anarchists the word anarchism is derived from the greek without archons ruler chief king anarchism as a political philosophy is the belief that rulers are unnecessary and should be abolished although there are differing interpretations of what this means anarchism also refers to related social movements that advocate the elimination of authoritarian institutions particularly the state the word anarchy as most anarchists use it does not imply chaos nihilism or anomie but rather a harmonious anti authoritarian society in place of what are regarded as authoritarian political structures and coercive economic instituti anarchism originated as a term of abuse first used against early working class radicals including the diggers of the english revolution and the sans culottes of the french revolution whilst the term is still used in a pejorative way to describe any act that used violent means to destroy the organization of society it has also been taken up as a positive label by self defined anarchists the word anarchism is derived from the greek without archons ruler chief king anarchism as a political philosophy is the belief that rulers are unnecessary and should be abolished although there are differing interpretations of what this means anarchism also refers to related social movements that advocate the elimination of authoritarian institutions particularly the state the word anarchy as most anarchists use it does not imply chaos nihilism or anomie but rather a harmonious anti authoritarian society in place of what are regarded as authoritarian political structures and coercive economic instituti\n",
      "ss: ndl e s  tf ngngl d th tndhe ath tndt  tor terse tthe n  tthr d thrl ag thud tthtengl o n e e ng the ce htr  af the tht is tthcoreteon tnd the cevd thrrnge  tf the thomt  tecens  tn thice erhe che ath tevony se tth tndroe e ioe ths th te  aeeerthd ths the iose tthres t thntd th te  aade he cf erd e ion th tevess  tn thvethson y n thte tth tndththrtx on tanles y thve te erg  tndl e s erthe thrl tndl e s  tn thsengr thome he core  aash ug tnde ug tec t tons ering thd e  t tth tndros h h  tros ngn e th the cy s s the ioec t athe the  t ae e thd the r  ty thles  tr thsoe r t he c tnd te e reng tn er aese ion  tf thiciohes thntd thd e  t tthson ecer tth tecs io tevesl thstn nterthe ionderesiothe ths e g ion th tnd tugcateng an  aonreon tthrte h e e  ahe cevter he case thd e  tth tors thd e  t t tse tn thn  tins n er tonves ins e  tth tndn sttht thtee  andise rengr thd onnd tugcateng aevess  tn the e th tast the thcoti t tndththere h y l thrtngonl thers ioe  tnd tons e e the e e h n  aonreonndl e s  tf ngngl d th tndhe ath tndt  tor terse tthe n  tthr d thrl ag thud tthtengl o n e e ng the ce htr  af the tht is tthcoreteon tnd the cevd thrrnge  tf the thomt  tecens  tn thice erhe che ath tevony se tth tndroe e ioe ths th te  aeeerthd ths the iose tthres t thntd th te  aade he cf erd e ion th tevess  tn thvethson y n thte tth tndththrtx on tanles y thve te erg  tndl e s erthe thrl tndl e s  tn thsengr thome he core  aash ug tnde ug tec t tons ering thd e  t tth tndros h h  tros ngn e th the cy s s the ioec t athe the  t ae e thd the r  ty thles  tr thsoe r t he c tnd te e reng tn er aese ion  tf thiciohes thntd thd e  t tthson ecer tth tecs io tevesl thstn nterthe ionderesiothe ths e g ion th tnd tugcateng an  aonreon tthrte h e e  ahe cevter he case thd e  tth tors thd e  t t tse tn thn  tins n er tonves ins e  tth tndn sttht thtee  andise rengr thd onnd tugcateng aevess  tn the e th tast the thcoti t tndththere h y l thrtngonl thers ioe  tnd tons e e the e e h n  aonreon\n",
      "Validation set perplexity: 50.42\n",
      "Average loss at step 4500: 4.130824 learning rate: 10.000000\n",
      "Minibatch perplexity: 62.33\n",
      "bb:  anarchism originated as a term of abuse first used against early working class radicals including the diggers of the english revolution and the sans culottes of the french revolution whilst the term is still used in a pejorative way to describe any act that used violent means to destroy the organization of society it has also been taken up as a positive label by self defined anarchists the word anarchism is derived from the greek without archons ruler chief king anarchism as a political philosophy is the belief that rulers are unnecessary and should be abolished although there are differing interpretations of what this means anarchism also refers to related social movements that advocate the elimination of authoritarian institutions particularly the state the word anarchy as most anarchists use it does not imply chaos nihilism or anomie but rather a harmonious anti authoritarian society in place of what are regarded as authoritarian political structures and coercive economic instituti anarchism originated as a term of abuse first used against early working class radicals including the diggers of the english revolution and the sans culottes of the french revolution whilst the term is still used in a pejorative way to describe any act that used violent means to destroy the organization of society it has also been taken up as a positive label by self defined anarchists the word anarchism is derived from the greek without archons ruler chief king anarchism as a political philosophy is the belief that rulers are unnecessary and should be abolished although there are differing interpretations of what this means anarchism also refers to related social movements that advocate the elimination of authoritarian institutions particularly the state the word anarchy as most anarchists use it does not imply chaos nihilism or anomie but rather a harmonious anti authoritarian society in place of what are regarded as authoritarian political structures and coercive economic instituti\n",
      "ss: ndl e s e f ngtil d th ondhee th tndt d or tersed the n e thr d thrk ag thuds thtitil o n e e ng ohe se hts  of the tht e  othcotition ond ahe sevd thrrtie  if the thomt erecens e n thice erhe shee th oevony sed th tndroe e ioe ths th te  ieae thd the the iosed thcts t thntd th te  iane he sneerd e ion th teve s  on thvethsomey n thte oth tndththrtx on oane y y thve oe ere  tndl e s erthe thrk andl e s e n thstngr thome he sene  oith uge nde uge ece  oomnge ing thd e er oth ondros h h  orochtimee th ohe sy y s the ioece  othe the  os e e thd the t  ay the s  or thsoe ght he s ond ae e reng as  o oese ion  of thiciohes thntd thd e er othsomeecere th tecy io teve n thstn nt othe ionderesiothe thy e g ion th tnde ugngtingd n e onreon othrte h e e  ahe sevted he site thd e erth oant thd e er o osed n thn  tine n er aomnd oins e  othe ndt sttht thtie e nde e rengr thd onnde ugngtingd eve s  on the e th titt the thsitie  tndththere h e n thrttionl the stioe  ind aoms e e the e e h n e onreonndl e s e f ngtil d th ondhee th tndt d or tersed the n e thr d thrk ag thuds thtitil o n e e ng ohe se hts  of the tht e  othcotition ond ahe sevd thrrtie  if the thomt erecens e n thice erhe shee th oevony sed th tndroe e ioe ths th te  ieae thd the the iosed thcts t thntd th te  iane he sneerd e ion th teve s  on thvethsomey n thte oth tndththrtx on oane y y thve oe ere  tndl e s erthe thrk andl e s e n thstngr thome he sene  oith uge nde uge ece  oomnge ing thd e er oth ondros h h  orochtimee th ohe sy y s the ioece  othe the  os e e thd the t  ay the s  or thsoe ght he s ond ae e reng as  o oese ion  of thiciohes thntd thd e er othsomeecere th tecy io teve n thstn nt othe ionderesiothe thy e g ion th tnde ugngtingd n e onreon othrte h e e  ahe sevted he site thd e erth oant thd e er o osed n thn  tine n er aomnd oins e  othe ndt sttht thtie e nde e rengr thd onnde ugngtingd eve s  on the e th titt the thsitie  tndththere h e n thrttionl the stioe  ind aoms e e the e e h n e onreon\n",
      "Validation set perplexity: 52.23\n"
     ]
    },
    {
     "name": "stdout",
     "output_type": "stream",
     "text": [
      "Average loss at step 4600: 4.170632 learning rate: 10.000000\n",
      "Minibatch perplexity: 58.43\n",
      "bb:  anarchism originated as a term of abuse first used against early working class radicals including the diggers of the english revolution and the sans culottes of the french revolution whilst the term is still used in a pejorative way to describe any act that used violent means to destroy the organization of society it has also been taken up as a positive label by self defined anarchists the word anarchism is derived from the greek without archons ruler chief king anarchism as a political philosophy is the belief that rulers are unnecessary and should be abolished although there are differing interpretations of what this means anarchism also refers to related social movements that advocate the elimination of authoritarian institutions particularly the state the word anarchy as most anarchists use it does not imply chaos nihilism or anomie but rather a harmonious anti authoritarian society in place of what are regarded as authoritarian political structures and coercive economic instituti anarchism originated as a term of abuse first used against early working class radicals including the diggers of the english revolution and the sans culottes of the french revolution whilst the term is still used in a pejorative way to describe any act that used violent means to destroy the organization of society it has also been taken up as a positive label by self defined anarchists the word anarchism is derived from the greek without archons ruler chief king anarchism as a political philosophy is the belief that rulers are unnecessary and should be abolished although there are differing interpretations of what this means anarchism also refers to related social movements that advocate the elimination of authoritarian institutions particularly the state the word anarchy as most anarchists use it does not imply chaos nihilism or anomie but rather a harmonious anti authoritarian society in place of what are regarded as authoritarian political structures and coercive economic instituti\n",
      "ss: ndl e s e f ngngl d th tndhee th tndt d or tersed the n  tthr e thrk tg thuds thtetil o n e e ng the se hts  tf the tht is othcorition ond the sevd thrrste  of the thomt erecens e n thice erhe shee th oevony sed th tndroe e ioe ths th te  aeae thd the the iose othsts t thntd th te  aane he sneerd e ion th tevess  tn ths thsomey n thte ath tndththrtx on sanles y thve ae erg  tndl e s erthe thrk tndl e s e n thd ngr thome he sene  tith uge nde ug tece s onsterang thd e er oth tndros h al troststn e th ohe sy s s the ioece s the the  ts e e thd the t  ty thits  or thsoe r t he s tnd te e reng tn ers ese ion  tf thiciohes thntd thd e er othsomeecere th tecs io tevesl thstr nterthe ionderesiothe thy e g ion th tnde ugngting an e onreon othrte ale e  the sevted he site thd e erth tans thd e er o tse on thn  oinh n er tons s in ae  othe ndt sttht thtie  tndise stngr thd onnde ugngting aevess  tn the e th titt the thcoti a tndththe e h e l thrtstonl the s ioe  and tons e e the e e aln  tonreonndl e s e f ngngl d th tndhee th tndt d or tersed the n  tthr e thrk tg thuds thtetil o n e e ng the se hts  tf the tht is othcorition ond the sevd thrrste  of the thomt erecens e n thice erhe shee th oevony sed th tndroe e ioe ths th te  aeae thd the the iose othsts t thntd th te  aane he sneerd e ion th tevess  tn ths thsomey n thte ath tndththrtx on sanles y thve ae erg  tndl e s erthe thrk tndl e s e n thd ngr thome he sene  tith uge nde ug tece s onsterang thd e er oth tndros h al troststn e th ohe sy s s the ioece s the the  ts e e thd the t  ty thits  or thsoe r t he s tnd te e reng tn ers ese ion  tf thiciohes thntd thd e er othsomeecere th tecs io tevesl thstr nterthe ionderesiothe thy e g ion th tnde ugngting an e onreon othrte ale e  the sevted he site thd e erth tans thd e er o tse on thn  oinh n er tons s in ae  othe ndt sttht thtie  tndise stngr thd onnde ugngting aevess  tn the e th titt the thcoti a tndththe e h e l thrtstonl the s ioe  and tons e e the e e aln  tonreon\n",
      "Validation set perplexity: 50.81\n",
      "Average loss at step 4700: 4.187736 learning rate: 10.000000\n",
      "Minibatch perplexity: 78.16\n",
      "bb:  anarchism originated as a term of abuse first used against early working class radicals including the diggers of the english revolution and the sans culottes of the french revolution whilst the term is still used in a pejorative way to describe any act that used violent means to destroy the organization of society it has also been taken up as a positive label by self defined anarchists the word anarchism is derived from the greek without archons ruler chief king anarchism as a political philosophy is the belief that rulers are unnecessary and should be abolished although there are differing interpretations of what this means anarchism also refers to related social movements that advocate the elimination of authoritarian institutions particularly the state the word anarchy as most anarchists use it does not imply chaos nihilism or anomie but rather a harmonious anti authoritarian society in place of what are regarded as authoritarian political structures and coercive economic instituti anarchism originated as a term of abuse first used against early working class radicals including the diggers of the english revolution and the sans culottes of the french revolution whilst the term is still used in a pejorative way to describe any act that used violent means to destroy the organization of society it has also been taken up as a positive label by self defined anarchists the word anarchism is derived from the greek without archons ruler chief king anarchism as a political philosophy is the belief that rulers are unnecessary and should be abolished although there are differing interpretations of what this means anarchism also refers to related social movements that advocate the elimination of authoritarian institutions particularly the state the word anarchy as most anarchists use it does not imply chaos nihilism or anomie but rather a harmonious anti authoritarian society in place of what are regarded as authoritarian political structures and coercive economic instituti\n",
      "ss: ndl e s  af canel d th tndhee th tndt d ou tersed the n  athr d thrk ag thud athtetin o n e e ng ahe seshtr  af the ant is athcoriteon and the sevd thrrr e  af the anomt eresens  an thice erhe shee th aevony sed th tndroe e ioe ths th tes aeae thd th athe iosed thens t thntd th tes ay  ahe sneerd e ion th tevess  on thvethso sy n thte ath tndththrtononr anits y thve aesere  tndl e s erthe anrk andl e s  an thd car thome he same  aith ug ande r  aess  aons ering thd e er ath tndros ioal aros r n y th ahe sy y s the ioess  athe ane  ad e e thd the r  ay thits  ar thsoerr t he s tnd aese reca an er aes aion  af thiciohes thntd thd e er athso sesere th tess io tevesn thst snterthe ionderesiothe any e g ion th tnd augcatica an  aonreon athrterale e  ahe sevted he site thd e erth tart thd e er a tsed n thn  tinhen er aonve ain a a athe ndt steit thteer andave stngr thd onnd augcatica aevess  on than ath titt the ancoti a tndththere ioe n thrttionn thers ioe  and tons e e the e e aln  aonreonndl e s  af canel d th tndhee th tndt d ou tersed the n  athr d thrk ag thud athtetin o n e e ng ahe seshtr  af the ant is athcoriteon and the sevd thrrr e  af the anomt eresens  an thice erhe shee th aevony sed th tndroe e ioe ths th tes aeae thd th athe iosed thens t thntd th tes ay  ahe sneerd e ion th tevess  on thvethso sy n thte ath tndththrtononr anits y thve aesere  tndl e s erthe anrk andl e s  an thd car thome he same  aith ug ande r  aess  aons ering thd e er ath tndros ioal aros r n y th ahe sy y s the ioess  athe ane  ad e e thd the r  ay thits  ar thsoerr t he s tnd aese reca an er aes aion  af thiciohes thntd thd e er athso sesere th tess io tevesn thst snterthe ionderesiothe any e g ion th tnd augcatica an  aonreon athrterale e  ahe sevted he site thd e erth tart thd e er a tsed n thn  tinhen er aonve ain a a athe ndt steit thteer andave stngr thd onnd augcatica aevess  on than ath titt the ancoti a tndththere ioe n thrttionn thers ioe  and tons e e the e e aln  aonreon\n",
      "Validation set perplexity: 51.01\n"
     ]
    },
    {
     "name": "stdout",
     "output_type": "stream",
     "text": [
      "Average loss at step 4800: 4.172595 learning rate: 10.000000\n",
      "Minibatch perplexity: 70.82\n",
      "bb:  anarchism originated as a term of abuse first used against early working class radicals including the diggers of the english revolution and the sans culottes of the french revolution whilst the term is still used in a pejorative way to describe any act that used violent means to destroy the organization of society it has also been taken up as a positive label by self defined anarchists the word anarchism is derived from the greek without archons ruler chief king anarchism as a political philosophy is the belief that rulers are unnecessary and should be abolished although there are differing interpretations of what this means anarchism also refers to related social movements that advocate the elimination of authoritarian institutions particularly the state the word anarchy as most anarchists use it does not imply chaos nihilism or anomie but rather a harmonious anti authoritarian society in place of what are regarded as authoritarian political structures and coercive economic instituti anarchism originated as a term of abuse first used against early working class radicals including the diggers of the english revolution and the sans culottes of the french revolution whilst the term is still used in a pejorative way to describe any act that used violent means to destroy the organization of society it has also been taken up as a positive label by self defined anarchists the word anarchism is derived from the greek without archons ruler chief king anarchism as a political philosophy is the belief that rulers are unnecessary and should be abolished although there are differing interpretations of what this means anarchism also refers to related social movements that advocate the elimination of authoritarian institutions particularly the state the word anarchy as most anarchists use it does not imply chaos nihilism or anomie but rather a harmonious anti authoritarian society in place of what are regarded as authoritarian political structures and coercive economic instituti\n",
      "ss: ndl e s  af ngnel d th andhee th tndt d or a ased the n  athr d thrk ag thud athtingl o n e ting ahe sanhts  af the tht is athcorition tnd ahe sevd thrrw  a af the thomt  aecens e n thic ainhe shee th aevony sed th tndroe s ioe ths th tan aeas thd thinthe iosed thsts t ths d th tan ay  ahe sf erd e ionsth tevess  an thvethsomey n thtes th andththrtononr eaits y thve aanere  bndl e s  athe thrk andl e s  an ths ngr thome he sene s ash uge nde ug aecs  aons ering thd s  a ath andros h al aros nds e th ahe sy s s the ioecs  athe the  ts e s thd the r  ay thits  ar thsoe r t he s and aane reng an er aess ion  af thiciohes ths d thd s  a athsomeecere th tecs io bevesn thstr s s the ionderesiothe ths s g ion th tnde ugngl ng an  aonreon tthrte als s  ahe sevted he sass thd s  ath aods thd s  a a ased n thn  ain an er aons s in a a aths ndt sttht thtie  andise ststr thd onnde ugngl ng aevess  an thay ath tast the thsiti a bndththe s h y n thrtc onl thins ioe  and aons e e thine e aln  aonreonndl e s  af ngnel d th andhee th tndt d or a ased the n  athr d thrk ag thud athtingl o n e ting ahe sanhts  af the tht is athcorition tnd ahe sevd thrrw  a af the thomt  aecens e n thic ainhe shee th aevony sed th tndroe s ioe ths th tan aeas thd thinthe iosed thsts t ths d th tan ay  ahe sf erd e ionsth tevess  an thvethsomey n thtes th andththrtononr eaits y thve aanere  bndl e s  athe thrk andl e s  an ths ngr thome he sene s ash uge nde ug aecs  aons ering thd s  a ath andros h al aros nds e th ahe sy s s the ioecs  athe the  ts e s thd the r  ay thits  ar thsoe r t he s and aane reng an er aess ion  af thiciohes ths d thd s  a athsomeecere th tecs io bevesn thstr s s the ionderesiothe ths s g ion th tnde ugngl ng an  aonreon tthrte als s  ahe sevted he sass thd s  ath aods thd s  a a ased n thn  ain an er aons s in a a aths ndt sttht thtie  andise ststr thd onnde ugngl ng aevess  an thay ath tast the thsiti a bndththe s h y n thrtc onl thins ioe  and aons e e thine e aln  aonreon\n",
      "Validation set perplexity: 51.14\n",
      "Average loss at step 4900: 4.186242 learning rate: 10.000000\n",
      "Minibatch perplexity: 76.07\n",
      "bb:  anarchism originated as a term of abuse first used against early working class radicals including the diggers of the english revolution and the sans culottes of the french revolution whilst the term is still used in a pejorative way to describe any act that used violent means to destroy the organization of society it has also been taken up as a positive label by self defined anarchists the word anarchism is derived from the greek without archons ruler chief king anarchism as a political philosophy is the belief that rulers are unnecessary and should be abolished although there are differing interpretations of what this means anarchism also refers to related social movements that advocate the elimination of authoritarian institutions particularly the state the word anarchy as most anarchists use it does not imply chaos nihilism or anomie but rather a harmonious anti authoritarian society in place of what are regarded as authoritarian political structures and coercive economic instituti anarchism originated as a term of abuse first used against early working class radicals including the diggers of the english revolution and the sans culottes of the french revolution whilst the term is still used in a pejorative way to describe any act that used violent means to destroy the organization of society it has also been taken up as a positive label by self defined anarchists the word anarchism is derived from the greek without archons ruler chief king anarchism as a political philosophy is the belief that rulers are unnecessary and should be abolished although there are differing interpretations of what this means anarchism also refers to related social movements that advocate the elimination of authoritarian institutions particularly the state the word anarchy as most anarchists use it does not imply chaos nihilism or anomie but rather a harmonious anti authoritarian society in place of what are regarded as authoritarian political structures and coercive economic instituti\n",
      "ss: ndl e s e f ngnel r th tndhee th tndt d or tersed the ns tthr d thrk tg thud tthtengl o n e e ng the manhts  tf the int is tthferetion ond the mevd thrrr e  tf the inomt erelens  tnsthice erhe mhee th tevony sed th tndare e ioe ths th tan teaerthd ths the iosed thins t ths d th tan tane he mneerd e ionsth teve s  tn thvethsor y n thtes th tndththrtx onr anles y thves anere  tndl e s erthe inrk tndl e s e n thr ngr thome he mene s ith ug tnde ug tels  tons ining thd y er tth tndars h h  tars r s e th the my s s the ioels  tthe ine  td e y thd the r  ty thled  tr thsoe ght he m and aane reng tn er tess ions tf thiciohes ths d thd y er tthsor eser tth tels io teve l threr s erthe iondere iothe ins e g ionsth tnd tugngl ng tn  tonreon othrterh s y  the mevted he mite thd y erth tane thd y er t tsed n thn  tinhen er tons s ins e  tthe ndt stnit thl er tndavy stner thd onnd tugngl ng teve s  tn the e th titvethe incene t tndththere h y l thputionl thins ioe  tnd tons e e thine e h n  tonreonndl e s e f ngnel r th tndhee th tndt d or tersed the ns tthr d thrk tg thud tthtengl o n e e ng the manhts  tf the int is tthferetion ond the mevd thrrr e  tf the inomt erelens  tnsthice erhe mhee th tevony sed th tndare e ioe ths th tan teaerthd ths the iosed thins t ths d th tan tane he mneerd e ionsth teve s  tn thvethsor y n thtes th tndththrtx onr anles y thves anere  tndl e s erthe inrk tndl e s e n thr ngr thome he mene s ith ug tnde ug tels  tons ining thd y er tth tndars h h  tars r s e th the my s s the ioels  tthe ine  td e y thd the r  ty thled  tr thsoe ght he m and aane reng tn er tess ions tf thiciohes ths d thd y er tthsor eser tth tels io teve l threr s erthe iondere iothe ins e g ionsth tnd tugngl ng tn  tonreon othrterh s y  the mevted he mite thd y erth tane thd y er t tsed n thn  tinhen er tons s ins e  tthe ndt stnit thl er tndavy stner thd onnd tugngl ng teve s  tn the e th titvethe incene t tndththere h y l thputionl thins ioe  tnd tons e e thine e h n  tonreon\n",
      "Validation set perplexity: 51.17\n"
     ]
    },
    {
     "name": "stdout",
     "output_type": "stream",
     "text": [
      "Average loss at step 5000: 4.165337 learning rate: 1.000000\n",
      "Minibatch perplexity: 63.09\n",
      "bb:  anarchism originated as a term of abuse first used against early working class radicals including the diggers of the english revolution and the sans culottes of the french revolution whilst the term is still used in a pejorative way to describe any act that used violent means to destroy the organization of society it has also been taken up as a positive label by self defined anarchists the word anarchism is derived from the greek without archons ruler chief king anarchism as a political philosophy is the belief that rulers are unnecessary and should be abolished although there are differing interpretations of what this means anarchism also refers to related social movements that advocate the elimination of authoritarian institutions particularly the state the word anarchy as most anarchists use it does not imply chaos nihilism or anomie but rather a harmonious anti authoritarian society in place of what are regarded as authoritarian political structures and coercive economic instituti anarchism originated as a term of abuse first used against early working class radicals including the diggers of the english revolution and the sans culottes of the french revolution whilst the term is still used in a pejorative way to describe any act that used violent means to destroy the organization of society it has also been taken up as a positive label by self defined anarchists the word anarchism is derived from the greek without archons ruler chief king anarchism as a political philosophy is the belief that rulers are unnecessary and should be abolished although there are differing interpretations of what this means anarchism also refers to related social movements that advocate the elimination of authoritarian institutions particularly the state the word anarchy as most anarchists use it does not imply chaos nihilism or anomie but rather a harmonious anti authoritarian society in place of what are regarded as authoritarian political structures and coercive economic instituti\n",
      "ss: ndl e s  tf canel d th andhee th tndt  tor aerse tthe n  athr e thrk ag thud athtengn o n e e ng ahe canhts  af the tht is athcon tion tnd the cevd thrrgyer af the thomt eregers  tn thic aerhe chee th aevony se tth tndroe s ioe ths th tan aeaerthd ths the iose tthr s t thntd th tan aan ahe cneerd e ion th tixess  an thvethso cy n thte ath andththrtononr anity y thve aanere  andl e s erthe thrk andl e s  tn thsicar thome he came s ash uge nde ug aegs  aons ering thd s  a ath andros h h  arostr s erth ahe cy y s the ioegs  athe the  ts e d thd the r  ay thits  ar thsoe ght he c tnd tane reca an er aess ion  af thiciohes thntd thd s  a athso ceger ath tegs io aevesn thstr nterthe iondere iothe thy e g ion th tnde ugcateca an  aonreon tthrterh e s  ahe cevted he cass thd s  ath aans thd s  a a ase tn thn  ains n er aonves ins  a aths ndn ngtht thl e  andise stner thd onnde ugcateca aevess  an thay ath tast the thsin  a tndththe s h e n thrtshonl thats ioe  and tons e e thtie e h n  aonreonndl e s  tf canel d th andhee th tndt  tor aerse tthe n  athr e thrk ag thud athtengn o n e e ng ahe canhts  af the tht is athcon tion tnd the cevd thrrgyer af the thomt eregers  tn thic aerhe chee th aevony se tth tndroe s ioe ths th tan aeaerthd ths the iose tthr s t thntd th tan aan ahe cneerd e ion th tixess  an thvethso cy n thte ath andththrtononr anity y thve aanere  andl e s erthe thrk andl e s  tn thsicar thome he came s ash uge nde ug aegs  aons ering thd s  a ath andros h h  arostr s erth ahe cy y s the ioegs  athe the  ts e d thd the r  ay thits  ar thsoe ght he c tnd tane reca an er aess ion  af thiciohes thntd thd s  a athso ceger ath tegs io aevesn thstr nterthe iondere iothe thy e g ion th tnde ugcateca an  aonreon tthrterh e s  ahe cevted he cass thd s  ath aans thd s  a a ase tn thn  ains n er aonves ins  a aths ndn ngtht thl e  andise stner thd onnde ugcateca aevess  an thay ath tast the thsin  a tndththe s h e n thrtshonl thats ioe  and tons e e thtie e h n  aonreon\n",
      "Validation set perplexity: 50.47\n",
      "Average loss at step 5100: 4.112084 learning rate: 1.000000\n",
      "Minibatch perplexity: 52.83\n",
      "bb:  anarchism originated as a term of abuse first used against early working class radicals including the diggers of the english revolution and the sans culottes of the french revolution whilst the term is still used in a pejorative way to describe any act that used violent means to destroy the organization of society it has also been taken up as a positive label by self defined anarchists the word anarchism is derived from the greek without archons ruler chief king anarchism as a political philosophy is the belief that rulers are unnecessary and should be abolished although there are differing interpretations of what this means anarchism also refers to related social movements that advocate the elimination of authoritarian institutions particularly the state the word anarchy as most anarchists use it does not imply chaos nihilism or anomie but rather a harmonious anti authoritarian society in place of what are regarded as authoritarian political structures and coercive economic instituti anarchism originated as a term of abuse first used against early working class radicals including the diggers of the english revolution and the sans culottes of the french revolution whilst the term is still used in a pejorative way to describe any act that used violent means to destroy the organization of society it has also been taken up as a positive label by self defined anarchists the word anarchism is derived from the greek without archons ruler chief king anarchism as a political philosophy is the belief that rulers are unnecessary and should be abolished although there are differing interpretations of what this means anarchism also refers to related social movements that advocate the elimination of authoritarian institutions particularly the state the word anarchy as most anarchists use it does not imply chaos nihilism or anomie but rather a harmonious anti authoritarian society in place of what are regarded as authoritarian political structures and coercive economic instituti\n",
      "ss: ndl e s  tf cangl d th tndhee th tndt d or tersed the n  tthr e thrk tg thud athtingl o n e e ng the seshts  tf the tht is tthfen tion ond the sevd thrrnge  tf the thomt  aeaens  tn thice erhe shee th tevony sed th tndroe e ioe ths th tan teas thd ths the iosed thres t thntd th tan ty e he sneerd e ion th tevess  tn thvethso ty n thtes th andththrtononr anity y thve tanere  tndl e s erthe thrk tndl e s  tn thd ngr thome he same s ash uge nde ug teae  tons ining thd d  a tth tndros h h  tros ngs e th the sy y s the ioeae  tthe the  ts e d thd the r  ty thits  tr thsoe ght he s tnd tese reng tn er aess ion  tf thiciohes thntd thd d  a tthso teser ath teay io tevesn threr nterthe iondere iothe thy e g ion th tnde ugngl ng an  aonreon othrte h e e  the sevted he sass thd d  ath tans thd d  a t tsed n thn  tins n er tonves ins  t tths ndt ngtht thl e  tndise stngr thd onnde ugngl ng aevess  tn thaye th tast the thcome t tndththe e h d n thrttionl thats ioe  tnd tons e e thtie e h n  tonreonndl e s  tf cangl d th tndhee th tndt d or tersed the n  tthr e thrk tg thud athtingl o n e e ng the seshts  tf the tht is tthfen tion ond the sevd thrrnge  tf the thomt  aeaens  tn thice erhe shee th tevony sed th tndroe e ioe ths th tan teas thd ths the iosed thres t thntd th tan ty e he sneerd e ion th tevess  tn thvethso ty n thtes th andththrtononr anity y thve tanere  tndl e s erthe thrk tndl e s  tn thd ngr thome he same s ash uge nde ug teae  tons ining thd d  a tth tndros h h  tros ngs e th the sy y s the ioeae  tthe the  ts e d thd the r  ty thits  tr thsoe ght he s tnd tese reng tn er aess ion  tf thiciohes thntd thd d  a tthso teser ath teay io tevesn threr nterthe iondere iothe thy e g ion th tnde ugngl ng an  aonreon othrte h e e  the sevted he sass thd d  ath tans thd d  a t tsed n thn  tins n er tonves ins  t tths ndt ngtht thl e  tndise stngr thd onnde ugngl ng aevess  tn thaye th tast the thcome t tndththe e h d n thrttionl thats ioe  tnd tons e e thtie e h n  tonreon\n",
      "Validation set perplexity: 49.84\n"
     ]
    },
    {
     "name": "stdout",
     "output_type": "stream",
     "text": [
      "Average loss at step 5200: 4.116496 learning rate: 1.000000\n",
      "Minibatch perplexity: 65.50\n",
      "bb:  anarchism originated as a term of abuse first used against early working class radicals including the diggers of the english revolution and the sans culottes of the french revolution whilst the term is still used in a pejorative way to describe any act that used violent means to destroy the organization of society it has also been taken up as a positive label by self defined anarchists the word anarchism is derived from the greek without archons ruler chief king anarchism as a political philosophy is the belief that rulers are unnecessary and should be abolished although there are differing interpretations of what this means anarchism also refers to related social movements that advocate the elimination of authoritarian institutions particularly the state the word anarchy as most anarchists use it does not imply chaos nihilism or anomie but rather a harmonious anti authoritarian society in place of what are regarded as authoritarian political structures and coercive economic instituti anarchism originated as a term of abuse first used against early working class radicals including the diggers of the english revolution and the sans culottes of the french revolution whilst the term is still used in a pejorative way to describe any act that used violent means to destroy the organization of society it has also been taken up as a positive label by self defined anarchists the word anarchism is derived from the greek without archons ruler chief king anarchism as a political philosophy is the belief that rulers are unnecessary and should be abolished although there are differing interpretations of what this means anarchism also refers to related social movements that advocate the elimination of authoritarian institutions particularly the state the word anarchy as most anarchists use it does not imply chaos nihilism or anomie but rather a harmonious anti authoritarian society in place of what are regarded as authoritarian political structures and coercive economic instituti\n",
      "ss: ndl e s  tf ngngl d th tndhee th tndt d or tersed the n  tthr e thrk tg thud athtingl o n e e ng the seshts  tf the tht is tthfen tion tnd the sevd thrrnge  tf the thomt  aeaens  tn thice erhe shee th tevony sed th tndroe e ioe ths th tes teas thd ths the iosed thres t thntd th tes ty e he sneerd e ion th tevess  tn thvethso ty n thte tth tndththrtononr anity y thve tesere  tndl e s erthe thrk tndl e s  tn thd ngr thome he same s ash ug tnde ug teae  aons ining thd s  a tth tndros h al tros ngn e th the sy y s the ioeae  athe the  ts e d thd the r  ty thits  tr thsoe ght he s tnd tese reng tn er aess ion  tf thiciohes thntd thd s  a tthso teser ath teas io tevesn threr nterthe iondere iothe thy e g ion th tnd tugngteng an  tonreon tthrte h e e  the sevted he sass thd s  ath tans thd s  a t tsed n thn  tins n er tonnts ins  t tth tndt ngtht thl e  tndise rengr thd onnd tugngteng aevess  tn thaye th tast the thfeme t tndththe e h e n thrtngonl thats ioe  tnd tons e e thtie e aln  tonreonndl e s  tf ngngl d th tndhee th tndt d or tersed the n  tthr e thrk tg thud athtingl o n e e ng the seshts  tf the tht is tthfen tion tnd the sevd thrrnge  tf the thomt  aeaens  tn thice erhe shee th tevony sed th tndroe e ioe ths th tes teas thd ths the iosed thres t thntd th tes ty e he sneerd e ion th tevess  tn thvethso ty n thte tth tndththrtononr anity y thve tesere  tndl e s erthe thrk tndl e s  tn thd ngr thome he same s ash ug tnde ug teae  aons ining thd s  a tth tndros h al tros ngn e th the sy y s the ioeae  athe the  ts e d thd the r  ty thits  tr thsoe ght he s tnd tese reng tn er aess ion  tf thiciohes thntd thd s  a tthso teser ath teas io tevesn threr nterthe iondere iothe thy e g ion th tnd tugngteng an  tonreon tthrte h e e  the sevted he sass thd s  ath tans thd s  a t tsed n thn  tins n er tonnts ins  t tth tndt ngtht thl e  tndise rengr thd onnd tugngteng aevess  tn thaye th tast the thfeme t tndththe e h e n thrtngonl thats ioe  tnd tons e e thtie e aln  tonreon\n",
      "Validation set perplexity: 49.63\n",
      "Average loss at step 5300: 4.152715 learning rate: 1.000000\n",
      "Minibatch perplexity: 63.44\n",
      "bb:  anarchism originated as a term of abuse first used against early working class radicals including the diggers of the english revolution and the sans culottes of the french revolution whilst the term is still used in a pejorative way to describe any act that used violent means to destroy the organization of society it has also been taken up as a positive label by self defined anarchists the word anarchism is derived from the greek without archons ruler chief king anarchism as a political philosophy is the belief that rulers are unnecessary and should be abolished although there are differing interpretations of what this means anarchism also refers to related social movements that advocate the elimination of authoritarian institutions particularly the state the word anarchy as most anarchists use it does not imply chaos nihilism or anomie but rather a harmonious anti authoritarian society in place of what are regarded as authoritarian political structures and coercive economic instituti anarchism originated as a term of abuse first used against early working class radicals including the diggers of the english revolution and the sans culottes of the french revolution whilst the term is still used in a pejorative way to describe any act that used violent means to destroy the organization of society it has also been taken up as a positive label by self defined anarchists the word anarchism is derived from the greek without archons ruler chief king anarchism as a political philosophy is the belief that rulers are unnecessary and should be abolished although there are differing interpretations of what this means anarchism also refers to related social movements that advocate the elimination of authoritarian institutions particularly the state the word anarchy as most anarchists use it does not imply chaos nihilism or anomie but rather a harmonious anti authoritarian society in place of what are regarded as authoritarian political structures and coercive economic instituti\n",
      "ss: ndl e s  tf ngngl d th tndhee th tndt d or tersed the n  tthr e thrk tg thuds thtingl o n e e ng the seshts  tf the tht is tthfen tion tnd the sevd thrrnge  tf the thomt  teaens  tn thice erhe shee th tevony sed th tndroe e ioe ths th tes aeas thd ths the iosed thres t thntd th tes ay e he sneerd e ion th tevess  tn thvethso ty n thti ath tndththrtononr anits y thve tesere  tndl e s erthe thrk tndl e s  tn thd ngr thome he sene s ith ug tnde ug aeae  tons ering thd s  t tth tndros h al tros ngn e th the sy y s the ioeae  tthe the  ts e d thd the r  ty thits  tr thsoe ght he s tnd tese reng tn ers ess ion  tf thiciohes thntd thd s  t tthso tesere th teas io tevesn threr nterthe iondere iothe thy e g ion th tnd tugngting an  tonreon tthrte ale e  the sevted he sits thd s  tth tans thd s  t t tsed n thn  tins n er tons s ins  t tths ndt ngtht thl e  tndise rengr thd onnd tugngting aeve s  tn thaye th titt the thfeme t tndththe e h e n thrttionl thats ioe  tnd tons e e thtie e aln  tonreonndl e s  tf ngngl d th tndhee th tndt d or tersed the n  tthr e thrk tg thuds thtingl o n e e ng the seshts  tf the tht is tthfen tion tnd the sevd thrrnge  tf the thomt  teaens  tn thice erhe shee th tevony sed th tndroe e ioe ths th tes aeas thd ths the iosed thres t thntd th tes ay e he sneerd e ion th tevess  tn thvethso ty n thti ath tndththrtononr anits y thve tesere  tndl e s erthe thrk tndl e s  tn thd ngr thome he sene s ith ug tnde ug aeae  tons ering thd s  t tth tndros h al tros ngn e th the sy y s the ioeae  tthe the  ts e d thd the r  ty thits  tr thsoe ght he s tnd tese reng tn ers ess ion  tf thiciohes thntd thd s  t tthso tesere th teas io tevesn threr nterthe iondere iothe thy e g ion th tnd tugngting an  tonreon tthrte ale e  the sevted he sits thd s  tth tans thd s  t t tsed n thn  tins n er tons s ins  t tths ndt ngtht thl e  tndise rengr thd onnd tugngting aeve s  tn thaye th titt the thfeme t tndththe e h e n thrttionl thats ioe  tnd tons e e thtie e aln  tonreon\n",
      "Validation set perplexity: 48.90\n"
     ]
    },
    {
     "name": "stdout",
     "output_type": "stream",
     "text": [
      "Average loss at step 5400: 4.150527 learning rate: 1.000000\n",
      "Minibatch perplexity: 53.39\n",
      "bb:  anarchism originated as a term of abuse first used against early working class radicals including the diggers of the english revolution and the sans culottes of the french revolution whilst the term is still used in a pejorative way to describe any act that used violent means to destroy the organization of society it has also been taken up as a positive label by self defined anarchists the word anarchism is derived from the greek without archons ruler chief king anarchism as a political philosophy is the belief that rulers are unnecessary and should be abolished although there are differing interpretations of what this means anarchism also refers to related social movements that advocate the elimination of authoritarian institutions particularly the state the word anarchy as most anarchists use it does not imply chaos nihilism or anomie but rather a harmonious anti authoritarian society in place of what are regarded as authoritarian political structures and coercive economic instituti anarchism originated as a term of abuse first used against early working class radicals including the diggers of the english revolution and the sans culottes of the french revolution whilst the term is still used in a pejorative way to describe any act that used violent means to destroy the organization of society it has also been taken up as a positive label by self defined anarchists the word anarchism is derived from the greek without archons ruler chief king anarchism as a political philosophy is the belief that rulers are unnecessary and should be abolished although there are differing interpretations of what this means anarchism also refers to related social movements that advocate the elimination of authoritarian institutions particularly the state the word anarchy as most anarchists use it does not imply chaos nihilism or anomie but rather a harmonious anti authoritarian society in place of what are regarded as authoritarian political structures and coercive economic instituti\n",
      "ss: ndl e s  af ngngl d th tndhee th tndt d or tersed the n  tthr e thrk tg thud athtingl o n e e ng the sanhtr  tf the tht is tthfen tion tnd the sevd thrrnge  tf the thomt  aecens  tn thice erhe shee th tevony sed th tndroe e ioe ths th tan aeae thd ths the iosed thres t thntd th tan ay e he sneerd e ion th teve s  tn thvethso ty n thti ath tndththrtononr anity y thve tanere  tndl e s erthe thrk andl e s  an thd ngr thome he sroe s ith ug tnde ug aece  aons ering thd d  a tth tndros h al tros ngn e th the sy y s the ioece  athe the  ts e e thd the r  ty thits  tr thsoe ght he s tnd tane reng tn er aess ion  tf thiciohes thntd thd d  a tthso tecere th tecs io teve n thstr nterthe iondere iothe thy e g ion th tnd tugngting an  aonreon tthrte ale e  the sevted he sit tthd d  ath tane thd d  a t tsed n thn  tinh n er tonn s ins  a tth tndt ngtht thl e  tndise stngr thd onnd tugngting aeve s  tn thaye th titt the thfeme a tndththe e h e n thrtngonl thats ioe  tnd tons e e thtie e aln  aonreonndl e s  af ngngl d th tndhee th tndt d or tersed the n  tthr e thrk tg thud athtingl o n e e ng the sanhtr  tf the tht is tthfen tion tnd the sevd thrrnge  tf the thomt  aecens  tn thice erhe shee th tevony sed th tndroe e ioe ths th tan aeae thd ths the iosed thres t thntd th tan ay e he sneerd e ion th teve s  tn thvethso ty n thti ath tndththrtononr anity y thve tanere  tndl e s erthe thrk andl e s  an thd ngr thome he sroe s ith ug tnde ug aece  aons ering thd d  a tth tndros h al tros ngn e th the sy y s the ioece  athe the  ts e e thd the r  ty thits  tr thsoe ght he s tnd tane reng tn er aess ion  tf thiciohes thntd thd d  a tthso tecere th tecs io teve n thstr nterthe iondere iothe thy e g ion th tnd tugngting an  aonreon tthrte ale e  the sevted he sit tthd d  ath tane thd d  a t tsed n thn  tinh n er tonn s ins  a tth tndt ngtht thl e  tndise stngr thd onnd tugngting aeve s  tn thaye th titt the thfeme a tndththe e h e n thrtngonl thats ioe  tnd tons e e thtie e aln  aonreon\n",
      "Validation set perplexity: 48.75\n",
      "Average loss at step 5500: 4.146980 learning rate: 1.000000\n",
      "Minibatch perplexity: 62.78\n",
      "bb:  anarchism originated as a term of abuse first used against early working class radicals including the diggers of the english revolution and the sans culottes of the french revolution whilst the term is still used in a pejorative way to describe any act that used violent means to destroy the organization of society it has also been taken up as a positive label by self defined anarchists the word anarchism is derived from the greek without archons ruler chief king anarchism as a political philosophy is the belief that rulers are unnecessary and should be abolished although there are differing interpretations of what this means anarchism also refers to related social movements that advocate the elimination of authoritarian institutions particularly the state the word anarchy as most anarchists use it does not imply chaos nihilism or anomie but rather a harmonious anti authoritarian society in place of what are regarded as authoritarian political structures and coercive economic instituti anarchism originated as a term of abuse first used against early working class radicals including the diggers of the english revolution and the sans culottes of the french revolution whilst the term is still used in a pejorative way to describe any act that used violent means to destroy the organization of society it has also been taken up as a positive label by self defined anarchists the word anarchism is derived from the greek without archons ruler chief king anarchism as a political philosophy is the belief that rulers are unnecessary and should be abolished although there are differing interpretations of what this means anarchism also refers to related social movements that advocate the elimination of authoritarian institutions particularly the state the word anarchy as most anarchists use it does not imply chaos nihilism or anomie but rather a harmonious anti authoritarian society in place of what are regarded as authoritarian political structures and coercive economic instituti\n",
      "ss: ndl e s  tf ngngl d th tndhee th tndt d or tersed the n  tthr y thrk tg thuds thtingl o n e e ng the sanhts  tf the tht is tthfen tion ond the sevd thrrnge  tf the thomt  aecens  tn thice erhe shee th tevony sed th tndroe e ioe ths th tan teae thd ths the iosed thres t thntd th tan ty e he sf erd e ion th tevess  tn thvethsomey n thti tth tndththrtx onr anits y thve tanere  tndl e s erthe thrk tndl e s  tn thd ngr thome he sroe s ith uge nde ug tece  tons ering thd s  t tth tndros h al tros ngn e th the sy y s the ioece  tthe the  ts e e thd the r  ty thits  tr thsoe ght he s tnd tane reng tn ers ess ion  tf thiciohes thntd thd s  t tthsomeecere th tecs io tevesn thstr nterthe ionderesiothe thy e g ion th tnde ugngteng an  tonreon othrte ale e  the sevted he sits thd s  ath tans thd s  a t tsed n thn  tins n er tons s ins  t tth tndt ngtht thtie  tndise stngr thd onnde ugngteng aevess  tn thaye th titt the thsime t tndththe e h e n thrtngonl thats ioe  tnd tons e e thtie e aln  tonreonndl e s  tf ngngl d th tndhee th tndt d or tersed the n  tthr y thrk tg thuds thtingl o n e e ng the sanhts  tf the tht is tthfen tion ond the sevd thrrnge  tf the thomt  aecens  tn thice erhe shee th tevony sed th tndroe e ioe ths th tan teae thd ths the iosed thres t thntd th tan ty e he sf erd e ion th tevess  tn thvethsomey n thti tth tndththrtx onr anits y thve tanere  tndl e s erthe thrk tndl e s  tn thd ngr thome he sroe s ith uge nde ug tece  tons ering thd s  t tth tndros h al tros ngn e th the sy y s the ioece  tthe the  ts e e thd the r  ty thits  tr thsoe ght he s tnd tane reng tn ers ess ion  tf thiciohes thntd thd s  t tthsomeecere th tecs io tevesn thstr nterthe ionderesiothe thy e g ion th tnde ugngteng an  tonreon othrte ale e  the sevted he sits thd s  ath tans thd s  a t tsed n thn  tins n er tons s ins  t tth tndt ngtht thtie  tndise stngr thd onnde ugngteng aevess  tn thaye th titt the thsime t tndththe e h e n thrtngonl thats ioe  tnd tons e e thtie e aln  tonreon\n",
      "Validation set perplexity: 48.37\n"
     ]
    },
    {
     "name": "stdout",
     "output_type": "stream",
     "text": [
      "Average loss at step 5600: 4.095245 learning rate: 1.000000\n",
      "Minibatch perplexity: 55.72\n",
      "bb:  anarchism originated as a term of abuse first used against early working class radicals including the diggers of the english revolution and the sans culottes of the french revolution whilst the term is still used in a pejorative way to describe any act that used violent means to destroy the organization of society it has also been taken up as a positive label by self defined anarchists the word anarchism is derived from the greek without archons ruler chief king anarchism as a political philosophy is the belief that rulers are unnecessary and should be abolished although there are differing interpretations of what this means anarchism also refers to related social movements that advocate the elimination of authoritarian institutions particularly the state the word anarchy as most anarchists use it does not imply chaos nihilism or anomie but rather a harmonious anti authoritarian society in place of what are regarded as authoritarian political structures and coercive economic instituti anarchism originated as a term of abuse first used against early working class radicals including the diggers of the english revolution and the sans culottes of the french revolution whilst the term is still used in a pejorative way to describe any act that used violent means to destroy the organization of society it has also been taken up as a positive label by self defined anarchists the word anarchism is derived from the greek without archons ruler chief king anarchism as a political philosophy is the belief that rulers are unnecessary and should be abolished although there are differing interpretations of what this means anarchism also refers to related social movements that advocate the elimination of authoritarian institutions particularly the state the word anarchy as most anarchists use it does not imply chaos nihilism or anomie but rather a harmonious anti authoritarian society in place of what are regarded as authoritarian political structures and coercive economic instituti\n",
      "ss: ndl e s  tf ngngl d th tndhee th tndt d or ternid the n  tthr e thrk tg thuds thtingl o n e e ng the seshts  tf the tht is athferition tnd the sevd thrrnge  tf the thomt erecens  tn thice erhe shee th aevony nid th tndroe e ioe ths th tes aeae thd ths the iosed thins t thntd th tes ay e he sneerd e ion th tevess  tn thvethsomey n thti ath tndththrtx onr anity y thve tesere  tndl e s erthe thrk tndl e s  tn thd ngr thome he sroe s ith ug tnde ug tece  aons ining thd s  t ath tndros h al tros ngn e th ahe sy y s the ioece  athe the  ts e e thd the r  ty thits  ar thsoe ght he s tnd tese reng tn ers ess ion  tf thiciohes thntd thd s  t athsomeecere th tecs io tevesn thstr nterthe ionderesiothe thy e g ion th tnd tugngteng an  tonreon tthrte ale e  the sevted he site thd s  tth tans thd s  t a tnid n thn  tinh n er tonn s ins  t ath tndt ngtht thtie  tndise stngr thd onnd tugngteng aevess  tn thaye th titt the thsime t tndththe e h e n thrtngonl thats ioe  tnd tons e e thtie e aln  tonreonndl e s  tf ngngl d th tndhee th tndt d or ternid the n  tthr e thrk tg thuds thtingl o n e e ng the seshts  tf the tht is athferition tnd the sevd thrrnge  tf the thomt erecens  tn thice erhe shee th aevony nid th tndroe e ioe ths th tes aeae thd ths the iosed thins t thntd th tes ay e he sneerd e ion th tevess  tn thvethsomey n thti ath tndththrtx onr anity y thve tesere  tndl e s erthe thrk tndl e s  tn thd ngr thome he sroe s ith ug tnde ug tece  aons ining thd s  t ath tndros h al tros ngn e th ahe sy y s the ioece  athe the  ts e e thd the r  ty thits  ar thsoe ght he s tnd tese reng tn ers ess ion  tf thiciohes thntd thd s  t athsomeecere th tecs io tevesn thstr nterthe ionderesiothe thy e g ion th tnd tugngteng an  tonreon tthrte ale e  the sevted he site thd s  tth tans thd s  t a tnid n thn  tinh n er tonn s ins  t ath tndt ngtht thtie  tndise stngr thd onnd tugngteng aevess  tn thaye th titt the thsime t tndththe e h e n thrtngonl thats ioe  tnd tons e e thtie e aln  tonreon\n",
      "Validation set perplexity: 48.80\n",
      "Average loss at step 5700: 4.077319 learning rate: 1.000000\n",
      "Minibatch perplexity: 63.51\n",
      "bb:  anarchism originated as a term of abuse first used against early working class radicals including the diggers of the english revolution and the sans culottes of the french revolution whilst the term is still used in a pejorative way to describe any act that used violent means to destroy the organization of society it has also been taken up as a positive label by self defined anarchists the word anarchism is derived from the greek without archons ruler chief king anarchism as a political philosophy is the belief that rulers are unnecessary and should be abolished although there are differing interpretations of what this means anarchism also refers to related social movements that advocate the elimination of authoritarian institutions particularly the state the word anarchy as most anarchists use it does not imply chaos nihilism or anomie but rather a harmonious anti authoritarian society in place of what are regarded as authoritarian political structures and coercive economic instituti anarchism originated as a term of abuse first used against early working class radicals including the diggers of the english revolution and the sans culottes of the french revolution whilst the term is still used in a pejorative way to describe any act that used violent means to destroy the organization of society it has also been taken up as a positive label by self defined anarchists the word anarchism is derived from the greek without archons ruler chief king anarchism as a political philosophy is the belief that rulers are unnecessary and should be abolished although there are differing interpretations of what this means anarchism also refers to related social movements that advocate the elimination of authoritarian institutions particularly the state the word anarchy as most anarchists use it does not imply chaos nihilism or anomie but rather a harmonious anti authoritarian society in place of what are regarded as authoritarian political structures and coercive economic instituti\n",
      "ss: ndl e s  tf ngngl d th tndhee th tndt d ou ternid the n  tthr e thrk tg thud athtingl o n e e ng the seshts  tf the tht is athferition ond the sevd thrrnge  tnethe thomt  tecens  tn thice erhe shee th aevony nid th tndroe e ioe ths th tes aeae thd ths the ionid thd s t thntd th tes ay e he sneerd e ion th tevess  tn thvethsomey n thte ath tndththrtx onr anity y thve tesere  tndl e s erthe thrk tndl e s  tn thd ngr thome he sroe s ith ug tnde ug aece  aons ining thd s  t ath tndros h al trostngn e th ahe sy y s the ioece  athe the  td e d thd the r  ty thits  ar thsoe ght he s tnd tese reng tn er aess ion  tf thiciohes thntd thd s  t athsomeeser ath tecs io tevesn thstr nterthe ionderesiothe thy e g ion th tnd tugngteng an  tonreon othrte ale e  the sevted he sit tthd s  tth tane thd s  t a tnid n thn  tinh n er tonnts in a t ath tndt ngtht thtie  andise stngr thd onnd tugngteng aevess  tn thaye th titt the thsime t tndththe e h e n thrtngonl thats ioe  tnd tons e e thtie e aln  tonreonndl e s  tf ngngl d th tndhee th tndt d ou ternid the n  tthr e thrk tg thud athtingl o n e e ng the seshts  tf the tht is athferition ond the sevd thrrnge  tnethe thomt  tecens  tn thice erhe shee th aevony nid th tndroe e ioe ths th tes aeae thd ths the ionid thd s t thntd th tes ay e he sneerd e ion th tevess  tn thvethsomey n thte ath tndththrtx onr anity y thve tesere  tndl e s erthe thrk tndl e s  tn thd ngr thome he sroe s ith ug tnde ug aece  aons ining thd s  t ath tndros h al trostngn e th ahe sy y s the ioece  athe the  td e d thd the r  ty thits  ar thsoe ght he s tnd tese reng tn er aess ion  tf thiciohes thntd thd s  t athsomeeser ath tecs io tevesn thstr nterthe ionderesiothe thy e g ion th tnd tugngteng an  tonreon othrte ale e  the sevted he sit tthd s  tth tane thd s  t a tnid n thn  tinh n er tonnts in a t ath tndt ngtht thtie  andise stngr thd onnd tugngteng aevess  tn thaye th titt the thsime t tndththe e h e n thrtngonl thats ioe  tnd tons e e thtie e aln  tonreon\n",
      "Validation set perplexity: 48.62\n"
     ]
    },
    {
     "name": "stdout",
     "output_type": "stream",
     "text": [
      "Average loss at step 5800: 4.146507 learning rate: 1.000000\n",
      "Minibatch perplexity: 52.88\n",
      "bb:  anarchism originated as a term of abuse first used against early working class radicals including the diggers of the english revolution and the sans culottes of the french revolution whilst the term is still used in a pejorative way to describe any act that used violent means to destroy the organization of society it has also been taken up as a positive label by self defined anarchists the word anarchism is derived from the greek without archons ruler chief king anarchism as a political philosophy is the belief that rulers are unnecessary and should be abolished although there are differing interpretations of what this means anarchism also refers to related social movements that advocate the elimination of authoritarian institutions particularly the state the word anarchy as most anarchists use it does not imply chaos nihilism or anomie but rather a harmonious anti authoritarian society in place of what are regarded as authoritarian political structures and coercive economic instituti anarchism originated as a term of abuse first used against early working class radicals including the diggers of the english revolution and the sans culottes of the french revolution whilst the term is still used in a pejorative way to describe any act that used violent means to destroy the organization of society it has also been taken up as a positive label by self defined anarchists the word anarchism is derived from the greek without archons ruler chief king anarchism as a political philosophy is the belief that rulers are unnecessary and should be abolished although there are differing interpretations of what this means anarchism also refers to related social movements that advocate the elimination of authoritarian institutions particularly the state the word anarchy as most anarchists use it does not imply chaos nihilism or anomie but rather a harmonious anti authoritarian society in place of what are regarded as authoritarian political structures and coercive economic instituti\n",
      "ss: ndl e s  tf ngngl d th tndhee th tndt d or tersed the n  tthr e thrk tg thuds thtingl o n e e ng the seshts  tf the tht is tthferition tnd the sevd thrrnge  tf the thomt erelens  tn thice erhe shee th tevony sed th tndroe e ioe ths th tes aeae thd ths the iosed thins t thntd th tes ay e he sneerd e ion th tevess  tn thvethsomey n thti ath tndththrtx onr anity y thve tesere  tndl e s erthe thrk tndl e s  tn thd ngr thome he sene s ith ug tnde ug tele  aons ining thd s  t tth tndros h al tros ngn e th the sy y s the ioele  athe the  ts e d thd the r  ty thits  tr thsoe ght he s tnd tese reng tn ers ess ion  tf thiciohes thntd thd s  t tthsomeesere th tels io tevesn thstr nterthe iondere iothe thy e g ion th tnd tugngting an  tonreon tthrte ale e  the sevted he sit tthd s  tth tans thd s  t t tsed n thn  tinh n er tons s ins  t tth tndt ngtht thtie  andise stngr thd onnd tugngting aevess  tn thaye th titt the thfeme t tndththe e h e n thrtngonl thats ioe  tnd tons e e thtie e aln  tonreonndl e s  tf ngngl d th tndhee th tndt d or tersed the n  tthr e thrk tg thuds thtingl o n e e ng the seshts  tf the tht is tthferition tnd the sevd thrrnge  tf the thomt erelens  tn thice erhe shee th tevony sed th tndroe e ioe ths th tes aeae thd ths the iosed thins t thntd th tes ay e he sneerd e ion th tevess  tn thvethsomey n thti ath tndththrtx onr anity y thve tesere  tndl e s erthe thrk tndl e s  tn thd ngr thome he sene s ith ug tnde ug tele  aons ining thd s  t tth tndros h al tros ngn e th the sy y s the ioele  athe the  ts e d thd the r  ty thits  tr thsoe ght he s tnd tese reng tn ers ess ion  tf thiciohes thntd thd s  t tthsomeesere th tels io tevesn thstr nterthe iondere iothe thy e g ion th tnd tugngting an  tonreon tthrte ale e  the sevted he sit tthd s  tth tans thd s  t t tsed n thn  tinh n er tons s ins  t tth tndt ngtht thtie  andise stngr thd onnd tugngting aevess  tn thaye th titt the thfeme t tndththe e h e n thrtngonl thats ioe  tnd tons e e thtie e aln  tonreon\n",
      "Validation set perplexity: 48.08\n",
      "Average loss at step 5900: 4.133900 learning rate: 1.000000\n",
      "Minibatch perplexity: 56.69\n",
      "bb:  anarchism originated as a term of abuse first used against early working class radicals including the diggers of the english revolution and the sans culottes of the french revolution whilst the term is still used in a pejorative way to describe any act that used violent means to destroy the organization of society it has also been taken up as a positive label by self defined anarchists the word anarchism is derived from the greek without archons ruler chief king anarchism as a political philosophy is the belief that rulers are unnecessary and should be abolished although there are differing interpretations of what this means anarchism also refers to related social movements that advocate the elimination of authoritarian institutions particularly the state the word anarchy as most anarchists use it does not imply chaos nihilism or anomie but rather a harmonious anti authoritarian society in place of what are regarded as authoritarian political structures and coercive economic instituti anarchism originated as a term of abuse first used against early working class radicals including the diggers of the english revolution and the sans culottes of the french revolution whilst the term is still used in a pejorative way to describe any act that used violent means to destroy the organization of society it has also been taken up as a positive label by self defined anarchists the word anarchism is derived from the greek without archons ruler chief king anarchism as a political philosophy is the belief that rulers are unnecessary and should be abolished although there are differing interpretations of what this means anarchism also refers to related social movements that advocate the elimination of authoritarian institutions particularly the state the word anarchy as most anarchists use it does not imply chaos nihilism or anomie but rather a harmonious anti authoritarian society in place of what are regarded as authoritarian political structures and coercive economic instituti\n",
      "ss: ndl e s  tf ngngl d th tndhee th tndt d or tersed the n  tthr e thrk tg thuds thtingl o n e e ng the seshtr  tf the tht is athfen tion tnd the sevd thrrnge  tf the thomt erecens  tn thice erhe shee th aevony sed th tndroe e ioe ths th tes teae thd ths the iosed thsts t thntd th tes ty e he sneerd e ion th teve s  tn thvethsomey n thte ath tndththrtx onr anity y thve tesere  tndl e s erthe thrk tndl e s  tn thd ngr thome he sene s ith ug tnde ug tece  aons ining thd s er ath tndros h al trostngn e th ahe sy y s the ioece s the the  ts e e thd the r  ty thits  ar thsoe ght he s tnd tese reng tn ers ess ion  tf thiciohes thntd thd s er athsomeecere th tecs io teve n thstr nterthe iondere iothe thy e g ion th tnd tugngl ng an  tonreon tthrte ale e  the sevted he site thd s erth tans thd s er a tsed n thn  tinh n er tonn s ins  t ath tndt ngtht thl e  tndise stngr thd onnd tugngl ng aeve s  tn thaye th titt the thfeme t tndththe e h e n thrtngonl thats ioe  tnd tons e e thtie e aln  tonreonndl e s  tf ngngl d th tndhee th tndt d or tersed the n  tthr e thrk tg thuds thtingl o n e e ng the seshtr  tf the tht is athfen tion tnd the sevd thrrnge  tf the thomt erecens  tn thice erhe shee th aevony sed th tndroe e ioe ths th tes teae thd ths the iosed thsts t thntd th tes ty e he sneerd e ion th teve s  tn thvethsomey n thte ath tndththrtx onr anity y thve tesere  tndl e s erthe thrk tndl e s  tn thd ngr thome he sene s ith ug tnde ug tece  aons ining thd s er ath tndros h al trostngn e th ahe sy y s the ioece s the the  ts e e thd the r  ty thits  ar thsoe ght he s tnd tese reng tn ers ess ion  tf thiciohes thntd thd s er athsomeecere th tecs io teve n thstr nterthe iondere iothe thy e g ion th tnd tugngl ng an  tonreon tthrte ale e  the sevted he site thd s erth tans thd s er a tsed n thn  tinh n er tonn s ins  t ath tndt ngtht thl e  tndise stngr thd onnd tugngl ng aeve s  tn thaye th titt the thfeme t tndththe e h e n thrtngonl thats ioe  tnd tons e e thtie e aln  tonreon\n",
      "Validation set perplexity: 47.98\n"
     ]
    },
    {
     "name": "stdout",
     "output_type": "stream",
     "text": [
      "Average loss at step 6000: 4.120358 learning rate: 1.000000\n",
      "Minibatch perplexity: 58.46\n",
      "bb:  anarchism originated as a term of abuse first used against early working class radicals including the diggers of the english revolution and the sans culottes of the french revolution whilst the term is still used in a pejorative way to describe any act that used violent means to destroy the organization of society it has also been taken up as a positive label by self defined anarchists the word anarchism is derived from the greek without archons ruler chief king anarchism as a political philosophy is the belief that rulers are unnecessary and should be abolished although there are differing interpretations of what this means anarchism also refers to related social movements that advocate the elimination of authoritarian institutions particularly the state the word anarchy as most anarchists use it does not imply chaos nihilism or anomie but rather a harmonious anti authoritarian society in place of what are regarded as authoritarian political structures and coercive economic instituti anarchism originated as a term of abuse first used against early working class radicals including the diggers of the english revolution and the sans culottes of the french revolution whilst the term is still used in a pejorative way to describe any act that used violent means to destroy the organization of society it has also been taken up as a positive label by self defined anarchists the word anarchism is derived from the greek without archons ruler chief king anarchism as a political philosophy is the belief that rulers are unnecessary and should be abolished although there are differing interpretations of what this means anarchism also refers to related social movements that advocate the elimination of authoritarian institutions particularly the state the word anarchy as most anarchists use it does not imply chaos nihilism or anomie but rather a harmonious anti authoritarian society in place of what are regarded as authoritarian political structures and coercive economic instituti\n",
      "ss: ndl e s e f ngngl d th tndhee th tndt d or tersed the n  tthr e thrk tg thuds thtengl o n e e ng the seshts  tf the tht is athferition ond the sevd thrrnge  tf the thomt erecens  tn thice erhe shee th aevony sed th tndroe e ioe ths th tes aeae thd ths the iosed thins t thntd th tes aane he sneerd e ion th tevess  tn thvethsomey n thte ath tndththrtx onr anits y thve tesere  tndl e s erthe thrk tndl e s e n thd ngr thome he sene s ith ug tnde ug tece  aons ining thd e  t ath tndros h al tros ngmee th ahe sy s s the ioece  athe the  ts e e thd the r  ty thits  ar thsoe ght he s tnd tese reng tn ers ess ion  tf thiciohes thntd thd e  t athsomeesere th tecs io tevesn threr nterthe ionderesiothe thy e g ion th tnd tugngteng an  tonreon othrte ale e  the sevted he site thd e  tth tane thd e  t a tsed n thn  tinhen er tons s ins  t athe ndt ngtht thl e  tndise rengr thd onnd tugngteng aevess  tn thaye th titt the thfeme t tndththe e h e n thrtngonl thats ioe  tnd tons e e thtie e aln  tonreonndl e s e f ngngl d th tndhee th tndt d or tersed the n  tthr e thrk tg thuds thtengl o n e e ng the seshts  tf the tht is athferition ond the sevd thrrnge  tf the thomt erecens  tn thice erhe shee th aevony sed th tndroe e ioe ths th tes aeae thd ths the iosed thins t thntd th tes aane he sneerd e ion th tevess  tn thvethsomey n thte ath tndththrtx onr anits y thve tesere  tndl e s erthe thrk tndl e s e n thd ngr thome he sene s ith ug tnde ug tece  aons ining thd e  t ath tndros h al tros ngmee th ahe sy s s the ioece  athe the  ts e e thd the r  ty thits  ar thsoe ght he s tnd tese reng tn ers ess ion  tf thiciohes thntd thd e  t athsomeesere th tecs io tevesn threr nterthe ionderesiothe thy e g ion th tnd tugngteng an  tonreon othrte ale e  the sevted he site thd e  tth tane thd e  t a tsed n thn  tinhen er tons s ins  t athe ndt ngtht thl e  tndise rengr thd onnd tugngteng aevess  tn thaye th titt the thfeme t tndththe e h e n thrtngonl thats ioe  tnd tons e e thtie e aln  tonreon\n",
      "Validation set perplexity: 47.74\n",
      "Average loss at step 6100: 4.099977 learning rate: 1.000000\n",
      "Minibatch perplexity: 64.60\n",
      "bb:  anarchism originated as a term of abuse first used against early working class radicals including the diggers of the english revolution and the sans culottes of the french revolution whilst the term is still used in a pejorative way to describe any act that used violent means to destroy the organization of society it has also been taken up as a positive label by self defined anarchists the word anarchism is derived from the greek without archons ruler chief king anarchism as a political philosophy is the belief that rulers are unnecessary and should be abolished although there are differing interpretations of what this means anarchism also refers to related social movements that advocate the elimination of authoritarian institutions particularly the state the word anarchy as most anarchists use it does not imply chaos nihilism or anomie but rather a harmonious anti authoritarian society in place of what are regarded as authoritarian political structures and coercive economic instituti anarchism originated as a term of abuse first used against early working class radicals including the diggers of the english revolution and the sans culottes of the french revolution whilst the term is still used in a pejorative way to describe any act that used violent means to destroy the organization of society it has also been taken up as a positive label by self defined anarchists the word anarchism is derived from the greek without archons ruler chief king anarchism as a political philosophy is the belief that rulers are unnecessary and should be abolished although there are differing interpretations of what this means anarchism also refers to related social movements that advocate the elimination of authoritarian institutions particularly the state the word anarchy as most anarchists use it does not imply chaos nihilism or anomie but rather a harmonious anti authoritarian society in place of what are regarded as authoritarian political structures and coercive economic instituti\n",
      "ss: ndl e s  tf ngngl d th tndhee th tndt d or ternid the n  tthr e thrk tg thud tthtingl o n e e ng the ceshts  tf the tht is tthferition ond the cevd thrrnge  tf the thomt  tecens  tn thice erhe chee th tevony nid th tndroe e ioe ths th tes teaerthd thinthe iosed thins t thntd th tes ty e he cneerd e ion th tevess  tn thvethsomey n thti tth tndththrtononr anity y thve tesere  tndl e s erthe thrk tndl e s  tn thd ngr thome he cene s ith ug tnde ug tece  tons ining thd e  t tth tndros h al trostngmee th the cy y s the ioece  tthe the  ts e e thd the r  ty thits  tr thsoe ght he c tnd tese reng tn ers ess ion  tf thiciohes thntd thd e  t tthsomeesere th tecs io tevesn thstr nterthe ionderesiothe thy e g ion th tnd tugngting an  tonreon othrte ale e  the cevted he cite thd e  tth tane thd e  t t tnid n thn  tinhen er tons s ins  t tthe ndt ngtht thtie  tndise stngr thd onnd tugngting aevess  tn thaye th titt the thfeme t tndththe e h e n thrtngonl thats ioe  tnd tons e e thtie e aln  tonreonndl e s  tf ngngl d th tndhee th tndt d or ternid the n  tthr e thrk tg thud tthtingl o n e e ng the ceshts  tf the tht is tthferition ond the cevd thrrnge  tf the thomt  tecens  tn thice erhe chee th tevony nid th tndroe e ioe ths th tes teaerthd thinthe iosed thins t thntd th tes ty e he cneerd e ion th tevess  tn thvethsomey n thti tth tndththrtononr anity y thve tesere  tndl e s erthe thrk tndl e s  tn thd ngr thome he cene s ith ug tnde ug tece  tons ining thd e  t tth tndros h al trostngmee th the cy y s the ioece  tthe the  ts e e thd the r  ty thits  tr thsoe ght he c tnd tese reng tn ers ess ion  tf thiciohes thntd thd e  t tthsomeesere th tecs io tevesn thstr nterthe ionderesiothe thy e g ion th tnd tugngting an  tonreon othrte ale e  the cevted he cite thd e  tth tane thd e  t t tnid n thn  tinhen er tons s ins  t tthe ndt ngtht thtie  tndise stngr thd onnd tugngting aevess  tn thaye th titt the thfeme t tndththe e h e n thrtngonl thats ioe  tnd tons e e thtie e aln  tonreon\n",
      "Validation set perplexity: 47.88\n"
     ]
    },
    {
     "name": "stdout",
     "output_type": "stream",
     "text": [
      "Average loss at step 6200: 4.121131 learning rate: 1.000000\n",
      "Minibatch perplexity: 62.84\n",
      "bb:  anarchism originated as a term of abuse first used against early working class radicals including the diggers of the english revolution and the sans culottes of the french revolution whilst the term is still used in a pejorative way to describe any act that used violent means to destroy the organization of society it has also been taken up as a positive label by self defined anarchists the word anarchism is derived from the greek without archons ruler chief king anarchism as a political philosophy is the belief that rulers are unnecessary and should be abolished although there are differing interpretations of what this means anarchism also refers to related social movements that advocate the elimination of authoritarian institutions particularly the state the word anarchy as most anarchists use it does not imply chaos nihilism or anomie but rather a harmonious anti authoritarian society in place of what are regarded as authoritarian political structures and coercive economic instituti anarchism originated as a term of abuse first used against early working class radicals including the diggers of the english revolution and the sans culottes of the french revolution whilst the term is still used in a pejorative way to describe any act that used violent means to destroy the organization of society it has also been taken up as a positive label by self defined anarchists the word anarchism is derived from the greek without archons ruler chief king anarchism as a political philosophy is the belief that rulers are unnecessary and should be abolished although there are differing interpretations of what this means anarchism also refers to related social movements that advocate the elimination of authoritarian institutions particularly the state the word anarchy as most anarchists use it does not imply chaos nihilism or anomie but rather a harmonious anti authoritarian society in place of what are regarded as authoritarian political structures and coercive economic instituti\n",
      "ss: ndl e s e f ngngl d th tndhee th tndt d or ternid the n  tthr e thrk tg thuds thtengl o n e e ng the seshts  tf the tht is tthferition tnd the sevd thrrnge  tf the thomt  tecens  tn thice erhe shee th tevony nid th tndroe e ioe ths th tes teaerthd the the iosed thsts t thntd th tes ty e he sf erd e ion th tevess  tn thvethsomey n thte tth tndththrtononr anity y thve tesere  tndl e s erthe thrk tndl e s e n thd ngr thome he sene s ith ug tnde ug tece s ons ering thd e  t tth tndros h al trostngmee th the sy y s the ioece s the the  ts e e thd the r  ty thits  tr thsoe ght he s tnd tese reng tn ers ess ion  tf thiciohes thntd thd e  t tthsomeesere th tecs io tevesn thst tnterthe ionderesiothe thy e g ion th tnde ugngting an  tonreon tthrte ale e  the sevted he site thd e  tth tane thd e  t t tnid n thn  tinh n er tons s ins  t tth tndt ngtht thtie  tndise stngr thd onnde ugngting aevess  tn the e th titt the thfeme t tndththe e h e n thrtngonl thats ioe  tnd tons e e thtie e aln  tonreonndl e s e f ngngl d th tndhee th tndt d or ternid the n  tthr e thrk tg thuds thtengl o n e e ng the seshts  tf the tht is tthferition tnd the sevd thrrnge  tf the thomt  tecens  tn thice erhe shee th tevony nid th tndroe e ioe ths th tes teaerthd the the iosed thsts t thntd th tes ty e he sf erd e ion th tevess  tn thvethsomey n thte tth tndththrtononr anity y thve tesere  tndl e s erthe thrk tndl e s e n thd ngr thome he sene s ith ug tnde ug tece s ons ering thd e  t tth tndros h al trostngmee th the sy y s the ioece s the the  ts e e thd the r  ty thits  tr thsoe ght he s tnd tese reng tn ers ess ion  tf thiciohes thntd thd e  t tthsomeesere th tecs io tevesn thst tnterthe ionderesiothe thy e g ion th tnde ugngting an  tonreon tthrte ale e  the sevted he site thd e  tth tane thd e  t t tnid n thn  tinh n er tons s ins  t tth tndt ngtht thtie  tndise stngr thd onnde ugngting aevess  tn the e th titt the thfeme t tndththe e h e n thrtngonl thats ioe  tnd tons e e thtie e aln  tonreon\n",
      "Validation set perplexity: 47.61\n",
      "Average loss at step 6300: 4.106284 learning rate: 1.000000\n",
      "Minibatch perplexity: 63.81\n",
      "bb:  anarchism originated as a term of abuse first used against early working class radicals including the diggers of the english revolution and the sans culottes of the french revolution whilst the term is still used in a pejorative way to describe any act that used violent means to destroy the organization of society it has also been taken up as a positive label by self defined anarchists the word anarchism is derived from the greek without archons ruler chief king anarchism as a political philosophy is the belief that rulers are unnecessary and should be abolished although there are differing interpretations of what this means anarchism also refers to related social movements that advocate the elimination of authoritarian institutions particularly the state the word anarchy as most anarchists use it does not imply chaos nihilism or anomie but rather a harmonious anti authoritarian society in place of what are regarded as authoritarian political structures and coercive economic instituti anarchism originated as a term of abuse first used against early working class radicals including the diggers of the english revolution and the sans culottes of the french revolution whilst the term is still used in a pejorative way to describe any act that used violent means to destroy the organization of society it has also been taken up as a positive label by self defined anarchists the word anarchism is derived from the greek without archons ruler chief king anarchism as a political philosophy is the belief that rulers are unnecessary and should be abolished although there are differing interpretations of what this means anarchism also refers to related social movements that advocate the elimination of authoritarian institutions particularly the state the word anarchy as most anarchists use it does not imply chaos nihilism or anomie but rather a harmonious anti authoritarian society in place of what are regarded as authoritarian political structures and coercive economic instituti\n",
      "ss: ndl e s  tf ngngl d th tndhee th tndt d or ternid the n  tthr e thrk tg thuds thtingl o n e e ng the seshts  tf the tht is tthferition tnd the sevd thrrnge  tf the thomt erecens  tn thice erhe shee th tevony nid th tndroe e ioe ths th tes teae thd thinthe iosed thsts t thntd th tes ty e he sneerd e ion th tevess  tn thvethsomey n thtis th tndththrtx onr eaity y thve tesere  tndl e s erthe thrk tndl e s  tn thd ngr thome he sene s ith ug tnde ug tece s ons ining thd e er tth tndros h al tros ngmee th the sy y s the ioece s the the  ts e e thd the r  ty thits  tr thsoe ght he s tnd tese reng tn ers ess ion  tf thiciohes thntd thd e er tthsomeecers th tecs io tevesn thstr nterthe ionderesiothe thy e g ion th tnd tugngtings n  tonreon othrte ale e  the sevted he site thd e erth tane thd e er t tnid n thn  tinh n er tons s ins  t tth tndt ngtht thtie s ndise stngr thd onnd tugngtings evess  tn thaye th titt the thsime t tndththe e h e n thrtngonl thats ioe  tnd tons e e thtie e aln  tonreonndl e s  tf ngngl d th tndhee th tndt d or ternid the n  tthr e thrk tg thuds thtingl o n e e ng the seshts  tf the tht is tthferition tnd the sevd thrrnge  tf the thomt erecens  tn thice erhe shee th tevony nid th tndroe e ioe ths th tes teae thd thinthe iosed thsts t thntd th tes ty e he sneerd e ion th tevess  tn thvethsomey n thtis th tndththrtx onr eaity y thve tesere  tndl e s erthe thrk tndl e s  tn thd ngr thome he sene s ith ug tnde ug tece s ons ining thd e er tth tndros h al tros ngmee th the sy y s the ioece s the the  ts e e thd the r  ty thits  tr thsoe ght he s tnd tese reng tn ers ess ion  tf thiciohes thntd thd e er tthsomeecers th tecs io tevesn thstr nterthe ionderesiothe thy e g ion th tnd tugngtings n  tonreon othrte ale e  the sevted he site thd e erth tane thd e er t tnid n thn  tinh n er tons s ins  t tth tndt ngtht thtie s ndise stngr thd onnd tugngtings evess  tn thaye th titt the thsime t tndththe e h e n thrtngonl thats ioe  tnd tons e e thtie e aln  tonreon\n",
      "Validation set perplexity: 47.43\n"
     ]
    },
    {
     "name": "stdout",
     "output_type": "stream",
     "text": [
      "Average loss at step 6400: 4.102313 learning rate: 1.000000\n",
      "Minibatch perplexity: 60.99\n",
      "bb:  anarchism originated as a term of abuse first used against early working class radicals including the diggers of the english revolution and the sans culottes of the french revolution whilst the term is still used in a pejorative way to describe any act that used violent means to destroy the organization of society it has also been taken up as a positive label by self defined anarchists the word anarchism is derived from the greek without archons ruler chief king anarchism as a political philosophy is the belief that rulers are unnecessary and should be abolished although there are differing interpretations of what this means anarchism also refers to related social movements that advocate the elimination of authoritarian institutions particularly the state the word anarchy as most anarchists use it does not imply chaos nihilism or anomie but rather a harmonious anti authoritarian society in place of what are regarded as authoritarian political structures and coercive economic instituti anarchism originated as a term of abuse first used against early working class radicals including the diggers of the english revolution and the sans culottes of the french revolution whilst the term is still used in a pejorative way to describe any act that used violent means to destroy the organization of society it has also been taken up as a positive label by self defined anarchists the word anarchism is derived from the greek without archons ruler chief king anarchism as a political philosophy is the belief that rulers are unnecessary and should be abolished although there are differing interpretations of what this means anarchism also refers to related social movements that advocate the elimination of authoritarian institutions particularly the state the word anarchy as most anarchists use it does not imply chaos nihilism or anomie but rather a harmonious anti authoritarian society in place of what are regarded as authoritarian political structures and coercive economic instituti\n",
      "ss: ndl e s  tf ngngl d th tndhee th tndt d or ternid the n  tthr e thrk tg thud tthtingl o n e e ng the seshts  tf the tht is athcorition tnd the sevd thrrnge  tf the thomt erecens  tn thice erhe shee th aevony sed th tndroe e ioe ths th tes aeae thd thinthe iosed thsts t thntd th tes aane he sneerd e ion th teve s  tn thvethsomey n thti ath tndththrtononr anity y thve tesere  tndl e s erthe thrk tndl e s  tn thd ngr thome he sene s ith ug tnde ug tece s ons ining thd e er ath tndros h al tros ngn e th ahe sy y s the ioece s the the  ts e e thd the r  ty thits  ar thsoe ght he s tnd tese reng tn ers ess ion  tf thiciohes thntd thd e er athsomeecere th tecs io teve n thstr nterthe iondere iothe thy e g ion th tnd tugngting an  tonreon tthrte ale e  the sevted he site thd e erth tane thd e er a tnid n thn  tinh n er tonnts ins  t athe ndt ngtht thtie  tndise stngr thd onnd tugngting aeve s  tn thaye th titt the thcome t tndththe e h e n thrtngonl thats ioe  tnd tons e e thtie e aln  tonreonndl e s  tf ngngl d th tndhee th tndt d or ternid the n  tthr e thrk tg thud tthtingl o n e e ng the seshts  tf the tht is athcorition tnd the sevd thrrnge  tf the thomt erecens  tn thice erhe shee th aevony sed th tndroe e ioe ths th tes aeae thd thinthe iosed thsts t thntd th tes aane he sneerd e ion th teve s  tn thvethsomey n thti ath tndththrtononr anity y thve tesere  tndl e s erthe thrk tndl e s  tn thd ngr thome he sene s ith ug tnde ug tece s ons ining thd e er ath tndros h al tros ngn e th ahe sy y s the ioece s the the  ts e e thd the r  ty thits  ar thsoe ght he s tnd tese reng tn ers ess ion  tf thiciohes thntd thd e er athsomeecere th tecs io teve n thstr nterthe iondere iothe thy e g ion th tnd tugngting an  tonreon tthrte ale e  the sevted he site thd e erth tane thd e er a tnid n thn  tinh n er tonnts ins  t athe ndt ngtht thtie  tndise stngr thd onnd tugngting aeve s  tn thaye th titt the thcome t tndththe e h e n thrtngonl thats ioe  tnd tons e e thtie e aln  tonreon\n",
      "Validation set perplexity: 47.38\n",
      "Average loss at step 6500: 4.088972 learning rate: 1.000000\n",
      "Minibatch perplexity: 63.56\n",
      "bb:  anarchism originated as a term of abuse first used against early working class radicals including the diggers of the english revolution and the sans culottes of the french revolution whilst the term is still used in a pejorative way to describe any act that used violent means to destroy the organization of society it has also been taken up as a positive label by self defined anarchists the word anarchism is derived from the greek without archons ruler chief king anarchism as a political philosophy is the belief that rulers are unnecessary and should be abolished although there are differing interpretations of what this means anarchism also refers to related social movements that advocate the elimination of authoritarian institutions particularly the state the word anarchy as most anarchists use it does not imply chaos nihilism or anomie but rather a harmonious anti authoritarian society in place of what are regarded as authoritarian political structures and coercive economic instituti anarchism originated as a term of abuse first used against early working class radicals including the diggers of the english revolution and the sans culottes of the french revolution whilst the term is still used in a pejorative way to describe any act that used violent means to destroy the organization of society it has also been taken up as a positive label by self defined anarchists the word anarchism is derived from the greek without archons ruler chief king anarchism as a political philosophy is the belief that rulers are unnecessary and should be abolished although there are differing interpretations of what this means anarchism also refers to related social movements that advocate the elimination of authoritarian institutions particularly the state the word anarchy as most anarchists use it does not imply chaos nihilism or anomie but rather a harmonious anti authoritarian society in place of what are regarded as authoritarian political structures and coercive economic instituti\n",
      "ss: ndl e s  tf ngngl d th tndhee th tndt d or ternid the n  tthr e thrk tg thud athtengl o n e e ng the seshts  tf the tht is athcorition tnd the sevd thrrnge  tf the thomt  tecens  tn thice erhe shee th aevony nid th tndroe e ioe ths th tes aeae thd thinthe iosed thsts t thntd th tes ay e he sneerd e ion th tevess  tn thvethsomey n thte ath tndththrtx onr eaity y thve tesere  tndl e s erthe thrk tndl e s  tn thd ngr thome he sene s ith ug tnde ug tece  aons ining thd e er ath tndrod h al trostngn e th ahe sy y s the ioece  athe the  ts e y thd the r  ty thled  ar thsoe ght he s tnd tese reng tn ers ess ion  tf thiciohes thntd thd e er athsomeecere th tecy io tevesn thstr nterthe iondere iothe thy e g ion th tnd tugngteng an  tonreon tthrte ale e  the sevted he site thd e erth tane thd e er a tnid n thn  tinh n er tonnts ins  t athe ndt ngtht thtie  tndise stngr thd onnd tugngteng aevess  tn thaye th titt the thcome t tndththe e h e n thrtngonl thats ioe  tnd tons e e thtie e aln  tonreonndl e s  tf ngngl d th tndhee th tndt d or ternid the n  tthr e thrk tg thud athtengl o n e e ng the seshts  tf the tht is athcorition tnd the sevd thrrnge  tf the thomt  tecens  tn thice erhe shee th aevony nid th tndroe e ioe ths th tes aeae thd thinthe iosed thsts t thntd th tes ay e he sneerd e ion th tevess  tn thvethsomey n thte ath tndththrtx onr eaity y thve tesere  tndl e s erthe thrk tndl e s  tn thd ngr thome he sene s ith ug tnde ug tece  aons ining thd e er ath tndrod h al trostngn e th ahe sy y s the ioece  athe the  ts e y thd the r  ty thled  ar thsoe ght he s tnd tese reng tn ers ess ion  tf thiciohes thntd thd e er athsomeecere th tecy io tevesn thstr nterthe iondere iothe thy e g ion th tnd tugngteng an  tonreon tthrte ale e  the sevted he site thd e erth tane thd e er a tnid n thn  tinh n er tonnts ins  t athe ndt ngtht thtie  tndise stngr thd onnd tugngteng aevess  tn thaye th titt the thcome t tndththe e h e n thrtngonl thats ioe  tnd tons e e thtie e aln  tonreon\n",
      "Validation set perplexity: 47.30\n"
     ]
    },
    {
     "name": "stdout",
     "output_type": "stream",
     "text": [
      "Average loss at step 6600: 4.090174 learning rate: 1.000000\n",
      "Minibatch perplexity: 62.97\n",
      "bb:  anarchism originated as a term of abuse first used against early working class radicals including the diggers of the english revolution and the sans culottes of the french revolution whilst the term is still used in a pejorative way to describe any act that used violent means to destroy the organization of society it has also been taken up as a positive label by self defined anarchists the word anarchism is derived from the greek without archons ruler chief king anarchism as a political philosophy is the belief that rulers are unnecessary and should be abolished although there are differing interpretations of what this means anarchism also refers to related social movements that advocate the elimination of authoritarian institutions particularly the state the word anarchy as most anarchists use it does not imply chaos nihilism or anomie but rather a harmonious anti authoritarian society in place of what are regarded as authoritarian political structures and coercive economic instituti anarchism originated as a term of abuse first used against early working class radicals including the diggers of the english revolution and the sans culottes of the french revolution whilst the term is still used in a pejorative way to describe any act that used violent means to destroy the organization of society it has also been taken up as a positive label by self defined anarchists the word anarchism is derived from the greek without archons ruler chief king anarchism as a political philosophy is the belief that rulers are unnecessary and should be abolished although there are differing interpretations of what this means anarchism also refers to related social movements that advocate the elimination of authoritarian institutions particularly the state the word anarchy as most anarchists use it does not imply chaos nihilism or anomie but rather a harmonious anti authoritarian society in place of what are regarded as authoritarian political structures and coercive economic instituti\n",
      "ss: ndl e s  tf ngngl d th tndhee th tndt d or tersed the n  tthr e thrk tg thuds thtengl o n e e ng the seshts  tf the tht is tthcorition tnd the sevd thrrnge  tf the thomt  aecens  tn thice erhe shee th tevony sed th tndroe e ioe ths th tes teae thd thinthe iosed thsts t thntd th tes ty e he sneerd e ion th tevess  tn thvethsomey n thtes th tndththrtx onr eaity y thve tesere  tndl e s erthe thrk tndl e s  tn thd ngr thome he sene s ith ug tnde ug tece s ons ining thd e  a tth tndros h al tros ngmee th the sy y s the ioece s the the  ts e e thd the r  ty thles  tr thsoe ght he s tnd tese reng tn ers ess ion  tf thiciohes thntd thd e  a tthsomeecere th tecs io tevesn thstr nterthe ionderesiothe thy e g ion th tnd tugngteng an  tonreon tthrte ale e  the sevted he site thd e  ath tane thd e  a t tsed n thn  tinh n er tonnts ins  t tthe ndt ngtht thtie  tndise stngr thd onnd tugngteng aevess  tn thaye th titt the thsime t tndththe e h e n thrtngonl thats ioe  tnd tons e e thtie e aln  tonreonndl e s  tf ngngl d th tndhee th tndt d or tersed the n  tthr e thrk tg thuds thtengl o n e e ng the seshts  tf the tht is tthcorition tnd the sevd thrrnge  tf the thomt  aecens  tn thice erhe shee th tevony sed th tndroe e ioe ths th tes teae thd thinthe iosed thsts t thntd th tes ty e he sneerd e ion th tevess  tn thvethsomey n thtes th tndththrtx onr eaity y thve tesere  tndl e s erthe thrk tndl e s  tn thd ngr thome he sene s ith ug tnde ug tece s ons ining thd e  a tth tndros h al tros ngmee th the sy y s the ioece s the the  ts e e thd the r  ty thles  tr thsoe ght he s tnd tese reng tn ers ess ion  tf thiciohes thntd thd e  a tthsomeecere th tecs io tevesn thstr nterthe ionderesiothe thy e g ion th tnd tugngteng an  tonreon tthrte ale e  the sevted he site thd e  ath tane thd e  a t tsed n thn  tinh n er tonnts ins  t tthe ndt ngtht thtie  tndise stngr thd onnd tugngteng aevess  tn thaye th titt the thsime t tndththe e h e n thrtngonl thats ioe  tnd tons e e thtie e aln  tonreon\n",
      "Validation set perplexity: 47.71\n",
      "Average loss at step 6700: 4.093725 learning rate: 1.000000\n",
      "Minibatch perplexity: 52.45\n",
      "bb:  anarchism originated as a term of abuse first used against early working class radicals including the diggers of the english revolution and the sans culottes of the french revolution whilst the term is still used in a pejorative way to describe any act that used violent means to destroy the organization of society it has also been taken up as a positive label by self defined anarchists the word anarchism is derived from the greek without archons ruler chief king anarchism as a political philosophy is the belief that rulers are unnecessary and should be abolished although there are differing interpretations of what this means anarchism also refers to related social movements that advocate the elimination of authoritarian institutions particularly the state the word anarchy as most anarchists use it does not imply chaos nihilism or anomie but rather a harmonious anti authoritarian society in place of what are regarded as authoritarian political structures and coercive economic instituti anarchism originated as a term of abuse first used against early working class radicals including the diggers of the english revolution and the sans culottes of the french revolution whilst the term is still used in a pejorative way to describe any act that used violent means to destroy the organization of society it has also been taken up as a positive label by self defined anarchists the word anarchism is derived from the greek without archons ruler chief king anarchism as a political philosophy is the belief that rulers are unnecessary and should be abolished although there are differing interpretations of what this means anarchism also refers to related social movements that advocate the elimination of authoritarian institutions particularly the state the word anarchy as most anarchists use it does not imply chaos nihilism or anomie but rather a harmonious anti authoritarian society in place of what are regarded as authoritarian political structures and coercive economic instituti\n",
      "ss: ndl e s  tf ngngl d th tndhee th tndt d or tersed the n  tthr e thrk tg thuds thtingl o n e e ng the seshtr  tf the tht is tthfen tion ond the sevd thrrnge  tnethe thomt erecens  tn thice erhe shee th tevony sed th tndroe e ioe ths th tes aeaerthd thinthe iosed thsts t thntd th tes ay e he sneerd e ion th tevess  tn thvethsomey n thti ath tndththrtx onr anity y thve tesere  tndl e s erthe thrk tndl e s  tn thd ngr thome he sene s ith ug tnde ug tece  tons ining thd e er tth tndrod h al trostngn erth the sy y s the ioece  tthe the  ts e e thd the r  ty thitog tr thsoe r t he s tnd tese reng tn ers ess ion  tf thiciohes thntd thd e er tthsomeecere th tecs io tevesn thstr nterthe ionderesiothe thy e g ion th tnd tugngting an  tonreon othrte ale e  the sevted he site thd e erth tane thd e er t tsed n thn  tinh n er tonnts ins  t tthe ndt ngtht thtie  tndise stngr thd onnd tugngting aevess  tn thaye th titt the thcome t tndththe e h e n thrtngonl thats ioe  tnd tons e e thtie e aln  tonreonndl e s  tf ngngl d th tndhee th tndt d or tersed the n  tthr e thrk tg thuds thtingl o n e e ng the seshtr  tf the tht is tthfen tion ond the sevd thrrnge  tnethe thomt erecens  tn thice erhe shee th tevony sed th tndroe e ioe ths th tes aeaerthd thinthe iosed thsts t thntd th tes ay e he sneerd e ion th tevess  tn thvethsomey n thti ath tndththrtx onr anity y thve tesere  tndl e s erthe thrk tndl e s  tn thd ngr thome he sene s ith ug tnde ug tece  tons ining thd e er tth tndrod h al trostngn erth the sy y s the ioece  tthe the  ts e e thd the r  ty thitog tr thsoe r t he s tnd tese reng tn ers ess ion  tf thiciohes thntd thd e er tthsomeecere th tecs io tevesn thstr nterthe ionderesiothe thy e g ion th tnd tugngting an  tonreon othrte ale e  the sevted he site thd e erth tane thd e er t tsed n thn  tinh n er tonnts ins  t tthe ndt ngtht thtie  tndise stngr thd onnd tugngting aevess  tn thaye th titt the thcome t tndththe e h e n thrtngonl thats ioe  tnd tons e e thtie e aln  tonreon\n",
      "Validation set perplexity: 47.94\n"
     ]
    },
    {
     "name": "stdout",
     "output_type": "stream",
     "text": [
      "Average loss at step 6800: 4.107135 learning rate: 1.000000\n",
      "Minibatch perplexity: 61.03\n",
      "bb:  anarchism originated as a term of abuse first used against early working class radicals including the diggers of the english revolution and the sans culottes of the french revolution whilst the term is still used in a pejorative way to describe any act that used violent means to destroy the organization of society it has also been taken up as a positive label by self defined anarchists the word anarchism is derived from the greek without archons ruler chief king anarchism as a political philosophy is the belief that rulers are unnecessary and should be abolished although there are differing interpretations of what this means anarchism also refers to related social movements that advocate the elimination of authoritarian institutions particularly the state the word anarchy as most anarchists use it does not imply chaos nihilism or anomie but rather a harmonious anti authoritarian society in place of what are regarded as authoritarian political structures and coercive economic instituti anarchism originated as a term of abuse first used against early working class radicals including the diggers of the english revolution and the sans culottes of the french revolution whilst the term is still used in a pejorative way to describe any act that used violent means to destroy the organization of society it has also been taken up as a positive label by self defined anarchists the word anarchism is derived from the greek without archons ruler chief king anarchism as a political philosophy is the belief that rulers are unnecessary and should be abolished although there are differing interpretations of what this means anarchism also refers to related social movements that advocate the elimination of authoritarian institutions particularly the state the word anarchy as most anarchists use it does not imply chaos nihilism or anomie but rather a harmonious anti authoritarian society in place of what are regarded as authoritarian political structures and coercive economic instituti\n",
      "ss: ndl e s e f ngngl d th tndhee th tndt d or tersed the n  tthr e thrk tg thuds thtingl o n e e ng the ceshts  tf the tht is athcorition ond the cevd thrrgye  af the thomt  aesens  tn thice erhe chee th aevony sed th tndroe e ioe ths th tes aeaerthd thinthe iosed thsts t thntd th tes ay e he cneerd e ion th tevess  tn thvethsomey n thti ath tndththrtx onr eaity y thve tesere  tndl e s erthe thrk andl e s e n thd ngr thome he cene s ith uge nde ug tese s ons ining thd e er ath tndros h al arostngn e th ahe cy y s the ioese s the the  ts e e thd the r  ty thitog ar thsoe ght he c and tese reng tn ers ess ion  tf thiciohes thntd thd e er athsomeesere th tesy io tevesl thstr nterthe ionderesiothe thy e g ion th tnde ugngting an  aonreon othrte ale e  the cevted he cite thd e erth tane thd e er a tsed n thn  tinh n er tonnts ins e  athe ndt ngtht thtie s ndise stngr thd onnde ugngting aevess  tn thaye th titt the thcome a tndththe e h e l thrtngonl thats ioe  and tons e e thtie e aln  aonreonndl e s e f ngngl d th tndhee th tndt d or tersed the n  tthr e thrk tg thuds thtingl o n e e ng the ceshts  tf the tht is athcorition ond the cevd thrrgye  af the thomt  aesens  tn thice erhe chee th aevony sed th tndroe e ioe ths th tes aeaerthd thinthe iosed thsts t thntd th tes ay e he cneerd e ion th tevess  tn thvethsomey n thti ath tndththrtx onr eaity y thve tesere  tndl e s erthe thrk andl e s e n thd ngr thome he cene s ith uge nde ug tese s ons ining thd e er ath tndros h al arostngn e th ahe cy y s the ioese s the the  ts e e thd the r  ty thitog ar thsoe ght he c and tese reng tn ers ess ion  tf thiciohes thntd thd e er athsomeesere th tesy io tevesl thstr nterthe ionderesiothe thy e g ion th tnde ugngting an  aonreon othrte ale e  the cevted he cite thd e erth tane thd e er a tsed n thn  tinh n er tonnts ins e  athe ndt ngtht thtie s ndise stngr thd onnde ugngting aevess  tn thaye th titt the thcome a tndththe e h e l thrtngonl thats ioe  and tons e e thtie e aln  aonreon\n",
      "Validation set perplexity: 47.68\n",
      "Average loss at step 6900: 4.100940 learning rate: 1.000000\n",
      "Minibatch perplexity: 66.03\n",
      "bb:  anarchism originated as a term of abuse first used against early working class radicals including the diggers of the english revolution and the sans culottes of the french revolution whilst the term is still used in a pejorative way to describe any act that used violent means to destroy the organization of society it has also been taken up as a positive label by self defined anarchists the word anarchism is derived from the greek without archons ruler chief king anarchism as a political philosophy is the belief that rulers are unnecessary and should be abolished although there are differing interpretations of what this means anarchism also refers to related social movements that advocate the elimination of authoritarian institutions particularly the state the word anarchy as most anarchists use it does not imply chaos nihilism or anomie but rather a harmonious anti authoritarian society in place of what are regarded as authoritarian political structures and coercive economic instituti anarchism originated as a term of abuse first used against early working class radicals including the diggers of the english revolution and the sans culottes of the french revolution whilst the term is still used in a pejorative way to describe any act that used violent means to destroy the organization of society it has also been taken up as a positive label by self defined anarchists the word anarchism is derived from the greek without archons ruler chief king anarchism as a political philosophy is the belief that rulers are unnecessary and should be abolished although there are differing interpretations of what this means anarchism also refers to related social movements that advocate the elimination of authoritarian institutions particularly the state the word anarchy as most anarchists use it does not imply chaos nihilism or anomie but rather a harmonious anti authoritarian society in place of what are regarded as authoritarian political structures and coercive economic instituti\n",
      "ss: ndl e s e f ngngl d th tndhee th tndt d or tersed the n  tthr e thrk tg thuds thtingl o n e e ng the seshts  tf the tht is tthferition tnd the sixd thrrgye  af the thomt  tesens e n thice erhe shee th tixony sed th tndroe e ioe ths th tes aeae thd the the iosed thsts t thntd th tes ay e he sneerd e ion th tixess  tn thvethsomey n thti ath tndththrtx onr eaity y thve tesere  tndl e s erthe thrk tndl e s e n thd ngr thome he sene s ith uge nde ug tese s ons ining thd e er tth tndros h al trostgyn e th the sy y s the ioese s the the  td e e thd the r  ty thitog tr thsoe ght he s and tese reng tn ers ess ion  tf thiciohes thntd thd e er tthsomeesere th tesy io tixesl thstr nterthe ionderesiothe thy e g ion th tnde ugngting an  tonreon tthrte ale e  the sixted he site thd e erth tane thd e er t tsed n thn  tinh n er tonnts ins e  tthe ndt ngtht thtie e nde e stngr thd onnde ugngting aixess  tn thaye th titt the thcome t tndththe e h e l thrtngonl thats ioe  and tons e e thtie e aln  tonreonndl e s e f ngngl d th tndhee th tndt d or tersed the n  tthr e thrk tg thuds thtingl o n e e ng the seshts  tf the tht is tthferition tnd the sixd thrrgye  af the thomt  tesens e n thice erhe shee th tixony sed th tndroe e ioe ths th tes aeae thd the the iosed thsts t thntd th tes ay e he sneerd e ion th tixess  tn thvethsomey n thti ath tndththrtx onr eaity y thve tesere  tndl e s erthe thrk tndl e s e n thd ngr thome he sene s ith uge nde ug tese s ons ining thd e er tth tndros h al trostgyn e th the sy y s the ioese s the the  td e e thd the r  ty thitog tr thsoe ght he s and tese reng tn ers ess ion  tf thiciohes thntd thd e er tthsomeesere th tesy io tixesl thstr nterthe ionderesiothe thy e g ion th tnde ugngting an  tonreon tthrte ale e  the sixted he site thd e erth tane thd e er t tsed n thn  tinh n er tonnts ins e  tthe ndt ngtht thtie e nde e stngr thd onnde ugngting aixess  tn thaye th titt the thcome t tndththe e h e l thrtngonl thats ioe  and tons e e thtie e aln  tonreon\n",
      "Validation set perplexity: 47.97\n"
     ]
    },
    {
     "name": "stdout",
     "output_type": "stream",
     "text": [
      "Average loss at step 7000: 4.106533 learning rate: 1.000000\n",
      "Minibatch perplexity: 78.12\n",
      "bb:  anarchism originated as a term of abuse first used against early working class radicals including the diggers of the english revolution and the sans culottes of the french revolution whilst the term is still used in a pejorative way to describe any act that used violent means to destroy the organization of society it has also been taken up as a positive label by self defined anarchists the word anarchism is derived from the greek without archons ruler chief king anarchism as a political philosophy is the belief that rulers are unnecessary and should be abolished although there are differing interpretations of what this means anarchism also refers to related social movements that advocate the elimination of authoritarian institutions particularly the state the word anarchy as most anarchists use it does not imply chaos nihilism or anomie but rather a harmonious anti authoritarian society in place of what are regarded as authoritarian political structures and coercive economic instituti anarchism originated as a term of abuse first used against early working class radicals including the diggers of the english revolution and the sans culottes of the french revolution whilst the term is still used in a pejorative way to describe any act that used violent means to destroy the organization of society it has also been taken up as a positive label by self defined anarchists the word anarchism is derived from the greek without archons ruler chief king anarchism as a political philosophy is the belief that rulers are unnecessary and should be abolished although there are differing interpretations of what this means anarchism also refers to related social movements that advocate the elimination of authoritarian institutions particularly the state the word anarchy as most anarchists use it does not imply chaos nihilism or anomie but rather a harmonious anti authoritarian society in place of what are regarded as authoritarian political structures and coercive economic instituti\n",
      "ss: ndl e s  tf ngngl d th tndhee th tndt d or ternid the n  tthr e thrk tg thuds thtingl o n e e ng the ceshts  tf the tht is tthcorition ond the cevd thrrgye  af the thomt  teaens  tn thice erhe chee th tevony sed th tndroe e ioe ths th tes aeae thd thinthe iosed thins t thntd th tes ay e he cf erd e ion th tevess  tn thvethsomey n thti ath tndththrtx onr inity y thve tesere  tndl e s erthe thrk andl e s  tn thd ngr thome he cene s ith ug tnde ug teae  aoms ining thd e er tth tndros h al tros ngn e th the cy y s the ioeae  tthe the  td e e thd the r  ty thitog tr thsoe ght he c and tese reng tn ers ess ion  tf thiciohes thntd thd e er tthsomeesere th tecy io tevesn thstr nterthe ionderesiothe thy e g ion th tnd tugngting an  tonreon othrte ale e  the cevted he cit tthd e erth tant thd e er t tnid n thn  tinh n er tomnts ins e  tth tndt ngtht thtie  tndise stngr thd onnd tugngting aevess  tn thaye th titt the thcome t tndththe e h e n thrtngonl thats ioe  and toms e e thtie e aln  tonreonndl e s  tf ngngl d th tndhee th tndt d or ternid the n  tthr e thrk tg thuds thtingl o n e e ng the ceshts  tf the tht is tthcorition ond the cevd thrrgye  af the thomt  teaens  tn thice erhe chee th tevony sed th tndroe e ioe ths th tes aeae thd thinthe iosed thins t thntd th tes ay e he cf erd e ion th tevess  tn thvethsomey n thti ath tndththrtx onr inity y thve tesere  tndl e s erthe thrk andl e s  tn thd ngr thome he cene s ith ug tnde ug teae  aoms ining thd e er tth tndros h al tros ngn e th the cy y s the ioeae  tthe the  td e e thd the r  ty thitog tr thsoe ght he c and tese reng tn ers ess ion  tf thiciohes thntd thd e er tthsomeesere th tecy io tevesn thstr nterthe ionderesiothe thy e g ion th tnd tugngting an  tonreon othrte ale e  the cevted he cit tthd e erth tant thd e er t tnid n thn  tinh n er tomnts ins e  tth tndt ngtht thtie  tndise stngr thd onnd tugngting aevess  tn thaye th titt the thcome t tndththe e h e n thrtngonl thats ioe  and toms e e thtie e aln  tonreon\n",
      "Validation set perplexity: 47.32\n"
     ]
    }
   ],
   "source": [
    "half_vocab = string.ascii_lowercase + ' '\n",
    "\n",
    "vocabularies = [c2 + c1 for c2 in half_vocab for c1 in half_vocab]\n",
    "      \n",
    "num_vocab = len(vocabularies)\n",
    "ones = np.eye(num_vocab)\n",
    "\n",
    "def to_vocab(ids):\n",
    "    '''ids should be an numpy array in shape (batch_size, num_vocab)'''\n",
    "\n",
    "    return [vocabs[idx] for idx in np.argmax(np.matmul(ids, ones), axis=1)]\n",
    "\n",
    "def to_id(vocabs):\n",
    "    '''vocabs should be an python array in shape (batch_size, 1)'''\n",
    "    v = np.zeros((len(vocabs), num_vocab))\n",
    "    for idx, vocab in enumerate(vocabs):\n",
    "        v[idx][vocabularies.index(vocab)] = 1\n",
    "    return v\n",
    "\n",
    "def characters(probabilities):\n",
    "    v = np.zeros((batch_size, num_vocab))\n",
    "    for i, idx in enumerate(np.argmax(probabilities, axis=1)):\n",
    "        v[i][idx] = 1\n",
    "    return to_vocab(v)\n",
    "\n",
    "def batch_to_vocab(batches):\n",
    "    \n",
    "    return [list(seq) for seq in zip(*[to_vocab(batch) for batch in batches])]\n",
    "\n",
    "batch_size = 64\n",
    "num_unrollings = 10\n",
    "\n",
    "class BatchGenerator(object):\n",
    "    \n",
    "    def __init__(self, text, batch_size, num_unrollings):\n",
    "        \n",
    "        self._text = text\n",
    "        self._text_size = len(text)\n",
    "        self._batch_size = batch_size\n",
    "        self._num_unrollings = num_unrollings\n",
    "        segment = self._text_size // batch_size\n",
    "        self._cursor = [ offset * segment for offset in range(batch_size)]\n",
    "        self._last_batch = self._next_batch()\n",
    "        \n",
    "    def _next_batch(self):\n",
    "        '''Generate a single batch from current cursor position'''\n",
    "        bigrams = []\n",
    "        \n",
    "        for b in range(self._batch_size):\n",
    "            _c = self._cursor[b]\n",
    "            bigrams.append(self._text[_c:_c+2])\n",
    "            self._cursor[b] = (self._cursor[b] + 2) % self._text_size   \n",
    "        \n",
    "        return to_id(bigrams)\n",
    "    \n",
    "    def next(self):\n",
    "        '''Generate next array of batches'''\n",
    "        batches = [self._last_batch]\n",
    "        \n",
    "        for unrolling in range(self._num_unrollings):\n",
    "            batches.append(self._next_batch())\n",
    "            \n",
    "        self._last_batch = batches[-1]\n",
    "        return batches\n",
    "    \n",
    "train_batch = BatchGenerator(train_text, batch_size, num_unrollings)\n",
    "valid_batch = BatchGenerator(valid_text, 1, 1)\n",
    "\n",
    "num_nodes = 64\n",
    "num_features = 128\n",
    "\n",
    "graph = tf.Graph()\n",
    "with graph.as_default():\n",
    "    \n",
    "    iw = tf.Variable(tf.truncated_normal([num_features, num_nodes * 4], -0.4, 0.4))\n",
    "    ow = tf.Variable(tf.truncated_normal([num_nodes, num_nodes * 4], -0.4, 0.4))\n",
    "    bb = tf.Variable(tf.truncated_normal([1, num_nodes * 4]))\n",
    "    \n",
    "    embeddings = tf.Variable(tf.truncated_normal([num_vocab, num_features]))\n",
    "    \n",
    "    saved_output = tf.Variable(tf.zeros([batch_size, num_nodes]), trainable=False)\n",
    "    saved_state = tf.Variable(tf.zeros([batch_size, num_nodes]), trainable=False)\n",
    "    \n",
    "    w = tf.Variable(tf.truncated_normal([num_nodes, num_vocab], -0.1, 0.1))\n",
    "    b = tf.Variable(tf.zeros([num_vocab]))\n",
    "    \n",
    "    def lstm_cell(i, o, state):\n",
    "        \n",
    "        ww = tf.matmul(i, iw) + tf.matmul(o, ow) + bb\n",
    "        i, f, o, c = tf.split(ww, num_or_size_splits=4, axis=1)\n",
    "        input_gate = tf.sigmoid(i)\n",
    "        forget_gate = tf.sigmoid(f)\n",
    "        update = c\n",
    "        state = forget_gate * state + input_gate * tf.tanh(update)\n",
    "        output_gate = tf.sigmoid(o)\n",
    "        return output_gate * tf.tanh(state), state\n",
    "    \n",
    "    train_data = list()\n",
    "    for _ in range(num_unrollings + 1):\n",
    "        train_data.append(\n",
    "            tf.placeholder(tf.float32, shape=[batch_size, num_vocab])\n",
    "        )\n",
    "    train_inputs = train_data[:num_unrollings]\n",
    "    train_labels = train_data[1:]\n",
    "    \n",
    "    outputs = list()\n",
    "    output = saved_output\n",
    "    state = saved_state\n",
    "    for i in train_inputs:\n",
    "        i = tf.matmul(i, embeddings)\n",
    "        i = tf.nn.dropout(i, keep_prob=0.5)\n",
    "        output, state = lstm_cell(i, output, state)\n",
    "        output = tf.nn.dropout(output, keep_prob=0.5)\n",
    "        outputs.append(output)\n",
    "        \n",
    "    with tf.control_dependencies([\n",
    "        saved_output.assign(output),\n",
    "        saved_state.assign(state)\n",
    "    ]):\n",
    "        logits = tf.nn.xw_plus_b(tf.concat(outputs, axis=0), w, b)\n",
    "        loss = tf.reduce_mean(\n",
    "            tf.nn.softmax_cross_entropy_with_logits(\n",
    "                labels=tf.concat(train_labels, axis=0),\n",
    "                logits=logits\n",
    "            )\n",
    "        )\n",
    "        \n",
    "    global_step = tf.Variable(0)\n",
    "    learning_rate = tf.train.exponential_decay(\n",
    "        10.0,\n",
    "        global_step,\n",
    "        5000,\n",
    "        0.1,\n",
    "        staircase=True\n",
    "    )\n",
    "    optimizer = tf.train.GradientDescentOptimizer(learning_rate)\n",
    "    \n",
    "    gradients, v = zip(*optimizer.compute_gradients(loss))\n",
    "    gradients, _ = tf.clip_by_global_norm(gradients, 1.25)\n",
    "    \n",
    "    optimizer = optimizer.apply_gradients(\n",
    "        zip(gradients, v),\n",
    "        global_step=global_step\n",
    "    )\n",
    "    \n",
    "    train_prediction = tf.nn.softmax(logits)\n",
    "    \n",
    "    sample_input = tf.placeholder(tf.float32, shape=[1, num_vocab])\n",
    "    saved_sample_output = tf.Variable(tf.zeros([1, num_nodes]))\n",
    "    saved_sample_state = tf.Variable(tf.zeros([1, num_nodes]))\n",
    "    reset_sample_state = tf.group(\n",
    "        saved_sample_output.assign(tf.zeros([1, num_nodes])),\n",
    "        saved_sample_state.assign(tf.zeros([1, num_nodes]))\n",
    "    )\n",
    "    \n",
    "    sample_output, sample_state = lstm_cell(tf.matmul(sample_input, embeddings), saved_sample_output, saved_sample_state)\n",
    "    with tf.control_dependencies([\n",
    "        saved_sample_output.assign(sample_output),\n",
    "        saved_sample_state.assign(sample_state)\n",
    "    ]):\n",
    "        sample_prediction = tf.nn.softmax(tf.nn.xw_plus_b(sample_output, w, b))\n",
    "        \n",
    "num_steps = 7001\n",
    "summary_frequency = 100\n",
    "\n",
    "with tf.Session(graph=graph) as session:\n",
    "    tf.global_variables_initializer().run()\n",
    "    print('Initialized')\n",
    "    mean_loss = 0\n",
    "    for step in range(num_steps):\n",
    "        batches = train_batch.next()\n",
    "        feed_dict = dict()\n",
    "        for i in range(num_unrollings + 1):\n",
    "            feed_dict[train_data[i]] = batches[i]\n",
    "        _, l, predictions, lr = session.run(\n",
    "            [optimizer, loss, train_prediction, learning_rate],\n",
    "            feed_dict=feed_dict\n",
    "        )\n",
    "        mean_loss += l\n",
    "        if step % summary_frequency == 0:\n",
    "            if step > 0:\n",
    "                mean_loss = mean_loss / summary_frequency\n",
    "            print('Average loss at step %d: %f learning rate: %f' % (step, mean_loss, lr))\n",
    "            mean_loss = 0\n",
    "            labels = np.concatenate(list(batches[1:]))\n",
    "            print('Minibatch perplexity: %.2f' % float(np.exp(logprob(predictions, labels))))\n",
    "            reset_sample_state.run()\n",
    "            valid_logprob = 0\n",
    "            bb = ''\n",
    "            ss = ''\n",
    "            for _ in range(valid_size):\n",
    "                b = valid_batch.next()\n",
    "                bb += characters(b[0])[0]\n",
    "                predictions = sample_prediction.eval({sample_input: b[0]})\n",
    "                ss += characters(predictions)[0]\n",
    "                valid_logprob = valid_logprob + logprob(predictions, b[1])\n",
    "            print('bb: %s' % bb)\n",
    "            print('ss: %s' % ss)\n",
    "            print('Validation set perplexity: %.2f' % float(np.exp(valid_logprob / valid_size)))"
   ]
  },
  {
   "cell_type": "markdown",
   "metadata": {
    "colab_type": "text",
    "id": "Y5tapX3kpcqZ"
   },
   "source": [
    "---\n",
    "Problem 3\n",
    "---------\n",
    "\n",
    "(difficult!)\n",
    "\n",
    "Write a sequence-to-sequence LSTM which mirrors all the words in a sentence. For example, if your input is:\n",
    "\n",
    "    the quick brown fox\n",
    "    \n",
    "the model should attempt to output:\n",
    "\n",
    "    eht kciuq nworb xof\n",
    "    \n",
    "Refer to the lecture on how to put together a sequence-to-sequence model, as well as [this article](http://arxiv.org/abs/1409.3215) for best practices.\n",
    "\n",
    "---"
   ]
  }
 ],
 "metadata": {
  "colab": {
   "default_view": {},
   "name": "6_lstm.ipynb",
   "provenance": [],
   "version": "0.3.2",
   "views": {}
  },
  "kernelspec": {
   "display_name": "Python 3",
   "language": "python",
   "name": "python3"
  },
  "language_info": {
   "codemirror_mode": {
    "name": "ipython",
    "version": 3
   },
   "file_extension": ".py",
   "mimetype": "text/x-python",
   "name": "python",
   "nbconvert_exporter": "python",
   "pygments_lexer": "ipython3",
   "version": "3.5.3"
  }
 },
 "nbformat": 4,
 "nbformat_minor": 1
}
