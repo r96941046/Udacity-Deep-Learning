{
 "cells": [
  {
   "cell_type": "markdown",
   "metadata": {},
   "source": [
    "## MNIST Synthetic Dataset"
   ]
  },
  {
   "cell_type": "code",
   "execution_count": 1,
   "metadata": {
    "collapsed": true
   },
   "outputs": [],
   "source": [
    "import gzip\n",
    "import numpy as np\n",
    "import os\n",
    "import h5py\n",
    "import sys\n",
    "import tarfile\n",
    "import tensorflow as tf\n",
    "import random\n",
    "import matplotlib.pyplot as plt\n",
    "%matplotlib inline\n",
    "\n",
    "from IPython.display import display, Image\n",
    "from scipy import ndimage\n",
    "from scipy.misc import imresize\n",
    "from six.moves.urllib.request import urlretrieve\n",
    "from six.moves import cPickle as pickle"
   ]
  },
  {
   "cell_type": "code",
   "execution_count": 2,
   "metadata": {},
   "outputs": [
    {
     "name": "stdout",
     "output_type": "stream",
     "text": [
      "Found and verified ./train-images-idx3-ubyte.gz\n",
      "Found and verified ./train-labels-idx1-ubyte.gz\n",
      "Found and verified ./t10k-images-idx3-ubyte.gz\n",
      "Found and verified ./t10k-labels-idx1-ubyte.gz\n",
      "Extracting ./train-images-idx3-ubyte.gz\n",
      "Extracting ./train-labels-idx1-ubyte.gz\n",
      "Extracting ./t10k-images-idx3-ubyte.gz\n",
      "Extracting ./t10k-labels-idx1-ubyte.gz\n"
     ]
    }
   ],
   "source": [
    "URL = 'http://yann.lecun.com/exdb/mnist/'\n",
    "LAST_PERCENT_REPORTED = None\n",
    "DATA_ROOT = '.' # Change me to store data elsewhere\n",
    "\n",
    "IMAGE_SIZE = 28\n",
    "NUM_CHANNELS = 1\n",
    "PIXEL_DEPTH = 255.0\n",
    "\n",
    "def download_progress_hook(count, blockSize, totalSize):\n",
    "    \"\"\"A hook to report the progress of a download. This is mostly intended for users with\n",
    "    slow internet connections. Reports every 5% change in download progress.\n",
    "    \"\"\"\n",
    "    global LAST_PERCENT_REPORTED\n",
    "    percent = int(count * blockSize * 100 / totalSize)\n",
    "\n",
    "    if LAST_PERCENT_REPORTED != percent:\n",
    "        if percent % 5 == 0:\n",
    "            sys.stdout.write(\"%s%%\" % percent)\n",
    "            sys.stdout.flush()\n",
    "        else:\n",
    "            sys.stdout.write(\".\")\n",
    "            sys.stdout.flush()\n",
    "      \n",
    "        LAST_PERCENT_REPORTED = percent\n",
    "        \n",
    "def maybe_download(filename, expected_bytes, force=False):\n",
    "    \"\"\"Download a file if not present, and make sure it's the right size.\"\"\"\n",
    "    dest_filename = os.path.join(DATA_ROOT, filename)\n",
    "    if force or not os.path.exists(dest_filename):\n",
    "        print('Attempting to download:', filename) \n",
    "        filename, _ = urlretrieve(URL + filename, dest_filename, reporthook=download_progress_hook)\n",
    "        print('\\nDownload Complete!')\n",
    "    statinfo = os.stat(dest_filename)\n",
    "    if statinfo.st_size == expected_bytes:\n",
    "        print('Found and verified', dest_filename)\n",
    "    else:\n",
    "        raise Exception(\n",
    "            'Failed to verify ' + dest_filename + '. Can you get to it with a browser?'\n",
    "        )\n",
    "    return dest_filename\n",
    "\n",
    "def extract_data(filename, num_images):\n",
    "    \"\"\"Extract the images into a 4D tensor [image index, y, x, channels].\n",
    "    Values are rescaled from [0, 255] down to [-0.5, 0.5].\n",
    "    \"\"\"\n",
    "    print('Extracting', filename)\n",
    "    with gzip.open(filename) as bytestream:\n",
    "        bytestream.read(16)\n",
    "        buf = bytestream.read(IMAGE_SIZE * IMAGE_SIZE * num_images)\n",
    "        data = np.frombuffer(buf, dtype=np.uint8).astype(np.float32)\n",
    "        data = (data - (PIXEL_DEPTH / 2.0)) / PIXEL_DEPTH\n",
    "        data = data.reshape(num_images, IMAGE_SIZE, IMAGE_SIZE, NUM_CHANNELS)\n",
    "        return data\n",
    "\n",
    "def extract_labels(filename, num_images):\n",
    "    \"\"\"Extract the labels into a vector of int64 label IDs.\"\"\"\n",
    "    print('Extracting', filename)\n",
    "    with gzip.open(filename) as bytestream:\n",
    "        bytestream.read(8)\n",
    "        buf = bytestream.read(1 * num_images)\n",
    "        labels = np.frombuffer(buf, dtype=np.uint8).astype(np.int64)\n",
    "    return labels\n",
    "\n",
    "mnist_train_image_file = maybe_download('train-images-idx3-ubyte.gz', 9912422)\n",
    "mnist_train_label_file = maybe_download('train-labels-idx1-ubyte.gz', 28881)\n",
    "mnist_test_image_file = maybe_download('t10k-images-idx3-ubyte.gz', 1648877)\n",
    "mnist_test_label_file = maybe_download('t10k-labels-idx1-ubyte.gz', 4542)\n",
    "\n",
    "mnist_train_data = extract_data(mnist_train_image_file, 60000)\n",
    "mnist_train_labels = extract_labels(mnist_train_label_file, 60000)\n",
    "mnist_test_data = extract_data(mnist_test_image_file, 10000)\n",
    "mnist_test_labels = extract_labels(mnist_test_label_file, 10000)\n",
    "\n",
    "mnist_valid_data = mnist_test_data[:5000, :, :, :]\n",
    "mnist_test_data = mnist_test_data[5000:, :, :, :]\n",
    "\n",
    "mnist_valid_labels = mnist_test_labels[:5000]\n",
    "mnist_test_labels = mnist_test_labels[5000:]"
   ]
  },
  {
   "cell_type": "code",
   "execution_count": 3,
   "metadata": {
    "collapsed": true
   },
   "outputs": [],
   "source": [
    "MAX_DIGITS = 5\n",
    "NUM_LABELS = 11 # 0-9 plus blank image\n",
    "BLANK_IMAGE = (np.zeros((IMAGE_SIZE, IMAGE_SIZE, NUM_CHANNELS)) - (PIXEL_DEPTH / 2.0)) / PIXEL_DEPTH\n",
    "\n",
    "def randomize(dataset, labels):\n",
    "    permutation = np.random.permutation(labels.shape[0])\n",
    "    shuffled_dataset = dataset[permutation,:,:]\n",
    "    shuffled_labels = labels[permutation]\n",
    "    return shuffled_dataset, shuffled_labels\n",
    "\n",
    "def generate_multiple_digit_data(data, labels, count, max_digits=MAX_DIGITS):    \n",
    "    buffer_data = data\n",
    "    buffer_labels = labels    \n",
    "    multiple_digit_data = np.empty((count, IMAGE_SIZE, IMAGE_SIZE * max_digits, NUM_CHANNELS), dtype=np.float32)\n",
    "    multiple_digit_labels = np.empty((count, MAX_DIGITS + 1, NUM_LABELS), dtype=np.float32)\n",
    "    \n",
    "    for idx in range(count):                    \n",
    "        num_digits = random.randint(1, max_digits)\n",
    "        num_zeros = max_digits - num_digits\n",
    "        one_hot = np.zeros((MAX_DIGITS + 1, NUM_LABELS), dtype=np.float32)\n",
    "        \n",
    "        if num_digits > len(buffer_labels):           \n",
    "            data, labels = randomize(data, labels)\n",
    "            buffer_data = np.concatenate((buffer_data, data), axis=0)\n",
    "            buffer_labels = np.concatenate((buffer_labels, labels))\n",
    "    \n",
    "        d, l = buffer_data[:num_digits, :, :, :], buffer_labels[:num_digits]\n",
    "        buffer_data, buffer_labels = buffer_data[num_digits:, :, :, :], buffer_labels[num_digits:]\n",
    "\n",
    "        if num_zeros:\n",
    "            d = np.concatenate((d, [BLANK_IMAGE] * num_zeros), axis=0)\n",
    "            l = np.concatenate((l, [10] * num_zeros))\n",
    "\n",
    "        d = d.swapaxes(0, 1).reshape(IMAGE_SIZE, IMAGE_SIZE * max_digits, NUM_CHANNELS)\n",
    "        l = np.concatenate((l, [num_digits]))\n",
    "        \n",
    "        one_hot[np.arange(l.shape[0]), l] = 1\n",
    "\n",
    "        multiple_digit_data[idx] = d\n",
    "        multiple_digit_labels[idx] = one_hot\n",
    "        \n",
    "    return multiple_digit_data, multiple_digit_labels"
   ]
  },
  {
   "cell_type": "code",
   "execution_count": 4,
   "metadata": {
    "collapsed": true
   },
   "outputs": [],
   "source": [
    "train_dataset, train_labels = generate_multiple_digit_data(mnist_train_data, mnist_train_labels, count=180000)\n",
    "valid_dataset, valid_labels = generate_multiple_digit_data(mnist_valid_data, mnist_valid_labels, count=10000)\n",
    "test_dataset, test_labels = generate_multiple_digit_data(mnist_test_data, mnist_test_labels, count=10000)"
   ]
  },
  {
   "cell_type": "code",
   "execution_count": 5,
   "metadata": {
    "collapsed": true
   },
   "outputs": [],
   "source": [
    "del mnist_train_data\n",
    "del mnist_train_labels\n",
    "del mnist_valid_data\n",
    "del mnist_valid_labels\n",
    "del mnist_test_data\n",
    "del mnist_test_labels"
   ]
  },
  {
   "cell_type": "code",
   "execution_count": 6,
   "metadata": {},
   "outputs": [
    {
     "name": "stdout",
     "output_type": "stream",
     "text": [
      "[[ 0.  0.  0.  0.  0.  1.  0.  0.  0.  0.  0.]\n",
      " [ 0.  0.  0.  0.  0.  0.  0.  0.  0.  0.  1.]\n",
      " [ 0.  0.  0.  0.  0.  0.  0.  0.  0.  0.  1.]\n",
      " [ 0.  0.  0.  0.  0.  0.  0.  0.  0.  0.  1.]\n",
      " [ 0.  0.  0.  0.  0.  0.  0.  0.  0.  0.  1.]\n",
      " [ 0.  1.  0.  0.  0.  0.  0.  0.  0.  0.  0.]]\n"
     ]
    },
    {
     "data": {
      "image/png": "[encoded data removed]",
      "text/plain": [
       "<matplotlib.figure.Figure at 0x117c36208>"
      ]
     },
     "metadata": {},
     "output_type": "display_data"
    },
    {
     "name": "stdout",
     "output_type": "stream",
     "text": [
      "[[ 1.  0.  0.  0.  0.  0.  0.  0.  0.  0.  0.]\n",
      " [ 0.  0.  0.  0.  1.  0.  0.  0.  0.  0.  0.]\n",
      " [ 0.  1.  0.  0.  0.  0.  0.  0.  0.  0.  0.]\n",
      " [ 0.  0.  0.  0.  0.  0.  0.  0.  0.  0.  1.]\n",
      " [ 0.  0.  0.  0.  0.  0.  0.  0.  0.  0.  1.]\n",
      " [ 0.  0.  0.  1.  0.  0.  0.  0.  0.  0.  0.]]\n"
     ]
    },
    {
     "data": {
      "image/png": "[encoded data removed]",
      "text/plain": [
       "<matplotlib.figure.Figure at 0x117c21c88>"
      ]
     },
     "metadata": {},
     "output_type": "display_data"
    },
    {
     "name": "stdout",
     "output_type": "stream",
     "text": [
      "[[ 0.  0.  0.  0.  0.  0.  0.  0.  0.  1.  0.]\n",
      " [ 0.  0.  1.  0.  0.  0.  0.  0.  0.  0.  0.]\n",
      " [ 0.  0.  0.  0.  0.  0.  0.  0.  0.  0.  1.]\n",
      " [ 0.  0.  0.  0.  0.  0.  0.  0.  0.  0.  1.]\n",
      " [ 0.  0.  0.  0.  0.  0.  0.  0.  0.  0.  1.]\n",
      " [ 0.  0.  1.  0.  0.  0.  0.  0.  0.  0.  0.]]\n"
     ]
    },
    {
     "data": {
      "image/png": "[encoded data removed]",
      "text/plain": [
       "<matplotlib.figure.Figure at 0x11fcfb9e8>"
      ]
     },
     "metadata": {},
     "output_type": "display_data"
    },
    {
     "name": "stdout",
     "output_type": "stream",
     "text": [
      "[[ 0.  1.  0.  0.  0.  0.  0.  0.  0.  0.  0.]\n",
      " [ 0.  0.  0.  1.  0.  0.  0.  0.  0.  0.  0.]\n",
      " [ 0.  1.  0.  0.  0.  0.  0.  0.  0.  0.  0.]\n",
      " [ 0.  0.  0.  0.  0.  0.  0.  0.  0.  0.  1.]\n",
      " [ 0.  0.  0.  0.  0.  0.  0.  0.  0.  0.  1.]\n",
      " [ 0.  0.  0.  1.  0.  0.  0.  0.  0.  0.  0.]]\n"
     ]
    },
    {
     "data": {
      "image/png": "[encoded data removed]",
      "text/plain": [
       "<matplotlib.figure.Figure at 0x10713f7b8>"
      ]
     },
     "metadata": {},
     "output_type": "display_data"
    },
    {
     "name": "stdout",
     "output_type": "stream",
     "text": [
      "[[ 0.  0.  0.  0.  1.  0.  0.  0.  0.  0.  0.]\n",
      " [ 0.  0.  0.  1.  0.  0.  0.  0.  0.  0.  0.]\n",
      " [ 0.  0.  0.  0.  0.  0.  0.  0.  0.  0.  1.]\n",
      " [ 0.  0.  0.  0.  0.  0.  0.  0.  0.  0.  1.]\n",
      " [ 0.  0.  0.  0.  0.  0.  0.  0.  0.  0.  1.]\n",
      " [ 0.  0.  1.  0.  0.  0.  0.  0.  0.  0.  0.]]\n"
     ]
    },
    {
     "data": {
      "image/png": "[encoded data removed]",
      "text/plain": [
       "<matplotlib.figure.Figure at 0x11fcfbda0>"
      ]
     },
     "metadata": {},
     "output_type": "display_data"
    },
    {
     "name": "stdout",
     "output_type": "stream",
     "text": [
      "[[ 0.  0.  0.  0.  0.  1.  0.  0.  0.  0.  0.]\n",
      " [ 0.  0.  0.  1.  0.  0.  0.  0.  0.  0.  0.]\n",
      " [ 0.  0.  0.  0.  0.  0.  0.  0.  0.  0.  1.]\n",
      " [ 0.  0.  0.  0.  0.  0.  0.  0.  0.  0.  1.]\n",
      " [ 0.  0.  0.  0.  0.  0.  0.  0.  0.  0.  1.]\n",
      " [ 0.  0.  1.  0.  0.  0.  0.  0.  0.  0.  0.]]\n"
     ]
    },
    {
     "data": {
      "image/png": "[encoded data removed]",
      "text/plain": [
       "<matplotlib.figure.Figure at 0x128106f28>"
      ]
     },
     "metadata": {},
     "output_type": "display_data"
    },
    {
     "name": "stdout",
     "output_type": "stream",
     "text": [
      "[[ 0.  0.  0.  0.  0.  0.  1.  0.  0.  0.  0.]\n",
      " [ 0.  1.  0.  0.  0.  0.  0.  0.  0.  0.  0.]\n",
      " [ 0.  0.  0.  0.  0.  0.  0.  1.  0.  0.  0.]\n",
      " [ 0.  0.  1.  0.  0.  0.  0.  0.  0.  0.  0.]\n",
      " [ 0.  0.  0.  0.  0.  0.  0.  0.  1.  0.  0.]\n",
      " [ 0.  0.  0.  0.  0.  1.  0.  0.  0.  0.  0.]]\n"
     ]
    },
    {
     "data": {
      "image/png": "[encoded data removed]",
      "text/plain": [
       "<matplotlib.figure.Figure at 0x1281fc9e8>"
      ]
     },
     "metadata": {},
     "output_type": "display_data"
    },
    {
     "name": "stdout",
     "output_type": "stream",
     "text": [
      "[[ 0.  0.  0.  0.  0.  0.  1.  0.  0.  0.  0.]\n",
      " [ 0.  0.  0.  0.  0.  0.  0.  0.  0.  1.  0.]\n",
      " [ 0.  0.  0.  0.  1.  0.  0.  0.  0.  0.  0.]\n",
      " [ 0.  0.  0.  0.  0.  0.  0.  0.  0.  0.  1.]\n",
      " [ 0.  0.  0.  0.  0.  0.  0.  0.  0.  0.  1.]\n",
      " [ 0.  0.  0.  1.  0.  0.  0.  0.  0.  0.  0.]]\n"
     ]
    },
    {
     "data": {
      "image/png": "[encoded data removed]",
      "text/plain": [
       "<matplotlib.figure.Figure at 0x128273e10>"
      ]
     },
     "metadata": {},
     "output_type": "display_data"
    },
    {
     "name": "stdout",
     "output_type": "stream",
     "text": [
      "[[ 1.  0.  0.  0.  0.  0.  0.  0.  0.  0.  0.]\n",
      " [ 0.  0.  0.  0.  0.  0.  0.  0.  0.  1.  0.]\n",
      " [ 0.  1.  0.  0.  0.  0.  0.  0.  0.  0.  0.]\n",
      " [ 0.  1.  0.  0.  0.  0.  0.  0.  0.  0.  0.]\n",
      " [ 0.  0.  0.  0.  0.  0.  0.  0.  0.  0.  1.]\n",
      " [ 0.  0.  0.  0.  1.  0.  0.  0.  0.  0.  0.]]\n"
     ]
    },
    {
     "data": {
      "image/png": "[encoded data removed]",
      "text/plain": [
       "<matplotlib.figure.Figure at 0x12833e898>"
      ]
     },
     "metadata": {},
     "output_type": "display_data"
    },
    {
     "name": "stdout",
     "output_type": "stream",
     "text": [
      "[[ 0.  0.  1.  0.  0.  0.  0.  0.  0.  0.  0.]\n",
      " [ 0.  0.  0.  0.  1.  0.  0.  0.  0.  0.  0.]\n",
      " [ 0.  0.  0.  1.  0.  0.  0.  0.  0.  0.  0.]\n",
      " [ 0.  0.  0.  0.  0.  0.  0.  0.  0.  0.  1.]\n",
      " [ 0.  0.  0.  0.  0.  0.  0.  0.  0.  0.  1.]\n",
      " [ 0.  0.  0.  1.  0.  0.  0.  0.  0.  0.  0.]]\n"
     ]
    },
    {
     "data": {
      "image/png": "[encoded data removed]",
      "text/plain": [
       "<matplotlib.figure.Figure at 0x1281ab320>"
      ]
     },
     "metadata": {},
     "output_type": "display_data"
    },
    {
     "name": "stdout",
     "output_type": "stream",
     "text": [
      "[[ 0.  0.  1.  0.  0.  0.  0.  0.  0.  0.  0.]\n",
      " [ 0.  0.  0.  0.  0.  0.  0.  1.  0.  0.  0.]\n",
      " [ 0.  0.  0.  1.  0.  0.  0.  0.  0.  0.  0.]\n",
      " [ 0.  0.  0.  0.  0.  0.  0.  0.  1.  0.  0.]\n",
      " [ 0.  0.  0.  0.  0.  0.  0.  0.  0.  0.  1.]\n",
      " [ 0.  0.  0.  0.  1.  0.  0.  0.  0.  0.  0.]]\n"
     ]
    },
    {
     "data": {
      "image/png": "[encoded data removed]",
      "text/plain": [
       "<matplotlib.figure.Figure at 0x1284a8cf8>"
      ]
     },
     "metadata": {},
     "output_type": "display_data"
    },
    {
     "name": "stdout",
     "output_type": "stream",
     "text": [
      "[[ 0.  0.  0.  0.  0.  0.  1.  0.  0.  0.  0.]\n",
      " [ 0.  0.  0.  0.  0.  0.  0.  0.  0.  1.  0.]\n",
      " [ 0.  0.  0.  0.  0.  0.  0.  0.  0.  0.  1.]\n",
      " [ 0.  0.  0.  0.  0.  0.  0.  0.  0.  0.  1.]\n",
      " [ 0.  0.  0.  0.  0.  0.  0.  0.  0.  0.  1.]\n",
      " [ 0.  0.  1.  0.  0.  0.  0.  0.  0.  0.  0.]]\n"
     ]
    },
    {
     "data": {
      "image/png": "[encoded data removed]",
      "text/plain": [
       "<matplotlib.figure.Figure at 0x1281b49b0>"
      ]
     },
     "metadata": {},
     "output_type": "display_data"
    },
    {
     "name": "stdout",
     "output_type": "stream",
     "text": [
      "[[ 1.  0.  0.  0.  0.  0.  0.  0.  0.  0.  0.]\n",
      " [ 0.  0.  0.  0.  0.  1.  0.  0.  0.  0.  0.]\n",
      " [ 0.  0.  0.  0.  0.  0.  1.  0.  0.  0.  0.]\n",
      " [ 1.  0.  0.  0.  0.  0.  0.  0.  0.  0.  0.]\n",
      " [ 0.  0.  0.  0.  0.  0.  0.  0.  0.  0.  1.]\n",
      " [ 0.  0.  0.  0.  1.  0.  0.  0.  0.  0.  0.]]\n"
     ]
    },
    {
     "data": {
      "image/png": "[encoded data removed]",
      "text/plain": [
       "<matplotlib.figure.Figure at 0x128498630>"
      ]
     },
     "metadata": {},
     "output_type": "display_data"
    },
    {
     "name": "stdout",
     "output_type": "stream",
     "text": [
      "[[ 0.  0.  0.  0.  0.  0.  0.  1.  0.  0.  0.]\n",
      " [ 0.  0.  0.  0.  0.  0.  1.  0.  0.  0.  0.]\n",
      " [ 0.  0.  0.  0.  0.  0.  0.  0.  0.  0.  1.]\n",
      " [ 0.  0.  0.  0.  0.  0.  0.  0.  0.  0.  1.]\n",
      " [ 0.  0.  0.  0.  0.  0.  0.  0.  0.  0.  1.]\n",
      " [ 0.  0.  1.  0.  0.  0.  0.  0.  0.  0.  0.]]\n"
     ]
    },
    {
     "data": {
      "image/png": "[encoded data removed]",
      "text/plain": [
       "<matplotlib.figure.Figure at 0x12827dba8>"
      ]
     },
     "metadata": {},
     "output_type": "display_data"
    },
    {
     "name": "stdout",
     "output_type": "stream",
     "text": [
      "[[ 0.  1.  0.  0.  0.  0.  0.  0.  0.  0.  0.]\n",
      " [ 0.  0.  0.  0.  0.  0.  0.  0.  1.  0.  0.]\n",
      " [ 0.  0.  0.  0.  0.  0.  0.  1.  0.  0.  0.]\n",
      " [ 0.  0.  0.  0.  0.  0.  0.  0.  0.  1.  0.]\n",
      " [ 0.  0.  0.  0.  0.  0.  0.  0.  0.  0.  1.]\n",
      " [ 0.  0.  0.  0.  1.  0.  0.  0.  0.  0.  0.]]\n"
     ]
    },
    {
     "data": {
      "image/png": "[encoded data removed]",
      "text/plain": [
       "<matplotlib.figure.Figure at 0x128549550>"
      ]
     },
     "metadata": {},
     "output_type": "display_data"
    },
    {
     "name": "stdout",
     "output_type": "stream",
     "text": [
      "[[ 0.  0.  0.  1.  0.  0.  0.  0.  0.  0.  0.]\n",
      " [ 0.  0.  0.  0.  0.  0.  0.  0.  0.  1.  0.]\n",
      " [ 0.  0.  0.  0.  0.  0.  0.  0.  1.  0.  0.]\n",
      " [ 0.  0.  0.  0.  0.  1.  0.  0.  0.  0.  0.]\n",
      " [ 0.  0.  0.  0.  0.  0.  0.  0.  0.  0.  1.]\n",
      " [ 0.  0.  0.  0.  1.  0.  0.  0.  0.  0.  0.]]\n"
     ]
    },
    {
     "data": {
      "image/png": "[encoded data removed]",
      "text/plain": [
       "<matplotlib.figure.Figure at 0x1284a8278>"
      ]
     },
     "metadata": {},
     "output_type": "display_data"
    },
    {
     "name": "stdout",
     "output_type": "stream",
     "text": [
      "[[ 0.  0.  0.  0.  0.  0.  0.  0.  0.  1.  0.]\n",
      " [ 0.  0.  0.  1.  0.  0.  0.  0.  0.  0.  0.]\n",
      " [ 0.  0.  0.  1.  0.  0.  0.  0.  0.  0.  0.]\n",
      " [ 0.  0.  0.  0.  0.  0.  0.  0.  0.  0.  1.]\n",
      " [ 0.  0.  0.  0.  0.  0.  0.  0.  0.  0.  1.]\n",
      " [ 0.  0.  0.  1.  0.  0.  0.  0.  0.  0.  0.]]\n"
     ]
    },
    {
     "data": {
      "image/png": "[encoded data removed]",
      "text/plain": [
       "<matplotlib.figure.Figure at 0x117cca860>"
      ]
     },
     "metadata": {},
     "output_type": "display_data"
    },
    {
     "name": "stdout",
     "output_type": "stream",
     "text": [
      "[[ 1.  0.  0.  0.  0.  0.  0.  0.  0.  0.  0.]\n",
      " [ 0.  0.  0.  0.  0.  0.  0.  1.  0.  0.  0.]\n",
      " [ 0.  0.  0.  0.  1.  0.  0.  0.  0.  0.  0.]\n",
      " [ 0.  0.  0.  0.  0.  0.  0.  0.  0.  0.  1.]\n",
      " [ 0.  0.  0.  0.  0.  0.  0.  0.  0.  0.  1.]\n",
      " [ 0.  0.  0.  1.  0.  0.  0.  0.  0.  0.  0.]]\n"
     ]
    },
    {
     "data": {
      "image/png": "[encoded data removed]",
      "text/plain": [
       "<matplotlib.figure.Figure at 0x1282678d0>"
      ]
     },
     "metadata": {},
     "output_type": "display_data"
    },
    {
     "name": "stdout",
     "output_type": "stream",
     "text": [
      "[[ 0.  0.  0.  0.  0.  0.  0.  0.  0.  1.  0.]\n",
      " [ 0.  0.  0.  0.  0.  0.  0.  0.  1.  0.  0.]\n",
      " [ 1.  0.  0.  0.  0.  0.  0.  0.  0.  0.  0.]\n",
      " [ 0.  0.  0.  0.  0.  0.  0.  0.  0.  0.  1.]\n",
      " [ 0.  0.  0.  0.  0.  0.  0.  0.  0.  0.  1.]\n",
      " [ 0.  0.  0.  1.  0.  0.  0.  0.  0.  0.  0.]]\n"
     ]
    },
    {
     "data": {
      "image/png": "[encoded data removed]",
      "text/plain": [
       "<matplotlib.figure.Figure at 0x107148b00>"
      ]
     },
     "metadata": {},
     "output_type": "display_data"
    },
    {
     "name": "stdout",
     "output_type": "stream",
     "text": [
      "[[ 0.  0.  0.  0.  0.  0.  0.  0.  0.  1.  0.]\n",
      " [ 0.  0.  0.  0.  1.  0.  0.  0.  0.  0.  0.]\n",
      " [ 0.  1.  0.  0.  0.  0.  0.  0.  0.  0.  0.]\n",
      " [ 0.  0.  0.  0.  1.  0.  0.  0.  0.  0.  0.]\n",
      " [ 0.  0.  0.  0.  1.  0.  0.  0.  0.  0.  0.]\n",
      " [ 0.  0.  0.  0.  0.  1.  0.  0.  0.  0.  0.]]\n"
     ]
    },
    {
     "data": {
      "image/png": "[encoded data removed]",
      "text/plain": [
       "<matplotlib.figure.Figure at 0x128225cc0>"
      ]
     },
     "metadata": {},
     "output_type": "display_data"
    }
   ],
   "source": [
    "for idx in range(20):\n",
    "    print(train_labels[idx])\n",
    "    plt.imshow(train_dataset[idx, :, :, 0], cmap=plt.cm.Greys)\n",
    "    plt.show()"
   ]
  },
  {
   "cell_type": "code",
   "execution_count": 7,
   "metadata": {
    "collapsed": true
   },
   "outputs": [],
   "source": [
    "def reshape(labels):\n",
    "    shape = labels.shape\n",
    "    return labels.swapaxes(0, 1).reshape((shape[0] * shape[1], shape[2]))\n",
    "\n",
    "def accuracy(predictions, labels):\n",
    "    digitized_predictions = np.split(predictions, MAX_DIGITS)\n",
    "    digitized_labels = np.split(labels, MAX_DIGITS + 1)[:-1]\n",
    "    digit_acc = []\n",
    "    acc = np.zeros((digitized_predictions[0].shape[0], ))\n",
    "    for i, (p, l) in enumerate(zip(digitized_predictions, digitized_labels)):\n",
    "        digit_acc.append(100.0 * np.sum(np.argmax(p, axis=1) == np.argmax(l, axis=1)) / p.shape[0])\n",
    "        if i < MAX_DIGITS:\n",
    "            correct = np.argmax(p, axis=1) == np.argmax(l, axis=1)\n",
    "            acc = np.add(acc, correct)\n",
    "    \n",
    "    overall_acc = 100 * np.sum(acc / MAX_DIGITS) / acc.shape[0]\n",
    "    return digit_acc, overall_acc\n",
    "\n",
    "def format_accuracy(accuracy):\n",
    "    return ['%.1f%%' % a for a in accuracy]"
   ]
  },
  {
   "cell_type": "code",
   "execution_count": 8,
   "metadata": {},
   "outputs": [
    {
     "name": "stdout",
     "output_type": "stream",
     "text": [
      "Initialized\n",
      "Minibatch loss at step 0: 20.534718\n",
      "Minibatch accuracies: ['4.7%', '4.7%', '3.1%', '9.4%', '0.0%'] / Overall accuracy: 4.4%\n",
      "Validation accuracies: ['10.4%', '8.4%', '39.3%', '3.9%', '79.3%'] / Overall accuracy: 28.3%\n",
      "Minibatch loss at step 100: 1.636746\n",
      "Minibatch accuracies: ['39.1%', '40.6%', '46.9%', '64.1%', '84.4%'] / Overall accuracy: 55.0%\n",
      "Validation accuracies: ['43.2%', '50.6%', '45.4%', '60.2%', '79.4%'] / Overall accuracy: 55.8%\n",
      "Minibatch loss at step 200: 1.351177\n",
      "Minibatch accuracies: ['50.0%', '59.4%', '53.1%', '62.5%', '82.8%'] / Overall accuracy: 61.6%\n",
      "Validation accuracies: ['67.2%', '67.3%', '52.1%', '60.9%', '79.4%'] / Overall accuracy: 65.4%\n",
      "Minibatch loss at step 300: 1.306830\n",
      "Minibatch accuracies: ['62.5%', '51.6%', '53.1%', '53.1%', '75.0%'] / Overall accuracy: 59.1%\n",
      "Validation accuracies: ['77.7%', '76.6%', '59.9%', '62.1%', '79.4%'] / Overall accuracy: 71.2%\n",
      "Minibatch loss at step 400: 0.972982\n",
      "Minibatch accuracies: ['65.6%', '71.9%', '59.4%', '68.8%', '82.8%'] / Overall accuracy: 69.7%\n",
      "Validation accuracies: ['81.9%', '82.9%', '67.3%', '62.9%', '79.5%'] / Overall accuracy: 74.9%\n",
      "Minibatch loss at step 500: 0.877368\n",
      "Minibatch accuracies: ['71.9%', '82.8%', '64.1%', '54.7%', '73.4%'] / Overall accuracy: 69.4%\n",
      "Validation accuracies: ['84.7%', '85.3%', '71.9%', '63.2%', '79.5%'] / Overall accuracy: 76.9%\n",
      "Minibatch loss at step 600: 0.862645\n",
      "Minibatch accuracies: ['68.8%', '73.4%', '68.8%', '62.5%', '79.7%'] / Overall accuracy: 70.6%\n",
      "Validation accuracies: ['86.0%', '86.5%', '76.3%', '63.3%', '79.6%'] / Overall accuracy: 78.4%\n",
      "Minibatch loss at step 700: 0.791284\n",
      "Minibatch accuracies: ['68.8%', '85.9%', '64.1%', '59.4%', '84.4%'] / Overall accuracy: 72.5%\n",
      "Validation accuracies: ['87.8%', '88.8%', '79.5%', '64.3%', '79.5%'] / Overall accuracy: 80.0%\n",
      "Minibatch loss at step 800: 0.749215\n",
      "Minibatch accuracies: ['79.7%', '78.1%', '59.4%', '56.2%', '78.1%'] / Overall accuracy: 70.3%\n",
      "Validation accuracies: ['88.3%', '90.2%', '81.9%', '64.7%', '79.7%'] / Overall accuracy: 81.0%\n",
      "Minibatch loss at step 900: 0.537300\n",
      "Minibatch accuracies: ['76.6%', '89.1%', '75.0%', '71.9%', '79.7%'] / Overall accuracy: 78.4%\n",
      "Validation accuracies: ['89.7%', '90.4%', '83.7%', '65.8%', '79.7%'] / Overall accuracy: 81.9%\n",
      "Minibatch loss at step 1000: 0.654276\n",
      "Minibatch accuracies: ['89.1%', '87.5%', '62.5%', '50.0%', '78.1%'] / Overall accuracy: 73.4%\n",
      "Validation accuracies: ['90.0%', '91.1%', '84.7%', '65.8%', '79.7%'] / Overall accuracy: 82.3%\n",
      "Minibatch loss at step 1100: 0.482514\n",
      "Minibatch accuracies: ['93.8%', '84.4%', '71.9%', '68.8%', '85.9%'] / Overall accuracy: 80.9%\n",
      "Validation accuracies: ['90.2%', '91.7%', '86.4%', '65.9%', '79.8%'] / Overall accuracy: 82.8%\n",
      "Minibatch loss at step 1200: 0.606384\n",
      "Minibatch accuracies: ['87.5%', '84.4%', '76.6%', '75.0%', '84.4%'] / Overall accuracy: 81.6%\n",
      "Validation accuracies: ['90.8%', '91.7%', '87.2%', '66.5%', '79.8%'] / Overall accuracy: 83.2%\n",
      "Minibatch loss at step 1300: 0.628544\n",
      "Minibatch accuracies: ['85.9%', '84.4%', '78.1%', '62.5%', '78.1%'] / Overall accuracy: 77.8%\n",
      "Validation accuracies: ['91.1%', '92.1%', '88.0%', '66.2%', '79.8%'] / Overall accuracy: 83.5%\n",
      "Minibatch loss at step 1400: 0.603785\n",
      "Minibatch accuracies: ['79.7%', '84.4%', '79.7%', '65.6%', '79.7%'] / Overall accuracy: 77.8%\n",
      "Validation accuracies: ['91.3%', '92.5%', '88.1%', '66.9%', '79.9%'] / Overall accuracy: 83.7%\n",
      "Minibatch loss at step 1500: 0.543484\n",
      "Minibatch accuracies: ['87.5%', '82.8%', '73.4%', '60.9%', '78.1%'] / Overall accuracy: 76.6%\n",
      "Validation accuracies: ['91.5%', '92.4%', '88.9%', '67.1%', '80.0%'] / Overall accuracy: 84.0%\n",
      "Minibatch loss at step 1600: 0.691890\n",
      "Minibatch accuracies: ['81.2%', '76.6%', '81.2%', '46.9%', '73.4%'] / Overall accuracy: 71.9%\n",
      "Validation accuracies: ['91.6%', '92.6%', '89.5%', '67.7%', '80.0%'] / Overall accuracy: 84.3%\n",
      "Minibatch loss at step 1700: 0.590029\n",
      "Minibatch accuracies: ['89.1%', '76.6%', '82.8%', '67.2%', '84.4%'] / Overall accuracy: 80.0%\n",
      "Validation accuracies: ['92.1%', '93.0%', '89.8%', '68.4%', '79.9%'] / Overall accuracy: 84.6%\n",
      "Minibatch loss at step 1800: 0.524961\n",
      "Minibatch accuracies: ['79.7%', '85.9%', '76.6%', '64.1%', '79.7%'] / Overall accuracy: 77.2%\n",
      "Validation accuracies: ['92.1%', '92.9%', '90.2%', '67.8%', '80.1%'] / Overall accuracy: 84.6%\n",
      "Minibatch loss at step 1900: 0.451501\n",
      "Minibatch accuracies: ['85.9%', '92.2%', '76.6%', '73.4%', '81.2%'] / Overall accuracy: 81.9%\n",
      "Validation accuracies: ['92.2%', '93.2%', '90.6%', '68.2%', '80.2%'] / Overall accuracy: 84.9%\n",
      "Minibatch loss at step 2000: 0.550384\n",
      "Minibatch accuracies: ['82.8%', '89.1%', '75.0%', '54.7%', '62.5%'] / Overall accuracy: 72.8%\n",
      "Validation accuracies: ['92.3%', '93.1%', '90.8%', '68.4%', '80.2%'] / Overall accuracy: 85.0%\n",
      "Minibatch loss at step 2100: 0.471165\n",
      "Minibatch accuracies: ['75.0%', '90.6%', '81.2%', '62.5%', '79.7%'] / Overall accuracy: 77.8%\n",
      "Validation accuracies: ['92.5%', '93.5%', '90.6%', '68.4%', '80.1%'] / Overall accuracy: 85.0%\n",
      "Minibatch loss at step 2200: 0.486186\n",
      "Minibatch accuracies: ['93.8%', '85.9%', '76.6%', '60.9%', '75.0%'] / Overall accuracy: 78.4%\n",
      "Validation accuracies: ['92.4%', '93.4%', '91.0%', '68.8%', '80.1%'] / Overall accuracy: 85.1%\n",
      "Minibatch loss at step 2300: 0.469493\n",
      "Minibatch accuracies: ['89.1%', '87.5%', '75.0%', '62.5%', '82.8%'] / Overall accuracy: 79.4%\n",
      "Validation accuracies: ['92.6%', '93.5%', '91.1%', '68.7%', '80.2%'] / Overall accuracy: 85.2%\n",
      "Minibatch loss at step 2400: 0.500140\n",
      "Minibatch accuracies: ['85.9%', '78.1%', '85.9%', '71.9%', '79.7%'] / Overall accuracy: 80.3%\n",
      "Validation accuracies: ['92.6%', '93.4%', '91.2%', '68.6%', '80.1%'] / Overall accuracy: 85.2%\n",
      "Minibatch loss at step 2500: 0.400760\n",
      "Minibatch accuracies: ['89.1%', '95.3%', '84.4%', '70.3%', '85.9%'] / Overall accuracy: 85.0%\n",
      "Validation accuracies: ['92.8%', '93.7%', '91.4%', '69.7%', '80.2%'] / Overall accuracy: 85.5%\n",
      "Minibatch loss at step 2600: 0.443703\n",
      "Minibatch accuracies: ['85.9%', '90.6%', '78.1%', '64.1%', '82.8%'] / Overall accuracy: 80.3%\n",
      "Validation accuracies: ['92.7%', '93.7%', '91.6%', '69.5%', '80.2%'] / Overall accuracy: 85.5%\n",
      "Minibatch loss at step 2700: 0.447477\n",
      "Minibatch accuracies: ['81.2%', '87.5%', '90.6%', '67.2%', '81.2%'] / Overall accuracy: 81.6%\n",
      "Validation accuracies: ['92.9%', '93.8%', '91.4%', '69.2%', '80.2%'] / Overall accuracy: 85.5%\n",
      "Minibatch loss at step 2800: 0.397044\n",
      "Minibatch accuracies: ['87.5%', '93.8%', '82.8%', '71.9%', '89.1%'] / Overall accuracy: 85.0%\n",
      "Validation accuracies: ['93.0%', '94.0%', '91.6%', '69.5%', '80.2%'] / Overall accuracy: 85.6%\n",
      "Minibatch loss at step 2900: 0.535972\n",
      "Minibatch accuracies: ['87.5%', '81.2%', '79.7%', '60.9%', '82.8%'] / Overall accuracy: 78.4%\n",
      "Validation accuracies: ['92.9%', '93.9%', '91.6%', '69.8%', '80.2%'] / Overall accuracy: 85.7%\n",
      "Minibatch loss at step 3000: 0.567909\n",
      "Minibatch accuracies: ['92.2%', '78.1%', '73.4%', '51.6%', '76.6%'] / Overall accuracy: 74.4%\n",
      "Validation accuracies: ['92.7%', '93.9%', '91.8%', '69.8%', '80.3%'] / Overall accuracy: 85.7%\n",
      "Test accuracies: ['96.4%', '96.8%', '95.6%', '70.6%', '81.3%'] / Overall accuracy: 88.1%\n"
     ]
    }
   ],
   "source": [
    "BATCH_SIZE = 64\n",
    "PATCH_SIZE = 5\n",
    "DEPTH = 16\n",
    "\n",
    "IMAGE_LENGTH = IMAGE_SIZE * MAX_DIGITS\n",
    "\n",
    "STRIDE = 1\n",
    "POOL_STRIDE = 2\n",
    "POOL_KERNEL_SIZE = 2\n",
    "\n",
    "NUM_HIDDEN = 256\n",
    "\n",
    "NUM_STEPS = 3001\n",
    "\n",
    "graph = tf.Graph()\n",
    "\n",
    "with graph.as_default():\n",
    "    \n",
    "    tf_train_dataset = tf.placeholder(\n",
    "        dtype=tf.float32,\n",
    "        shape=(BATCH_SIZE, IMAGE_SIZE, IMAGE_LENGTH, NUM_CHANNELS)\n",
    "    )\n",
    "    \n",
    "    tf_train_labels = tf.placeholder(\n",
    "        dtype=tf.float32,\n",
    "        shape=(BATCH_SIZE * (MAX_DIGITS + 1), NUM_LABELS)\n",
    "    )\n",
    "    \n",
    "    tf_valid_dataset = tf.constant(valid_dataset)\n",
    "    tf_test_dataset = tf.constant(test_dataset)\n",
    "    \n",
    "    loss_weights = tf.constant([10, 10, 5, 1, 1], dtype=tf.float32)\n",
    "    \n",
    "    keep_prob = tf.placeholder(dtype=tf.float32)\n",
    "    \n",
    "    global_step = tf.Variable(0, trainable=False)\n",
    "    initial_learning_rate = 0.05\n",
    "    learning_rate = tf.train.exponential_decay(\n",
    "        learning_rate=initial_learning_rate,\n",
    "        global_step=global_step,\n",
    "        decay_steps=50,\n",
    "        decay_rate=0.96,\n",
    "        staircase=True\n",
    "    )\n",
    "    \n",
    "    l01_weights = tf.Variable(tf.truncated_normal(\n",
    "        [PATCH_SIZE, PATCH_SIZE, NUM_CHANNELS, DEPTH],\n",
    "        stddev=0.1\n",
    "    ))\n",
    "    l01_biases = tf.Variable(tf.zeros([DEPTH]))\n",
    "    \n",
    "    l02_weights = tf.Variable(tf.truncated_normal(\n",
    "        [PATCH_SIZE, PATCH_SIZE, DEPTH, DEPTH],\n",
    "        stddev=0.1\n",
    "    ))\n",
    "    l02_biases = tf.Variable(tf.constant(1.0, shape=[DEPTH]))\n",
    "    '''\n",
    "    li01_1_1x1_weights = tf.Variable(tf.truncated_normal(\n",
    "        [1, 1, 16, 8],\n",
    "        stddev=0.1\n",
    "    ))\n",
    "    li01_1_1x1_biases = tf.Variable(tf.constant(1.0, shape=[8]))\n",
    "    \n",
    "    li01_2_1x1_weights = tf.Variable(tf.truncated_normal(\n",
    "        [1, 1, 16, 8],\n",
    "        stddev=0.1\n",
    "    ))\n",
    "    li01_2_1x1_biases = tf.Variable(tf.constant(1.0, shape=[8]))\n",
    "\n",
    "    li01_2_3x3_weights = tf.Variable(tf.truncated_normal(\n",
    "        [3, 3, 8, 16],\n",
    "        stddev=0.1\n",
    "    ))\n",
    "    li01_2_3x3_biases = tf.Variable(tf.constant(1.0, shape=[16]))\n",
    "    \n",
    "    li01_3_1x1_weights = tf.Variable(tf.truncated_normal(\n",
    "        [1, 1, 16, 8],\n",
    "        stddev=0.1\n",
    "    ))\n",
    "    li01_3_1x1_biases = tf.Variable(tf.constant(1.0, shape=[8]))\n",
    "\n",
    "    li01_3_5x5_weights = tf.Variable(tf.truncated_normal(\n",
    "        [5, 5, 8, 16],\n",
    "        stddev=0.1\n",
    "    ))\n",
    "    li01_3_5x5_biases = tf.Variable(tf.constant(1.0, shape=[16]))\n",
    "\n",
    "    li01_4_1x1_weights = tf.Variable(tf.truncated_normal(\n",
    "        [1, 1, 16, 16],\n",
    "        stddev=0.1\n",
    "    ))\n",
    "    li01_4_1x1_biases = tf.Variable(tf.constant(1.0, shape=[16]))\n",
    "    '''\n",
    "    \n",
    "    l03_weights = tf.Variable(tf.truncated_normal(\n",
    "        [IMAGE_SIZE // 4 * IMAGE_LENGTH // 4 * 16, NUM_HIDDEN],\n",
    "        stddev=0.1\n",
    "    ))\n",
    "    l03_biases = tf.Variable(tf.constant(1.0, shape=[NUM_HIDDEN]))\n",
    "    \n",
    "    lc_d1_weights = tf.Variable(tf.truncated_normal(\n",
    "        [NUM_HIDDEN, NUM_LABELS],\n",
    "        stddev=0.1\n",
    "    ))\n",
    "    lc_d1_biases = tf.Variable(tf.constant(1.0, shape=[NUM_LABELS]))\n",
    "\n",
    "    lc_d2_weights = tf.Variable(tf.truncated_normal(\n",
    "        [NUM_HIDDEN, NUM_LABELS],\n",
    "        stddev=0.1\n",
    "    ))\n",
    "    lc_d2_biases = tf.Variable(tf.constant(1.0, shape=[NUM_LABELS]))\n",
    "    \n",
    "    lc_d3_weights = tf.Variable(tf.truncated_normal(\n",
    "        [NUM_HIDDEN, NUM_LABELS],\n",
    "        stddev=0.1\n",
    "    ))\n",
    "    lc_d3_biases = tf.Variable(tf.constant(1.0, shape=[NUM_LABELS]))\n",
    "\n",
    "    lc_d4_weights = tf.Variable(tf.truncated_normal(\n",
    "        [NUM_HIDDEN, NUM_LABELS],\n",
    "        stddev=0.1\n",
    "    ))\n",
    "    lc_d4_biases = tf.Variable(tf.constant(1.0, shape=[NUM_LABELS]))\n",
    "    \n",
    "    lc_d5_weights = tf.Variable(tf.truncated_normal(\n",
    "        [NUM_HIDDEN, NUM_LABELS],\n",
    "        stddev=0.1\n",
    "    ))\n",
    "    lc_d5_biases = tf.Variable(tf.constant(1.0, shape=[NUM_LABELS]))\n",
    "\n",
    "    lc_length_weights = tf.Variable(tf.truncated_normal(\n",
    "        [NUM_HIDDEN, NUM_LABELS],\n",
    "        stddev=0.1\n",
    "    ))\n",
    "    lc_length_biases = tf.Variable(tf.constant(1.0, shape=[NUM_LABELS]))\n",
    "    \n",
    "    def model(data):\n",
    "        \n",
    "        conv = tf.nn.conv2d(\n",
    "            input=data,\n",
    "            filter=l01_weights,\n",
    "            strides=[1, STRIDE, STRIDE, 1],\n",
    "            padding='SAME'\n",
    "        )\n",
    "        hidden = tf.nn.relu(conv + l01_biases)\n",
    "        pool = tf.nn.max_pool(\n",
    "            value=hidden,\n",
    "            ksize=[1, POOL_KERNEL_SIZE, POOL_KERNEL_SIZE, 1],\n",
    "            strides=[1, POOL_STRIDE, POOL_STRIDE, 1],\n",
    "            padding='VALID'\n",
    "        )\n",
    "        \n",
    "        conv = tf.nn.conv2d(\n",
    "            input=pool,\n",
    "            filter=l02_weights,\n",
    "            strides=[1, STRIDE, STRIDE, 1],\n",
    "            padding='SAME'\n",
    "        )\n",
    "        hidden = tf.nn.relu(conv + l02_biases)\n",
    "        pool = tf.nn.max_pool(\n",
    "            value=hidden,\n",
    "            ksize=[1, POOL_KERNEL_SIZE, POOL_KERNEL_SIZE, 1],\n",
    "            strides=[1, POOL_STRIDE, POOL_STRIDE, 1],\n",
    "            padding='VALID'\n",
    "        )\n",
    "        \n",
    "        shape = pool.get_shape().as_list()\n",
    "        reshape = tf.reshape(pool, [shape[0], shape[1] * shape[2] * shape[3]])\n",
    "        \n",
    "        hidden = tf.nn.relu(tf.matmul(reshape, l03_weights) + l03_biases)\n",
    "        dropout = tf.nn.dropout(hidden, keep_prob)\n",
    "        return (\n",
    "            tf.matmul(dropout, lc_d1_weights) + lc_d1_biases,\n",
    "            tf.matmul(dropout, lc_d2_weights) + lc_d2_biases,\n",
    "            tf.matmul(dropout, lc_d3_weights) + lc_d3_biases,\n",
    "            tf.matmul(dropout, lc_d4_weights) + lc_d4_biases,\n",
    "            tf.matmul(dropout, lc_d5_weights) + lc_d5_biases\n",
    "        )\n",
    "    \n",
    "    logits_d1, logits_d2, logits_d3, logits_d4, logits_d5 = model(tf_train_dataset)\n",
    "        \n",
    "    labels_d1, labels_d2, labels_d3, labels_d4, labels_d5, _ = tf.split(\n",
    "        tf_train_labels,\n",
    "        num_or_size_splits=6,\n",
    "        axis=0\n",
    "    )\n",
    "    \n",
    "    loss_d1 = tf.nn.softmax_cross_entropy_with_logits(labels=labels_d1, logits=logits_d1)\n",
    "    loss_d2 = tf.nn.softmax_cross_entropy_with_logits(labels=labels_d2, logits=logits_d2)\n",
    "    loss_d3 = tf.nn.softmax_cross_entropy_with_logits(labels=labels_d3, logits=logits_d3)\n",
    "    loss_d4 = tf.nn.softmax_cross_entropy_with_logits(labels=labels_d4, logits=logits_d4)\n",
    "    loss_d5 = tf.nn.softmax_cross_entropy_with_logits(labels=labels_d5, logits=logits_d5)\n",
    " \n",
    "    loss = tf.reduce_sum(loss_weights * tf.stack(\n",
    "        (\n",
    "            tf.reduce_mean(loss_d1),\n",
    "            tf.reduce_mean(loss_d2),\n",
    "            tf.reduce_mean(loss_d3),\n",
    "            tf.reduce_mean(loss_d4),\n",
    "            tf.reduce_mean(loss_d5)\n",
    "        ),\n",
    "        axis=0\n",
    "    )) / tf.reduce_sum(loss_weights)\n",
    "    \n",
    "    optimizer = tf.train.GradientDescentOptimizer(learning_rate).minimize(loss, global_step=global_step)\n",
    "\n",
    "    train_prediction = tf.concat(\n",
    "        (\n",
    "            tf.nn.softmax(logits_d1),\n",
    "            tf.nn.softmax(logits_d2),\n",
    "            tf.nn.softmax(logits_d3),\n",
    "            tf.nn.softmax(logits_d4),\n",
    "            tf.nn.softmax(logits_d5)\n",
    "        ),\n",
    "        axis=0\n",
    "    )\n",
    "    \n",
    "    v_logits_d1, v_logits_d2, v_logits_d3, v_logits_d4, v_logits_d5 = model(tf_valid_dataset)\n",
    "    valid_prediction = tf.concat(\n",
    "        (\n",
    "            tf.nn.softmax(v_logits_d1),\n",
    "            tf.nn.softmax(v_logits_d2),\n",
    "            tf.nn.softmax(v_logits_d3),\n",
    "            tf.nn.softmax(v_logits_d4),\n",
    "            tf.nn.softmax(v_logits_d5)\n",
    "        ),\n",
    "        axis=0\n",
    "    )\n",
    "    \n",
    "    t_logits_d1, t_logits_d2, t_logits_d3, t_logits_d4, t_logits_d5 = model(tf_test_dataset)\n",
    "    test_prediction = tf.concat(\n",
    "        (\n",
    "            tf.nn.softmax(t_logits_d1),\n",
    "            tf.nn.softmax(t_logits_d2),\n",
    "            tf.nn.softmax(t_logits_d3),\n",
    "            tf.nn.softmax(t_logits_d4),\n",
    "            tf.nn.softmax(t_logits_d5)\n",
    "        ),\n",
    "        axis=0\n",
    "    )\n",
    "    \n",
    "with tf.Session(graph=graph) as session:\n",
    "    \n",
    "    tf.global_variables_initializer().run()\n",
    "    print('Initialized')\n",
    "    \n",
    "    for step in range(NUM_STEPS):\n",
    "        \n",
    "        offset = (step * BATCH_SIZE) % (train_labels.shape[0] - BATCH_SIZE)\n",
    "        batch_data = train_dataset[offset:(offset+BATCH_SIZE), :, :, :]\n",
    "        batch_labels = reshape(train_labels[offset:(offset+BATCH_SIZE), :, :])\n",
    "        \n",
    "        feed_dict = {\n",
    "            tf_train_dataset: batch_data,\n",
    "            tf_train_labels: batch_labels,\n",
    "            keep_prob: 0.5\n",
    "        }\n",
    "        \n",
    "        _, l, predictions = session.run([optimizer, loss, train_prediction], feed_dict=feed_dict)\n",
    "        \n",
    "        if (step % 100 == 0):\n",
    "            train_accuracies = accuracy(predictions, batch_labels)\n",
    "            valid_accuracies = accuracy(valid_prediction.eval({keep_prob: 1.0}), reshape(valid_labels))\n",
    "            print('Minibatch loss at step %d: %f' % (step, l))\n",
    "            print('Minibatch accuracies: %s / Overall accuracy: %.1f%%' % (format_accuracy(train_accuracies[0]), train_accuracies[1]))\n",
    "            print('Validation accuracies: %s / Overall accuracy: %.1f%%' % (format_accuracy(valid_accuracies[0]), valid_accuracies[1]))\n",
    "            \n",
    "    test_accuracies = accuracy(test_prediction.eval({keep_prob: 1.0}), reshape(test_labels))\n",
    "    print('Test accuracies: %s / Overall accuracy: %.1f%%' % (format_accuracy(test_accuracies[0]), test_accuracies[1]))\n",
    "    \n",
    "    "
   ]
  },
  {
   "cell_type": "markdown",
   "metadata": {},
   "source": [
    "## SVHN Dataset"
   ]
  },
  {
   "cell_type": "code",
   "execution_count": 9,
   "metadata": {},
   "outputs": [
    {
     "name": "stdout",
     "output_type": "stream",
     "text": [
      "Found and verified ./train.tar.gz\n",
      "Found and verified ./test.tar.gz\n",
      "Found and verified ./extra.tar.gz\n",
      "./train already present - Skipping extraction of ./train.tar.gz.\n",
      "./test already present - Skipping extraction of ./test.tar.gz.\n",
      "./extra already present - Skipping extraction of ./extra.tar.gz.\n"
     ]
    }
   ],
   "source": [
    "URL = 'http://ufldl.stanford.edu/housenumbers/'\n",
    "\n",
    "def maybe_extract(filename, force=False):\n",
    "    root = os.path.splitext(os.path.splitext(filename)[0])[0]  # remove .tar.gz\n",
    "    if os.path.isdir(root) and not force:\n",
    "        # You may override by setting force=True.\n",
    "        print('%s already present - Skipping extraction of %s.' % (root, filename))\n",
    "    else:\n",
    "        print('Extracting data for %s. This may take a while. Please wait.' % root)\n",
    "        tar = tarfile.open(filename)\n",
    "        sys.stdout.flush()\n",
    "        tar.extractall('.')\n",
    "        tar.close()\n",
    "    return root\n",
    "\n",
    "svhn_train_tarfile = maybe_download('train.tar.gz', 404141560)\n",
    "svhn_test_tarfile = maybe_download('test.tar.gz', 276555967)\n",
    "svhn_extra_tarfile = maybe_download('extra.tar.gz', 1955489752)\n",
    "\n",
    "svhn_train_folder = maybe_extract(svhn_train_tarfile)\n",
    "svhn_test_folder = maybe_extract(svhn_test_tarfile)\n",
    "svhn_extra_folder = maybe_extract(svhn_extra_tarfile)"
   ]
  },
  {
   "cell_type": "code",
   "execution_count": 10,
   "metadata": {
    "collapsed": true
   },
   "outputs": [],
   "source": [
    "CWD = os.getcwd()\n",
    "METAFILE = 'digitStruct.mat'\n",
    "\n",
    "def maybe_pickle_metadata(folder, pickle_name, force=False):\n",
    "    pickle_path = os.path.join(CWD, pickle_name)\n",
    "    \n",
    "    if not os.path.isfile(pickle_path) or force:\n",
    "        \n",
    "        metapath = os.path.join(folder, METAFILE)\n",
    "\n",
    "        metadata= {}\n",
    "        metadata['height'] = []\n",
    "        metadata['label'] = []\n",
    "        metadata['left'] = []\n",
    "        metadata['top'] = []\n",
    "        metadata['width'] = []\n",
    "\n",
    "        f = h5py.File(metapath)\n",
    "        def print_attrs(name, obj):\n",
    "            vals = []\n",
    "            if obj.shape[0] == 1:\n",
    "                vals.append(int(obj[0][0]))\n",
    "            else:\n",
    "                for k in range(obj.shape[0]):\n",
    "                    vals.append(int(f[obj[k][0]][0][0]))\n",
    "            metadata[name].append(vals)\n",
    "\n",
    "        for item in f['/digitStruct/bbox']:\n",
    "            f[item[0]].visititems(print_attrs)\n",
    "\n",
    "        with open(pickle_path,'wb') as pf:\n",
    "            pickle.dump(metadata, pf, pickle.HIGHEST_PROTOCOL) \n",
    "            \n",
    "    else:\n",
    "        print('%s already present - Skipping pickle.' % pickle_path)\n",
    "    \n",
    "    return pickle_path"
   ]
  },
  {
   "cell_type": "code",
   "execution_count": 11,
   "metadata": {},
   "outputs": [
    {
     "name": "stdout",
     "output_type": "stream",
     "text": [
      "/Users/yth/apps/101/titanic/train_metadata.pickle already present - Skipping pickle.\n",
      "/Users/yth/apps/101/titanic/test_metadata.pickle already present - Skipping pickle.\n",
      "/Users/yth/apps/101/titanic/extra_metadata.pickle already present - Skipping pickle.\n"
     ]
    }
   ],
   "source": [
    "train_metadata = maybe_pickle_metadata(svhn_train_folder, 'train_metadata.pickle')\n",
    "test_metadata = maybe_pickle_metadata(svhn_test_folder, 'test_metadata.pickle')\n",
    "extra_metadata = maybe_pickle_metadata(svhn_extra_folder, 'extra_metadata.pickle')"
   ]
  },
  {
   "cell_type": "code",
   "execution_count": 12,
   "metadata": {},
   "outputs": [
    {
     "name": "stdout",
     "output_type": "stream",
     "text": [
      "1\n",
      "(array([29929]),)\n"
     ]
    }
   ],
   "source": [
    "with open(train_metadata, \"rb\") as f:\n",
    "    metadata = pickle.load(f)\n",
    "    label_lengths = np.array([len(l) for l in metadata['label']])\n",
    "    print(np.sum(label_lengths > 5))\n",
    "    print(np.where(label_lengths > 5))\n",
    "    # 29930.png has 6 digits, skip it when generating dataset and labels"
   ]
  },
  {
   "cell_type": "code",
   "execution_count": 13,
   "metadata": {
    "collapsed": true
   },
   "outputs": [],
   "source": [
    "IMAGE_SIZE = 32\n",
    "\n",
    "def maybe_generate(folder, metadata, pickle_name, skips, force=False):\n",
    "    pickle_path = os.path.join(CWD, pickle_name)\n",
    "    if not os.path.isfile(pickle_path) or force:\n",
    "        with open(metadata, \"rb\") as f:\n",
    "            metadata = pickle.load(f)\n",
    "            num_samples = len(metadata['label']) - len(skips)\n",
    "            images = np.zeros((num_samples, IMAGE_SIZE, IMAGE_SIZE, 1), dtype=np.float32)\n",
    "            labels = np.zeros((num_samples, MAX_DIGITS + 1, NUM_LABELS), dtype=np.float32)    \n",
    "\n",
    "            for idx in range(num_samples):\n",
    "                if idx not in skips:\n",
    "\n",
    "                    # image files\n",
    "                    image_file = os.path.join(folder, str(idx + 1) + '.png')\n",
    "                    try:\n",
    "                        image = ndimage.imread(image_file).astype(np.float32)\n",
    "                        # convert to greyscale\n",
    "                        grey = np.dot(image, [0.299, 0.587, 0.114])\n",
    "                    except IOError as e:\n",
    "                        print('Could not read:', image_file, ':', e, '- it\\'s ok, skipping.')\n",
    "\n",
    "                    tops = np.array(metadata['top'][idx])\n",
    "                    lefts = np.array(metadata['left'][idx])\n",
    "                    heights = np.array(metadata['height'][idx])\n",
    "                    widths = np.array(metadata['width'][idx])\n",
    "\n",
    "                    bottoms = np.add(tops, heights)\n",
    "                    rights = np.add(lefts, widths)\n",
    "\n",
    "                    top = max(tops.min(), 0)\n",
    "                    left = max(lefts.min(), 0)\n",
    "                    bottom = min(bottoms.max(), grey.shape[0])\n",
    "                    right = min(rights.max(), grey.shape[1])\n",
    "\n",
    "                    # cropped, squared, resized\n",
    "                    cropped = grey[top:bottom, left:right]\n",
    "                    # max_shape = max(cropped.shape)\n",
    "                    # squared = np.zeros((max_shape, max_shape), dtype=np.float32)\n",
    "                    # squared[:bottom-top, :right-left] = cropped\n",
    "                    resized = imresize(cropped, (IMAGE_SIZE, IMAGE_SIZE))\n",
    "\n",
    "                    # normalized\n",
    "                    normalized = (resized - PIXEL_DEPTH / 2) / PIXEL_DEPTH\n",
    "                    normalized = normalized.reshape((IMAGE_SIZE, IMAGE_SIZE, 1))\n",
    "\n",
    "                    images[idx] = normalized\n",
    "\n",
    "                    # labels\n",
    "                    l = np.array(metadata['label'][idx])\n",
    "                    l[l == 10] = 0\n",
    "                    num_digits = l.shape[0]\n",
    "                    num_zeros = MAX_DIGITS - num_digits\n",
    "                    one_hot = np.zeros((MAX_DIGITS + 1, NUM_LABELS), dtype=np.float32)\n",
    "\n",
    "                    if num_zeros:\n",
    "                        l = np.concatenate((l, [10] * num_zeros))\n",
    "\n",
    "                    l = np.concatenate((l, [num_digits]))\n",
    "                    one_hot[np.arange(l.shape[0]), l] = 1\n",
    "\n",
    "                    labels[idx] = one_hot\n",
    "            \n",
    "            with open(pickle_path,'wb') as pf:\n",
    "                pickle.dump([images, labels], pf, pickle.HIGHEST_PROTOCOL) \n",
    "    else:\n",
    "        print('%s already present - Skipping pickle.' % pickle_path)\n",
    "    \n",
    "    return pickle_path"
   ]
  },
  {
   "cell_type": "code",
   "execution_count": 14,
   "metadata": {},
   "outputs": [
    {
     "name": "stdout",
     "output_type": "stream",
     "text": [
      "/Users/yth/apps/101/titanic/train.pickle already present - Skipping pickle.\n",
      "/Users/yth/apps/101/titanic/test.pickle already present - Skipping pickle.\n",
      "/Users/yth/apps/101/titanic/extra.pickle already present - Skipping pickle.\n"
     ]
    }
   ],
   "source": [
    "train_picklefile = maybe_generate(\n",
    "    svhn_train_folder,\n",
    "    train_metadata,\n",
    "    pickle_name='train.pickle',\n",
    "    skips=[29929]\n",
    ")\n",
    "test_picklefile = maybe_generate(\n",
    "    svhn_test_folder,\n",
    "    test_metadata,\n",
    "    pickle_name='test.pickle',\n",
    "    skips=[]\n",
    ")\n",
    "extra_picklefile = maybe_generate(\n",
    "    svhn_extra_folder,\n",
    "    extra_metadata,\n",
    "    pickle_name='extra.pickle',\n",
    "    skips=[]\n",
    ")"
   ]
  },
  {
   "cell_type": "code",
   "execution_count": 15,
   "metadata": {
    "collapsed": true
   },
   "outputs": [],
   "source": [
    "with open(train_picklefile, \"rb\") as f_train, open(test_picklefile, 'rb') as f_test, open(extra_picklefile, 'rb') as f_extra:\n",
    "    train_dataset, train_labels = pickle.load(f_train)\n",
    "    test_dataset, test_labels = pickle.load(f_test)\n",
    "    extra_dataset, extra_labels = pickle.load(f_extra)\n",
    "\n",
    "    train_dataset = np.concatenate((train_dataset, extra_dataset), axis=0)\n",
    "    train_labels = np.concatenate((train_labels, extra_labels), axis=0)\n",
    "\n",
    "    train_dataset, valid_dataset = np.split(train_dataset, [222000])\n",
    "    train_labels, valid_labels = np.split(train_labels, [222000])\n",
    "\n",
    "    del extra_dataset\n",
    "    del extra_labels"
   ]
  },
  {
   "cell_type": "code",
   "execution_count": 16,
   "metadata": {},
   "outputs": [
    {
     "name": "stdout",
     "output_type": "stream",
     "text": [
      "[[ 0.  1.  0.  0.  0.  0.  0.  0.  0.  0.  0.]\n",
      " [ 0.  0.  0.  0.  0.  0.  0.  0.  0.  1.  0.]\n",
      " [ 0.  0.  0.  0.  0.  0.  0.  0.  0.  0.  1.]\n",
      " [ 0.  0.  0.  0.  0.  0.  0.  0.  0.  0.  1.]\n",
      " [ 0.  0.  0.  0.  0.  0.  0.  0.  0.  0.  1.]\n",
      " [ 0.  0.  1.  0.  0.  0.  0.  0.  0.  0.  0.]]\n"
     ]
    },
    {
     "data": {
      "image/png": "[encoded data removed]",
      "text/plain": [
       "<matplotlib.figure.Figure at 0x12819f198>"
      ]
     },
     "metadata": {},
     "output_type": "display_data"
    },
    {
     "name": "stdout",
     "output_type": "stream",
     "text": [
      "[[ 0.  0.  1.  0.  0.  0.  0.  0.  0.  0.  0.]\n",
      " [ 0.  0.  0.  1.  0.  0.  0.  0.  0.  0.  0.]\n",
      " [ 0.  0.  0.  0.  0.  0.  0.  0.  0.  0.  1.]\n",
      " [ 0.  0.  0.  0.  0.  0.  0.  0.  0.  0.  1.]\n",
      " [ 0.  0.  0.  0.  0.  0.  0.  0.  0.  0.  1.]\n",
      " [ 0.  0.  1.  0.  0.  0.  0.  0.  0.  0.  0.]]\n"
     ]
    },
    {
     "data": {
      "image/png": "[encoded data removed]",
      "text/plain": [
       "<matplotlib.figure.Figure at 0x117e89cf8>"
      ]
     },
     "metadata": {},
     "output_type": "display_data"
    },
    {
     "name": "stdout",
     "output_type": "stream",
     "text": [
      "[[ 0.  0.  1.  0.  0.  0.  0.  0.  0.  0.  0.]\n",
      " [ 0.  0.  0.  0.  0.  1.  0.  0.  0.  0.  0.]\n",
      " [ 0.  0.  0.  0.  0.  0.  0.  0.  0.  0.  1.]\n",
      " [ 0.  0.  0.  0.  0.  0.  0.  0.  0.  0.  1.]\n",
      " [ 0.  0.  0.  0.  0.  0.  0.  0.  0.  0.  1.]\n",
      " [ 0.  0.  1.  0.  0.  0.  0.  0.  0.  0.  0.]]\n"
     ]
    },
    {
     "data": {
      "image/png": "[encoded data removed]",
      "text/plain": [
       "<matplotlib.figure.Figure at 0x107157b00>"
      ]
     },
     "metadata": {},
     "output_type": "display_data"
    },
    {
     "name": "stdout",
     "output_type": "stream",
     "text": [
      "[[ 0.  0.  0.  0.  0.  0.  0.  0.  0.  1.  0.]\n",
      " [ 0.  0.  0.  1.  0.  0.  0.  0.  0.  0.  0.]\n",
      " [ 0.  0.  0.  0.  0.  0.  0.  0.  0.  0.  1.]\n",
      " [ 0.  0.  0.  0.  0.  0.  0.  0.  0.  0.  1.]\n",
      " [ 0.  0.  0.  0.  0.  0.  0.  0.  0.  0.  1.]\n",
      " [ 0.  0.  1.  0.  0.  0.  0.  0.  0.  0.  0.]]\n"
     ]
    },
    {
     "data": {
      "image/png": "[encoded data removed]",
      "text/plain": [
       "<matplotlib.figure.Figure at 0x1188fd630>"
      ]
     },
     "metadata": {},
     "output_type": "display_data"
    },
    {
     "name": "stdout",
     "output_type": "stream",
     "text": [
      "[[ 0.  0.  0.  1.  0.  0.  0.  0.  0.  0.  0.]\n",
      " [ 0.  1.  0.  0.  0.  0.  0.  0.  0.  0.  0.]\n",
      " [ 0.  0.  0.  0.  0.  0.  0.  0.  0.  0.  1.]\n",
      " [ 0.  0.  0.  0.  0.  0.  0.  0.  0.  0.  1.]\n",
      " [ 0.  0.  0.  0.  0.  0.  0.  0.  0.  0.  1.]\n",
      " [ 0.  0.  1.  0.  0.  0.  0.  0.  0.  0.  0.]]\n"
     ]
    },
    {
     "data": {
      "image/png": "[encoded data removed]",
      "text/plain": [
       "<matplotlib.figure.Figure at 0x1189f5a20>"
      ]
     },
     "metadata": {},
     "output_type": "display_data"
    },
    {
     "name": "stdout",
     "output_type": "stream",
     "text": [
      "[[ 0.  0.  0.  1.  0.  0.  0.  0.  0.  0.  0.]\n",
      " [ 0.  0.  0.  1.  0.  0.  0.  0.  0.  0.  0.]\n",
      " [ 0.  0.  0.  0.  0.  0.  0.  0.  0.  0.  1.]\n",
      " [ 0.  0.  0.  0.  0.  0.  0.  0.  0.  0.  1.]\n",
      " [ 0.  0.  0.  0.  0.  0.  0.  0.  0.  0.  1.]\n",
      " [ 0.  0.  1.  0.  0.  0.  0.  0.  0.  0.  0.]]\n"
     ]
    },
    {
     "data": {
      "image/png": "[encoded data removed]",
      "text/plain": [
       "<matplotlib.figure.Figure at 0x118ab5f98>"
      ]
     },
     "metadata": {},
     "output_type": "display_data"
    },
    {
     "name": "stdout",
     "output_type": "stream",
     "text": [
      "[[ 0.  0.  1.  0.  0.  0.  0.  0.  0.  0.  0.]\n",
      " [ 0.  0.  0.  0.  0.  0.  0.  0.  1.  0.  0.]\n",
      " [ 0.  0.  0.  0.  0.  0.  0.  0.  0.  0.  1.]\n",
      " [ 0.  0.  0.  0.  0.  0.  0.  0.  0.  0.  1.]\n",
      " [ 0.  0.  0.  0.  0.  0.  0.  0.  0.  0.  1.]\n",
      " [ 0.  0.  1.  0.  0.  0.  0.  0.  0.  0.  0.]]\n"
     ]
    },
    {
     "data": {
      "image/png": "[encoded data removed]",
      "text/plain": [
       "<matplotlib.figure.Figure at 0x118bb1ef0>"
      ]
     },
     "metadata": {},
     "output_type": "display_data"
    },
    {
     "name": "stdout",
     "output_type": "stream",
     "text": [
      "[[ 0.  0.  0.  0.  0.  0.  0.  1.  0.  0.  0.]\n",
      " [ 0.  0.  0.  0.  1.  0.  0.  0.  0.  0.  0.]\n",
      " [ 0.  0.  0.  0.  1.  0.  0.  0.  0.  0.  0.]\n",
      " [ 0.  0.  0.  0.  0.  0.  0.  0.  0.  0.  1.]\n",
      " [ 0.  0.  0.  0.  0.  0.  0.  0.  0.  0.  1.]\n",
      " [ 0.  0.  0.  1.  0.  0.  0.  0.  0.  0.  0.]]\n"
     ]
    },
    {
     "data": {
      "image/png": "[encoded data removed]",
      "text/plain": [
       "<matplotlib.figure.Figure at 0x118ca9da0>"
      ]
     },
     "metadata": {},
     "output_type": "display_data"
    },
    {
     "name": "stdout",
     "output_type": "stream",
     "text": [
      "[[ 0.  1.  0.  0.  0.  0.  0.  0.  0.  0.  0.]\n",
      " [ 0.  0.  1.  0.  0.  0.  0.  0.  0.  0.  0.]\n",
      " [ 0.  0.  0.  0.  0.  0.  0.  0.  1.  0.  0.]\n",
      " [ 0.  0.  0.  0.  0.  0.  0.  0.  0.  0.  1.]\n",
      " [ 0.  0.  0.  0.  0.  0.  0.  0.  0.  0.  1.]\n",
      " [ 0.  0.  0.  1.  0.  0.  0.  0.  0.  0.  0.]]\n"
     ]
    },
    {
     "data": {
      "image/png": "[encoded data removed]",
      "text/plain": [
       "<matplotlib.figure.Figure at 0x118d8bef0>"
      ]
     },
     "metadata": {},
     "output_type": "display_data"
    },
    {
     "name": "stdout",
     "output_type": "stream",
     "text": [
      "[[ 0.  1.  0.  0.  0.  0.  0.  0.  0.  0.  0.]\n",
      " [ 0.  0.  0.  0.  0.  0.  1.  0.  0.  0.  0.]\n",
      " [ 0.  0.  0.  0.  0.  0.  0.  0.  0.  0.  1.]\n",
      " [ 0.  0.  0.  0.  0.  0.  0.  0.  0.  0.  1.]\n",
      " [ 0.  0.  0.  0.  0.  0.  0.  0.  0.  0.  1.]\n",
      " [ 0.  0.  1.  0.  0.  0.  0.  0.  0.  0.  0.]]\n"
     ]
    },
    {
     "data": {
      "image/png": "[encoded data removed]",
      "text/plain": [
       "<matplotlib.figure.Figure at 0x118e89c88>"
      ]
     },
     "metadata": {},
     "output_type": "display_data"
    },
    {
     "name": "stdout",
     "output_type": "stream",
     "text": [
      "[[ 0.  0.  1.  0.  0.  0.  0.  0.  0.  0.  0.]\n",
      " [ 0.  0.  0.  1.  0.  0.  0.  0.  0.  0.  0.]\n",
      " [ 0.  0.  0.  0.  0.  0.  0.  0.  0.  0.  1.]\n",
      " [ 0.  0.  0.  0.  0.  0.  0.  0.  0.  0.  1.]\n",
      " [ 0.  0.  0.  0.  0.  0.  0.  0.  0.  0.  1.]\n",
      " [ 0.  0.  1.  0.  0.  0.  0.  0.  0.  0.  0.]]\n"
     ]
    },
    {
     "data": {
      "image/png": "[encoded data removed]",
      "text/plain": [
       "<matplotlib.figure.Figure at 0x118f4fba8>"
      ]
     },
     "metadata": {},
     "output_type": "display_data"
    },
    {
     "name": "stdout",
     "output_type": "stream",
     "text": [
      "[[ 0.  0.  0.  0.  0.  0.  1.  0.  0.  0.  0.]\n",
      " [ 0.  0.  0.  1.  0.  0.  0.  0.  0.  0.  0.]\n",
      " [ 0.  0.  0.  0.  0.  0.  0.  0.  0.  0.  1.]\n",
      " [ 0.  0.  0.  0.  0.  0.  0.  0.  0.  0.  1.]\n",
      " [ 0.  0.  0.  0.  0.  0.  0.  0.  0.  0.  1.]\n",
      " [ 0.  0.  1.  0.  0.  0.  0.  0.  0.  0.  0.]]\n"
     ]
    },
    {
     "data": {
      "image/png": "[encoded data removed]",
      "text/plain": [
       "<matplotlib.figure.Figure at 0x11904c470>"
      ]
     },
     "metadata": {},
     "output_type": "display_data"
    },
    {
     "name": "stdout",
     "output_type": "stream",
     "text": [
      "[[ 0.  0.  0.  0.  1.  0.  0.  0.  0.  0.  0.]\n",
      " [ 0.  0.  1.  0.  0.  0.  0.  0.  0.  0.  0.]\n",
      " [ 0.  0.  0.  0.  0.  0.  0.  0.  0.  0.  1.]\n",
      " [ 0.  0.  0.  0.  0.  0.  0.  0.  0.  0.  1.]\n",
      " [ 0.  0.  0.  0.  0.  0.  0.  0.  0.  0.  1.]\n",
      " [ 0.  0.  1.  0.  0.  0.  0.  0.  0.  0.  0.]]\n"
     ]
    },
    {
     "data": {
      "image/png": "[encoded data removed]",
      "text/plain": [
       "<matplotlib.figure.Figure at 0x118e2f240>"
      ]
     },
     "metadata": {},
     "output_type": "display_data"
    },
    {
     "name": "stdout",
     "output_type": "stream",
     "text": [
      "[[ 0.  0.  0.  0.  0.  1.  0.  0.  0.  0.  0.]\n",
      " [ 0.  0.  0.  0.  0.  0.  0.  0.  1.  0.  0.]\n",
      " [ 0.  0.  0.  0.  0.  0.  0.  0.  0.  0.  1.]\n",
      " [ 0.  0.  0.  0.  0.  0.  0.  0.  0.  0.  1.]\n",
      " [ 0.  0.  0.  0.  0.  0.  0.  0.  0.  0.  1.]\n",
      " [ 0.  0.  1.  0.  0.  0.  0.  0.  0.  0.  0.]]\n"
     ]
    },
    {
     "data": {
      "image/png": "[encoded data removed]",
      "text/plain": [
       "<matplotlib.figure.Figure at 0x118c4c4a8>"
      ]
     },
     "metadata": {},
     "output_type": "display_data"
    },
    {
     "name": "stdout",
     "output_type": "stream",
     "text": [
      "[[ 0.  1.  0.  0.  0.  0.  0.  0.  0.  0.  0.]\n",
      " [ 0.  0.  0.  0.  0.  0.  1.  0.  0.  0.  0.]\n",
      " [ 0.  0.  0.  0.  0.  0.  0.  0.  0.  0.  1.]\n",
      " [ 0.  0.  0.  0.  0.  0.  0.  0.  0.  0.  1.]\n",
      " [ 0.  0.  0.  0.  0.  0.  0.  0.  0.  0.  1.]\n",
      " [ 0.  0.  1.  0.  0.  0.  0.  0.  0.  0.  0.]]\n"
     ]
    },
    {
     "data": {
      "image/png": "[encoded data removed]",
      "text/plain": [
       "<matplotlib.figure.Figure at 0x128177978>"
      ]
     },
     "metadata": {},
     "output_type": "display_data"
    },
    {
     "name": "stdout",
     "output_type": "stream",
     "text": [
      "[[ 0.  0.  1.  0.  0.  0.  0.  0.  0.  0.  0.]\n",
      " [ 0.  0.  0.  1.  0.  0.  0.  0.  0.  0.  0.]\n",
      " [ 0.  0.  0.  0.  0.  0.  0.  0.  0.  0.  1.]\n",
      " [ 0.  0.  0.  0.  0.  0.  0.  0.  0.  0.  1.]\n",
      " [ 0.  0.  0.  0.  0.  0.  0.  0.  0.  0.  1.]\n",
      " [ 0.  0.  1.  0.  0.  0.  0.  0.  0.  0.  0.]]\n"
     ]
    },
    {
     "data": {
      "image/png": "[encoded data removed]",
      "text/plain": [
       "<matplotlib.figure.Figure at 0x11a362cf8>"
      ]
     },
     "metadata": {},
     "output_type": "display_data"
    },
    {
     "name": "stdout",
     "output_type": "stream",
     "text": [
      "[[ 0.  0.  0.  0.  0.  0.  0.  1.  0.  0.  0.]\n",
      " [ 0.  0.  0.  0.  0.  0.  0.  0.  0.  1.  0.]\n",
      " [ 0.  0.  0.  0.  0.  0.  0.  0.  0.  0.  1.]\n",
      " [ 0.  0.  0.  0.  0.  0.  0.  0.  0.  0.  1.]\n",
      " [ 0.  0.  0.  0.  0.  0.  0.  0.  0.  0.  1.]\n",
      " [ 0.  0.  1.  0.  0.  0.  0.  0.  0.  0.  0.]]\n"
     ]
    },
    {
     "data": {
      "image/png": "[encoded data removed]",
      "text/plain": [
       "<matplotlib.figure.Figure at 0x118e5b518>"
      ]
     },
     "metadata": {},
     "output_type": "display_data"
    },
    {
     "name": "stdout",
     "output_type": "stream",
     "text": [
      "[[ 0.  0.  0.  0.  0.  1.  0.  0.  0.  0.  0.]\n",
      " [ 0.  0.  0.  1.  0.  0.  0.  0.  0.  0.  0.]\n",
      " [ 0.  0.  0.  0.  0.  0.  0.  0.  0.  0.  1.]\n",
      " [ 0.  0.  0.  0.  0.  0.  0.  0.  0.  0.  1.]\n",
      " [ 0.  0.  0.  0.  0.  0.  0.  0.  0.  0.  1.]\n",
      " [ 0.  0.  1.  0.  0.  0.  0.  0.  0.  0.  0.]]\n"
     ]
    },
    {
     "data": {
      "image/png": "[encoded data removed]",
      "text/plain": [
       "<matplotlib.figure.Figure at 0x118d33dd8>"
      ]
     },
     "metadata": {},
     "output_type": "display_data"
    },
    {
     "name": "stdout",
     "output_type": "stream",
     "text": [
      "[[ 0.  0.  1.  0.  0.  0.  0.  0.  0.  0.  0.]\n",
      " [ 0.  0.  1.  0.  0.  0.  0.  0.  0.  0.  0.]\n",
      " [ 0.  0.  1.  0.  0.  0.  0.  0.  0.  0.  0.]\n",
      " [ 0.  0.  0.  0.  0.  0.  0.  0.  0.  0.  1.]\n",
      " [ 0.  0.  0.  0.  0.  0.  0.  0.  0.  0.  1.]\n",
      " [ 0.  0.  0.  1.  0.  0.  0.  0.  0.  0.  0.]]\n"
     ]
    },
    {
     "data": {
      "image/png": "[encoded data removed]",
      "text/plain": [
       "<matplotlib.figure.Figure at 0x118c4c898>"
      ]
     },
     "metadata": {},
     "output_type": "display_data"
    },
    {
     "name": "stdout",
     "output_type": "stream",
     "text": [
      "[[ 0.  0.  0.  0.  0.  0.  1.  0.  0.  0.  0.]\n",
      " [ 0.  0.  1.  0.  0.  0.  0.  0.  0.  0.  0.]\n",
      " [ 0.  0.  0.  0.  0.  0.  0.  0.  0.  0.  1.]\n",
      " [ 0.  0.  0.  0.  0.  0.  0.  0.  0.  0.  1.]\n",
      " [ 0.  0.  0.  0.  0.  0.  0.  0.  0.  0.  1.]\n",
      " [ 0.  0.  1.  0.  0.  0.  0.  0.  0.  0.  0.]]\n"
     ]
    },
    {
     "data": {
      "image/png": "[encoded data removed]",
      "text/plain": [
       "<matplotlib.figure.Figure at 0x11a344cf8>"
      ]
     },
     "metadata": {},
     "output_type": "display_data"
    }
   ],
   "source": [
    "for idx in range(20):\n",
    "    print(train_labels[idx])\n",
    "    plt.imshow(train_dataset[idx, :, :, 0], cmap=plt.cm.Greys)\n",
    "    plt.show()"
   ]
  },
  {
   "cell_type": "code",
   "execution_count": 17,
   "metadata": {},
   "outputs": [
    {
     "name": "stdout",
     "output_type": "stream",
     "text": [
      "Initialized\n",
      "Minibatch loss at step 0: 11.763123\n",
      "Minibatch accuracies: ['10.9%', '7.8%', '0.0%', '0.0%', '0.0%'] / Overall accuracy: 3.8%\n",
      "Validation accuracies: ['27.6%', '10.0%', '40.7%', '92.7%', '99.9%'] / Overall accuracy: 54.2%\n",
      "Minibatch loss at step 100: 1.945371\n",
      "Minibatch accuracies: ['21.9%', '4.7%', '64.1%', '95.3%', '100.0%'] / Overall accuracy: 57.2%\n",
      "Validation accuracies: ['19.6%', '5.2%', '40.7%', '92.7%', '99.9%'] / Overall accuracy: 51.6%\n",
      "Minibatch loss at step 200: 1.785785\n",
      "Minibatch accuracies: ['28.1%', '31.2%', '71.9%', '98.4%', '100.0%'] / Overall accuracy: 65.9%\n",
      "Validation accuracies: ['27.3%', '5.0%', '40.7%', '92.7%', '99.9%'] / Overall accuracy: 53.1%\n",
      "Minibatch loss at step 300: 1.858654\n",
      "Minibatch accuracies: ['25.0%', '26.6%', '64.1%', '96.9%', '100.0%'] / Overall accuracy: 62.5%\n",
      "Validation accuracies: ['28.9%', '18.5%', '40.7%', '92.7%', '99.9%'] / Overall accuracy: 56.2%\n",
      "Minibatch loss at step 400: 1.648314\n",
      "Minibatch accuracies: ['31.2%', '28.1%', '70.3%', '95.3%', '100.0%'] / Overall accuracy: 65.0%\n",
      "Validation accuracies: ['35.8%', '19.7%', '40.8%', '92.7%', '99.9%'] / Overall accuracy: 57.8%\n",
      "Minibatch loss at step 500: 1.524437\n",
      "Minibatch accuracies: ['39.1%', '35.9%', '78.1%', '96.9%', '100.0%'] / Overall accuracy: 70.0%\n",
      "Validation accuracies: ['39.3%', '24.3%', '41.1%', '92.7%', '99.9%'] / Overall accuracy: 59.5%\n",
      "Minibatch loss at step 600: 1.553974\n",
      "Minibatch accuracies: ['45.3%', '35.9%', '57.8%', '90.6%', '100.0%'] / Overall accuracy: 65.9%\n",
      "Validation accuracies: ['46.9%', '32.1%', '43.2%', '92.7%', '99.9%'] / Overall accuracy: 63.0%\n",
      "Minibatch loss at step 700: 1.546562\n",
      "Minibatch accuracies: ['60.9%', '31.2%', '43.8%', '92.2%', '100.0%'] / Overall accuracy: 65.6%\n",
      "Validation accuracies: ['54.4%', '36.5%', '44.1%', '92.7%', '99.9%'] / Overall accuracy: 65.5%\n",
      "Minibatch loss at step 800: 1.472434\n",
      "Minibatch accuracies: ['51.6%', '37.5%', '51.6%', '93.8%', '100.0%'] / Overall accuracy: 66.9%\n",
      "Validation accuracies: ['60.5%', '43.1%', '46.8%', '92.7%', '99.9%'] / Overall accuracy: 68.6%\n",
      "Minibatch loss at step 900: 1.299387\n",
      "Minibatch accuracies: ['64.1%', '42.2%', '56.2%', '96.9%', '100.0%'] / Overall accuracy: 71.9%\n",
      "Validation accuracies: ['66.2%', '46.9%', '53.1%', '92.7%', '99.9%'] / Overall accuracy: 71.8%\n",
      "Minibatch loss at step 1000: 1.152575\n",
      "Minibatch accuracies: ['65.6%', '57.8%', '45.3%', '87.5%', '100.0%'] / Overall accuracy: 71.2%\n",
      "Validation accuracies: ['67.8%', '49.7%', '56.7%', '92.7%', '99.9%'] / Overall accuracy: 73.4%\n",
      "Minibatch loss at step 1100: 1.127033\n",
      "Minibatch accuracies: ['68.8%', '53.1%', '57.8%', '95.3%', '100.0%'] / Overall accuracy: 75.0%\n",
      "Validation accuracies: ['70.4%', '52.5%', '58.8%', '92.7%', '99.9%'] / Overall accuracy: 74.9%\n",
      "Minibatch loss at step 1200: 1.111360\n",
      "Minibatch accuracies: ['67.2%', '56.2%', '51.6%', '93.8%', '100.0%'] / Overall accuracy: 73.8%\n",
      "Validation accuracies: ['72.2%', '54.2%', '60.2%', '92.7%', '99.9%'] / Overall accuracy: 75.8%\n",
      "Minibatch loss at step 1300: 1.096662\n",
      "Minibatch accuracies: ['68.8%', '56.2%', '51.6%', '96.9%', '100.0%'] / Overall accuracy: 74.7%\n",
      "Validation accuracies: ['72.3%', '57.0%', '63.6%', '92.7%', '99.9%'] / Overall accuracy: 77.1%\n",
      "Minibatch loss at step 1400: 0.948046\n",
      "Minibatch accuracies: ['87.5%', '56.2%', '60.9%', '89.1%', '100.0%'] / Overall accuracy: 78.8%\n",
      "Validation accuracies: ['73.1%', '57.2%', '64.7%', '92.7%', '99.9%'] / Overall accuracy: 77.5%\n",
      "Minibatch loss at step 1500: 0.999710\n",
      "Minibatch accuracies: ['73.4%', '64.1%', '65.6%', '90.6%', '100.0%'] / Overall accuracy: 78.8%\n",
      "Validation accuracies: ['74.8%', '59.7%', '65.3%', '92.7%', '99.9%'] / Overall accuracy: 78.5%\n",
      "Minibatch loss at step 1600: 0.897563\n",
      "Minibatch accuracies: ['75.0%', '62.5%', '68.8%', '93.8%', '100.0%'] / Overall accuracy: 80.0%\n",
      "Validation accuracies: ['74.5%', '61.0%', '66.8%', '92.7%', '99.9%'] / Overall accuracy: 79.0%\n",
      "Minibatch loss at step 1700: 0.971653\n",
      "Minibatch accuracies: ['76.6%', '56.2%', '51.6%', '87.5%', '100.0%'] / Overall accuracy: 74.4%\n",
      "Validation accuracies: ['75.5%', '61.8%', '67.3%', '92.7%', '99.9%'] / Overall accuracy: 79.5%\n",
      "Minibatch loss at step 1800: 1.121293\n",
      "Minibatch accuracies: ['60.9%', '62.5%', '73.4%', '98.4%', '100.0%'] / Overall accuracy: 79.1%\n",
      "Validation accuracies: ['76.1%', '62.3%', '67.2%', '92.7%', '99.9%'] / Overall accuracy: 79.6%\n",
      "Minibatch loss at step 1900: 0.960634\n",
      "Minibatch accuracies: ['68.8%', '54.7%', '67.2%', '89.1%', '100.0%'] / Overall accuracy: 75.9%\n",
      "Validation accuracies: ['76.3%', '62.9%', '68.2%', '92.7%', '99.9%'] / Overall accuracy: 80.0%\n",
      "Minibatch loss at step 2000: 0.848543\n",
      "Minibatch accuracies: ['73.4%', '67.2%', '62.5%', '90.6%', '100.0%'] / Overall accuracy: 78.8%\n",
      "Validation accuracies: ['76.8%', '63.9%', '68.6%', '92.6%', '99.9%'] / Overall accuracy: 80.4%\n",
      "Minibatch loss at step 2100: 0.779663\n",
      "Minibatch accuracies: ['78.1%', '75.0%', '73.4%', '93.8%', '100.0%'] / Overall accuracy: 84.1%\n",
      "Validation accuracies: ['77.2%', '64.1%', '69.6%', '92.6%', '99.9%'] / Overall accuracy: 80.7%\n",
      "Minibatch loss at step 2200: 0.794165\n",
      "Minibatch accuracies: ['79.7%', '67.2%', '64.1%', '95.3%', '100.0%'] / Overall accuracy: 81.2%\n",
      "Validation accuracies: ['77.6%', '65.0%', '69.7%', '92.7%', '99.9%'] / Overall accuracy: 81.0%\n",
      "Minibatch loss at step 2300: 0.849206\n",
      "Minibatch accuracies: ['78.1%', '67.2%', '75.0%', '100.0%', '100.0%'] / Overall accuracy: 84.1%\n",
      "Validation accuracies: ['78.1%', '65.0%', '70.2%', '92.7%', '99.9%'] / Overall accuracy: 81.2%\n",
      "Minibatch loss at step 2400: 0.756692\n",
      "Minibatch accuracies: ['79.7%', '70.3%', '75.0%', '96.9%', '100.0%'] / Overall accuracy: 84.4%\n",
      "Validation accuracies: ['78.3%', '65.8%', '70.3%', '92.7%', '99.9%'] / Overall accuracy: 81.4%\n",
      "Minibatch loss at step 2500: 0.860726\n",
      "Minibatch accuracies: ['89.1%', '57.8%', '62.5%', '84.4%', '100.0%'] / Overall accuracy: 78.8%\n",
      "Validation accuracies: ['78.1%', '65.8%', '70.4%', '92.7%', '99.9%'] / Overall accuracy: 81.4%\n",
      "Minibatch loss at step 2600: 0.761283\n",
      "Minibatch accuracies: ['82.8%', '67.2%', '62.5%', '92.2%', '100.0%'] / Overall accuracy: 80.9%\n",
      "Validation accuracies: ['78.8%', '66.2%', '70.9%', '92.6%', '99.9%'] / Overall accuracy: 81.7%\n",
      "Minibatch loss at step 2700: 0.939836\n",
      "Minibatch accuracies: ['73.4%', '60.9%', '64.1%', '90.6%', '100.0%'] / Overall accuracy: 77.8%\n",
      "Validation accuracies: ['79.1%', '67.0%', '71.4%', '92.6%', '99.9%'] / Overall accuracy: 82.0%\n",
      "Minibatch loss at step 2800: 0.829840\n",
      "Minibatch accuracies: ['79.7%', '64.1%', '59.4%', '90.6%', '100.0%'] / Overall accuracy: 78.8%\n",
      "Validation accuracies: ['79.0%', '67.3%', '71.0%', '92.6%', '99.9%'] / Overall accuracy: 82.0%\n",
      "Minibatch loss at step 2900: 0.758503\n",
      "Minibatch accuracies: ['85.9%', '75.0%', '71.9%', '92.2%', '100.0%'] / Overall accuracy: 85.0%\n",
      "Validation accuracies: ['78.8%', '67.3%', '71.5%', '92.7%', '99.9%'] / Overall accuracy: 82.0%\n",
      "Minibatch loss at step 3000: 0.823732\n",
      "Minibatch accuracies: ['78.1%', '67.2%', '68.8%', '92.2%', '100.0%'] / Overall accuracy: 81.2%\n",
      "Validation accuracies: ['79.2%', '67.5%', '71.3%', '92.6%', '99.9%'] / Overall accuracy: 82.1%\n",
      "Test accuracies: ['71.1%', '65.0%', '87.3%', '98.8%', '100.0%'] / Overall accuracy: 84.4%\n"
     ]
    }
   ],
   "source": [
    "BATCH_SIZE = 64\n",
    "PATCH_SIZE = 5\n",
    "DEPTH = 16\n",
    "\n",
    "STRIDE = 1\n",
    "POOL_STRIDE = 2\n",
    "POOL_KERNEL_SIZE = 2\n",
    "\n",
    "NUM_HIDDEN = 256\n",
    "\n",
    "NUM_STEPS = 3001\n",
    "\n",
    "graph = tf.Graph()\n",
    "\n",
    "with graph.as_default():\n",
    "    \n",
    "    tf_train_dataset = tf.placeholder(\n",
    "        dtype=tf.float32,\n",
    "        shape=(BATCH_SIZE, IMAGE_SIZE, IMAGE_SIZE, NUM_CHANNELS)\n",
    "    )\n",
    "    \n",
    "    tf_train_labels = tf.placeholder(\n",
    "        dtype=tf.float32,\n",
    "        shape=(BATCH_SIZE * (MAX_DIGITS + 1), NUM_LABELS)\n",
    "    )\n",
    "    \n",
    "    tf_valid_dataset = tf.constant(valid_dataset)\n",
    "    tf_test_dataset = tf.constant(test_dataset)\n",
    "    \n",
    "    loss_weights = tf.constant([10, 10, 5, 1, 1], dtype=tf.float32)\n",
    "    \n",
    "    keep_prob = tf.placeholder(dtype=tf.float32)\n",
    "    \n",
    "    global_step = tf.Variable(0, trainable=False)\n",
    "    initial_learning_rate = 0.05\n",
    "    learning_rate = tf.train.exponential_decay(\n",
    "        learning_rate=initial_learning_rate,\n",
    "        global_step=global_step,\n",
    "        decay_steps=50,\n",
    "        decay_rate=0.96,\n",
    "        staircase=True\n",
    "    )\n",
    "    \n",
    "    l01_weights = tf.Variable(tf.truncated_normal(\n",
    "        [7, 7, NUM_CHANNELS, DEPTH],\n",
    "        stddev=0.1\n",
    "    ))\n",
    "    l01_biases = tf.Variable(tf.zeros([DEPTH]))\n",
    "    \n",
    "    l02_weights = tf.Variable(tf.truncated_normal(\n",
    "        [PATCH_SIZE, PATCH_SIZE, DEPTH, DEPTH],\n",
    "        stddev=0.1\n",
    "    ))\n",
    "    l02_biases = tf.Variable(tf.constant(1.0, shape=[DEPTH]))\n",
    "\n",
    "    li01_1_1x1_weights = tf.Variable(tf.truncated_normal(\n",
    "        [1, 1, 16, 8],\n",
    "        stddev=0.1\n",
    "    ))\n",
    "    li01_1_1x1_biases = tf.Variable(tf.constant(1.0, shape=[8]))\n",
    "    \n",
    "    li01_2_1x1_weights = tf.Variable(tf.truncated_normal(\n",
    "        [1, 1, 16, 8],\n",
    "        stddev=0.1\n",
    "    ))\n",
    "    li01_2_1x1_biases = tf.Variable(tf.constant(1.0, shape=[8]))\n",
    "\n",
    "    li01_2_3x3_weights = tf.Variable(tf.truncated_normal(\n",
    "        [3, 3, 8, 16],\n",
    "        stddev=0.1\n",
    "    ))\n",
    "    li01_2_3x3_biases = tf.Variable(tf.constant(1.0, shape=[16]))\n",
    "    \n",
    "    li01_3_1x1_weights = tf.Variable(tf.truncated_normal(\n",
    "        [1, 1, 16, 8],\n",
    "        stddev=0.1\n",
    "    ))\n",
    "    li01_3_1x1_biases = tf.Variable(tf.constant(1.0, shape=[8]))\n",
    "\n",
    "    li01_3_5x5_weights = tf.Variable(tf.truncated_normal(\n",
    "        [5, 5, 8, 16],\n",
    "        stddev=0.1\n",
    "    ))\n",
    "    li01_3_5x5_biases = tf.Variable(tf.constant(1.0, shape=[16]))\n",
    "\n",
    "    li01_4_1x1_weights = tf.Variable(tf.truncated_normal(\n",
    "        [1, 1, 16, 16],\n",
    "        stddev=0.1\n",
    "    ))\n",
    "    li01_4_1x1_biases = tf.Variable(tf.constant(1.0, shape=[16]))\n",
    "    \n",
    "    l03_weights = tf.Variable(tf.truncated_normal(\n",
    "        [IMAGE_SIZE // 4 * IMAGE_SIZE // 4 * 56, NUM_HIDDEN],\n",
    "        stddev=0.1\n",
    "    ))\n",
    "    l03_biases = tf.Variable(tf.constant(1.0, shape=[NUM_HIDDEN]))\n",
    "    \n",
    "    lc_d1_weights = tf.Variable(tf.truncated_normal(\n",
    "        [NUM_HIDDEN, NUM_LABELS],\n",
    "        stddev=0.1\n",
    "    ))\n",
    "    lc_d1_biases = tf.Variable(tf.constant(1.0, shape=[NUM_LABELS]))\n",
    "\n",
    "    lc_d2_weights = tf.Variable(tf.truncated_normal(\n",
    "        [NUM_HIDDEN, NUM_LABELS],\n",
    "        stddev=0.1\n",
    "    ))\n",
    "    lc_d2_biases = tf.Variable(tf.constant(1.0, shape=[NUM_LABELS]))\n",
    "    \n",
    "    lc_d3_weights = tf.Variable(tf.truncated_normal(\n",
    "        [NUM_HIDDEN, NUM_LABELS],\n",
    "        stddev=0.1\n",
    "    ))\n",
    "    lc_d3_biases = tf.Variable(tf.constant(1.0, shape=[NUM_LABELS]))\n",
    "\n",
    "    lc_d4_weights = tf.Variable(tf.truncated_normal(\n",
    "        [NUM_HIDDEN, NUM_LABELS],\n",
    "        stddev=0.1\n",
    "    ))\n",
    "    lc_d4_biases = tf.Variable(tf.constant(1.0, shape=[NUM_LABELS]))\n",
    "    \n",
    "    lc_d5_weights = tf.Variable(tf.truncated_normal(\n",
    "        [NUM_HIDDEN, NUM_LABELS],\n",
    "        stddev=0.1\n",
    "    ))\n",
    "    lc_d5_biases = tf.Variable(tf.constant(1.0, shape=[NUM_LABELS]))\n",
    "\n",
    "    def model(data):\n",
    "        \n",
    "        conv = tf.nn.conv2d(\n",
    "            input=data,\n",
    "            filter=l01_weights,\n",
    "            strides=[1, STRIDE, STRIDE, 1],\n",
    "            padding='SAME'\n",
    "        )\n",
    "        hidden = tf.nn.relu(conv + l01_biases)\n",
    "        pool = tf.nn.max_pool(\n",
    "            value=hidden,\n",
    "            ksize=[1, POOL_KERNEL_SIZE, POOL_KERNEL_SIZE, 1],\n",
    "            strides=[1, POOL_STRIDE, POOL_STRIDE, 1],\n",
    "            padding='VALID'\n",
    "        )\n",
    "        \n",
    "        conv = tf.nn.conv2d(\n",
    "            input=pool,\n",
    "            filter=l02_weights,\n",
    "            strides=[1, STRIDE, STRIDE, 1],\n",
    "            padding='SAME'\n",
    "        )\n",
    "        hidden = tf.nn.relu(conv + l02_biases)\n",
    "        pool = tf.nn.max_pool(\n",
    "            value=hidden,\n",
    "            ksize=[1, POOL_KERNEL_SIZE, POOL_KERNEL_SIZE, 1],\n",
    "            strides=[1, POOL_STRIDE, POOL_STRIDE, 1],\n",
    "            padding='VALID'\n",
    "        )        \n",
    "\n",
    "        inception_01_1 = tf.nn.conv2d(\n",
    "            input=pool,\n",
    "            filter=li01_1_1x1_weights,\n",
    "            strides=[1, 1, 1, 1],\n",
    "            padding='SAME'\n",
    "        ) + li01_1_1x1_biases\n",
    "        \n",
    "        inception_01_2_hidden = tf.nn.conv2d(\n",
    "            input=pool,\n",
    "            filter=li01_2_1x1_weights,\n",
    "            strides=[1, 1, 1, 1],\n",
    "            padding='SAME'\n",
    "        ) + li01_2_1x1_biases\n",
    "        inception_01_2 = tf.nn.conv2d(\n",
    "            input=tf.nn.relu(inception_01_2_hidden),\n",
    "            filter=li01_2_3x3_weights,\n",
    "            strides=[1, 1, 1, 1],\n",
    "            padding='SAME'\n",
    "        ) + li01_2_3x3_biases\n",
    "\n",
    "        inception_01_3_hidden = tf.nn.conv2d(\n",
    "            input=pool,\n",
    "            filter=li01_3_1x1_weights,\n",
    "            strides=[1, 1, 1, 1],\n",
    "            padding='SAME'\n",
    "        ) + li01_3_1x1_biases\n",
    "        inception_01_3 = tf.nn.conv2d(\n",
    "            input=tf.nn.relu(inception_01_3_hidden),\n",
    "            filter=li01_3_5x5_weights,\n",
    "            strides=[1, 1, 1, 1],\n",
    "            padding='SAME'\n",
    "        ) + li01_3_5x5_biases\n",
    "        \n",
    "        inception_01_4_hidden = tf.nn.max_pool(\n",
    "            value=pool,\n",
    "            ksize=[1, POOL_KERNEL_SIZE, POOL_KERNEL_SIZE, 1],\n",
    "            strides=[1, 1, 1, 1],\n",
    "            padding='SAME'\n",
    "        )\n",
    "        inception_01_4 = tf.nn.conv2d(\n",
    "            input=inception_01_4_hidden,\n",
    "            filter=li01_4_1x1_weights,\n",
    "            strides=[1, 1, 1, 1],\n",
    "            padding='SAME'\n",
    "        ) + li01_4_1x1_biases\n",
    "        \n",
    "        inception_01 = tf.nn.relu(\n",
    "            tf.concat(\n",
    "                values=[inception_01_1, inception_01_2, inception_01_3, inception_01_4],\n",
    "                axis=3\n",
    "            )\n",
    "        )\n",
    "\n",
    "        shape = inception_01.get_shape().as_list()\n",
    "        reshape = tf.reshape(inception_01, [shape[0], shape[1] * shape[2] * shape[3]])\n",
    "        \n",
    "        hidden = tf.nn.relu(tf.matmul(reshape, l03_weights) + l03_biases)\n",
    "        dropout = tf.nn.dropout(hidden, keep_prob)\n",
    "        return (\n",
    "                tf.matmul(dropout, lc_d1_weights) + lc_d1_biases,\n",
    "                tf.matmul(dropout, lc_d2_weights) + lc_d2_biases,\n",
    "                tf.matmul(dropout, lc_d3_weights) + lc_d3_biases,\n",
    "                tf.matmul(dropout, lc_d4_weights) + lc_d4_biases,\n",
    "                tf.matmul(dropout, lc_d5_weights) + lc_d5_biases\n",
    "        )\n",
    "    \n",
    "    logits_d1, logits_d2, logits_d3, logits_d4, logits_d5 = model(tf_train_dataset)\n",
    "        \n",
    "    labels_d1, labels_d2, labels_d3, labels_d4, labels_d5, _ = tf.split(\n",
    "        tf_train_labels,\n",
    "        num_or_size_splits=6,\n",
    "        axis=0\n",
    "    )\n",
    "    \n",
    "    loss_d1 = tf.nn.softmax_cross_entropy_with_logits(labels=labels_d1, logits=logits_d1)\n",
    "    loss_d2 = tf.nn.softmax_cross_entropy_with_logits(labels=labels_d2, logits=logits_d2)\n",
    "    loss_d3 = tf.nn.softmax_cross_entropy_with_logits(labels=labels_d3, logits=logits_d3)\n",
    "    loss_d4 = tf.nn.softmax_cross_entropy_with_logits(labels=labels_d4, logits=logits_d4)\n",
    "    loss_d5 = tf.nn.softmax_cross_entropy_with_logits(labels=labels_d5, logits=logits_d5)\n",
    " \n",
    "    loss = tf.reduce_sum(loss_weights * tf.stack(\n",
    "        (\n",
    "            tf.reduce_mean(loss_d1),\n",
    "            tf.reduce_mean(loss_d2),\n",
    "            tf.reduce_mean(loss_d3),\n",
    "            tf.reduce_mean(loss_d4),\n",
    "            tf.reduce_mean(loss_d5)\n",
    "        ),\n",
    "        axis=0\n",
    "    )) / tf.reduce_sum(loss_weights)\n",
    "    \n",
    "    optimizer = tf.train.GradientDescentOptimizer(learning_rate).minimize(loss, global_step=global_step)\n",
    "\n",
    "    train_prediction = tf.concat(\n",
    "        (\n",
    "            tf.nn.softmax(logits_d1),\n",
    "            tf.nn.softmax(logits_d2),\n",
    "            tf.nn.softmax(logits_d3),\n",
    "            tf.nn.softmax(logits_d4),\n",
    "            tf.nn.softmax(logits_d5)\n",
    "        ),\n",
    "        axis=0\n",
    "    )\n",
    "    \n",
    "    v_logits_d1, v_logits_d2, v_logits_d3, v_logits_d4, v_logits_d5 = model(tf_valid_dataset)\n",
    "    valid_prediction = tf.concat(\n",
    "        (\n",
    "            tf.nn.softmax(v_logits_d1),\n",
    "            tf.nn.softmax(v_logits_d2),\n",
    "            tf.nn.softmax(v_logits_d3),\n",
    "            tf.nn.softmax(v_logits_d4),\n",
    "            tf.nn.softmax(v_logits_d5)\n",
    "        ),\n",
    "        axis=0\n",
    "    )\n",
    "    \n",
    "    t_logits_d1, t_logits_d2, t_logits_d3, t_logits_d4, t_logits_d5 = model(tf_test_dataset)\n",
    "    test_prediction = tf.concat(\n",
    "        (\n",
    "            tf.nn.softmax(t_logits_d1),\n",
    "            tf.nn.softmax(t_logits_d2),\n",
    "            tf.nn.softmax(t_logits_d3),\n",
    "            tf.nn.softmax(t_logits_d4),\n",
    "            tf.nn.softmax(t_logits_d5)\n",
    "        ),\n",
    "        axis=0\n",
    "    )\n",
    "    \n",
    "with tf.Session(graph=graph) as session:\n",
    "    \n",
    "    tf.global_variables_initializer().run()\n",
    "    print('Initialized')\n",
    "    \n",
    "    for step in range(NUM_STEPS):\n",
    "        \n",
    "        offset = (step * BATCH_SIZE) % (train_labels.shape[0] - BATCH_SIZE)\n",
    "        batch_data = train_dataset[offset:(offset+BATCH_SIZE), :, :, :]\n",
    "        batch_labels = reshape(train_labels[offset:(offset+BATCH_SIZE), :, :])\n",
    "        \n",
    "        feed_dict = {\n",
    "            tf_train_dataset: batch_data,\n",
    "            tf_train_labels: batch_labels,\n",
    "            keep_prob: 1.0\n",
    "        }\n",
    "        \n",
    "        _, l, predictions = session.run([optimizer, loss, train_prediction], feed_dict=feed_dict)\n",
    "        \n",
    "        if (step % 100 == 0):\n",
    "\n",
    "            train_accuracies = accuracy(predictions, batch_labels)\n",
    "            valid_accuracies = accuracy(valid_prediction.eval({keep_prob: 1.0}), reshape(valid_labels))\n",
    "            print('Minibatch loss at step %d: %f' % (step, l))\n",
    "            print('Minibatch accuracies: %s / Overall accuracy: %.1f%%' % (format_accuracy(train_accuracies[0]), train_accuracies[1]))\n",
    "            print('Validation accuracies: %s / Overall accuracy: %.1f%%' % (format_accuracy(valid_accuracies[0]), valid_accuracies[1]))\n",
    "            \n",
    "    test_accuracies = accuracy(test_prediction.eval({keep_prob: 1.0}), reshape(test_labels))\n",
    "    print('Test accuracies: %s / Overall accuracy: %.1f%%' % (format_accuracy(test_accuracies[0]), test_accuracies[1]))\n"
   ]
  }
 ],
 "metadata": {
  "kernelspec": {
   "display_name": "Python 3",
   "language": "python",
   "name": "python3"
  },
  "language_info": {
   "codemirror_mode": {
    "name": "ipython",
    "version": 3
   },
   "file_extension": ".py",
   "mimetype": "text/x-python",
   "name": "python",
   "nbconvert_exporter": "python",
   "pygments_lexer": "ipython3",
   "version": "3.5.3"
  }
 },
 "nbformat": 4,
 "nbformat_minor": 2
}
