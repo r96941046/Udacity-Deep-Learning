{
 "cells": [
  {
   "cell_type": "markdown",
   "metadata": {},
   "source": [
    "## MNIST Synthetic Dataset"
   ]
  },
  {
   "cell_type": "code",
   "execution_count": 1,
   "metadata": {
    "collapsed": true
   },
   "outputs": [],
   "source": [
    "import gzip\n",
    "import numpy as np\n",
    "import os\n",
    "import h5py\n",
    "import sys\n",
    "import tarfile\n",
    "import tensorflow as tf\n",
    "import random\n",
    "import matplotlib.pyplot as plt\n",
    "%matplotlib inline\n",
    "\n",
    "from IPython.display import display, Image\n",
    "from scipy import ndimage\n",
    "from scipy.misc import imresize\n",
    "from six.moves.urllib.request import urlretrieve\n",
    "from six.moves import cPickle as pickle"
   ]
  },
  {
   "cell_type": "code",
   "execution_count": 2,
   "metadata": {},
   "outputs": [
    {
     "name": "stdout",
     "output_type": "stream",
     "text": [
      "Found and verified ./train-images-idx3-ubyte.gz\n",
      "Found and verified ./train-labels-idx1-ubyte.gz\n",
      "Found and verified ./t10k-images-idx3-ubyte.gz\n",
      "Found and verified ./t10k-labels-idx1-ubyte.gz\n",
      "Extracting ./train-images-idx3-ubyte.gz\n",
      "Extracting ./train-labels-idx1-ubyte.gz\n",
      "Extracting ./t10k-images-idx3-ubyte.gz\n",
      "Extracting ./t10k-labels-idx1-ubyte.gz\n"
     ]
    }
   ],
   "source": [
    "URL = 'http://yann.lecun.com/exdb/mnist/'\n",
    "LAST_PERCENT_REPORTED = None\n",
    "DATA_ROOT = '.' # Change me to store data elsewhere\n",
    "\n",
    "IMAGE_SIZE = 28\n",
    "NUM_CHANNELS = 1\n",
    "PIXEL_DEPTH = 255.0\n",
    "\n",
    "def download_progress_hook(count, blockSize, totalSize):\n",
    "    \"\"\"A hook to report the progress of a download. This is mostly intended for users with\n",
    "    slow internet connections. Reports every 5% change in download progress.\n",
    "    \"\"\"\n",
    "    global LAST_PERCENT_REPORTED\n",
    "    percent = int(count * blockSize * 100 / totalSize)\n",
    "\n",
    "    if LAST_PERCENT_REPORTED != percent:\n",
    "        if percent % 5 == 0:\n",
    "            sys.stdout.write(\"%s%%\" % percent)\n",
    "            sys.stdout.flush()\n",
    "        else:\n",
    "            sys.stdout.write(\".\")\n",
    "            sys.stdout.flush()\n",
    "      \n",
    "        LAST_PERCENT_REPORTED = percent\n",
    "        \n",
    "def maybe_download(filename, expected_bytes, force=False):\n",
    "    \"\"\"Download a file if not present, and make sure it's the right size.\"\"\"\n",
    "    dest_filename = os.path.join(DATA_ROOT, filename)\n",
    "    if force or not os.path.exists(dest_filename):\n",
    "        print('Attempting to download:', filename) \n",
    "        filename, _ = urlretrieve(URL + filename, dest_filename, reporthook=download_progress_hook)\n",
    "        print('\\nDownload Complete!')\n",
    "    statinfo = os.stat(dest_filename)\n",
    "    if statinfo.st_size == expected_bytes:\n",
    "        print('Found and verified', dest_filename)\n",
    "    else:\n",
    "        raise Exception(\n",
    "            'Failed to verify ' + dest_filename + '. Can you get to it with a browser?'\n",
    "        )\n",
    "    return dest_filename\n",
    "\n",
    "def extract_data(filename, num_images):\n",
    "    \"\"\"Extract the images into a 4D tensor [image index, y, x, channels].\n",
    "    Values are rescaled from [0, 255] down to [-0.5, 0.5].\n",
    "    \"\"\"\n",
    "    print('Extracting', filename)\n",
    "    with gzip.open(filename) as bytestream:\n",
    "        bytestream.read(16)\n",
    "        buf = bytestream.read(IMAGE_SIZE * IMAGE_SIZE * num_images)\n",
    "        data = np.frombuffer(buf, dtype=np.uint8).astype(np.float32)\n",
    "        data = (data - (PIXEL_DEPTH / 2.0)) / PIXEL_DEPTH\n",
    "        data = data.reshape(num_images, IMAGE_SIZE, IMAGE_SIZE, NUM_CHANNELS)\n",
    "        return data\n",
    "\n",
    "def extract_labels(filename, num_images):\n",
    "    \"\"\"Extract the labels into a vector of int64 label IDs.\"\"\"\n",
    "    print('Extracting', filename)\n",
    "    with gzip.open(filename) as bytestream:\n",
    "        bytestream.read(8)\n",
    "        buf = bytestream.read(1 * num_images)\n",
    "        labels = np.frombuffer(buf, dtype=np.uint8).astype(np.int64)\n",
    "    return labels\n",
    "\n",
    "mnist_train_image_file = maybe_download('train-images-idx3-ubyte.gz', 9912422)\n",
    "mnist_train_label_file = maybe_download('train-labels-idx1-ubyte.gz', 28881)\n",
    "mnist_test_image_file = maybe_download('t10k-images-idx3-ubyte.gz', 1648877)\n",
    "mnist_test_label_file = maybe_download('t10k-labels-idx1-ubyte.gz', 4542)\n",
    "\n",
    "mnist_train_data = extract_data(mnist_train_image_file, 60000)\n",
    "mnist_train_labels = extract_labels(mnist_train_label_file, 60000)\n",
    "mnist_test_data = extract_data(mnist_test_image_file, 10000)\n",
    "mnist_test_labels = extract_labels(mnist_test_label_file, 10000)\n",
    "\n",
    "mnist_valid_data = mnist_test_data[:5000, :, :, :]\n",
    "mnist_test_data = mnist_test_data[5000:, :, :, :]\n",
    "\n",
    "mnist_valid_labels = mnist_test_labels[:5000]\n",
    "mnist_test_labels = mnist_test_labels[5000:]"
   ]
  },
  {
   "cell_type": "code",
   "execution_count": 3,
   "metadata": {
    "collapsed": true
   },
   "outputs": [],
   "source": [
    "MAX_DIGITS = 5\n",
    "NUM_LABELS = 11 # 0-9 plus blank image\n",
    "BLANK_IMAGE = (np.zeros((IMAGE_SIZE, IMAGE_SIZE, NUM_CHANNELS)) - (PIXEL_DEPTH / 2.0)) / PIXEL_DEPTH\n",
    "\n",
    "def randomize(dataset, labels):\n",
    "    permutation = np.random.permutation(labels.shape[0])\n",
    "    shuffled_dataset = dataset[permutation,:,:]\n",
    "    shuffled_labels = labels[permutation]\n",
    "    return shuffled_dataset, shuffled_labels\n",
    "\n",
    "def generate_multiple_digit_data(data, labels, count, max_digits=MAX_DIGITS):    \n",
    "    buffer_data = data\n",
    "    buffer_labels = labels    \n",
    "    multiple_digit_data = np.empty((count, IMAGE_SIZE, IMAGE_SIZE * max_digits, NUM_CHANNELS), dtype=np.float32)\n",
    "    multiple_digit_labels = np.empty((count, MAX_DIGITS + 1, NUM_LABELS), dtype=np.float32)\n",
    "    \n",
    "    for idx in range(count):                    \n",
    "        num_digits = random.randint(1, max_digits)\n",
    "        num_zeros = max_digits - num_digits\n",
    "        one_hot = np.zeros((MAX_DIGITS + 1, NUM_LABELS), dtype=np.float32)\n",
    "        \n",
    "        if num_digits > len(buffer_labels):           \n",
    "            data, labels = randomize(data, labels)\n",
    "            buffer_data = np.concatenate((buffer_data, data), axis=0)\n",
    "            buffer_labels = np.concatenate((buffer_labels, labels))\n",
    "    \n",
    "        d, l = buffer_data[:num_digits, :, :, :], buffer_labels[:num_digits]\n",
    "        buffer_data, buffer_labels = buffer_data[num_digits:, :, :, :], buffer_labels[num_digits:]\n",
    "\n",
    "        if num_zeros:\n",
    "            d = np.concatenate((d, [BLANK_IMAGE] * num_zeros), axis=0)\n",
    "            l = np.concatenate((l, [10] * num_zeros))\n",
    "\n",
    "        d = d.swapaxes(0, 1).reshape(IMAGE_SIZE, IMAGE_SIZE * max_digits, NUM_CHANNELS)\n",
    "        l = np.concatenate((l, [num_digits]))\n",
    "        \n",
    "        one_hot[np.arange(l.shape[0]), l] = 1\n",
    "\n",
    "        multiple_digit_data[idx] = d\n",
    "        multiple_digit_labels[idx] = one_hot\n",
    "        \n",
    "    return multiple_digit_data, multiple_digit_labels"
   ]
  },
  {
   "cell_type": "code",
   "execution_count": 4,
   "metadata": {
    "collapsed": true
   },
   "outputs": [],
   "source": [
    "train_dataset, train_labels = generate_multiple_digit_data(mnist_train_data, mnist_train_labels, count=180000)\n",
    "valid_dataset, valid_labels = generate_multiple_digit_data(mnist_valid_data, mnist_valid_labels, count=10000)\n",
    "test_dataset, test_labels = generate_multiple_digit_data(mnist_test_data, mnist_test_labels, count=10000)"
   ]
  },
  {
   "cell_type": "code",
   "execution_count": 5,
   "metadata": {
    "collapsed": true
   },
   "outputs": [],
   "source": [
    "del mnist_train_data\n",
    "del mnist_train_labels\n",
    "del mnist_valid_data\n",
    "del mnist_valid_labels\n",
    "del mnist_test_data\n",
    "del mnist_test_labels"
   ]
  },
  {
   "cell_type": "code",
   "execution_count": 6,
   "metadata": {},
   "outputs": [
    {
     "name": "stdout",
     "output_type": "stream",
     "text": [
      "[[ 0.  0.  0.  0.  0.  1.  0.  0.  0.  0.  0.]\n",
      " [ 1.  0.  0.  0.  0.  0.  0.  0.  0.  0.  0.]\n",
      " [ 0.  0.  0.  0.  1.  0.  0.  0.  0.  0.  0.]\n",
      " [ 0.  0.  0.  0.  0.  0.  0.  0.  0.  0.  1.]\n",
      " [ 0.  0.  0.  0.  0.  0.  0.  0.  0.  0.  1.]\n",
      " [ 0.  0.  0.  1.  0.  0.  0.  0.  0.  0.  0.]]\n"
     ]
    },
    {
     "data": {
      "image/png": "[encoded data removed]",
      "text/plain": [
       "<matplotlib.figure.Figure at 0x11590ec18>"
      ]
     },
     "metadata": {},
     "output_type": "display_data"
    },
    {
     "name": "stdout",
     "output_type": "stream",
     "text": [
      "[[ 0.  1.  0.  0.  0.  0.  0.  0.  0.  0.  0.]\n",
      " [ 0.  0.  0.  0.  0.  0.  0.  0.  0.  1.  0.]\n",
      " [ 0.  0.  1.  0.  0.  0.  0.  0.  0.  0.  0.]\n",
      " [ 0.  1.  0.  0.  0.  0.  0.  0.  0.  0.  0.]\n",
      " [ 0.  0.  0.  1.  0.  0.  0.  0.  0.  0.  0.]\n",
      " [ 0.  0.  0.  0.  0.  1.  0.  0.  0.  0.  0.]]\n"
     ]
    },
    {
     "data": {
      "image/png": "[encoded data removed]",
      "text/plain": [
       "<matplotlib.figure.Figure at 0x11213f5c0>"
      ]
     },
     "metadata": {},
     "output_type": "display_data"
    },
    {
     "name": "stdout",
     "output_type": "stream",
     "text": [
      "[[ 0.  1.  0.  0.  0.  0.  0.  0.  0.  0.  0.]\n",
      " [ 0.  0.  0.  0.  0.  0.  0.  0.  0.  0.  1.]\n",
      " [ 0.  0.  0.  0.  0.  0.  0.  0.  0.  0.  1.]\n",
      " [ 0.  0.  0.  0.  0.  0.  0.  0.  0.  0.  1.]\n",
      " [ 0.  0.  0.  0.  0.  0.  0.  0.  0.  0.  1.]\n",
      " [ 0.  1.  0.  0.  0.  0.  0.  0.  0.  0.  0.]]\n"
     ]
    },
    {
     "data": {
      "image/png": "[encoded data removed]",
      "text/plain": [
       "<matplotlib.figure.Figure at 0x11dad4cc0>"
      ]
     },
     "metadata": {},
     "output_type": "display_data"
    },
    {
     "name": "stdout",
     "output_type": "stream",
     "text": [
      "[[ 0.  0.  0.  0.  1.  0.  0.  0.  0.  0.  0.]\n",
      " [ 0.  0.  0.  1.  0.  0.  0.  0.  0.  0.  0.]\n",
      " [ 0.  0.  0.  0.  0.  1.  0.  0.  0.  0.  0.]\n",
      " [ 0.  0.  0.  1.  0.  0.  0.  0.  0.  0.  0.]\n",
      " [ 0.  0.  0.  0.  0.  0.  1.  0.  0.  0.  0.]\n",
      " [ 0.  0.  0.  0.  0.  1.  0.  0.  0.  0.  0.]]\n"
     ]
    },
    {
     "data": {
      "image/png": "[encoded data removed]",
      "text/plain": [
       "<matplotlib.figure.Figure at 0x11db398d0>"
      ]
     },
     "metadata": {},
     "output_type": "display_data"
    },
    {
     "name": "stdout",
     "output_type": "stream",
     "text": [
      "[[ 0.  1.  0.  0.  0.  0.  0.  0.  0.  0.  0.]\n",
      " [ 0.  0.  0.  0.  0.  0.  0.  1.  0.  0.  0.]\n",
      " [ 0.  0.  1.  0.  0.  0.  0.  0.  0.  0.  0.]\n",
      " [ 0.  0.  0.  0.  0.  0.  0.  0.  1.  0.  0.]\n",
      " [ 0.  0.  0.  0.  0.  0.  0.  0.  0.  0.  1.]\n",
      " [ 0.  0.  0.  0.  1.  0.  0.  0.  0.  0.  0.]]\n"
     ]
    },
    {
     "data": {
      "image/png": "[encoded data removed]",
      "text/plain": [
       "<matplotlib.figure.Figure at 0x109dd7f60>"
      ]
     },
     "metadata": {},
     "output_type": "display_data"
    },
    {
     "name": "stdout",
     "output_type": "stream",
     "text": [
      "[[ 0.  0.  0.  0.  0.  0.  1.  0.  0.  0.  0.]\n",
      " [ 0.  0.  0.  0.  0.  0.  0.  0.  0.  1.  0.]\n",
      " [ 0.  0.  0.  0.  1.  0.  0.  0.  0.  0.  0.]\n",
      " [ 0.  0.  0.  0.  0.  0.  0.  0.  0.  0.  1.]\n",
      " [ 0.  0.  0.  0.  0.  0.  0.  0.  0.  0.  1.]\n",
      " [ 0.  0.  0.  1.  0.  0.  0.  0.  0.  0.  0.]]\n"
     ]
    },
    {
     "data": {
      "image/png": "[encoded data removed]",
      "text/plain": [
       "<matplotlib.figure.Figure at 0x124f1cda0>"
      ]
     },
     "metadata": {},
     "output_type": "display_data"
    },
    {
     "name": "stdout",
     "output_type": "stream",
     "text": [
      "[[ 1.  0.  0.  0.  0.  0.  0.  0.  0.  0.  0.]\n",
      " [ 0.  0.  0.  0.  0.  0.  0.  0.  0.  1.  0.]\n",
      " [ 0.  1.  0.  0.  0.  0.  0.  0.  0.  0.  0.]\n",
      " [ 0.  1.  0.  0.  0.  0.  0.  0.  0.  0.  0.]\n",
      " [ 0.  0.  1.  0.  0.  0.  0.  0.  0.  0.  0.]\n",
      " [ 0.  0.  0.  0.  0.  1.  0.  0.  0.  0.  0.]]\n"
     ]
    },
    {
     "data": {
      "image/png": "[encoded data removed]",
      "text/plain": [
       "<matplotlib.figure.Figure at 0x124fb2358>"
      ]
     },
     "metadata": {},
     "output_type": "display_data"
    },
    {
     "name": "stdout",
     "output_type": "stream",
     "text": [
      "[[ 0.  0.  0.  0.  1.  0.  0.  0.  0.  0.  0.]\n",
      " [ 0.  0.  0.  1.  0.  0.  0.  0.  0.  0.  0.]\n",
      " [ 0.  0.  0.  0.  0.  0.  0.  0.  0.  0.  1.]\n",
      " [ 0.  0.  0.  0.  0.  0.  0.  0.  0.  0.  1.]\n",
      " [ 0.  0.  0.  0.  0.  0.  0.  0.  0.  0.  1.]\n",
      " [ 0.  0.  1.  0.  0.  0.  0.  0.  0.  0.  0.]]\n"
     ]
    },
    {
     "data": {
      "image/png": "[encoded data removed]",
      "text/plain": [
       "<matplotlib.figure.Figure at 0x125064e48>"
      ]
     },
     "metadata": {},
     "output_type": "display_data"
    },
    {
     "name": "stdout",
     "output_type": "stream",
     "text": [
      "[[ 0.  0.  1.  0.  0.  0.  0.  0.  0.  0.  0.]\n",
      " [ 0.  0.  0.  0.  0.  0.  0.  1.  0.  0.  0.]\n",
      " [ 0.  0.  0.  1.  0.  0.  0.  0.  0.  0.  0.]\n",
      " [ 0.  0.  0.  0.  0.  0.  0.  0.  1.  0.  0.]\n",
      " [ 0.  0.  0.  0.  0.  0.  1.  0.  0.  0.  0.]\n",
      " [ 0.  0.  0.  0.  0.  1.  0.  0.  0.  0.  0.]]\n"
     ]
    },
    {
     "data": {
      "image/png": "[encoded data removed]",
      "text/plain": [
       "<matplotlib.figure.Figure at 0x12511ae10>"
      ]
     },
     "metadata": {},
     "output_type": "display_data"
    },
    {
     "name": "stdout",
     "output_type": "stream",
     "text": [
      "[[ 0.  0.  0.  0.  0.  0.  0.  0.  0.  1.  0.]\n",
      " [ 1.  0.  0.  0.  0.  0.  0.  0.  0.  0.  0.]\n",
      " [ 0.  0.  0.  0.  0.  1.  0.  0.  0.  0.  0.]\n",
      " [ 0.  0.  0.  0.  0.  0.  1.  0.  0.  0.  0.]\n",
      " [ 1.  0.  0.  0.  0.  0.  0.  0.  0.  0.  0.]\n",
      " [ 0.  0.  0.  0.  0.  1.  0.  0.  0.  0.  0.]]\n"
     ]
    },
    {
     "data": {
      "image/png": "[encoded data removed]",
      "text/plain": [
       "<matplotlib.figure.Figure at 0x125210cf8>"
      ]
     },
     "metadata": {},
     "output_type": "display_data"
    },
    {
     "name": "stdout",
     "output_type": "stream",
     "text": [
      "[[ 0.  0.  0.  0.  0.  0.  0.  1.  0.  0.  0.]\n",
      " [ 0.  0.  0.  0.  0.  0.  1.  0.  0.  0.  0.]\n",
      " [ 0.  1.  0.  0.  0.  0.  0.  0.  0.  0.  0.]\n",
      " [ 0.  0.  0.  0.  0.  0.  0.  0.  1.  0.  0.]\n",
      " [ 0.  0.  0.  0.  0.  0.  0.  1.  0.  0.  0.]\n",
      " [ 0.  0.  0.  0.  0.  1.  0.  0.  0.  0.  0.]]\n"
     ]
    },
    {
     "data": {
      "image/png": "[encoded data removed]",
      "text/plain": [
       "<matplotlib.figure.Figure at 0x125297f98>"
      ]
     },
     "metadata": {},
     "output_type": "display_data"
    },
    {
     "name": "stdout",
     "output_type": "stream",
     "text": [
      "[[ 0.  0.  0.  0.  0.  0.  0.  0.  0.  1.  0.]\n",
      " [ 0.  0.  0.  1.  0.  0.  0.  0.  0.  0.  0.]\n",
      " [ 0.  0.  0.  0.  0.  0.  0.  0.  0.  1.  0.]\n",
      " [ 0.  0.  0.  0.  0.  0.  0.  0.  1.  0.  0.]\n",
      " [ 0.  0.  0.  0.  0.  0.  0.  0.  0.  0.  1.]\n",
      " [ 0.  0.  0.  0.  1.  0.  0.  0.  0.  0.  0.]]\n"
     ]
    },
    {
     "data": {
      "image/png": "[encoded data removed]",
      "text/plain": [
       "<matplotlib.figure.Figure at 0x125355668>"
      ]
     },
     "metadata": {},
     "output_type": "display_data"
    },
    {
     "name": "stdout",
     "output_type": "stream",
     "text": [
      "[[ 0.  0.  0.  0.  0.  1.  0.  0.  0.  0.  0.]\n",
      " [ 0.  0.  0.  0.  0.  0.  0.  0.  0.  1.  0.]\n",
      " [ 0.  0.  0.  0.  0.  0.  0.  0.  0.  0.  1.]\n",
      " [ 0.  0.  0.  0.  0.  0.  0.  0.  0.  0.  1.]\n",
      " [ 0.  0.  0.  0.  0.  0.  0.  0.  0.  0.  1.]\n",
      " [ 0.  0.  1.  0.  0.  0.  0.  0.  0.  0.  0.]]\n"
     ]
    },
    {
     "data": {
      "image/png": "[encoded data removed]",
      "text/plain": [
       "<matplotlib.figure.Figure at 0x1252a0550>"
      ]
     },
     "metadata": {},
     "output_type": "display_data"
    },
    {
     "name": "stdout",
     "output_type": "stream",
     "text": [
      "[[ 0.  0.  0.  1.  0.  0.  0.  0.  0.  0.  0.]\n",
      " [ 0.  0.  0.  0.  0.  0.  0.  0.  0.  0.  1.]\n",
      " [ 0.  0.  0.  0.  0.  0.  0.  0.  0.  0.  1.]\n",
      " [ 0.  0.  0.  0.  0.  0.  0.  0.  0.  0.  1.]\n",
      " [ 0.  0.  0.  0.  0.  0.  0.  0.  0.  0.  1.]\n",
      " [ 0.  1.  0.  0.  0.  0.  0.  0.  0.  0.  0.]]\n"
     ]
    },
    {
     "data": {
      "image/png": "[encoded data removed]",
      "text/plain": [
       "<matplotlib.figure.Figure at 0x12504f7b8>"
      ]
     },
     "metadata": {},
     "output_type": "display_data"
    },
    {
     "name": "stdout",
     "output_type": "stream",
     "text": [
      "[[ 0.  0.  0.  1.  0.  0.  0.  0.  0.  0.  0.]\n",
      " [ 1.  0.  0.  0.  0.  0.  0.  0.  0.  0.  0.]\n",
      " [ 0.  0.  0.  0.  0.  0.  0.  1.  0.  0.  0.]\n",
      " [ 0.  0.  0.  0.  1.  0.  0.  0.  0.  0.  0.]\n",
      " [ 0.  0.  0.  0.  0.  0.  0.  0.  0.  1.  0.]\n",
      " [ 0.  0.  0.  0.  0.  1.  0.  0.  0.  0.  0.]]\n"
     ]
    },
    {
     "data": {
      "image/png": "[encoded data removed]",
      "text/plain": [
       "<matplotlib.figure.Figure at 0x112a9db70>"
      ]
     },
     "metadata": {},
     "output_type": "display_data"
    },
    {
     "name": "stdout",
     "output_type": "stream",
     "text": [
      "[[ 0.  0.  0.  0.  0.  0.  0.  0.  1.  0.  0.]\n",
      " [ 1.  0.  0.  0.  0.  0.  0.  0.  0.  0.  0.]\n",
      " [ 0.  0.  0.  0.  0.  0.  0.  0.  0.  1.  0.]\n",
      " [ 0.  0.  0.  0.  1.  0.  0.  0.  0.  0.  0.]\n",
      " [ 0.  1.  0.  0.  0.  0.  0.  0.  0.  0.  0.]\n",
      " [ 0.  0.  0.  0.  0.  1.  0.  0.  0.  0.  0.]]\n"
     ]
    },
    {
     "data": {
      "image/png": "[encoded data removed]",
      "text/plain": [
       "<matplotlib.figure.Figure at 0x12527ba58>"
      ]
     },
     "metadata": {},
     "output_type": "display_data"
    },
    {
     "name": "stdout",
     "output_type": "stream",
     "text": [
      "[[ 0.  0.  0.  0.  1.  0.  0.  0.  0.  0.  0.]\n",
      " [ 0.  0.  0.  0.  1.  0.  0.  0.  0.  0.  0.]\n",
      " [ 0.  0.  0.  0.  0.  0.  0.  0.  0.  0.  1.]\n",
      " [ 0.  0.  0.  0.  0.  0.  0.  0.  0.  0.  1.]\n",
      " [ 0.  0.  0.  0.  0.  0.  0.  0.  0.  0.  1.]\n",
      " [ 0.  0.  1.  0.  0.  0.  0.  0.  0.  0.  0.]]\n"
     ]
    },
    {
     "data": {
      "image/png": "[encoded data removed]",
      "text/plain": [
       "<matplotlib.figure.Figure at 0x125348f60>"
      ]
     },
     "metadata": {},
     "output_type": "display_data"
    },
    {
     "name": "stdout",
     "output_type": "stream",
     "text": [
      "[[ 0.  0.  0.  0.  0.  0.  1.  0.  0.  0.  0.]\n",
      " [ 1.  0.  0.  0.  0.  0.  0.  0.  0.  0.  0.]\n",
      " [ 0.  0.  0.  0.  1.  0.  0.  0.  0.  0.  0.]\n",
      " [ 0.  0.  0.  0.  0.  1.  0.  0.  0.  0.  0.]\n",
      " [ 0.  0.  0.  0.  0.  0.  0.  0.  0.  0.  1.]\n",
      " [ 0.  0.  0.  0.  1.  0.  0.  0.  0.  0.  0.]]\n"
     ]
    },
    {
     "data": {
      "image/png": "[encoded data removed]",
      "text/plain": [
       "<matplotlib.figure.Figure at 0x11ac53fd0>"
      ]
     },
     "metadata": {},
     "output_type": "display_data"
    },
    {
     "name": "stdout",
     "output_type": "stream",
     "text": [
      "[[ 0.  0.  0.  0.  0.  0.  1.  0.  0.  0.  0.]\n",
      " [ 0.  0.  0.  0.  0.  0.  0.  0.  0.  0.  1.]\n",
      " [ 0.  0.  0.  0.  0.  0.  0.  0.  0.  0.  1.]\n",
      " [ 0.  0.  0.  0.  0.  0.  0.  0.  0.  0.  1.]\n",
      " [ 0.  0.  0.  0.  0.  0.  0.  0.  0.  0.  1.]\n",
      " [ 0.  1.  0.  0.  0.  0.  0.  0.  0.  0.  0.]]\n"
     ]
    },
    {
     "data": {
      "image/png": "[encoded data removed]",
      "text/plain": [
       "<matplotlib.figure.Figure at 0x11da31d30>"
      ]
     },
     "metadata": {},
     "output_type": "display_data"
    },
    {
     "name": "stdout",
     "output_type": "stream",
     "text": [
      "[[ 0.  1.  0.  0.  0.  0.  0.  0.  0.  0.  0.]\n",
      " [ 1.  0.  0.  0.  0.  0.  0.  0.  0.  0.  0.]\n",
      " [ 1.  0.  0.  0.  0.  0.  0.  0.  0.  0.  0.]\n",
      " [ 0.  0.  0.  0.  0.  0.  0.  0.  0.  0.  1.]\n",
      " [ 0.  0.  0.  0.  0.  0.  0.  0.  0.  0.  1.]\n",
      " [ 0.  0.  0.  1.  0.  0.  0.  0.  0.  0.  0.]]\n"
     ]
    },
    {
     "data": {
      "image/png": "[encoded data removed]",
      "text/plain": [
       "<matplotlib.figure.Figure at 0x125046f28>"
      ]
     },
     "metadata": {},
     "output_type": "display_data"
    }
   ],
   "source": [
    "for idx in range(20):\n",
    "    print(train_labels[idx])\n",
    "    plt.imshow(train_dataset[idx, :, :, 0], cmap=plt.cm.Greys)\n",
    "    plt.show()"
   ]
  },
  {
   "cell_type": "code",
   "execution_count": 7,
   "metadata": {
    "collapsed": true
   },
   "outputs": [],
   "source": [
    "def reshape(labels):\n",
    "    shape = labels.shape\n",
    "    return labels.swapaxes(0, 1).reshape((shape[0] * shape[1], shape[2]))\n",
    "\n",
    "def accuracy(predictions, labels):\n",
    "    digitized_predictions = np.split(predictions, MAX_DIGITS)\n",
    "    digitized_labels = np.split(labels, MAX_DIGITS + 1)[:-1]\n",
    "    digit_acc = []\n",
    "    acc = np.zeros((digitized_predictions[0].shape[0], ))\n",
    "    for i, (p, l) in enumerate(zip(digitized_predictions, digitized_labels)):\n",
    "        digit_acc.append(100.0 * np.sum(np.argmax(p, axis=1) == np.argmax(l, axis=1)) / p.shape[0])\n",
    "        if i < MAX_DIGITS:\n",
    "            correct = np.argmax(p, axis=1) == np.argmax(l, axis=1)\n",
    "            acc = np.add(acc, correct)\n",
    "    \n",
    "    overall_acc = 100 * np.sum(acc / MAX_DIGITS) / acc.shape[0]\n",
    "    return digit_acc, overall_acc\n",
    "\n",
    "def format_accuracy(accuracy):\n",
    "    return ['%.1f%%' % a for a in accuracy]"
   ]
  },
  {
   "cell_type": "code",
   "execution_count": 8,
   "metadata": {},
   "outputs": [
    {
     "name": "stdout",
     "output_type": "stream",
     "text": [
      "Initialized\n",
      "Minibatch loss at step 0: 17.436087\n",
      "Minibatch accuracies: ['3.1%', '9.4%', '6.2%', '10.9%', '7.8%'] / Overall accuracy: 7.5%\n",
      "Validation accuracies: ['11.3%', '5.7%', '40.3%', '8.5%', '79.7%'] / Overall accuracy: 29.1%\n",
      "Minibatch loss at step 100: 1.935504\n",
      "Minibatch accuracies: ['25.0%', '31.2%', '39.1%', '64.1%', '78.1%'] / Overall accuracy: 47.5%\n",
      "Validation accuracies: ['42.7%', '40.8%', '44.6%', '60.4%', '79.7%'] / Overall accuracy: 53.6%\n",
      "Minibatch loss at step 200: 1.530247\n",
      "Minibatch accuracies: ['35.9%', '56.2%', '59.4%', '54.7%', '81.2%'] / Overall accuracy: 57.5%\n",
      "Validation accuracies: ['64.9%', '62.8%', '54.5%', '60.9%', '79.7%'] / Overall accuracy: 64.6%\n",
      "Minibatch loss at step 300: 1.128097\n",
      "Minibatch accuracies: ['70.3%', '54.7%', '59.4%', '64.1%', '82.8%'] / Overall accuracy: 66.3%\n",
      "Validation accuracies: ['74.0%', '73.2%', '62.4%', '62.0%', '79.7%'] / Overall accuracy: 70.2%\n",
      "Minibatch loss at step 400: 0.981605\n",
      "Minibatch accuracies: ['70.3%', '67.2%', '62.5%', '62.5%', '79.7%'] / Overall accuracy: 68.4%\n",
      "Validation accuracies: ['79.7%', '77.8%', '68.5%', '62.7%', '79.8%'] / Overall accuracy: 73.7%\n",
      "Minibatch loss at step 500: 1.028839\n",
      "Minibatch accuracies: ['68.8%', '64.1%', '54.7%', '56.2%', '79.7%'] / Overall accuracy: 64.7%\n",
      "Validation accuracies: ['82.0%', '82.0%', '73.0%', '63.2%', '79.9%'] / Overall accuracy: 76.0%\n",
      "Minibatch loss at step 600: 0.857408\n",
      "Minibatch accuracies: ['73.4%', '68.8%', '70.3%', '60.9%', '78.1%'] / Overall accuracy: 70.3%\n",
      "Validation accuracies: ['84.7%', '84.8%', '76.3%', '64.1%', '80.0%'] / Overall accuracy: 78.0%\n",
      "Minibatch loss at step 700: 0.725817\n",
      "Minibatch accuracies: ['85.9%', '71.9%', '60.9%', '57.8%', '82.8%'] / Overall accuracy: 71.9%\n",
      "Validation accuracies: ['85.6%', '86.6%', '79.8%', '64.4%', '79.9%'] / Overall accuracy: 79.3%\n",
      "Minibatch loss at step 800: 0.707682\n",
      "Minibatch accuracies: ['73.4%', '79.7%', '71.9%', '68.8%', '79.7%'] / Overall accuracy: 74.7%\n",
      "Validation accuracies: ['87.5%', '87.6%', '81.7%', '65.4%', '80.2%'] / Overall accuracy: 80.5%\n",
      "Minibatch loss at step 900: 0.698146\n",
      "Minibatch accuracies: ['75.0%', '81.2%', '68.8%', '67.2%', '85.9%'] / Overall accuracy: 75.6%\n",
      "Validation accuracies: ['88.0%', '89.1%', '83.2%', '66.4%', '80.2%'] / Overall accuracy: 81.4%\n",
      "Minibatch loss at step 1000: 0.674625\n",
      "Minibatch accuracies: ['82.8%', '76.6%', '76.6%', '60.9%', '76.6%'] / Overall accuracy: 74.7%\n",
      "Validation accuracies: ['88.8%', '89.5%', '85.1%', '66.8%', '80.4%'] / Overall accuracy: 82.1%\n",
      "Minibatch loss at step 1100: 0.611443\n",
      "Minibatch accuracies: ['82.8%', '81.2%', '68.8%', '65.6%', '79.7%'] / Overall accuracy: 75.6%\n",
      "Validation accuracies: ['89.5%', '90.1%', '85.4%', '66.2%', '80.3%'] / Overall accuracy: 82.3%\n",
      "Minibatch loss at step 1200: 0.791282\n",
      "Minibatch accuracies: ['71.9%', '76.6%', '75.0%', '62.5%', '78.1%'] / Overall accuracy: 72.8%\n",
      "Validation accuracies: ['89.8%', '90.9%', '87.1%', '67.7%', '80.4%'] / Overall accuracy: 83.2%\n",
      "Minibatch loss at step 1300: 0.568294\n",
      "Minibatch accuracies: ['78.1%', '87.5%', '81.2%', '65.6%', '78.1%'] / Overall accuracy: 78.1%\n",
      "Validation accuracies: ['90.0%', '91.0%', '87.1%', '67.3%', '80.3%'] / Overall accuracy: 83.1%\n",
      "Minibatch loss at step 1400: 0.512299\n",
      "Minibatch accuracies: ['79.7%', '89.1%', '84.4%', '67.2%', '78.1%'] / Overall accuracy: 79.7%\n",
      "Validation accuracies: ['90.5%', '91.2%', '87.8%', '68.0%', '80.4%'] / Overall accuracy: 83.6%\n",
      "Minibatch loss at step 1500: 0.679672\n",
      "Minibatch accuracies: ['70.3%', '87.5%', '68.8%', '68.8%', '84.4%'] / Overall accuracy: 75.9%\n",
      "Validation accuracies: ['90.9%', '91.8%', '88.3%', '68.3%', '80.4%'] / Overall accuracy: 83.9%\n",
      "Minibatch loss at step 1600: 0.582359\n",
      "Minibatch accuracies: ['81.2%', '87.5%', '82.8%', '68.8%', '79.7%'] / Overall accuracy: 80.0%\n",
      "Validation accuracies: ['91.2%', '91.6%', '88.7%', '68.8%', '80.7%'] / Overall accuracy: 84.2%\n",
      "Minibatch loss at step 1700: 0.585907\n",
      "Minibatch accuracies: ['78.1%', '92.2%', '71.9%', '51.6%', '79.7%'] / Overall accuracy: 74.7%\n",
      "Validation accuracies: ['91.3%', '91.8%', '89.1%', '69.0%', '80.8%'] / Overall accuracy: 84.4%\n",
      "Minibatch loss at step 1800: 0.680781\n",
      "Minibatch accuracies: ['73.4%', '81.2%', '79.7%', '62.5%', '85.9%'] / Overall accuracy: 76.6%\n",
      "Validation accuracies: ['91.8%', '92.4%', '89.7%', '69.0%', '80.6%'] / Overall accuracy: 84.7%\n",
      "Minibatch loss at step 1900: 0.503123\n",
      "Minibatch accuracies: ['92.2%', '85.9%', '85.9%', '56.2%', '78.1%'] / Overall accuracy: 79.7%\n",
      "Validation accuracies: ['91.9%', '92.5%', '89.9%', '69.8%', '80.8%'] / Overall accuracy: 85.0%\n",
      "Minibatch loss at step 2000: 0.424760\n",
      "Minibatch accuracies: ['92.2%', '89.1%', '82.8%', '57.8%', '84.4%'] / Overall accuracy: 81.2%\n",
      "Validation accuracies: ['92.1%', '92.7%', '90.2%', '70.2%', '80.8%'] / Overall accuracy: 85.2%\n",
      "Minibatch loss at step 2100: 0.492498\n",
      "Minibatch accuracies: ['85.9%', '92.2%', '71.9%', '68.8%', '76.6%'] / Overall accuracy: 79.1%\n",
      "Validation accuracies: ['92.2%', '92.6%', '90.4%', '70.3%', '80.7%'] / Overall accuracy: 85.3%\n",
      "Minibatch loss at step 2200: 0.619879\n",
      "Minibatch accuracies: ['81.2%', '79.7%', '81.2%', '59.4%', '82.8%'] / Overall accuracy: 76.9%\n",
      "Validation accuracies: ['92.5%', '92.8%', '90.5%', '70.3%', '80.8%'] / Overall accuracy: 85.4%\n",
      "Minibatch loss at step 2300: 0.538696\n",
      "Minibatch accuracies: ['84.4%', '92.2%', '73.4%', '67.2%', '79.7%'] / Overall accuracy: 79.4%\n",
      "Validation accuracies: ['92.4%', '92.8%', '90.7%', '70.3%', '80.7%'] / Overall accuracy: 85.4%\n",
      "Minibatch loss at step 2400: 0.648573\n",
      "Minibatch accuracies: ['81.2%', '81.2%', '81.2%', '56.2%', '82.8%'] / Overall accuracy: 76.6%\n",
      "Validation accuracies: ['92.5%', '92.9%', '91.1%', '70.5%', '80.7%'] / Overall accuracy: 85.5%\n",
      "Minibatch loss at step 2500: 0.495631\n",
      "Minibatch accuracies: ['87.5%', '87.5%', '78.1%', '59.4%', '78.1%'] / Overall accuracy: 78.1%\n",
      "Validation accuracies: ['92.7%', '93.0%', '90.9%', '70.7%', '80.8%'] / Overall accuracy: 85.6%\n",
      "Minibatch loss at step 2600: 0.406050\n",
      "Minibatch accuracies: ['93.8%', '92.2%', '78.1%', '70.3%', '84.4%'] / Overall accuracy: 83.7%\n",
      "Validation accuracies: ['92.8%', '93.2%', '91.1%', '70.9%', '81.0%'] / Overall accuracy: 85.8%\n",
      "Minibatch loss at step 2700: 0.424229\n",
      "Minibatch accuracies: ['85.9%', '89.1%', '87.5%', '73.4%', '92.2%'] / Overall accuracy: 85.6%\n",
      "Validation accuracies: ['92.9%', '93.2%', '91.1%', '71.1%', '81.0%'] / Overall accuracy: 85.8%\n",
      "Minibatch loss at step 2800: 0.423497\n",
      "Minibatch accuracies: ['84.4%', '82.8%', '84.4%', '68.8%', '79.7%'] / Overall accuracy: 80.0%\n",
      "Validation accuracies: ['93.0%', '93.3%', '91.2%', '71.2%', '80.9%'] / Overall accuracy: 85.9%\n",
      "Minibatch loss at step 2900: 0.383731\n",
      "Minibatch accuracies: ['89.1%', '95.3%', '84.4%', '64.1%', '81.2%'] / Overall accuracy: 82.8%\n",
      "Validation accuracies: ['93.0%', '93.4%', '91.3%', '71.3%', '80.8%'] / Overall accuracy: 86.0%\n",
      "Minibatch loss at step 3000: 0.393148\n",
      "Minibatch accuracies: ['89.1%', '84.4%', '98.4%', '71.9%', '90.6%'] / Overall accuracy: 86.9%\n",
      "Validation accuracies: ['93.0%', '93.4%', '91.5%', '71.8%', '80.9%'] / Overall accuracy: 86.1%\n",
      "Test accuracies: ['96.5%', '97.0%', '94.9%', '72.7%', '81.3%'] / Overall accuracy: 88.5%\n"
     ]
    }
   ],
   "source": [
    "BATCH_SIZE = 64\n",
    "PATCH_SIZE = 5\n",
    "DEPTH = 16\n",
    "\n",
    "IMAGE_LENGTH = IMAGE_SIZE * MAX_DIGITS\n",
    "\n",
    "STRIDE = 1\n",
    "POOL_STRIDE = 2\n",
    "POOL_KERNEL_SIZE = 2\n",
    "\n",
    "NUM_HIDDEN = 256\n",
    "\n",
    "NUM_STEPS = 3001\n",
    "\n",
    "graph = tf.Graph()\n",
    "\n",
    "with graph.as_default():\n",
    "    \n",
    "    tf_train_dataset = tf.placeholder(\n",
    "        dtype=tf.float32,\n",
    "        shape=(BATCH_SIZE, IMAGE_SIZE, IMAGE_LENGTH, NUM_CHANNELS)\n",
    "    )\n",
    "    \n",
    "    tf_train_labels = tf.placeholder(\n",
    "        dtype=tf.float32,\n",
    "        shape=(BATCH_SIZE * (MAX_DIGITS + 1), NUM_LABELS)\n",
    "    )\n",
    "    \n",
    "    tf_valid_dataset = tf.constant(valid_dataset)\n",
    "    tf_test_dataset = tf.constant(test_dataset)\n",
    "    \n",
    "    loss_weights = tf.constant([10, 10, 5, 1, 1], dtype=tf.float32)\n",
    "    \n",
    "    keep_prob = tf.placeholder(dtype=tf.float32)\n",
    "    \n",
    "    global_step = tf.Variable(0, trainable=False)\n",
    "    initial_learning_rate = 0.05\n",
    "    learning_rate = tf.train.exponential_decay(\n",
    "        learning_rate=initial_learning_rate,\n",
    "        global_step=global_step,\n",
    "        decay_steps=50,\n",
    "        decay_rate=0.96,\n",
    "        staircase=True\n",
    "    )\n",
    "    \n",
    "    l01_weights = tf.Variable(tf.truncated_normal(\n",
    "        [PATCH_SIZE, PATCH_SIZE, NUM_CHANNELS, DEPTH],\n",
    "        stddev=0.1\n",
    "    ))\n",
    "    l01_biases = tf.Variable(tf.zeros([DEPTH]))\n",
    "    \n",
    "    l02_weights = tf.Variable(tf.truncated_normal(\n",
    "        [PATCH_SIZE, PATCH_SIZE, DEPTH, DEPTH],\n",
    "        stddev=0.1\n",
    "    ))\n",
    "    l02_biases = tf.Variable(tf.constant(1.0, shape=[DEPTH]))\n",
    "    '''\n",
    "    li01_1_1x1_weights = tf.Variable(tf.truncated_normal(\n",
    "        [1, 1, 16, 8],\n",
    "        stddev=0.1\n",
    "    ))\n",
    "    li01_1_1x1_biases = tf.Variable(tf.constant(1.0, shape=[8]))\n",
    "    \n",
    "    li01_2_1x1_weights = tf.Variable(tf.truncated_normal(\n",
    "        [1, 1, 16, 8],\n",
    "        stddev=0.1\n",
    "    ))\n",
    "    li01_2_1x1_biases = tf.Variable(tf.constant(1.0, shape=[8]))\n",
    "\n",
    "    li01_2_3x3_weights = tf.Variable(tf.truncated_normal(\n",
    "        [3, 3, 8, 16],\n",
    "        stddev=0.1\n",
    "    ))\n",
    "    li01_2_3x3_biases = tf.Variable(tf.constant(1.0, shape=[16]))\n",
    "    \n",
    "    li01_3_1x1_weights = tf.Variable(tf.truncated_normal(\n",
    "        [1, 1, 16, 8],\n",
    "        stddev=0.1\n",
    "    ))\n",
    "    li01_3_1x1_biases = tf.Variable(tf.constant(1.0, shape=[8]))\n",
    "\n",
    "    li01_3_5x5_weights = tf.Variable(tf.truncated_normal(\n",
    "        [5, 5, 8, 16],\n",
    "        stddev=0.1\n",
    "    ))\n",
    "    li01_3_5x5_biases = tf.Variable(tf.constant(1.0, shape=[16]))\n",
    "\n",
    "    li01_4_1x1_weights = tf.Variable(tf.truncated_normal(\n",
    "        [1, 1, 16, 16],\n",
    "        stddev=0.1\n",
    "    ))\n",
    "    li01_4_1x1_biases = tf.Variable(tf.constant(1.0, shape=[16]))\n",
    "    '''\n",
    "    \n",
    "    l03_weights = tf.Variable(tf.truncated_normal(\n",
    "        [IMAGE_SIZE // 4 * IMAGE_LENGTH // 4 * 16, NUM_HIDDEN],\n",
    "        stddev=0.1\n",
    "    ))\n",
    "    l03_biases = tf.Variable(tf.constant(1.0, shape=[NUM_HIDDEN]))\n",
    "    \n",
    "    lc_d1_weights = tf.Variable(tf.truncated_normal(\n",
    "        [NUM_HIDDEN, NUM_LABELS],\n",
    "        stddev=0.1\n",
    "    ))\n",
    "    lc_d1_biases = tf.Variable(tf.constant(1.0, shape=[NUM_LABELS]))\n",
    "\n",
    "    lc_d2_weights = tf.Variable(tf.truncated_normal(\n",
    "        [NUM_HIDDEN, NUM_LABELS],\n",
    "        stddev=0.1\n",
    "    ))\n",
    "    lc_d2_biases = tf.Variable(tf.constant(1.0, shape=[NUM_LABELS]))\n",
    "    \n",
    "    lc_d3_weights = tf.Variable(tf.truncated_normal(\n",
    "        [NUM_HIDDEN, NUM_LABELS],\n",
    "        stddev=0.1\n",
    "    ))\n",
    "    lc_d3_biases = tf.Variable(tf.constant(1.0, shape=[NUM_LABELS]))\n",
    "\n",
    "    lc_d4_weights = tf.Variable(tf.truncated_normal(\n",
    "        [NUM_HIDDEN, NUM_LABELS],\n",
    "        stddev=0.1\n",
    "    ))\n",
    "    lc_d4_biases = tf.Variable(tf.constant(1.0, shape=[NUM_LABELS]))\n",
    "    \n",
    "    lc_d5_weights = tf.Variable(tf.truncated_normal(\n",
    "        [NUM_HIDDEN, NUM_LABELS],\n",
    "        stddev=0.1\n",
    "    ))\n",
    "    lc_d5_biases = tf.Variable(tf.constant(1.0, shape=[NUM_LABELS]))\n",
    "\n",
    "    lc_length_weights = tf.Variable(tf.truncated_normal(\n",
    "        [NUM_HIDDEN, NUM_LABELS],\n",
    "        stddev=0.1\n",
    "    ))\n",
    "    lc_length_biases = tf.Variable(tf.constant(1.0, shape=[NUM_LABELS]))\n",
    "    \n",
    "    def model(data):\n",
    "        \n",
    "        conv = tf.nn.conv2d(\n",
    "            input=data,\n",
    "            filter=l01_weights,\n",
    "            strides=[1, STRIDE, STRIDE, 1],\n",
    "            padding='SAME'\n",
    "        )\n",
    "        hidden = tf.nn.relu(conv + l01_biases)\n",
    "        pool = tf.nn.max_pool(\n",
    "            value=hidden,\n",
    "            ksize=[1, POOL_KERNEL_SIZE, POOL_KERNEL_SIZE, 1],\n",
    "            strides=[1, POOL_STRIDE, POOL_STRIDE, 1],\n",
    "            padding='VALID'\n",
    "        )\n",
    "        \n",
    "        conv = tf.nn.conv2d(\n",
    "            input=pool,\n",
    "            filter=l02_weights,\n",
    "            strides=[1, STRIDE, STRIDE, 1],\n",
    "            padding='SAME'\n",
    "        )\n",
    "        hidden = tf.nn.relu(conv + l02_biases)\n",
    "        pool = tf.nn.max_pool(\n",
    "            value=hidden,\n",
    "            ksize=[1, POOL_KERNEL_SIZE, POOL_KERNEL_SIZE, 1],\n",
    "            strides=[1, POOL_STRIDE, POOL_STRIDE, 1],\n",
    "            padding='VALID'\n",
    "        )\n",
    "        \n",
    "        shape = pool.get_shape().as_list()\n",
    "        reshape = tf.reshape(pool, [shape[0], shape[1] * shape[2] * shape[3]])\n",
    "        \n",
    "        hidden = tf.nn.relu(tf.matmul(reshape, l03_weights) + l03_biases)\n",
    "        dropout = tf.nn.dropout(hidden, keep_prob)\n",
    "        return (\n",
    "            tf.matmul(dropout, lc_d1_weights) + lc_d1_biases,\n",
    "            tf.matmul(dropout, lc_d2_weights) + lc_d2_biases,\n",
    "            tf.matmul(dropout, lc_d3_weights) + lc_d3_biases,\n",
    "            tf.matmul(dropout, lc_d4_weights) + lc_d4_biases,\n",
    "            tf.matmul(dropout, lc_d5_weights) + lc_d5_biases\n",
    "        )\n",
    "    \n",
    "    logits_d1, logits_d2, logits_d3, logits_d4, logits_d5 = model(tf_train_dataset)\n",
    "        \n",
    "    labels_d1, labels_d2, labels_d3, labels_d4, labels_d5, _ = tf.split(\n",
    "        tf_train_labels,\n",
    "        num_or_size_splits=6,\n",
    "        axis=0\n",
    "    )\n",
    "    \n",
    "    loss_d1 = tf.nn.softmax_cross_entropy_with_logits(labels=labels_d1, logits=logits_d1)\n",
    "    loss_d2 = tf.nn.softmax_cross_entropy_with_logits(labels=labels_d2, logits=logits_d2)\n",
    "    loss_d3 = tf.nn.softmax_cross_entropy_with_logits(labels=labels_d3, logits=logits_d3)\n",
    "    loss_d4 = tf.nn.softmax_cross_entropy_with_logits(labels=labels_d4, logits=logits_d4)\n",
    "    loss_d5 = tf.nn.softmax_cross_entropy_with_logits(labels=labels_d5, logits=logits_d5)\n",
    " \n",
    "    loss = tf.reduce_sum(loss_weights * tf.stack(\n",
    "        (\n",
    "            tf.reduce_mean(loss_d1),\n",
    "            tf.reduce_mean(loss_d2),\n",
    "            tf.reduce_mean(loss_d3),\n",
    "            tf.reduce_mean(loss_d4),\n",
    "            tf.reduce_mean(loss_d5)\n",
    "        ),\n",
    "        axis=0\n",
    "    )) / tf.reduce_sum(loss_weights)\n",
    "    \n",
    "    optimizer = tf.train.GradientDescentOptimizer(learning_rate).minimize(loss, global_step=global_step)\n",
    "\n",
    "    train_prediction = tf.concat(\n",
    "        (\n",
    "            tf.nn.softmax(logits_d1),\n",
    "            tf.nn.softmax(logits_d2),\n",
    "            tf.nn.softmax(logits_d3),\n",
    "            tf.nn.softmax(logits_d4),\n",
    "            tf.nn.softmax(logits_d5)\n",
    "        ),\n",
    "        axis=0\n",
    "    )\n",
    "    \n",
    "    v_logits_d1, v_logits_d2, v_logits_d3, v_logits_d4, v_logits_d5 = model(tf_valid_dataset)\n",
    "    valid_prediction = tf.concat(\n",
    "        (\n",
    "            tf.nn.softmax(v_logits_d1),\n",
    "            tf.nn.softmax(v_logits_d2),\n",
    "            tf.nn.softmax(v_logits_d3),\n",
    "            tf.nn.softmax(v_logits_d4),\n",
    "            tf.nn.softmax(v_logits_d5)\n",
    "        ),\n",
    "        axis=0\n",
    "    )\n",
    "    \n",
    "    t_logits_d1, t_logits_d2, t_logits_d3, t_logits_d4, t_logits_d5 = model(tf_test_dataset)\n",
    "    test_prediction = tf.concat(\n",
    "        (\n",
    "            tf.nn.softmax(t_logits_d1),\n",
    "            tf.nn.softmax(t_logits_d2),\n",
    "            tf.nn.softmax(t_logits_d3),\n",
    "            tf.nn.softmax(t_logits_d4),\n",
    "            tf.nn.softmax(t_logits_d5)\n",
    "        ),\n",
    "        axis=0\n",
    "    )\n",
    "    \n",
    "with tf.Session(graph=graph) as session:\n",
    "    \n",
    "    tf.global_variables_initializer().run()\n",
    "    print('Initialized')\n",
    "    \n",
    "    for step in range(NUM_STEPS):\n",
    "        \n",
    "        offset = (step * BATCH_SIZE) % (train_labels.shape[0] - BATCH_SIZE)\n",
    "        batch_data = train_dataset[offset:(offset+BATCH_SIZE), :, :, :]\n",
    "        batch_labels = reshape(train_labels[offset:(offset+BATCH_SIZE), :, :])\n",
    "        \n",
    "        feed_dict = {\n",
    "            tf_train_dataset: batch_data,\n",
    "            tf_train_labels: batch_labels,\n",
    "            keep_prob: 0.5\n",
    "        }\n",
    "        \n",
    "        _, l, predictions = session.run([optimizer, loss, train_prediction], feed_dict=feed_dict)\n",
    "        \n",
    "        if (step % 100 == 0):\n",
    "            train_accuracies = accuracy(predictions, batch_labels)\n",
    "            valid_accuracies = accuracy(valid_prediction.eval({keep_prob: 1.0}), reshape(valid_labels))\n",
    "            print('Minibatch loss at step %d: %f' % (step, l))\n",
    "            print('Minibatch accuracies: %s / Overall accuracy: %.1f%%' % (format_accuracy(train_accuracies[0]), train_accuracies[1]))\n",
    "            print('Validation accuracies: %s / Overall accuracy: %.1f%%' % (format_accuracy(valid_accuracies[0]), valid_accuracies[1]))\n",
    "            \n",
    "    test_accuracies = accuracy(test_prediction.eval({keep_prob: 1.0}), reshape(test_labels))\n",
    "    print('Test accuracies: %s / Overall accuracy: %.1f%%' % (format_accuracy(test_accuracies[0]), test_accuracies[1]))\n",
    "    \n",
    "    "
   ]
  },
  {
   "cell_type": "markdown",
   "metadata": {},
   "source": [
    "## SVHN Dataset"
   ]
  },
  {
   "cell_type": "code",
   "execution_count": 9,
   "metadata": {},
   "outputs": [
    {
     "name": "stdout",
     "output_type": "stream",
     "text": [
      "Found and verified ./train.tar.gz\n",
      "Found and verified ./test.tar.gz\n",
      "Found and verified ./extra.tar.gz\n",
      "./train already present - Skipping extraction of ./train.tar.gz.\n",
      "./test already present - Skipping extraction of ./test.tar.gz.\n",
      "./extra already present - Skipping extraction of ./extra.tar.gz.\n"
     ]
    }
   ],
   "source": [
    "URL = 'http://ufldl.stanford.edu/housenumbers/'\n",
    "\n",
    "def maybe_extract(filename, force=False):\n",
    "    root = os.path.splitext(os.path.splitext(filename)[0])[0]  # remove .tar.gz\n",
    "    if os.path.isdir(root) and not force:\n",
    "        # You may override by setting force=True.\n",
    "        print('%s already present - Skipping extraction of %s.' % (root, filename))\n",
    "    else:\n",
    "        print('Extracting data for %s. This may take a while. Please wait.' % root)\n",
    "        tar = tarfile.open(filename)\n",
    "        sys.stdout.flush()\n",
    "        tar.extractall('.')\n",
    "        tar.close()\n",
    "    return root\n",
    "\n",
    "svhn_train_tarfile = maybe_download('train.tar.gz', 404141560)\n",
    "svhn_test_tarfile = maybe_download('test.tar.gz', 276555967)\n",
    "svhn_extra_tarfile = maybe_download('extra.tar.gz', 1955489752)\n",
    "\n",
    "svhn_train_folder = maybe_extract(svhn_train_tarfile)\n",
    "svhn_test_folder = maybe_extract(svhn_test_tarfile)\n",
    "svhn_extra_folder = maybe_extract(svhn_extra_tarfile)"
   ]
  },
  {
   "cell_type": "code",
   "execution_count": 10,
   "metadata": {
    "collapsed": true
   },
   "outputs": [],
   "source": [
    "CWD = os.getcwd()\n",
    "METAFILE = 'digitStruct.mat'\n",
    "\n",
    "def maybe_pickle_metadata(folder, pickle_name, force=False):\n",
    "    pickle_path = os.path.join(CWD, pickle_name)\n",
    "    \n",
    "    if not os.path.isfile(pickle_path) or force:\n",
    "        \n",
    "        metapath = os.path.join(folder, METAFILE)\n",
    "\n",
    "        metadata= {}\n",
    "        metadata['height'] = []\n",
    "        metadata['label'] = []\n",
    "        metadata['left'] = []\n",
    "        metadata['top'] = []\n",
    "        metadata['width'] = []\n",
    "\n",
    "        f = h5py.File(metapath)\n",
    "        def print_attrs(name, obj):\n",
    "            vals = []\n",
    "            if obj.shape[0] == 1:\n",
    "                vals.append(int(obj[0][0]))\n",
    "            else:\n",
    "                for k in range(obj.shape[0]):\n",
    "                    vals.append(int(f[obj[k][0]][0][0]))\n",
    "            metadata[name].append(vals)\n",
    "\n",
    "        for item in f['/digitStruct/bbox']:\n",
    "            f[item[0]].visititems(print_attrs)\n",
    "\n",
    "        with open(pickle_path,'wb') as pf:\n",
    "            pickle.dump(metadata, pf, pickle.HIGHEST_PROTOCOL) \n",
    "            \n",
    "    else:\n",
    "        print('%s already present - Skipping pickle.' % pickle_path)\n",
    "    \n",
    "    return pickle_path"
   ]
  },
  {
   "cell_type": "code",
   "execution_count": 11,
   "metadata": {},
   "outputs": [
    {
     "name": "stdout",
     "output_type": "stream",
     "text": [
      "/Users/yth/apps/101/udacity_deep_learning/train_metadata.pickle already present - Skipping pickle.\n",
      "/Users/yth/apps/101/udacity_deep_learning/test_metadata.pickle already present - Skipping pickle.\n",
      "/Users/yth/apps/101/udacity_deep_learning/extra_metadata.pickle already present - Skipping pickle.\n"
     ]
    }
   ],
   "source": [
    "train_metadata = maybe_pickle_metadata(svhn_train_folder, 'train_metadata.pickle')\n",
    "test_metadata = maybe_pickle_metadata(svhn_test_folder, 'test_metadata.pickle')\n",
    "extra_metadata = maybe_pickle_metadata(svhn_extra_folder, 'extra_metadata.pickle')"
   ]
  },
  {
   "cell_type": "code",
   "execution_count": 12,
   "metadata": {},
   "outputs": [
    {
     "name": "stdout",
     "output_type": "stream",
     "text": [
      "1\n",
      "(array([29929]),)\n"
     ]
    }
   ],
   "source": [
    "with open(train_metadata, \"rb\") as f:\n",
    "    metadata = pickle.load(f)\n",
    "    label_lengths = np.array([len(l) for l in metadata['label']])\n",
    "    print(np.sum(label_lengths > 5))\n",
    "    print(np.where(label_lengths > 5))\n",
    "    # 29930.png has 6 digits, skip it when generating dataset and labels"
   ]
  },
  {
   "cell_type": "code",
   "execution_count": 13,
   "metadata": {
    "collapsed": true
   },
   "outputs": [],
   "source": [
    "IMAGE_SIZE = 32\n",
    "\n",
    "def maybe_generate(folder, metadata, pickle_name, skips, force=False):\n",
    "    pickle_path = os.path.join(CWD, pickle_name)\n",
    "    if not os.path.isfile(pickle_path) or force:\n",
    "        with open(metadata, \"rb\") as f:\n",
    "            metadata = pickle.load(f)\n",
    "            num_samples = len(metadata['label']) - len(skips)\n",
    "            images = np.zeros((num_samples, IMAGE_SIZE, IMAGE_SIZE, 1), dtype=np.float32)\n",
    "            labels = np.zeros((num_samples, MAX_DIGITS + 1, NUM_LABELS), dtype=np.float32)    \n",
    "\n",
    "            for idx in range(num_samples):\n",
    "                if idx not in skips:\n",
    "\n",
    "                    # image files\n",
    "                    image_file = os.path.join(folder, str(idx + 1) + '.png')\n",
    "                    try:\n",
    "                        image = ndimage.imread(image_file).astype(np.float32)\n",
    "                        # convert to greyscale\n",
    "                        grey = np.dot(image, [0.299, 0.587, 0.114])\n",
    "                    except IOError as e:\n",
    "                        print('Could not read:', image_file, ':', e, '- it\\'s ok, skipping.')\n",
    "\n",
    "                    tops = np.array(metadata['top'][idx])\n",
    "                    lefts = np.array(metadata['left'][idx])\n",
    "                    heights = np.array(metadata['height'][idx])\n",
    "                    widths = np.array(metadata['width'][idx])\n",
    "\n",
    "                    bottoms = np.add(tops, heights)\n",
    "                    rights = np.add(lefts, widths)\n",
    "\n",
    "                    top = max(tops.min(), 0)\n",
    "                    left = max(lefts.min(), 0)\n",
    "                    bottom = min(bottoms.max(), grey.shape[0])\n",
    "                    right = min(rights.max(), grey.shape[1])\n",
    "\n",
    "                    # cropped, squared, resized\n",
    "                    cropped = grey[top:bottom, left:right]\n",
    "                    # max_shape = max(cropped.shape)\n",
    "                    # squared = np.zeros((max_shape, max_shape), dtype=np.float32)\n",
    "                    # squared[:bottom-top, :right-left] = cropped\n",
    "                    resized = imresize(cropped, (IMAGE_SIZE, IMAGE_SIZE))\n",
    "\n",
    "                    # normalized\n",
    "                    normalized = (resized - PIXEL_DEPTH / 2) / PIXEL_DEPTH\n",
    "                    normalized = normalized.reshape((IMAGE_SIZE, IMAGE_SIZE, 1))\n",
    "\n",
    "                    images[idx] = normalized\n",
    "\n",
    "                    # labels\n",
    "                    l = np.array(metadata['label'][idx])\n",
    "                    l[l == 10] = 0\n",
    "                    num_digits = l.shape[0]\n",
    "                    num_zeros = MAX_DIGITS - num_digits\n",
    "                    one_hot = np.zeros((MAX_DIGITS + 1, NUM_LABELS), dtype=np.float32)\n",
    "\n",
    "                    if num_zeros:\n",
    "                        l = np.concatenate((l, [10] * num_zeros))\n",
    "\n",
    "                    l = np.concatenate((l, [num_digits]))\n",
    "                    one_hot[np.arange(l.shape[0]), l] = 1\n",
    "\n",
    "                    labels[idx] = one_hot\n",
    "            \n",
    "            with open(pickle_path,'wb') as pf:\n",
    "                pickle.dump([images, labels], pf, pickle.HIGHEST_PROTOCOL) \n",
    "    else:\n",
    "        print('%s already present - Skipping pickle.' % pickle_path)\n",
    "    \n",
    "    return pickle_path"
   ]
  },
  {
   "cell_type": "code",
   "execution_count": 14,
   "metadata": {},
   "outputs": [
    {
     "name": "stdout",
     "output_type": "stream",
     "text": [
      "/Users/yth/apps/101/udacity_deep_learning/train.pickle already present - Skipping pickle.\n",
      "/Users/yth/apps/101/udacity_deep_learning/test.pickle already present - Skipping pickle.\n",
      "/Users/yth/apps/101/udacity_deep_learning/extra.pickle already present - Skipping pickle.\n"
     ]
    }
   ],
   "source": [
    "train_picklefile = maybe_generate(\n",
    "    svhn_train_folder,\n",
    "    train_metadata,\n",
    "    pickle_name='train.pickle',\n",
    "    skips=[29929]\n",
    ")\n",
    "test_picklefile = maybe_generate(\n",
    "    svhn_test_folder,\n",
    "    test_metadata,\n",
    "    pickle_name='test.pickle',\n",
    "    skips=[]\n",
    ")\n",
    "extra_picklefile = maybe_generate(\n",
    "    svhn_extra_folder,\n",
    "    extra_metadata,\n",
    "    pickle_name='extra.pickle',\n",
    "    skips=[]\n",
    ")"
   ]
  },
  {
   "cell_type": "code",
   "execution_count": 15,
   "metadata": {
    "collapsed": true
   },
   "outputs": [],
   "source": [
    "with open(train_picklefile, \"rb\") as f_train, open(test_picklefile, 'rb') as f_test, open(extra_picklefile, 'rb') as f_extra:\n",
    "    train_dataset, train_labels = pickle.load(f_train)\n",
    "    test_dataset, test_labels = pickle.load(f_test)\n",
    "    extra_dataset, extra_labels = pickle.load(f_extra)\n",
    "\n",
    "    train_dataset = np.concatenate((train_dataset, extra_dataset), axis=0)\n",
    "    train_labels = np.concatenate((train_labels, extra_labels), axis=0)\n",
    "\n",
    "    train_dataset, valid_dataset = np.split(train_dataset, [222000])\n",
    "    train_labels, valid_labels = np.split(train_labels, [222000])\n",
    "\n",
    "    del extra_dataset\n",
    "    del extra_labels"
   ]
  },
  {
   "cell_type": "code",
   "execution_count": 16,
   "metadata": {},
   "outputs": [
    {
     "name": "stdout",
     "output_type": "stream",
     "text": [
      "[[ 0.  1.  0.  0.  0.  0.  0.  0.  0.  0.  0.]\n",
      " [ 0.  0.  0.  0.  0.  0.  0.  0.  0.  1.  0.]\n",
      " [ 0.  0.  0.  0.  0.  0.  0.  0.  0.  0.  1.]\n",
      " [ 0.  0.  0.  0.  0.  0.  0.  0.  0.  0.  1.]\n",
      " [ 0.  0.  0.  0.  0.  0.  0.  0.  0.  0.  1.]\n",
      " [ 0.  0.  1.  0.  0.  0.  0.  0.  0.  0.  0.]]\n"
     ]
    },
    {
     "data": {
      "image/png": "[encoded data removed]",
      "text/plain": [
       "<matplotlib.figure.Figure at 0x104af7278>"
      ]
     },
     "metadata": {},
     "output_type": "display_data"
    },
    {
     "name": "stdout",
     "output_type": "stream",
     "text": [
      "[[ 0.  0.  1.  0.  0.  0.  0.  0.  0.  0.  0.]\n",
      " [ 0.  0.  0.  1.  0.  0.  0.  0.  0.  0.  0.]\n",
      " [ 0.  0.  0.  0.  0.  0.  0.  0.  0.  0.  1.]\n",
      " [ 0.  0.  0.  0.  0.  0.  0.  0.  0.  0.  1.]\n",
      " [ 0.  0.  0.  0.  0.  0.  0.  0.  0.  0.  1.]\n",
      " [ 0.  0.  1.  0.  0.  0.  0.  0.  0.  0.  0.]]\n"
     ]
    },
    {
     "data": {
      "image/png": "[encoded data removed]",
      "text/plain": [
       "<matplotlib.figure.Figure at 0x117fe6588>"
      ]
     },
     "metadata": {},
     "output_type": "display_data"
    },
    {
     "name": "stdout",
     "output_type": "stream",
     "text": [
      "[[ 0.  0.  1.  0.  0.  0.  0.  0.  0.  0.  0.]\n",
      " [ 0.  0.  0.  0.  0.  1.  0.  0.  0.  0.  0.]\n",
      " [ 0.  0.  0.  0.  0.  0.  0.  0.  0.  0.  1.]\n",
      " [ 0.  0.  0.  0.  0.  0.  0.  0.  0.  0.  1.]\n",
      " [ 0.  0.  0.  0.  0.  0.  0.  0.  0.  0.  1.]\n",
      " [ 0.  0.  1.  0.  0.  0.  0.  0.  0.  0.  0.]]\n"
     ]
    },
    {
     "data": {
      "image/png": "[encoded data removed]",
      "text/plain": [
       "<matplotlib.figure.Figure at 0x11650c6a0>"
      ]
     },
     "metadata": {},
     "output_type": "display_data"
    },
    {
     "name": "stdout",
     "output_type": "stream",
     "text": [
      "[[ 0.  0.  0.  0.  0.  0.  0.  0.  0.  1.  0.]\n",
      " [ 0.  0.  0.  1.  0.  0.  0.  0.  0.  0.  0.]\n",
      " [ 0.  0.  0.  0.  0.  0.  0.  0.  0.  0.  1.]\n",
      " [ 0.  0.  0.  0.  0.  0.  0.  0.  0.  0.  1.]\n",
      " [ 0.  0.  0.  0.  0.  0.  0.  0.  0.  0.  1.]\n",
      " [ 0.  0.  1.  0.  0.  0.  0.  0.  0.  0.  0.]]\n"
     ]
    },
    {
     "data": {
      "image/png": "[encoded data removed]",
      "text/plain": [
       "<matplotlib.figure.Figure at 0x1165c9cc0>"
      ]
     },
     "metadata": {},
     "output_type": "display_data"
    },
    {
     "name": "stdout",
     "output_type": "stream",
     "text": [
      "[[ 0.  0.  0.  1.  0.  0.  0.  0.  0.  0.  0.]\n",
      " [ 0.  1.  0.  0.  0.  0.  0.  0.  0.  0.  0.]\n",
      " [ 0.  0.  0.  0.  0.  0.  0.  0.  0.  0.  1.]\n",
      " [ 0.  0.  0.  0.  0.  0.  0.  0.  0.  0.  1.]\n",
      " [ 0.  0.  0.  0.  0.  0.  0.  0.  0.  0.  1.]\n",
      " [ 0.  0.  1.  0.  0.  0.  0.  0.  0.  0.  0.]]\n"
     ]
    },
    {
     "data": {
      "image/png": "[encoded data removed]",
      "text/plain": [
       "<matplotlib.figure.Figure at 0x1166d1630>"
      ]
     },
     "metadata": {},
     "output_type": "display_data"
    },
    {
     "name": "stdout",
     "output_type": "stream",
     "text": [
      "[[ 0.  0.  0.  1.  0.  0.  0.  0.  0.  0.  0.]\n",
      " [ 0.  0.  0.  1.  0.  0.  0.  0.  0.  0.  0.]\n",
      " [ 0.  0.  0.  0.  0.  0.  0.  0.  0.  0.  1.]\n",
      " [ 0.  0.  0.  0.  0.  0.  0.  0.  0.  0.  1.]\n",
      " [ 0.  0.  0.  0.  0.  0.  0.  0.  0.  0.  1.]\n",
      " [ 0.  0.  1.  0.  0.  0.  0.  0.  0.  0.  0.]]\n"
     ]
    },
    {
     "data": {
      "image/png": "[encoded data removed]",
      "text/plain": [
       "<matplotlib.figure.Figure at 0x1167c6e10>"
      ]
     },
     "metadata": {},
     "output_type": "display_data"
    },
    {
     "name": "stdout",
     "output_type": "stream",
     "text": [
      "[[ 0.  0.  1.  0.  0.  0.  0.  0.  0.  0.  0.]\n",
      " [ 0.  0.  0.  0.  0.  0.  0.  0.  1.  0.  0.]\n",
      " [ 0.  0.  0.  0.  0.  0.  0.  0.  0.  0.  1.]\n",
      " [ 0.  0.  0.  0.  0.  0.  0.  0.  0.  0.  1.]\n",
      " [ 0.  0.  0.  0.  0.  0.  0.  0.  0.  0.  1.]\n",
      " [ 0.  0.  1.  0.  0.  0.  0.  0.  0.  0.  0.]]\n"
     ]
    },
    {
     "data": {
      "image/png": "[encoded data removed]",
      "text/plain": [
       "<matplotlib.figure.Figure at 0x11688e198>"
      ]
     },
     "metadata": {},
     "output_type": "display_data"
    },
    {
     "name": "stdout",
     "output_type": "stream",
     "text": [
      "[[ 0.  0.  0.  0.  0.  0.  0.  1.  0.  0.  0.]\n",
      " [ 0.  0.  0.  0.  1.  0.  0.  0.  0.  0.  0.]\n",
      " [ 0.  0.  0.  0.  1.  0.  0.  0.  0.  0.  0.]\n",
      " [ 0.  0.  0.  0.  0.  0.  0.  0.  0.  0.  1.]\n",
      " [ 0.  0.  0.  0.  0.  0.  0.  0.  0.  0.  1.]\n",
      " [ 0.  0.  0.  1.  0.  0.  0.  0.  0.  0.  0.]]\n"
     ]
    },
    {
     "data": {
      "image/png": "[encoded data removed]",
      "text/plain": [
       "<matplotlib.figure.Figure at 0x116968e80>"
      ]
     },
     "metadata": {},
     "output_type": "display_data"
    },
    {
     "name": "stdout",
     "output_type": "stream",
     "text": [
      "[[ 0.  1.  0.  0.  0.  0.  0.  0.  0.  0.  0.]\n",
      " [ 0.  0.  1.  0.  0.  0.  0.  0.  0.  0.  0.]\n",
      " [ 0.  0.  0.  0.  0.  0.  0.  0.  1.  0.  0.]\n",
      " [ 0.  0.  0.  0.  0.  0.  0.  0.  0.  0.  1.]\n",
      " [ 0.  0.  0.  0.  0.  0.  0.  0.  0.  0.  1.]\n",
      " [ 0.  0.  0.  1.  0.  0.  0.  0.  0.  0.  0.]]\n"
     ]
    },
    {
     "data": {
      "image/png": "[encoded data removed]",
      "text/plain": [
       "<matplotlib.figure.Figure at 0x116878710>"
      ]
     },
     "metadata": {},
     "output_type": "display_data"
    },
    {
     "name": "stdout",
     "output_type": "stream",
     "text": [
      "[[ 0.  1.  0.  0.  0.  0.  0.  0.  0.  0.  0.]\n",
      " [ 0.  0.  0.  0.  0.  0.  1.  0.  0.  0.  0.]\n",
      " [ 0.  0.  0.  0.  0.  0.  0.  0.  0.  0.  1.]\n",
      " [ 0.  0.  0.  0.  0.  0.  0.  0.  0.  0.  1.]\n",
      " [ 0.  0.  0.  0.  0.  0.  0.  0.  0.  0.  1.]\n",
      " [ 0.  0.  1.  0.  0.  0.  0.  0.  0.  0.  0.]]\n"
     ]
    },
    {
     "data": {
      "image/png": "[encoded data removed]",
      "text/plain": [
       "<matplotlib.figure.Figure at 0x116b36c18>"
      ]
     },
     "metadata": {},
     "output_type": "display_data"
    },
    {
     "name": "stdout",
     "output_type": "stream",
     "text": [
      "[[ 0.  0.  1.  0.  0.  0.  0.  0.  0.  0.  0.]\n",
      " [ 0.  0.  0.  1.  0.  0.  0.  0.  0.  0.  0.]\n",
      " [ 0.  0.  0.  0.  0.  0.  0.  0.  0.  0.  1.]\n",
      " [ 0.  0.  0.  0.  0.  0.  0.  0.  0.  0.  1.]\n",
      " [ 0.  0.  0.  0.  0.  0.  0.  0.  0.  0.  1.]\n",
      " [ 0.  0.  1.  0.  0.  0.  0.  0.  0.  0.  0.]]\n"
     ]
    },
    {
     "data": {
      "image/png": "[encoded data removed]",
      "text/plain": [
       "<matplotlib.figure.Figure at 0x1168cd908>"
      ]
     },
     "metadata": {},
     "output_type": "display_data"
    },
    {
     "name": "stdout",
     "output_type": "stream",
     "text": [
      "[[ 0.  0.  0.  0.  0.  0.  1.  0.  0.  0.  0.]\n",
      " [ 0.  0.  0.  1.  0.  0.  0.  0.  0.  0.  0.]\n",
      " [ 0.  0.  0.  0.  0.  0.  0.  0.  0.  0.  1.]\n",
      " [ 0.  0.  0.  0.  0.  0.  0.  0.  0.  0.  1.]\n",
      " [ 0.  0.  0.  0.  0.  0.  0.  0.  0.  0.  1.]\n",
      " [ 0.  0.  1.  0.  0.  0.  0.  0.  0.  0.  0.]]\n"
     ]
    },
    {
     "data": {
      "image/png": "[encoded data removed]",
      "text/plain": [
       "<matplotlib.figure.Figure at 0x116d03e10>"
      ]
     },
     "metadata": {},
     "output_type": "display_data"
    },
    {
     "name": "stdout",
     "output_type": "stream",
     "text": [
      "[[ 0.  0.  0.  0.  1.  0.  0.  0.  0.  0.  0.]\n",
      " [ 0.  0.  1.  0.  0.  0.  0.  0.  0.  0.  0.]\n",
      " [ 0.  0.  0.  0.  0.  0.  0.  0.  0.  0.  1.]\n",
      " [ 0.  0.  0.  0.  0.  0.  0.  0.  0.  0.  1.]\n",
      " [ 0.  0.  0.  0.  0.  0.  0.  0.  0.  0.  1.]\n",
      " [ 0.  0.  1.  0.  0.  0.  0.  0.  0.  0.  0.]]\n"
     ]
    },
    {
     "data": {
      "image/png": "[encoded data removed]",
      "text/plain": [
       "<matplotlib.figure.Figure at 0x116a9e240>"
      ]
     },
     "metadata": {},
     "output_type": "display_data"
    },
    {
     "name": "stdout",
     "output_type": "stream",
     "text": [
      "[[ 0.  0.  0.  0.  0.  1.  0.  0.  0.  0.  0.]\n",
      " [ 0.  0.  0.  0.  0.  0.  0.  0.  1.  0.  0.]\n",
      " [ 0.  0.  0.  0.  0.  0.  0.  0.  0.  0.  1.]\n",
      " [ 0.  0.  0.  0.  0.  0.  0.  0.  0.  0.  1.]\n",
      " [ 0.  0.  0.  0.  0.  0.  0.  0.  0.  0.  1.]\n",
      " [ 0.  0.  1.  0.  0.  0.  0.  0.  0.  0.  0.]]\n"
     ]
    },
    {
     "data": {
      "image/png": "[encoded data removed]",
      "text/plain": [
       "<matplotlib.figure.Figure at 0x116868278>"
      ]
     },
     "metadata": {},
     "output_type": "display_data"
    },
    {
     "name": "stdout",
     "output_type": "stream",
     "text": [
      "[[ 0.  1.  0.  0.  0.  0.  0.  0.  0.  0.  0.]\n",
      " [ 0.  0.  0.  0.  0.  0.  1.  0.  0.  0.  0.]\n",
      " [ 0.  0.  0.  0.  0.  0.  0.  0.  0.  0.  1.]\n",
      " [ 0.  0.  0.  0.  0.  0.  0.  0.  0.  0.  1.]\n",
      " [ 0.  0.  0.  0.  0.  0.  0.  0.  0.  0.  1.]\n",
      " [ 0.  0.  1.  0.  0.  0.  0.  0.  0.  0.  0.]]\n"
     ]
    },
    {
     "data": {
      "image/png": "[encoded data removed]",
      "text/plain": [
       "<matplotlib.figure.Figure at 0x11dab6ef0>"
      ]
     },
     "metadata": {},
     "output_type": "display_data"
    },
    {
     "name": "stdout",
     "output_type": "stream",
     "text": [
      "[[ 0.  0.  1.  0.  0.  0.  0.  0.  0.  0.  0.]\n",
      " [ 0.  0.  0.  1.  0.  0.  0.  0.  0.  0.  0.]\n",
      " [ 0.  0.  0.  0.  0.  0.  0.  0.  0.  0.  1.]\n",
      " [ 0.  0.  0.  0.  0.  0.  0.  0.  0.  0.  1.]\n",
      " [ 0.  0.  0.  0.  0.  0.  0.  0.  0.  0.  1.]\n",
      " [ 0.  0.  1.  0.  0.  0.  0.  0.  0.  0.  0.]]\n"
     ]
    },
    {
     "data": {
      "image/png": "[encoded data removed]",
      "text/plain": [
       "<matplotlib.figure.Figure at 0x117f16c50>"
      ]
     },
     "metadata": {},
     "output_type": "display_data"
    },
    {
     "name": "stdout",
     "output_type": "stream",
     "text": [
      "[[ 0.  0.  0.  0.  0.  0.  0.  1.  0.  0.  0.]\n",
      " [ 0.  0.  0.  0.  0.  0.  0.  0.  0.  1.  0.]\n",
      " [ 0.  0.  0.  0.  0.  0.  0.  0.  0.  0.  1.]\n",
      " [ 0.  0.  0.  0.  0.  0.  0.  0.  0.  0.  1.]\n",
      " [ 0.  0.  0.  0.  0.  0.  0.  0.  0.  0.  1.]\n",
      " [ 0.  0.  1.  0.  0.  0.  0.  0.  0.  0.  0.]]\n"
     ]
    },
    {
     "data": {
      "image/png": "[encoded data removed]",
      "text/plain": [
       "<matplotlib.figure.Figure at 0x116b38ba8>"
      ]
     },
     "metadata": {},
     "output_type": "display_data"
    },
    {
     "name": "stdout",
     "output_type": "stream",
     "text": [
      "[[ 0.  0.  0.  0.  0.  1.  0.  0.  0.  0.  0.]\n",
      " [ 0.  0.  0.  1.  0.  0.  0.  0.  0.  0.  0.]\n",
      " [ 0.  0.  0.  0.  0.  0.  0.  0.  0.  0.  1.]\n",
      " [ 0.  0.  0.  0.  0.  0.  0.  0.  0.  0.  1.]\n",
      " [ 0.  0.  0.  0.  0.  0.  0.  0.  0.  0.  1.]\n",
      " [ 0.  0.  1.  0.  0.  0.  0.  0.  0.  0.  0.]]\n"
     ]
    },
    {
     "data": {
      "image/png": "[encoded data removed]",
      "text/plain": [
       "<matplotlib.figure.Figure at 0x116882dd8>"
      ]
     },
     "metadata": {},
     "output_type": "display_data"
    },
    {
     "name": "stdout",
     "output_type": "stream",
     "text": [
      "[[ 0.  0.  1.  0.  0.  0.  0.  0.  0.  0.  0.]\n",
      " [ 0.  0.  1.  0.  0.  0.  0.  0.  0.  0.  0.]\n",
      " [ 0.  0.  1.  0.  0.  0.  0.  0.  0.  0.  0.]\n",
      " [ 0.  0.  0.  0.  0.  0.  0.  0.  0.  0.  1.]\n",
      " [ 0.  0.  0.  0.  0.  0.  0.  0.  0.  0.  1.]\n",
      " [ 0.  0.  0.  1.  0.  0.  0.  0.  0.  0.  0.]]\n"
     ]
    },
    {
     "data": {
      "image/png": "[encoded data removed]",
      "text/plain": [
       "<matplotlib.figure.Figure at 0x11675f358>"
      ]
     },
     "metadata": {},
     "output_type": "display_data"
    },
    {
     "name": "stdout",
     "output_type": "stream",
     "text": [
      "[[ 0.  0.  0.  0.  0.  0.  1.  0.  0.  0.  0.]\n",
      " [ 0.  0.  1.  0.  0.  0.  0.  0.  0.  0.  0.]\n",
      " [ 0.  0.  0.  0.  0.  0.  0.  0.  0.  0.  1.]\n",
      " [ 0.  0.  0.  0.  0.  0.  0.  0.  0.  0.  1.]\n",
      " [ 0.  0.  0.  0.  0.  0.  0.  0.  0.  0.  1.]\n",
      " [ 0.  0.  1.  0.  0.  0.  0.  0.  0.  0.  0.]]\n"
     ]
    },
    {
     "data": {
      "image/png": "[encoded data removed]",
      "text/plain": [
       "<matplotlib.figure.Figure at 0x116854dd8>"
      ]
     },
     "metadata": {},
     "output_type": "display_data"
    }
   ],
   "source": [
    "for idx in range(20):\n",
    "    print(train_labels[idx])\n",
    "    plt.imshow(train_dataset[idx, :, :, 0], cmap=plt.cm.Greys)\n",
    "    plt.show()"
   ]
  },
  {
   "cell_type": "code",
   "execution_count": 18,
   "metadata": {},
   "outputs": [
    {
     "name": "stdout",
     "output_type": "stream",
     "text": [
      "Initialized\n",
      "Minibatch loss at step 0: 11.815453\n",
      "Minibatch accuracies: ['0.0%', '7.8%', '0.0%', '0.0%', '0.0%'] / Overall accuracy: 1.6%\n",
      "Validation accuracies: ['19.6%', '9.9%', '40.7%', '0.9%', '99.9%'] / Overall accuracy: 34.2%\n",
      "Minibatch loss at step 100: 1.929122\n",
      "Minibatch accuracies: ['21.9%', '9.4%', '64.1%', '95.3%', '100.0%'] / Overall accuracy: 58.1%\n",
      "Validation accuracies: ['19.6%', '5.1%', '40.7%', '92.7%', '99.9%'] / Overall accuracy: 51.6%\n",
      "Minibatch loss at step 200: 1.788102\n",
      "Minibatch accuracies: ['28.1%', '20.3%', '71.9%', '98.4%', '100.0%'] / Overall accuracy: 63.7%\n",
      "Validation accuracies: ['30.7%', '6.8%', '40.7%', '92.7%', '99.9%'] / Overall accuracy: 54.2%\n",
      "Minibatch loss at step 300: 1.817054\n",
      "Minibatch accuracies: ['32.8%', '23.4%', '64.1%', '96.9%', '100.0%'] / Overall accuracy: 63.4%\n",
      "Validation accuracies: ['30.9%', '19.4%', '40.7%', '92.7%', '99.9%'] / Overall accuracy: 56.7%\n",
      "Minibatch loss at step 400: 1.609047\n",
      "Minibatch accuracies: ['40.6%', '26.6%', '70.3%', '95.3%', '100.0%'] / Overall accuracy: 66.6%\n",
      "Validation accuracies: ['41.5%', '22.5%', '40.7%', '92.7%', '99.9%'] / Overall accuracy: 59.5%\n",
      "Minibatch loss at step 500: 1.430397\n",
      "Minibatch accuracies: ['46.9%', '45.3%', '78.1%', '96.9%', '100.0%'] / Overall accuracy: 73.4%\n",
      "Validation accuracies: ['48.2%', '27.5%', '41.6%', '92.7%', '99.9%'] / Overall accuracy: 62.0%\n",
      "Minibatch loss at step 600: 1.394302\n",
      "Minibatch accuracies: ['51.6%', '35.9%', '65.6%', '90.6%', '100.0%'] / Overall accuracy: 68.8%\n",
      "Validation accuracies: ['56.3%', '37.2%', '47.5%', '92.7%', '99.9%'] / Overall accuracy: 66.7%\n",
      "Minibatch loss at step 700: 1.448133\n",
      "Minibatch accuracies: ['62.5%', '34.4%', '50.0%', '92.2%', '100.0%'] / Overall accuracy: 67.8%\n",
      "Validation accuracies: ['62.9%', '42.3%', '52.0%', '92.7%', '99.9%'] / Overall accuracy: 70.0%\n",
      "Minibatch loss at step 800: 1.305921\n",
      "Minibatch accuracies: ['56.2%', '45.3%', '57.8%', '93.8%', '100.0%'] / Overall accuracy: 70.6%\n",
      "Validation accuracies: ['66.0%', '47.1%', '54.7%', '92.7%', '99.9%'] / Overall accuracy: 72.1%\n",
      "Minibatch loss at step 900: 1.159127\n",
      "Minibatch accuracies: ['59.4%', '60.9%', '65.6%', '96.9%', '100.0%'] / Overall accuracy: 76.6%\n",
      "Validation accuracies: ['69.2%', '50.7%', '58.9%', '92.7%', '99.9%'] / Overall accuracy: 74.3%\n",
      "Minibatch loss at step 1000: 1.134984\n",
      "Minibatch accuracies: ['76.6%', '39.1%', '51.6%', '87.5%', '100.0%'] / Overall accuracy: 70.9%\n",
      "Validation accuracies: ['68.6%', '52.0%', '61.1%', '92.7%', '99.9%'] / Overall accuracy: 74.9%\n",
      "Minibatch loss at step 1100: 1.030369\n",
      "Minibatch accuracies: ['70.3%', '56.2%', '65.6%', '95.3%', '100.0%'] / Overall accuracy: 77.5%\n",
      "Validation accuracies: ['72.8%', '56.6%', '63.5%', '92.7%', '99.9%'] / Overall accuracy: 77.1%\n",
      "Minibatch loss at step 1200: 1.024705\n",
      "Minibatch accuracies: ['73.4%', '54.7%', '60.9%', '93.8%', '100.0%'] / Overall accuracy: 76.6%\n",
      "Validation accuracies: ['73.8%', '57.5%', '64.2%', '92.7%', '99.9%'] / Overall accuracy: 77.7%\n",
      "Minibatch loss at step 1300: 1.112788\n",
      "Minibatch accuracies: ['71.9%', '53.1%', '59.4%', '96.9%', '100.0%'] / Overall accuracy: 76.2%\n",
      "Validation accuracies: ['74.3%', '58.9%', '65.6%', '92.7%', '99.9%'] / Overall accuracy: 78.3%\n",
      "Minibatch loss at step 1400: 0.846812\n",
      "Minibatch accuracies: ['85.9%', '56.2%', '68.8%', '89.1%', '100.0%'] / Overall accuracy: 80.0%\n",
      "Validation accuracies: ['75.3%', '60.5%', '66.6%', '92.6%', '99.9%'] / Overall accuracy: 79.0%\n",
      "Minibatch loss at step 1500: 0.921877\n",
      "Minibatch accuracies: ['71.9%', '68.8%', '71.9%', '90.6%', '100.0%'] / Overall accuracy: 80.6%\n",
      "Validation accuracies: ['76.1%', '62.4%', '67.4%', '92.6%', '99.9%'] / Overall accuracy: 79.7%\n",
      "Minibatch loss at step 1600: 0.849304\n",
      "Minibatch accuracies: ['76.6%', '70.3%', '71.9%', '93.8%', '100.0%'] / Overall accuracy: 82.5%\n",
      "Validation accuracies: ['76.7%', '63.1%', '68.0%', '92.7%', '99.9%'] / Overall accuracy: 80.1%\n",
      "Minibatch loss at step 1700: 0.961345\n",
      "Minibatch accuracies: ['76.6%', '64.1%', '64.1%', '87.5%', '100.0%'] / Overall accuracy: 78.4%\n",
      "Validation accuracies: ['77.8%', '64.0%', '68.6%', '92.7%', '99.9%'] / Overall accuracy: 80.6%\n",
      "Minibatch loss at step 1800: 1.076057\n",
      "Minibatch accuracies: ['62.5%', '56.2%', '71.9%', '98.4%', '100.0%'] / Overall accuracy: 77.8%\n",
      "Validation accuracies: ['78.1%', '64.7%', '68.4%', '92.7%', '99.9%'] / Overall accuracy: 80.8%\n",
      "Minibatch loss at step 1900: 0.905476\n",
      "Minibatch accuracies: ['71.9%', '65.6%', '71.9%', '89.1%', '100.0%'] / Overall accuracy: 79.7%\n",
      "Validation accuracies: ['78.3%', '64.5%', '69.5%', '92.7%', '99.9%'] / Overall accuracy: 81.0%\n",
      "Minibatch loss at step 2000: 0.987537\n",
      "Minibatch accuracies: ['75.0%', '65.6%', '62.5%', '90.6%', '100.0%'] / Overall accuracy: 78.8%\n",
      "Validation accuracies: ['78.2%', '65.1%', '69.8%', '92.6%', '99.9%'] / Overall accuracy: 81.1%\n",
      "Minibatch loss at step 2100: 0.793586\n",
      "Minibatch accuracies: ['81.2%', '62.5%', '73.4%', '93.8%', '100.0%'] / Overall accuracy: 82.2%\n",
      "Validation accuracies: ['78.8%', '65.6%', '70.1%', '92.7%', '99.9%'] / Overall accuracy: 81.4%\n",
      "Minibatch loss at step 2200: 0.789219\n",
      "Minibatch accuracies: ['84.4%', '65.6%', '75.0%', '95.3%', '100.0%'] / Overall accuracy: 84.1%\n",
      "Validation accuracies: ['79.0%', '66.8%', '70.6%', '92.6%', '99.9%'] / Overall accuracy: 81.8%\n",
      "Minibatch loss at step 2300: 0.826407\n",
      "Minibatch accuracies: ['78.1%', '65.6%', '71.9%', '100.0%', '100.0%'] / Overall accuracy: 83.1%\n",
      "Validation accuracies: ['79.6%', '66.7%', '70.9%', '92.6%', '99.9%'] / Overall accuracy: 81.9%\n",
      "Minibatch loss at step 2400: 0.673850\n",
      "Minibatch accuracies: ['84.4%', '76.6%', '64.1%', '96.9%', '100.0%'] / Overall accuracy: 84.4%\n",
      "Validation accuracies: ['79.6%', '66.9%', '70.7%', '92.7%', '99.9%'] / Overall accuracy: 82.0%\n",
      "Minibatch loss at step 2500: 0.837065\n",
      "Minibatch accuracies: ['81.2%', '60.9%', '68.8%', '85.9%', '100.0%'] / Overall accuracy: 79.4%\n",
      "Validation accuracies: ['79.6%', '67.6%', '70.9%', '92.6%', '99.9%'] / Overall accuracy: 82.1%\n",
      "Minibatch loss at step 2600: 0.731818\n",
      "Minibatch accuracies: ['82.8%', '75.0%', '65.6%', '92.2%', '100.0%'] / Overall accuracy: 83.1%\n",
      "Validation accuracies: ['79.9%', '67.6%', '71.4%', '92.6%', '99.9%'] / Overall accuracy: 82.3%\n",
      "Minibatch loss at step 2700: 0.846354\n",
      "Minibatch accuracies: ['75.0%', '62.5%', '65.6%', '90.6%', '100.0%'] / Overall accuracy: 78.8%\n",
      "Validation accuracies: ['80.4%', '68.2%', '71.8%', '92.7%', '99.9%'] / Overall accuracy: 82.6%\n",
      "Minibatch loss at step 2800: 0.810964\n",
      "Minibatch accuracies: ['76.6%', '64.1%', '64.1%', '90.6%', '100.0%'] / Overall accuracy: 79.1%\n",
      "Validation accuracies: ['80.6%', '68.0%', '71.6%', '92.6%', '99.9%'] / Overall accuracy: 82.6%\n",
      "Minibatch loss at step 2900: 0.786119\n",
      "Minibatch accuracies: ['84.4%', '70.3%', '73.4%', '93.8%', '100.0%'] / Overall accuracy: 84.4%\n",
      "Validation accuracies: ['80.2%', '68.4%', '71.5%', '92.6%', '99.9%'] / Overall accuracy: 82.5%\n",
      "Minibatch loss at step 3000: 0.829079\n",
      "Minibatch accuracies: ['82.8%', '67.2%', '68.8%', '92.2%', '100.0%'] / Overall accuracy: 82.2%\n",
      "Validation accuracies: ['80.3%', '68.7%', '71.6%', '92.6%', '99.9%'] / Overall accuracy: 82.6%\n",
      "Minibatch loss at step 3100: 0.881993\n",
      "Minibatch accuracies: ['78.1%', '73.4%', '65.6%', '87.5%', '100.0%'] / Overall accuracy: 80.9%\n",
      "Validation accuracies: ['80.9%', '68.6%', '72.0%', '92.6%', '99.9%'] / Overall accuracy: 82.8%\n",
      "Minibatch loss at step 3200: 0.762632\n",
      "Minibatch accuracies: ['81.2%', '64.1%', '76.6%', '90.6%', '100.0%'] / Overall accuracy: 82.5%\n",
      "Validation accuracies: ['80.5%', '68.9%', '72.0%', '92.6%', '99.9%'] / Overall accuracy: 82.8%\n",
      "Minibatch loss at step 3300: 0.750947\n",
      "Minibatch accuracies: ['79.7%', '71.9%', '64.1%', '89.1%', '100.0%'] / Overall accuracy: 80.9%\n",
      "Validation accuracies: ['81.0%', '68.9%', '72.3%', '92.6%', '99.9%'] / Overall accuracy: 83.0%\n",
      "Minibatch loss at step 3400: 0.803765\n",
      "Minibatch accuracies: ['85.9%', '65.6%', '67.2%', '93.8%', '100.0%'] / Overall accuracy: 82.5%\n",
      "Validation accuracies: ['80.8%', '68.9%', '72.5%', '92.6%', '99.9%'] / Overall accuracy: 82.9%\n",
      "Minibatch loss at step 3500: 0.886585\n",
      "Minibatch accuracies: ['71.9%', '60.9%', '82.8%', '93.8%', '100.0%'] / Overall accuracy: 81.9%\n",
      "Validation accuracies: ['81.0%', '69.1%', '72.0%', '92.6%', '99.9%'] / Overall accuracy: 82.9%\n"
     ]
    },
    {
     "name": "stdout",
     "output_type": "stream",
     "text": [
      "Minibatch loss at step 3600: 0.737136\n",
      "Minibatch accuracies: ['76.6%', '71.9%', '90.6%', '98.4%', '100.0%'] / Overall accuracy: 87.5%\n",
      "Validation accuracies: ['80.9%', '69.0%', '71.9%', '92.6%', '99.9%'] / Overall accuracy: 82.9%\n",
      "Minibatch loss at step 3700: 0.767480\n",
      "Minibatch accuracies: ['73.4%', '67.2%', '81.2%', '98.4%', '100.0%'] / Overall accuracy: 84.1%\n",
      "Validation accuracies: ['81.1%', '68.6%', '71.8%', '92.6%', '99.9%'] / Overall accuracy: 82.8%\n",
      "Minibatch loss at step 3800: 0.803202\n",
      "Minibatch accuracies: ['75.0%', '68.8%', '75.0%', '95.3%', '100.0%'] / Overall accuracy: 82.8%\n",
      "Validation accuracies: ['80.8%', '68.3%', '71.4%', '92.7%', '99.9%'] / Overall accuracy: 82.6%\n",
      "Minibatch loss at step 3900: 0.807507\n",
      "Minibatch accuracies: ['76.6%', '62.5%', '84.4%', '93.8%', '100.0%'] / Overall accuracy: 83.4%\n",
      "Validation accuracies: ['80.8%', '68.5%', '72.0%', '92.6%', '99.9%'] / Overall accuracy: 82.8%\n",
      "Minibatch loss at step 4000: 0.778439\n",
      "Minibatch accuracies: ['82.8%', '68.8%', '79.7%', '93.8%', '100.0%'] / Overall accuracy: 85.0%\n",
      "Validation accuracies: ['81.0%', '69.4%', '72.4%', '92.6%', '99.9%'] / Overall accuracy: 83.1%\n",
      "Minibatch loss at step 4100: 0.730951\n",
      "Minibatch accuracies: ['78.1%', '68.8%', '64.1%', '89.1%', '100.0%'] / Overall accuracy: 80.0%\n",
      "Validation accuracies: ['81.4%', '69.5%', '72.6%', '92.6%', '99.9%'] / Overall accuracy: 83.2%\n",
      "Minibatch loss at step 4200: 0.724193\n",
      "Minibatch accuracies: ['78.1%', '73.4%', '75.0%', '96.9%', '100.0%'] / Overall accuracy: 84.7%\n",
      "Validation accuracies: ['81.4%', '69.6%', '72.8%', '92.6%', '99.9%'] / Overall accuracy: 83.3%\n",
      "Minibatch loss at step 4300: 0.855173\n",
      "Minibatch accuracies: ['78.1%', '60.9%', '68.8%', '92.2%', '100.0%'] / Overall accuracy: 80.0%\n",
      "Validation accuracies: ['81.4%', '69.6%', '72.8%', '92.6%', '99.9%'] / Overall accuracy: 83.3%\n",
      "Minibatch loss at step 4400: 0.826848\n",
      "Minibatch accuracies: ['82.8%', '70.3%', '75.0%', '92.2%', '100.0%'] / Overall accuracy: 84.1%\n",
      "Validation accuracies: ['81.5%', '69.7%', '72.9%', '92.6%', '99.9%'] / Overall accuracy: 83.3%\n",
      "Minibatch loss at step 4500: 0.714487\n",
      "Minibatch accuracies: ['78.1%', '68.8%', '78.1%', '95.3%', '100.0%'] / Overall accuracy: 84.1%\n",
      "Validation accuracies: ['81.6%', '70.1%', '72.9%', '92.6%', '99.9%'] / Overall accuracy: 83.4%\n",
      "Minibatch loss at step 4600: 0.687139\n",
      "Minibatch accuracies: ['87.5%', '59.4%', '82.8%', '92.2%', '100.0%'] / Overall accuracy: 84.4%\n",
      "Validation accuracies: ['81.5%', '69.9%', '72.9%', '92.6%', '99.9%'] / Overall accuracy: 83.4%\n",
      "Minibatch loss at step 4700: 0.666683\n",
      "Minibatch accuracies: ['84.4%', '75.0%', '71.9%', '92.2%', '100.0%'] / Overall accuracy: 84.7%\n",
      "Validation accuracies: ['81.5%', '70.2%', '72.8%', '92.6%', '99.9%'] / Overall accuracy: 83.4%\n",
      "Minibatch loss at step 4800: 0.769395\n",
      "Minibatch accuracies: ['79.7%', '70.3%', '70.3%', '89.1%', '100.0%'] / Overall accuracy: 81.9%\n",
      "Validation accuracies: ['81.4%', '69.9%', '72.9%', '92.6%', '99.9%'] / Overall accuracy: 83.4%\n",
      "Minibatch loss at step 4900: 0.587517\n",
      "Minibatch accuracies: ['79.7%', '81.2%', '82.8%', '96.9%', '100.0%'] / Overall accuracy: 88.1%\n",
      "Validation accuracies: ['81.6%', '70.0%', '72.9%', '92.6%', '99.9%'] / Overall accuracy: 83.4%\n",
      "Minibatch loss at step 5000: 0.642657\n",
      "Minibatch accuracies: ['82.8%', '78.1%', '78.1%', '96.9%', '100.0%'] / Overall accuracy: 87.2%\n",
      "Validation accuracies: ['81.8%', '70.2%', '73.1%', '92.6%', '99.9%'] / Overall accuracy: 83.5%\n",
      "Minibatch loss at step 5100: 0.766055\n",
      "Minibatch accuracies: ['81.2%', '64.1%', '65.6%', '92.2%', '100.0%'] / Overall accuracy: 80.6%\n",
      "Validation accuracies: ['81.8%', '70.1%', '73.0%', '92.6%', '99.9%'] / Overall accuracy: 83.5%\n",
      "Minibatch loss at step 5200: 0.725951\n",
      "Minibatch accuracies: ['82.8%', '75.0%', '73.4%', '92.2%', '100.0%'] / Overall accuracy: 84.7%\n",
      "Validation accuracies: ['81.7%', '70.2%', '73.0%', '92.6%', '99.9%'] / Overall accuracy: 83.5%\n",
      "Minibatch loss at step 5300: 0.745592\n",
      "Minibatch accuracies: ['81.2%', '76.6%', '76.6%', '95.3%', '100.0%'] / Overall accuracy: 85.9%\n",
      "Validation accuracies: ['81.9%', '70.3%', '73.0%', '92.6%', '99.9%'] / Overall accuracy: 83.5%\n",
      "Minibatch loss at step 5400: 0.750474\n",
      "Minibatch accuracies: ['71.9%', '71.9%', '79.7%', '93.8%', '100.0%'] / Overall accuracy: 83.4%\n",
      "Validation accuracies: ['81.8%', '70.3%', '73.2%', '92.6%', '99.9%'] / Overall accuracy: 83.6%\n",
      "Minibatch loss at step 5500: 0.749955\n",
      "Minibatch accuracies: ['76.6%', '73.4%', '71.9%', '95.3%', '100.0%'] / Overall accuracy: 83.4%\n",
      "Validation accuracies: ['81.7%', '70.4%', '73.0%', '92.6%', '99.9%'] / Overall accuracy: 83.5%\n",
      "Minibatch loss at step 5600: 0.666570\n",
      "Minibatch accuracies: ['76.6%', '76.6%', '75.0%', '95.3%', '100.0%'] / Overall accuracy: 84.7%\n",
      "Validation accuracies: ['81.8%', '70.3%', '73.1%', '92.6%', '99.9%'] / Overall accuracy: 83.6%\n",
      "Minibatch loss at step 5700: 0.775381\n",
      "Minibatch accuracies: ['82.8%', '65.6%', '70.3%', '89.1%', '100.0%'] / Overall accuracy: 81.6%\n",
      "Validation accuracies: ['81.9%', '70.3%', '73.2%', '92.6%', '99.9%'] / Overall accuracy: 83.6%\n",
      "Minibatch loss at step 5800: 0.644658\n",
      "Minibatch accuracies: ['82.8%', '79.7%', '70.3%', '95.3%', '100.0%'] / Overall accuracy: 85.6%\n",
      "Validation accuracies: ['81.8%', '70.3%', '73.2%', '92.6%', '99.9%'] / Overall accuracy: 83.6%\n",
      "Minibatch loss at step 5900: 0.699857\n",
      "Minibatch accuracies: ['82.8%', '70.3%', '70.3%', '96.9%', '100.0%'] / Overall accuracy: 84.1%\n",
      "Validation accuracies: ['81.8%', '70.2%', '73.1%', '92.6%', '99.9%'] / Overall accuracy: 83.5%\n",
      "Minibatch loss at step 6000: 0.701169\n",
      "Minibatch accuracies: ['78.1%', '71.9%', '84.4%', '98.4%', '100.0%'] / Overall accuracy: 86.6%\n",
      "Validation accuracies: ['81.7%', '70.3%', '73.1%', '92.6%', '99.9%'] / Overall accuracy: 83.5%\n",
      "Minibatch loss at step 6100: 0.722044\n",
      "Minibatch accuracies: ['82.8%', '71.9%', '70.3%', '87.5%', '100.0%'] / Overall accuracy: 82.5%\n",
      "Validation accuracies: ['81.7%', '70.5%', '73.1%', '92.6%', '99.9%'] / Overall accuracy: 83.6%\n",
      "Minibatch loss at step 6200: 0.877623\n",
      "Minibatch accuracies: ['78.1%', '68.8%', '68.8%', '84.4%', '100.0%'] / Overall accuracy: 80.0%\n",
      "Validation accuracies: ['81.8%', '70.4%', '73.2%', '92.6%', '99.9%'] / Overall accuracy: 83.6%\n",
      "Minibatch loss at step 6300: 0.659122\n",
      "Minibatch accuracies: ['71.9%', '85.9%', '78.1%', '95.3%', '100.0%'] / Overall accuracy: 86.2%\n",
      "Validation accuracies: ['81.8%', '70.5%', '73.2%', '92.6%', '99.9%'] / Overall accuracy: 83.6%\n",
      "Minibatch loss at step 6400: 0.677605\n",
      "Minibatch accuracies: ['81.2%', '68.8%', '75.0%', '98.4%', '100.0%'] / Overall accuracy: 84.7%\n",
      "Validation accuracies: ['81.9%', '70.4%', '73.1%', '92.6%', '99.9%'] / Overall accuracy: 83.6%\n",
      "Minibatch loss at step 6500: 0.881195\n",
      "Minibatch accuracies: ['79.7%', '60.9%', '70.3%', '90.6%', '100.0%'] / Overall accuracy: 80.3%\n",
      "Validation accuracies: ['81.9%', '70.6%', '73.1%', '92.6%', '99.9%'] / Overall accuracy: 83.6%\n",
      "Minibatch loss at step 6600: 0.815933\n",
      "Minibatch accuracies: ['82.8%', '67.2%', '70.3%', '92.2%', '100.0%'] / Overall accuracy: 82.5%\n",
      "Validation accuracies: ['81.8%', '70.4%', '73.0%', '92.6%', '99.9%'] / Overall accuracy: 83.6%\n",
      "Minibatch loss at step 6700: 0.660783\n",
      "Minibatch accuracies: ['82.8%', '84.4%', '68.8%', '96.9%', '100.0%'] / Overall accuracy: 86.6%\n",
      "Validation accuracies: ['81.8%', '70.5%', '73.1%', '92.6%', '99.9%'] / Overall accuracy: 83.6%\n",
      "Minibatch loss at step 6800: 0.615072\n",
      "Minibatch accuracies: ['92.2%', '73.4%', '67.2%', '92.2%', '100.0%'] / Overall accuracy: 85.0%\n",
      "Validation accuracies: ['81.8%', '70.4%', '73.2%', '92.6%', '99.9%'] / Overall accuracy: 83.6%\n",
      "Minibatch loss at step 6900: 0.653524\n",
      "Minibatch accuracies: ['90.6%', '75.0%', '79.7%', '95.3%', '100.0%'] / Overall accuracy: 88.1%\n",
      "Validation accuracies: ['81.9%', '70.4%', '73.2%', '92.6%', '99.9%'] / Overall accuracy: 83.6%\n",
      "Minibatch loss at step 7000: 0.989990\n",
      "Minibatch accuracies: ['59.4%', '65.6%', '81.2%', '95.3%', '100.0%'] / Overall accuracy: 80.3%\n",
      "Validation accuracies: ['81.8%', '70.3%', '72.9%', '92.6%', '99.9%'] / Overall accuracy: 83.5%\n",
      "Minibatch loss at step 7100: 0.784599\n",
      "Minibatch accuracies: ['76.6%', '73.4%', '81.2%', '98.4%', '100.0%'] / Overall accuracy: 85.9%\n",
      "Validation accuracies: ['81.7%', '70.1%', '72.9%', '92.6%', '99.9%'] / Overall accuracy: 83.5%\n"
     ]
    },
    {
     "name": "stdout",
     "output_type": "stream",
     "text": [
      "Minibatch loss at step 7200: 0.824740\n",
      "Minibatch accuracies: ['76.6%', '60.9%', '81.2%', '96.9%', '100.0%'] / Overall accuracy: 83.1%\n",
      "Validation accuracies: ['81.7%', '70.0%', '72.7%', '92.6%', '99.9%'] / Overall accuracy: 83.4%\n",
      "Minibatch loss at step 7300: 0.829594\n",
      "Minibatch accuracies: ['75.0%', '65.6%', '79.7%', '95.3%', '100.0%'] / Overall accuracy: 83.1%\n",
      "Validation accuracies: ['81.7%', '70.1%', '72.8%', '92.6%', '99.9%'] / Overall accuracy: 83.4%\n",
      "Minibatch loss at step 7400: 0.657125\n",
      "Minibatch accuracies: ['81.2%', '76.6%', '81.2%', '93.8%', '100.0%'] / Overall accuracy: 86.6%\n",
      "Validation accuracies: ['81.7%', '70.1%', '72.8%', '92.6%', '99.9%'] / Overall accuracy: 83.4%\n",
      "Minibatch loss at step 7500: 0.643611\n",
      "Minibatch accuracies: ['85.9%', '71.9%', '75.0%', '89.1%', '100.0%'] / Overall accuracy: 84.4%\n",
      "Validation accuracies: ['81.8%', '70.2%', '72.9%', '92.6%', '99.9%'] / Overall accuracy: 83.5%\n",
      "Minibatch loss at step 7600: 0.584592\n",
      "Minibatch accuracies: ['87.5%', '79.7%', '78.1%', '95.3%', '100.0%'] / Overall accuracy: 88.1%\n",
      "Validation accuracies: ['81.8%', '70.4%', '73.1%', '92.6%', '99.9%'] / Overall accuracy: 83.6%\n",
      "Minibatch loss at step 7700: 0.842313\n",
      "Minibatch accuracies: ['70.3%', '68.8%', '62.5%', '93.8%', '100.0%'] / Overall accuracy: 79.1%\n",
      "Validation accuracies: ['81.8%', '70.4%', '73.1%', '92.6%', '99.9%'] / Overall accuracy: 83.6%\n",
      "Minibatch loss at step 7800: 0.712508\n",
      "Minibatch accuracies: ['81.2%', '67.2%', '67.2%', '90.6%', '100.0%'] / Overall accuracy: 81.2%\n",
      "Validation accuracies: ['81.8%', '70.4%', '73.3%', '92.6%', '99.9%'] / Overall accuracy: 83.6%\n",
      "Minibatch loss at step 7900: 0.738793\n",
      "Minibatch accuracies: ['81.2%', '71.9%', '68.8%', '95.3%', '100.0%'] / Overall accuracy: 83.4%\n",
      "Validation accuracies: ['81.9%', '70.5%', '73.3%', '92.6%', '99.9%'] / Overall accuracy: 83.6%\n",
      "Minibatch loss at step 8000: 0.792922\n",
      "Minibatch accuracies: ['84.4%', '60.9%', '68.8%', '93.8%', '100.0%'] / Overall accuracy: 81.6%\n",
      "Validation accuracies: ['82.0%', '70.6%', '73.2%', '92.6%', '99.9%'] / Overall accuracy: 83.7%\n",
      "Minibatch loss at step 8100: 0.684483\n",
      "Minibatch accuracies: ['81.2%', '70.3%', '78.1%', '92.2%', '100.0%'] / Overall accuracy: 84.4%\n",
      "Validation accuracies: ['81.9%', '70.5%', '73.3%', '92.6%', '99.9%'] / Overall accuracy: 83.6%\n",
      "Minibatch loss at step 8200: 0.679170\n",
      "Minibatch accuracies: ['84.4%', '65.6%', '71.9%', '89.1%', '100.0%'] / Overall accuracy: 82.2%\n",
      "Validation accuracies: ['82.0%', '70.5%', '73.2%', '92.6%', '99.9%'] / Overall accuracy: 83.6%\n",
      "Minibatch loss at step 8300: 0.719182\n",
      "Minibatch accuracies: ['79.7%', '75.0%', '81.2%', '96.9%', '100.0%'] / Overall accuracy: 86.6%\n",
      "Validation accuracies: ['82.0%', '70.5%', '73.2%', '92.6%', '99.9%'] / Overall accuracy: 83.6%\n",
      "Minibatch loss at step 8400: 0.729211\n",
      "Minibatch accuracies: ['92.2%', '67.2%', '75.0%', '89.1%', '100.0%'] / Overall accuracy: 84.7%\n",
      "Validation accuracies: ['82.0%', '70.5%', '73.2%', '92.6%', '99.9%'] / Overall accuracy: 83.6%\n",
      "Minibatch loss at step 8500: 0.834578\n",
      "Minibatch accuracies: ['71.9%', '75.0%', '65.6%', '95.3%', '100.0%'] / Overall accuracy: 81.6%\n",
      "Validation accuracies: ['82.0%', '70.5%', '73.3%', '92.6%', '99.9%'] / Overall accuracy: 83.7%\n",
      "Minibatch loss at step 8600: 0.735097\n",
      "Minibatch accuracies: ['81.2%', '68.8%', '71.9%', '93.8%', '100.0%'] / Overall accuracy: 83.1%\n",
      "Validation accuracies: ['82.0%', '70.4%', '73.2%', '92.6%', '99.9%'] / Overall accuracy: 83.6%\n",
      "Minibatch loss at step 8700: 0.795248\n",
      "Minibatch accuracies: ['78.1%', '68.8%', '75.0%', '96.9%', '100.0%'] / Overall accuracy: 83.7%\n",
      "Validation accuracies: ['82.0%', '70.5%', '73.3%', '92.6%', '99.9%'] / Overall accuracy: 83.7%\n",
      "Minibatch loss at step 8800: 0.655947\n",
      "Minibatch accuracies: ['85.9%', '71.9%', '67.2%', '81.2%', '100.0%'] / Overall accuracy: 81.2%\n",
      "Validation accuracies: ['82.0%', '70.5%', '73.3%', '92.6%', '99.9%'] / Overall accuracy: 83.7%\n",
      "Minibatch loss at step 8900: 0.734876\n",
      "Minibatch accuracies: ['73.4%', '75.0%', '67.2%', '93.8%', '100.0%'] / Overall accuracy: 81.9%\n",
      "Validation accuracies: ['81.9%', '70.5%', '73.3%', '92.6%', '99.9%'] / Overall accuracy: 83.7%\n",
      "Minibatch loss at step 9000: 0.745642\n",
      "Minibatch accuracies: ['84.4%', '71.9%', '76.6%', '93.8%', '98.4%'] / Overall accuracy: 85.0%\n",
      "Validation accuracies: ['81.9%', '70.5%', '73.3%', '92.6%', '99.9%'] / Overall accuracy: 83.7%\n",
      "Minibatch loss at step 9100: 0.777929\n",
      "Minibatch accuracies: ['78.1%', '64.1%', '79.7%', '95.3%', '100.0%'] / Overall accuracy: 83.4%\n",
      "Validation accuracies: ['81.9%', '70.5%', '73.3%', '92.6%', '99.9%'] / Overall accuracy: 83.6%\n",
      "Minibatch loss at step 9200: 0.642948\n",
      "Minibatch accuracies: ['90.6%', '73.4%', '79.7%', '89.1%', '100.0%'] / Overall accuracy: 86.6%\n",
      "Validation accuracies: ['82.0%', '70.4%', '73.3%', '92.6%', '99.9%'] / Overall accuracy: 83.6%\n",
      "Minibatch loss at step 9300: 0.767305\n",
      "Minibatch accuracies: ['84.4%', '73.4%', '67.2%', '93.8%', '100.0%'] / Overall accuracy: 83.7%\n",
      "Validation accuracies: ['81.9%', '70.5%', '73.3%', '92.6%', '99.9%'] / Overall accuracy: 83.6%\n",
      "Minibatch loss at step 9400: 0.786527\n",
      "Minibatch accuracies: ['87.5%', '60.9%', '70.3%', '92.2%', '100.0%'] / Overall accuracy: 82.2%\n",
      "Validation accuracies: ['82.0%', '70.4%', '73.3%', '92.6%', '99.9%'] / Overall accuracy: 83.6%\n",
      "Minibatch loss at step 9500: 0.655705\n",
      "Minibatch accuracies: ['89.1%', '68.8%', '70.3%', '96.9%', '100.0%'] / Overall accuracy: 85.0%\n",
      "Validation accuracies: ['82.0%', '70.4%', '73.3%', '92.6%', '99.9%'] / Overall accuracy: 83.6%\n",
      "Minibatch loss at step 9600: 0.784744\n",
      "Minibatch accuracies: ['81.2%', '73.4%', '73.4%', '92.2%', '100.0%'] / Overall accuracy: 84.1%\n",
      "Validation accuracies: ['82.0%', '70.5%', '73.3%', '92.6%', '99.9%'] / Overall accuracy: 83.6%\n",
      "Minibatch loss at step 9700: 0.675284\n",
      "Minibatch accuracies: ['81.2%', '65.6%', '78.1%', '95.3%', '100.0%'] / Overall accuracy: 84.1%\n",
      "Validation accuracies: ['82.0%', '70.5%', '73.3%', '92.6%', '99.9%'] / Overall accuracy: 83.7%\n",
      "Minibatch loss at step 9800: 0.857919\n",
      "Minibatch accuracies: ['82.8%', '67.2%', '71.9%', '90.6%', '98.4%'] / Overall accuracy: 82.2%\n",
      "Validation accuracies: ['82.0%', '70.5%', '73.3%', '92.6%', '99.9%'] / Overall accuracy: 83.7%\n",
      "Minibatch loss at step 9900: 0.799597\n",
      "Minibatch accuracies: ['79.7%', '70.3%', '67.2%', '89.1%', '100.0%'] / Overall accuracy: 81.2%\n",
      "Validation accuracies: ['82.0%', '70.5%', '73.3%', '92.6%', '99.9%'] / Overall accuracy: 83.6%\n",
      "Minibatch loss at step 10000: 0.790022\n",
      "Minibatch accuracies: ['76.6%', '67.2%', '71.9%', '89.1%', '100.0%'] / Overall accuracy: 80.9%\n",
      "Validation accuracies: ['81.9%', '70.5%', '73.3%', '92.6%', '99.9%'] / Overall accuracy: 83.6%\n",
      "Test accuracies: ['74.4%', '68.2%', '87.4%', '98.8%', '100.0%'] / Overall accuracy: 85.7%\n"
     ]
    }
   ],
   "source": [
    "BATCH_SIZE = 64\n",
    "PATCH_SIZE = 5\n",
    "DEPTH = 16\n",
    "\n",
    "STRIDE = 1\n",
    "POOL_STRIDE = 2\n",
    "POOL_KERNEL_SIZE = 2\n",
    "\n",
    "NUM_HIDDEN = 256\n",
    "\n",
    "NUM_STEPS = 10001\n",
    "\n",
    "graph = tf.Graph()\n",
    "\n",
    "with graph.as_default():\n",
    "    \n",
    "    tf_train_dataset = tf.placeholder(\n",
    "        dtype=tf.float32,\n",
    "        shape=(BATCH_SIZE, IMAGE_SIZE, IMAGE_SIZE, NUM_CHANNELS)\n",
    "    )\n",
    "    \n",
    "    tf_train_labels = tf.placeholder(\n",
    "        dtype=tf.float32,\n",
    "        shape=(BATCH_SIZE * (MAX_DIGITS + 1), NUM_LABELS)\n",
    "    )\n",
    "    \n",
    "    tf_valid_dataset = tf.constant(valid_dataset)\n",
    "    tf_test_dataset = tf.constant(test_dataset)\n",
    "    \n",
    "    tf_data = tf.placeholder(\n",
    "        dtype=tf.float32,\n",
    "        shape=(1, IMAGE_SIZE, IMAGE_SIZE, NUM_CHANNELS),\n",
    "        name='data'\n",
    "    )\n",
    "    \n",
    "    loss_weights = tf.constant([10, 10, 5, 1, 1], dtype=tf.float32)\n",
    "    \n",
    "    keep_prob = tf.placeholder(\n",
    "        dtype=tf.float32,\n",
    "        name='keep_prob'\n",
    "    )\n",
    "    \n",
    "    global_step = tf.Variable(0, trainable=False)\n",
    "    initial_learning_rate = 0.05\n",
    "    learning_rate = tf.train.exponential_decay(\n",
    "        learning_rate=initial_learning_rate,\n",
    "        global_step=global_step,\n",
    "        decay_steps=50,\n",
    "        decay_rate=0.96,\n",
    "        staircase=True\n",
    "    )\n",
    "    \n",
    "    l01_weights = tf.Variable(tf.truncated_normal(\n",
    "        [7, 7, NUM_CHANNELS, DEPTH],\n",
    "        stddev=0.1\n",
    "    ))\n",
    "    l01_biases = tf.Variable(tf.zeros([DEPTH]))\n",
    "    \n",
    "    l02_weights = tf.Variable(tf.truncated_normal(\n",
    "        [PATCH_SIZE, PATCH_SIZE, DEPTH, DEPTH],\n",
    "        stddev=0.1\n",
    "    ))\n",
    "    l02_biases = tf.Variable(tf.constant(1.0, shape=[DEPTH]))\n",
    "\n",
    "    li01_1_1x1_weights = tf.Variable(tf.truncated_normal(\n",
    "        [1, 1, 16, 8],\n",
    "        stddev=0.1\n",
    "    ))\n",
    "    li01_1_1x1_biases = tf.Variable(tf.constant(1.0, shape=[8]))\n",
    "    \n",
    "    li01_2_1x1_weights = tf.Variable(tf.truncated_normal(\n",
    "        [1, 1, 16, 8],\n",
    "        stddev=0.1\n",
    "    ))\n",
    "    li01_2_1x1_biases = tf.Variable(tf.constant(1.0, shape=[8]))\n",
    "\n",
    "    li01_2_3x3_weights = tf.Variable(tf.truncated_normal(\n",
    "        [3, 3, 8, 16],\n",
    "        stddev=0.1\n",
    "    ))\n",
    "    li01_2_3x3_biases = tf.Variable(tf.constant(1.0, shape=[16]))\n",
    "    \n",
    "    li01_3_1x1_weights = tf.Variable(tf.truncated_normal(\n",
    "        [1, 1, 16, 8],\n",
    "        stddev=0.1\n",
    "    ))\n",
    "    li01_3_1x1_biases = tf.Variable(tf.constant(1.0, shape=[8]))\n",
    "\n",
    "    li01_3_5x5_weights = tf.Variable(tf.truncated_normal(\n",
    "        [5, 5, 8, 16],\n",
    "        stddev=0.1\n",
    "    ))\n",
    "    li01_3_5x5_biases = tf.Variable(tf.constant(1.0, shape=[16]))\n",
    "\n",
    "    li01_4_1x1_weights = tf.Variable(tf.truncated_normal(\n",
    "        [1, 1, 16, 16],\n",
    "        stddev=0.1\n",
    "    ))\n",
    "    li01_4_1x1_biases = tf.Variable(tf.constant(1.0, shape=[16]))\n",
    "    \n",
    "    l03_weights = tf.Variable(tf.truncated_normal(\n",
    "        [IMAGE_SIZE // 4 * IMAGE_SIZE // 4 * 56, NUM_HIDDEN],\n",
    "        stddev=0.1\n",
    "    ))\n",
    "    l03_biases = tf.Variable(tf.constant(1.0, shape=[NUM_HIDDEN]))\n",
    "    \n",
    "    lc_d1_weights = tf.Variable(tf.truncated_normal(\n",
    "        [NUM_HIDDEN, NUM_LABELS],\n",
    "        stddev=0.1\n",
    "    ))\n",
    "    lc_d1_biases = tf.Variable(tf.constant(1.0, shape=[NUM_LABELS]))\n",
    "\n",
    "    lc_d2_weights = tf.Variable(tf.truncated_normal(\n",
    "        [NUM_HIDDEN, NUM_LABELS],\n",
    "        stddev=0.1\n",
    "    ))\n",
    "    lc_d2_biases = tf.Variable(tf.constant(1.0, shape=[NUM_LABELS]))\n",
    "    \n",
    "    lc_d3_weights = tf.Variable(tf.truncated_normal(\n",
    "        [NUM_HIDDEN, NUM_LABELS],\n",
    "        stddev=0.1\n",
    "    ))\n",
    "    lc_d3_biases = tf.Variable(tf.constant(1.0, shape=[NUM_LABELS]))\n",
    "\n",
    "    lc_d4_weights = tf.Variable(tf.truncated_normal(\n",
    "        [NUM_HIDDEN, NUM_LABELS],\n",
    "        stddev=0.1\n",
    "    ))\n",
    "    lc_d4_biases = tf.Variable(tf.constant(1.0, shape=[NUM_LABELS]))\n",
    "    \n",
    "    lc_d5_weights = tf.Variable(tf.truncated_normal(\n",
    "        [NUM_HIDDEN, NUM_LABELS],\n",
    "        stddev=0.1\n",
    "    ))\n",
    "    lc_d5_biases = tf.Variable(tf.constant(1.0, shape=[NUM_LABELS]))\n",
    "\n",
    "    def model(data):\n",
    "        \n",
    "        conv = tf.nn.conv2d(\n",
    "            input=data,\n",
    "            filter=l01_weights,\n",
    "            strides=[1, STRIDE, STRIDE, 1],\n",
    "            padding='SAME'\n",
    "        )\n",
    "        hidden = tf.nn.relu(conv + l01_biases)\n",
    "        pool = tf.nn.max_pool(\n",
    "            value=hidden,\n",
    "            ksize=[1, POOL_KERNEL_SIZE, POOL_KERNEL_SIZE, 1],\n",
    "            strides=[1, POOL_STRIDE, POOL_STRIDE, 1],\n",
    "            padding='VALID'\n",
    "        )\n",
    "        \n",
    "        conv = tf.nn.conv2d(\n",
    "            input=pool,\n",
    "            filter=l02_weights,\n",
    "            strides=[1, STRIDE, STRIDE, 1],\n",
    "            padding='SAME'\n",
    "        )\n",
    "        hidden = tf.nn.relu(conv + l02_biases)\n",
    "        pool = tf.nn.max_pool(\n",
    "            value=hidden,\n",
    "            ksize=[1, POOL_KERNEL_SIZE, POOL_KERNEL_SIZE, 1],\n",
    "            strides=[1, POOL_STRIDE, POOL_STRIDE, 1],\n",
    "            padding='VALID'\n",
    "        )        \n",
    "\n",
    "        inception_01_1 = tf.nn.conv2d(\n",
    "            input=pool,\n",
    "            filter=li01_1_1x1_weights,\n",
    "            strides=[1, 1, 1, 1],\n",
    "            padding='SAME'\n",
    "        ) + li01_1_1x1_biases\n",
    "        \n",
    "        inception_01_2_hidden = tf.nn.conv2d(\n",
    "            input=pool,\n",
    "            filter=li01_2_1x1_weights,\n",
    "            strides=[1, 1, 1, 1],\n",
    "            padding='SAME'\n",
    "        ) + li01_2_1x1_biases\n",
    "        inception_01_2 = tf.nn.conv2d(\n",
    "            input=tf.nn.relu(inception_01_2_hidden),\n",
    "            filter=li01_2_3x3_weights,\n",
    "            strides=[1, 1, 1, 1],\n",
    "            padding='SAME'\n",
    "        ) + li01_2_3x3_biases\n",
    "\n",
    "        inception_01_3_hidden = tf.nn.conv2d(\n",
    "            input=pool,\n",
    "            filter=li01_3_1x1_weights,\n",
    "            strides=[1, 1, 1, 1],\n",
    "            padding='SAME'\n",
    "        ) + li01_3_1x1_biases\n",
    "        inception_01_3 = tf.nn.conv2d(\n",
    "            input=tf.nn.relu(inception_01_3_hidden),\n",
    "            filter=li01_3_5x5_weights,\n",
    "            strides=[1, 1, 1, 1],\n",
    "            padding='SAME'\n",
    "        ) + li01_3_5x5_biases\n",
    "        \n",
    "        inception_01_4_hidden = tf.nn.max_pool(\n",
    "            value=pool,\n",
    "            ksize=[1, POOL_KERNEL_SIZE, POOL_KERNEL_SIZE, 1],\n",
    "            strides=[1, 1, 1, 1],\n",
    "            padding='SAME'\n",
    "        )\n",
    "        inception_01_4 = tf.nn.conv2d(\n",
    "            input=inception_01_4_hidden,\n",
    "            filter=li01_4_1x1_weights,\n",
    "            strides=[1, 1, 1, 1],\n",
    "            padding='SAME'\n",
    "        ) + li01_4_1x1_biases\n",
    "        \n",
    "        inception_01 = tf.nn.relu(\n",
    "            tf.concat(\n",
    "                values=[inception_01_1, inception_01_2, inception_01_3, inception_01_4],\n",
    "                axis=3\n",
    "            )\n",
    "        )\n",
    "\n",
    "        shape = inception_01.get_shape().as_list()\n",
    "        reshape = tf.reshape(inception_01, [shape[0], shape[1] * shape[2] * shape[3]])\n",
    "        \n",
    "        hidden = tf.nn.relu(tf.matmul(reshape, l03_weights) + l03_biases)\n",
    "        dropout = tf.nn.dropout(hidden, keep_prob)\n",
    "        return (\n",
    "                tf.matmul(dropout, lc_d1_weights) + lc_d1_biases,\n",
    "                tf.matmul(dropout, lc_d2_weights) + lc_d2_biases,\n",
    "                tf.matmul(dropout, lc_d3_weights) + lc_d3_biases,\n",
    "                tf.matmul(dropout, lc_d4_weights) + lc_d4_biases,\n",
    "                tf.matmul(dropout, lc_d5_weights) + lc_d5_biases\n",
    "        )\n",
    "    \n",
    "    logits_d1, logits_d2, logits_d3, logits_d4, logits_d5 = model(tf_train_dataset)\n",
    "        \n",
    "    labels_d1, labels_d2, labels_d3, labels_d4, labels_d5, _ = tf.split(\n",
    "        tf_train_labels,\n",
    "        num_or_size_splits=6,\n",
    "        axis=0\n",
    "    )\n",
    "    \n",
    "    loss_d1 = tf.nn.softmax_cross_entropy_with_logits(labels=labels_d1, logits=logits_d1)\n",
    "    loss_d2 = tf.nn.softmax_cross_entropy_with_logits(labels=labels_d2, logits=logits_d2)\n",
    "    loss_d3 = tf.nn.softmax_cross_entropy_with_logits(labels=labels_d3, logits=logits_d3)\n",
    "    loss_d4 = tf.nn.softmax_cross_entropy_with_logits(labels=labels_d4, logits=logits_d4)\n",
    "    loss_d5 = tf.nn.softmax_cross_entropy_with_logits(labels=labels_d5, logits=logits_d5)\n",
    " \n",
    "    loss = tf.reduce_sum(loss_weights * tf.stack(\n",
    "        (\n",
    "            tf.reduce_mean(loss_d1),\n",
    "            tf.reduce_mean(loss_d2),\n",
    "            tf.reduce_mean(loss_d3),\n",
    "            tf.reduce_mean(loss_d4),\n",
    "            tf.reduce_mean(loss_d5)\n",
    "        ),\n",
    "        axis=0\n",
    "    )) / tf.reduce_sum(loss_weights)\n",
    "    \n",
    "    optimizer = tf.train.GradientDescentOptimizer(learning_rate).minimize(loss, global_step=global_step)\n",
    "\n",
    "    train_prediction = tf.concat(\n",
    "        (\n",
    "            tf.nn.softmax(logits_d1),\n",
    "            tf.nn.softmax(logits_d2),\n",
    "            tf.nn.softmax(logits_d3),\n",
    "            tf.nn.softmax(logits_d4),\n",
    "            tf.nn.softmax(logits_d5)\n",
    "        ),\n",
    "        axis=0\n",
    "    )\n",
    "    \n",
    "    v_logits_d1, v_logits_d2, v_logits_d3, v_logits_d4, v_logits_d5 = model(tf_valid_dataset)\n",
    "    valid_prediction = tf.concat(\n",
    "        (\n",
    "            tf.nn.softmax(v_logits_d1),\n",
    "            tf.nn.softmax(v_logits_d2),\n",
    "            tf.nn.softmax(v_logits_d3),\n",
    "            tf.nn.softmax(v_logits_d4),\n",
    "            tf.nn.softmax(v_logits_d5)\n",
    "        ),\n",
    "        axis=0\n",
    "    )\n",
    "    \n",
    "    t_logits_d1, t_logits_d2, t_logits_d3, t_logits_d4, t_logits_d5 = model(tf_test_dataset)\n",
    "    test_prediction = tf.concat(\n",
    "        (\n",
    "            tf.nn.softmax(t_logits_d1),\n",
    "            tf.nn.softmax(t_logits_d2),\n",
    "            tf.nn.softmax(t_logits_d3),\n",
    "            tf.nn.softmax(t_logits_d4),\n",
    "            tf.nn.softmax(t_logits_d5)\n",
    "        ),\n",
    "        axis=0\n",
    "    )\n",
    "    \n",
    "    logits_d1, logits_d2, logits_d3, logits_d4, logits_d5 = model(tf_data)\n",
    "    prediction = tf.concat(\n",
    "        (\n",
    "            tf.nn.softmax(logits_d1),\n",
    "            tf.nn.softmax(logits_d2),\n",
    "            tf.nn.softmax(logits_d3),\n",
    "            tf.nn.softmax(logits_d4),\n",
    "            tf.nn.softmax(logits_d5)\n",
    "        ),\n",
    "        axis=0,\n",
    "        name='prediction'\n",
    "    )\n",
    "    \n",
    "with tf.Session(graph=graph) as session:\n",
    "    \n",
    "    saver = tf.train.Saver()\n",
    "    \n",
    "    tf.global_variables_initializer().run()\n",
    "    print('Initialized')\n",
    "    \n",
    "    for step in range(NUM_STEPS):\n",
    "        \n",
    "        offset = (step * BATCH_SIZE) % (train_labels.shape[0] - BATCH_SIZE)\n",
    "        batch_data = train_dataset[offset:(offset+BATCH_SIZE), :, :, :]\n",
    "        batch_labels = reshape(train_labels[offset:(offset+BATCH_SIZE), :, :])\n",
    "        \n",
    "        feed_dict = {\n",
    "            tf_train_dataset: batch_data,\n",
    "            tf_train_labels: batch_labels,\n",
    "            keep_prob: 1.0\n",
    "        }\n",
    "        \n",
    "        _, l, predictions = session.run([optimizer, loss, train_prediction], feed_dict=feed_dict)\n",
    "        \n",
    "        if (step % 100 == 0):\n",
    "\n",
    "            train_accuracies = accuracy(predictions, batch_labels)\n",
    "            valid_accuracies = accuracy(valid_prediction.eval({keep_prob: 1.0}), reshape(valid_labels))\n",
    "            print('Minibatch loss at step %d: %f' % (step, l))\n",
    "            print('Minibatch accuracies: %s / Overall accuracy: %.1f%%' % (format_accuracy(train_accuracies[0]), train_accuracies[1]))\n",
    "            print('Validation accuracies: %s / Overall accuracy: %.1f%%' % (format_accuracy(valid_accuracies[0]), valid_accuracies[1]))\n",
    "            \n",
    "    test_accuracies = accuracy(test_prediction.eval({keep_prob: 1.0}), reshape(test_labels))\n",
    "    print('Test accuracies: %s / Overall accuracy: %.1f%%' % (format_accuracy(test_accuracies[0]), test_accuracies[1]))\n",
    "    \n",
    "    saver.save(session, 'svhn')\n"
   ]
  },
  {
   "cell_type": "code",
   "execution_count": null,
   "metadata": {
    "collapsed": true
   },
   "outputs": [],
   "source": []
  }
 ],
 "metadata": {
  "kernelspec": {
   "display_name": "Python 3",
   "language": "python",
   "name": "python3"
  },
  "language_info": {
   "codemirror_mode": {
    "name": "ipython",
    "version": 3
   },
   "file_extension": ".py",
   "mimetype": "text/x-python",
   "name": "python",
   "nbconvert_exporter": "python",
   "pygments_lexer": "ipython3",
   "version": "3.5.3"
  }
 },
 "nbformat": 4,
 "nbformat_minor": 2
}
